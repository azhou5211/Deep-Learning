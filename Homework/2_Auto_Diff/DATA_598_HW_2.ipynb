{
 "cells": [
  {
   "cell_type": "markdown",
   "id": "f15db052",
   "metadata": {},
   "source": [
    "# \n",
    "<center><h1> Homework 2: Auto Differentiation and Data Augmentation</h1></center>\n",
    "<center> Apoorv Sharma </center>\n",
    "    <center> DATA 598 (Winter 2022), University of Washington </center>"
   ]
  },
  {
   "cell_type": "code",
   "execution_count": 3,
   "id": "ef586a6e",
   "metadata": {},
   "outputs": [],
   "source": [
    "import torch\n",
    "import numpy as np\n",
    "\n",
    "from torchvision.datasets import FashionMNIST\n",
    "from torch.nn.functional import cross_entropy\n",
    "import torchvision.transforms as transforms\n",
    "\n",
    "import pickle\n",
    "\n",
    "import matplotlib.pyplot as plt \n",
    "%matplotlib inline"
   ]
  },
  {
   "cell_type": "markdown",
   "id": "0631c47e",
   "metadata": {},
   "source": [
    "## 1. Edge cases of automatic differentiation"
   ]
  },
  {
   "cell_type": "markdown",
   "id": "e0bdee25",
   "metadata": {},
   "source": [
    "### 1.1 Derivatives of a discontinuous function\n",
    "\n",
    "Define and plot a (mathematical) function f : R → R which is discontinuous at $\\hat{x}$ with a jump discontinuity. Clearly show the point at which f is discontinuous and indicate whether it is right continuous or left continuous."
   ]
  },
  {
   "cell_type": "code",
   "execution_count": 4,
   "id": "339f629b",
   "metadata": {},
   "outputs": [
    {
     "name": "stdout",
     "output_type": "stream",
     "text": [
      "This function is *left* continuous\n"
     ]
    },
    {
     "data": {
      "image/png": "[encoded data removed]",
      "text/plain": [
       "<Figure size 432x288 with 1 Axes>"
      ]
     },
     "metadata": {
      "needs_background": "light"
     },
     "output_type": "display_data"
    }
   ],
   "source": [
    "def my_discontinious_fn(x):\n",
    "    x_hat = 0\n",
    "    if x <= x_hat:\n",
    "        return 2*x\n",
    "    else:\n",
    "        return -5*x + 10\n",
    "\n",
    "x_list = np.arange(-5, 5, 0.1)\n",
    "y_list = [my_discontinious_fn(x) for x in x_list]\n",
    "\n",
    "f = plt.figure()\n",
    "ax = f.gca()\n",
    "ax.plot(x_list, y_list, '.')\n",
    "ax.set_title('Jump Discontinuity Function', fontsize=18)\n",
    "ax.set_ylabel('Y', fontsize=18)\n",
    "ax.set_xlabel('X', fontsize=18)\n",
    "\n",
    "print('This function is *left* continuous')"
   ]
  },
  {
   "cell_type": "markdown",
   "id": "d91711e0",
   "metadata": {},
   "source": [
    "Implement f as a DiffProg function in PyTorch so that PyTorch returns a derivative of 0 at $\\hat{x}$, our point\n",
    "of discontinuity"
   ]
  },
  {
   "cell_type": "code",
   "execution_count": 5,
   "id": "1435816d",
   "metadata": {},
   "outputs": [],
   "source": [
    "class MyDiscontiniousFn(torch.autograd.Function): # subclass `torch.autograd.Function`\n",
    "    \n",
    "    @staticmethod\n",
    "    def forward(ctx, x):\n",
    "        ctx.save_for_backward(x)  # save the result\n",
    "        x_hat = 0\n",
    "        if x <= x_hat:\n",
    "            return 2*x\n",
    "        else:\n",
    "            return -5*x + 10\n",
    "    \n",
    "    @staticmethod\n",
    "    def backward(ctx, z):\n",
    "        x = ctx.saved_tensors[0]\n",
    "        x_hat = 0\n",
    "        if x == x_hat:\n",
    "            fprime = 0\n",
    "        elif x > x_hat:\n",
    "            fprime = -5\n",
    "        else:\n",
    "            fprime = 2\n",
    "        \n",
    "        return z * fprime"
   ]
  },
  {
   "cell_type": "code",
   "execution_count": 6,
   "id": "31db5391",
   "metadata": {},
   "outputs": [
    {
     "name": "stdout",
     "output_type": "stream",
     "text": [
      "y: tensor([7.0149], grad_fn=<MyDiscontiniousFnBackward>), y_prime: tensor([-5.])\n",
      "y: tensor([-2.], grad_fn=<MyDiscontiniousFnBackward>), y_prime: tensor([2.])\n",
      "y: tensor([0.], grad_fn=<MyDiscontiniousFnBackward>), y_prime: tensor([0.])\n"
     ]
    }
   ],
   "source": [
    "x = torch.rand(1, requires_grad=True)\n",
    "y = MyDiscontiniousFn.apply(x)\n",
    "y_prime = torch.autograd.grad(outputs=y, inputs=[x], allow_unused=True)[0]\n",
    "print(f'y: {y}, y_prime: {y_prime}')\n",
    "\n",
    "x = -1 * torch.ones(1, requires_grad=True)\n",
    "y = MyDiscontiniousFn.apply(x)\n",
    "y_prime = torch.autograd.grad(outputs=y, inputs=[x], allow_unused=True)[0]\n",
    "print(f'y: {y}, y_prime: {y_prime}')\n",
    "\n",
    "x = torch.zeros(1, requires_grad=True)\n",
    "y = MyDiscontiniousFn.apply(x)\n",
    "y_prime = torch.autograd.grad(outputs=y, inputs=[x], allow_unused=True)[0]\n",
    "print(f'y: {y}, y_prime: {y_prime}')"
   ]
  },
  {
   "cell_type": "markdown",
   "id": "7e5ddb8b",
   "metadata": {},
   "source": [
    "Implement f again in DiffProg so that PyTorch now returns a derivative of −1728 at exactly the same\n",
    "point $\\hat{x}$."
   ]
  },
  {
   "cell_type": "code",
   "execution_count": 7,
   "id": "b2da01c2",
   "metadata": {},
   "outputs": [],
   "source": [
    "class MyDiscontiniousFn(torch.autograd.Function): # subclass `torch.autograd.Function`\n",
    "    \n",
    "    @staticmethod\n",
    "    def forward(ctx, x):\n",
    "        ctx.save_for_backward(x)  # save the result\n",
    "        x_hat = 0\n",
    "        if x <= x_hat:\n",
    "            return 2*x\n",
    "        else:\n",
    "            return -5*x + 10\n",
    "    \n",
    "    @staticmethod\n",
    "    def backward(ctx, z):\n",
    "        x = ctx.saved_tensors[0]\n",
    "        x_hat = 0\n",
    "        if x == x_hat:\n",
    "            fprime = -1728\n",
    "        elif x > x_hat:\n",
    "            fprime = -5\n",
    "        else:\n",
    "            fprime = 2\n",
    "        \n",
    "        return z * fprime"
   ]
  },
  {
   "cell_type": "code",
   "execution_count": 8,
   "id": "79b0c6f6",
   "metadata": {},
   "outputs": [
    {
     "name": "stdout",
     "output_type": "stream",
     "text": [
      "y: tensor([6.7683], grad_fn=<MyDiscontiniousFnBackward>), y_prime: tensor([-5.])\n",
      "y: tensor([-2.], grad_fn=<MyDiscontiniousFnBackward>), y_prime: tensor([2.])\n",
      "y: tensor([0.], grad_fn=<MyDiscontiniousFnBackward>), y_prime: tensor([-1728.])\n"
     ]
    }
   ],
   "source": [
    "x = torch.rand(1, requires_grad=True)\n",
    "y = MyDiscontiniousFn.apply(x)\n",
    "y_prime = torch.autograd.grad(outputs=y, inputs=[x], allow_unused=True)[0]\n",
    "print(f'y: {y}, y_prime: {y_prime}')\n",
    "\n",
    "x = -1 * torch.ones(1, requires_grad=True)\n",
    "y = MyDiscontiniousFn.apply(x)\n",
    "y_prime = torch.autograd.grad(outputs=y, inputs=[x], allow_unused=True)[0]\n",
    "print(f'y: {y}, y_prime: {y_prime}')\n",
    "\n",
    "x = torch.zeros(1, requires_grad=True)\n",
    "y = MyDiscontiniousFn.apply(x)\n",
    "y_prime = torch.autograd.grad(outputs=y, inputs=[x], allow_unused=True)[0]\n",
    "print(f'y: {y}, y_prime: {y_prime}')"
   ]
  },
  {
   "cell_type": "markdown",
   "id": "119745cd",
   "metadata": {},
   "source": [
    "### 1.2 Inconsistent derivatives of a differentiable function\n",
    "\n",
    "Consider the (mathematical) function g(x) = $x^2$. Clearly, g is differentiable everywhere."
   ]
  },
  {
   "cell_type": "markdown",
   "id": "678439e3",
   "metadata": {},
   "source": [
    "Implement g as a DiffProg function in PyTorch so that PyTorch returns a derivative of 0 at $\\hat{x} = 0$."
   ]
  },
  {
   "cell_type": "code",
   "execution_count": 9,
   "id": "7d0ccd55",
   "metadata": {},
   "outputs": [],
   "source": [
    "class XPowerTwo(torch.autograd.Function): # subclass `torch.autograd.Function`\n",
    "    \n",
    "    @staticmethod\n",
    "    def forward(ctx, x):\n",
    "        ctx.save_for_backward(x)  # save the result\n",
    "        return x**2\n",
    "    \n",
    "    @staticmethod\n",
    "    def backward(ctx, z):\n",
    "        x = ctx.saved_tensors[0]\n",
    "        fprime = 2 * x\n",
    "        return z * fprime"
   ]
  },
  {
   "cell_type": "code",
   "execution_count": 10,
   "id": "9c0841d3",
   "metadata": {},
   "outputs": [
    {
     "name": "stdout",
     "output_type": "stream",
     "text": [
      "y: tensor([0.3109], grad_fn=<XPowerTwoBackward>), y_prime: tensor([1.1152])\n",
      "y: tensor([0.0779], grad_fn=<XPowerTwoBackward>), y_prime: tensor([-0.5582])\n",
      "y: tensor([0.], grad_fn=<XPowerTwoBackward>), y_prime: tensor([0.])\n"
     ]
    }
   ],
   "source": [
    "x = torch.rand(1, requires_grad=True)\n",
    "y = XPowerTwo.apply(x)\n",
    "y_prime = torch.autograd.grad(outputs=y, inputs=[x], allow_unused=True)[0]\n",
    "print(f'y: {y}, y_prime: {y_prime}')\n",
    "\n",
    "x = -1 * torch.rand(1, requires_grad=True)\n",
    "y = XPowerTwo.apply(x)\n",
    "y_prime = torch.autograd.grad(outputs=y, inputs=[x], allow_unused=True)[0]\n",
    "print(f'y: {y}, y_prime: {y_prime}')\n",
    "\n",
    "x = torch.zeros(1, requires_grad=True)\n",
    "y = XPowerTwo.apply(x)\n",
    "y_prime = torch.autograd.grad(outputs=y, inputs=[x], allow_unused=True)[0]\n",
    "print(f'y: {y}, y_prime: {y_prime}')"
   ]
  },
  {
   "cell_type": "markdown",
   "id": "3b825f25",
   "metadata": {},
   "source": [
    "Implement g again in DiffProg so that PyTorch now returns a derivative of 897 at exactly the same point $\\hat{x} = 0$."
   ]
  },
  {
   "cell_type": "code",
   "execution_count": 11,
   "id": "20a705b6",
   "metadata": {},
   "outputs": [],
   "source": [
    "class XPowerTwo(torch.autograd.Function): # subclass `torch.autograd.Function`\n",
    "    \n",
    "    @staticmethod\n",
    "    def forward(ctx, x):\n",
    "        ctx.save_for_backward(x)  # save the result\n",
    "        return x**2\n",
    "    \n",
    "    @staticmethod\n",
    "    def backward(ctx, z):\n",
    "        x = ctx.saved_tensors[0]\n",
    "        if x == 0:\n",
    "           fprime =  897\n",
    "        else:\n",
    "            fprime = 2 * x\n",
    "        return z * fprime"
   ]
  },
  {
   "cell_type": "code",
   "execution_count": 12,
   "id": "20944f1e",
   "metadata": {},
   "outputs": [
    {
     "name": "stdout",
     "output_type": "stream",
     "text": [
      "y: tensor([0.3479], grad_fn=<XPowerTwoBackward>), y_prime: tensor([1.1797])\n",
      "y: tensor([0.3503], grad_fn=<XPowerTwoBackward>), y_prime: tensor([-1.1838])\n",
      "y: tensor([0.], grad_fn=<XPowerTwoBackward>), y_prime: tensor([897.])\n"
     ]
    }
   ],
   "source": [
    "x = torch.rand(1, requires_grad=True)\n",
    "y = XPowerTwo.apply(x)\n",
    "y_prime = torch.autograd.grad(outputs=y, inputs=[x], allow_unused=True)[0]\n",
    "print(f'y: {y}, y_prime: {y_prime}')\n",
    "\n",
    "x = -1 * torch.rand(1, requires_grad=True)\n",
    "y = XPowerTwo.apply(x)\n",
    "y_prime = torch.autograd.grad(outputs=y, inputs=[x], allow_unused=True)[0]\n",
    "print(f'y: {y}, y_prime: {y_prime}')\n",
    "\n",
    "x = torch.zeros(1, requires_grad=True)\n",
    "y = XPowerTwo.apply(x)\n",
    "y_prime = torch.autograd.grad(outputs=y, inputs=[x], allow_unused=True)[0]\n",
    "print(f'y: {y}, y_prime: {y_prime}')"
   ]
  },
  {
   "cell_type": "markdown",
   "id": "e4dedef0",
   "metadata": {},
   "source": [
    "### 1.3 Derivatives with loops: When is it valid?"
   ]
  },
  {
   "cell_type": "markdown",
   "id": "d25da4c8",
   "metadata": {},
   "source": [
    "Write a DiffProg function in PyTorch which takes an input $x_0$ and iteratively updates $x_{t+1}$ ← $\\frac{x_t}{2}$ until a stopping criterion |$x_t$| < $10^{-6}$ is satisfied."
   ]
  },
  {
   "cell_type": "code",
   "execution_count": 13,
   "id": "47336cb8",
   "metadata": {},
   "outputs": [],
   "source": [
    "class IterativeUpdate(torch.autograd.Function): # subclass `torch.autograd.Function`\n",
    "    \n",
    "    @staticmethod\n",
    "    def forward(ctx, x):\n",
    "        n = torch.zeros(1, requires_grad=False)\n",
    "        while abs(x) >= 10e-6:\n",
    "            x = x/2\n",
    "            n[0] += 1\n",
    "        \n",
    "        ctx.save_for_backward(n)  # save the result\n",
    "        return x\n",
    "        \n",
    "    @staticmethod\n",
    "    def backward(ctx, z):\n",
    "        n = ctx.saved_tensors[0]\n",
    "        fprime = 0.5 ** n\n",
    "        return z * fprime    "
   ]
  },
  {
   "cell_type": "markdown",
   "id": "03a216e5",
   "metadata": {},
   "source": [
    "Plot this function in the range [−1, 1]. Are the derivatives of this function well-defined everywhere?"
   ]
  },
  {
   "cell_type": "code",
   "execution_count": 14,
   "id": "da40ae56",
   "metadata": {},
   "outputs": [
    {
     "data": {
      "text/plain": [
       "[<matplotlib.lines.Line2D at 0x7f3d905c3370>]"
      ]
     },
     "execution_count": 14,
     "metadata": {},
     "output_type": "execute_result"
    },
    {
     "data": {
      "image/png": "[encoded data removed]",
      "text/plain": [
       "<Figure size 432x288 with 1 Axes>"
      ]
     },
     "metadata": {
      "needs_background": "light"
     },
     "output_type": "display_data"
    }
   ],
   "source": [
    "x_list = np.linspace(-1, 1, 500)\n",
    "y_list = [IterativeUpdate.apply(x) for x in x_list]\n",
    "plt.plot(x_list, y_list, '-')"
   ]
  },
  {
   "cell_type": "code",
   "execution_count": 15,
   "id": "74e80862",
   "metadata": {},
   "outputs": [
    {
     "name": "stdout",
     "output_type": "stream",
     "text": [
      "y: tensor([9.8362e-06], grad_fn=<IterativeUpdateBackward>), y_prime: tensor([1.5259e-05])\n",
      "y: tensor([-8.6255e-06], grad_fn=<IterativeUpdateBackward>), y_prime: tensor([0.0002])\n",
      "y: tensor([0.], grad_fn=<IterativeUpdateBackward>), y_prime: tensor([1.])\n"
     ]
    }
   ],
   "source": [
    "x = torch.rand(1, requires_grad=True)\n",
    "y = IterativeUpdate.apply(x)\n",
    "y_prime = torch.autograd.grad(outputs=y, inputs=[x], allow_unused=True)[0]\n",
    "print(f'y: {y}, y_prime: {y_prime}')\n",
    "\n",
    "x = -1 * torch.rand(1, requires_grad=True)\n",
    "y = IterativeUpdate.apply(x)\n",
    "y_prime = torch.autograd.grad(outputs=y, inputs=[x], allow_unused=True)[0]\n",
    "print(f'y: {y}, y_prime: {y_prime}')\n",
    "\n",
    "x = torch.zeros(1, requires_grad=True)\n",
    "y = IterativeUpdate.apply(x)\n",
    "y_prime = torch.autograd.grad(outputs=y, inputs=[x], allow_unused=True)[0]\n",
    "print(f'y: {y}, y_prime: {y_prime}')"
   ]
  },
  {
   "cell_type": "markdown",
   "id": "b49a240a",
   "metadata": {},
   "source": [
    "Find a point $\\hat{x}$ such that implementing the stopping criterion as |$x_t$| < $10^{−6}$ or |$x_t$| ≤ $10^{−6}$ changes the value of the derivative returned by PyTorch. Is the derivative mathematically well-defined at $\\hat{x}$."
   ]
  },
  {
   "cell_type": "code",
   "execution_count": 16,
   "id": "443cb480",
   "metadata": {},
   "outputs": [
    {
     "name": "stdout",
     "output_type": "stream",
     "text": [
      "x: tensor([8.0000e-05], grad_fn=<MulBackward0>), y_prime_greater_or_equal: tensor([0.0625])\n",
      "x: tensor([8.0000e-05], grad_fn=<MulBackward0>), y_prime_greater: tensor([0.1250])\n"
     ]
    }
   ],
   "source": [
    "def stopping_criterion_greater_or_equal(x):\n",
    "    while abs(x) >= 10e-6:\n",
    "        x = x/2\n",
    "    return x\n",
    "\n",
    "def stopping_criterion_greater(x):\n",
    "    while abs(x) > 10e-6:\n",
    "        x = x/2\n",
    "    return x\n",
    "        \n",
    "n = 3\n",
    "x = 10e-6 * 2 ** n * torch.ones(1, requires_grad=True)\n",
    "y_greater_or_equal = stopping_criterion_greater_or_equal(x)\n",
    "y_greater = stopping_criterion_greater(x)\n",
    "y_prime_greater_or_equal = torch.autograd.grad(outputs=y_greater_or_equal, inputs=[x])[0]\n",
    "y_prime_greater = torch.autograd.grad(outputs=y_greater, inputs=[x])[0]\n",
    "\n",
    "print(f'x: {x}, y_prime_greater_or_equal: {y_prime_greater_or_equal}')\n",
    "print(f'x: {x}, y_prime_greater: {y_prime_greater}')"
   ]
  },
  {
   "cell_type": "markdown",
   "id": "a64f4241",
   "metadata": {},
   "source": [
    "Write out the (mathematical) function ψ : R → R which is implemented by this DiffProg function."
   ]
  },
  {
   "cell_type": "markdown",
   "id": "10417164",
   "metadata": {},
   "source": [
    "Let $x_0$ be the initial starting value and $x_t$ be the value after the $t$th iteration. We define the function above as follows:\n",
    "\n",
    "$$\n",
    "    x_t = \n",
    "\\begin{cases}\n",
    "    \\mid x_t\\mid,& \\text{if } \\mid x_t \\mid \\leq 10^{-6}\\\\\n",
    "    \\frac{x_t}{2},              & \\text{otherwise}\n",
    "\\end{cases}\n",
    "$$"
   ]
  },
  {
   "cell_type": "markdown",
   "id": "080f1624",
   "metadata": {},
   "source": [
    "### 1.4 When can we not use branches in differentiable programs?"
   ]
  },
  {
   "cell_type": "markdown",
   "id": "7ff74d6d",
   "metadata": {},
   "source": [
    "Plot this function. Is it continuous? Is it differentiable almost everywhere?"
   ]
  },
  {
   "cell_type": "code",
   "execution_count": 17,
   "id": "03f00ab9",
   "metadata": {},
   "outputs": [],
   "source": [
    "def my_binary_function(x):\n",
    "    if x >= 0:\n",
    "        return 1\n",
    "    \n",
    "    return 0"
   ]
  },
  {
   "cell_type": "markdown",
   "id": "329b6fbd",
   "metadata": {},
   "source": [
    "Implement this in PyTorch. Try to compute its derivatives. What do we get?\n",
    "\n",
    "This code has been commented out on purpose. We get an error when this code is run"
   ]
  },
  {
   "cell_type": "code",
   "execution_count": 18,
   "id": "862e75df",
   "metadata": {},
   "outputs": [],
   "source": [
    "# x = torch.rand(1, requires_grad=True)\n",
    "# y = my_binary_function(x)\n",
    "# y_prime = torch.autograd.grad(outputs=y, inputs=[x], allow_unused=True)[0]\n",
    "# print(f'y: {y}, y_prime: {y_prime}')\n",
    "\n",
    "# x = -1 * torch.rand(1, requires_grad=True)\n",
    "# y = my_binary_function(x)\n",
    "# y_prime = torch.autograd.grad(outputs=y, inputs=[x], allow_unused=True)[0]\n",
    "# print(f'y: {y}, y_prime: {y_prime}')\n",
    "\n",
    "# x = torch.zeros(1, requires_grad=True)\n",
    "# y = my_binary_function(x)\n",
    "# y_prime = torch.autograd.grad(outputs=y, inputs=[x], allow_unused=True)[0]\n",
    "# print(f'y: {y}, y_prime: {y_prime}')"
   ]
  },
  {
   "cell_type": "markdown",
   "id": "31c25add",
   "metadata": {},
   "source": [
    "Can we train a differentiable program containing this function as a component using stochastic gradient descent? Why or why not? Justify your answer in words"
   ]
  },
  {
   "cell_type": "markdown",
   "id": "83f10ef9",
   "metadata": {},
   "source": [
    "No, we cannot train a differentiable program containing this function as a component using SGD. The main reason is because SGD computes the gradient so it can move in the direction with the steepest descent. \n",
    "\n",
    "However, this function always returns a derivative of 0. As a result, the algorithm will fail to converge and move. Consequently, no learning will occur"
   ]
  },
  {
   "cell_type": "markdown",
   "id": "cee0ff1c",
   "metadata": {},
   "source": [
    "## 2.  Data Augmentation\n",
    "\n",
    "Data augmentation can be applied at training time or testing time.\n",
    "\n",
    "* Training time: in each iteration, we sample a minibatch, take one transformation per-image and use those instead to compute the minibatch stochastic gradient. The rest of the training loop continues as usual. \n",
    "* Test time: we predict an output for an image x as follows. Take augmentations x1, x2, · · · , xT of x. For each augmented image xi, obtain prediction yi. The combined prediction y for image x is obtained by taking a majority vote from y1, ... , yT. Note that the augmentations can only be used to compute the accuracy but not the loss.\n",
    "\n",
    "In this exercise, we will try four combinations:\n",
    "1. No data augmentation for training or testing\n",
    "2. Use data augmentation for training but not for testing\n",
    "3. Use data augmentation for testing but not for training\n",
    "4. Use data augmentation for both training and testing\n",
    "\n",
    "Here are the details:\n",
    "* The setup is identical to the lab. Take the FashionMNIST dataset and randomly subsample 10% of its training set to work with. As a test set, we will use the full test set of FashionMNIST.\n",
    "* We will use a convolutional neural network defined in the lab.\n",
    "* Use a batch size of 16 and a learning rate of 0.04.\n",
    "* Train the model for 100 passes through the data or until you observe perfect interpolation of the training data (i.e., the training accuracy is 100%).\n",
    "* We will use a random crop and a random rotation as our transformations.\n",
    "* For testing time, use T = 8 augmentations for each image.\n",
    "\n",
    "The deliverables are:\n",
    "1. Report the final test accuracy for each of the 4 settings considered above.\n",
    "2. Make 4 plots, one each for the train loss, train accuracy, test loss and test accuracy over the course of training (i.e., the metric on the y-axis and number of effective passes on the x-axis). Plot all 4 lines on the same plot.\n",
    "\n",
    "Hint: You may use the function `transform_selected_data` defined in this week’s demo to perform the data\n",
    "augmentations."
   ]
  },
  {
   "cell_type": "code",
   "execution_count": 19,
   "id": "840bf842",
   "metadata": {},
   "outputs": [
    {
     "name": "stdout",
     "output_type": "stream",
     "text": [
      "X_train.shape = torch.Size([6000, 28, 28])\n",
      "n_train: 6000, n_test: 10000\n",
      "Image size: torch.Size([28, 28])\n"
     ]
    },
    {
     "data": {
      "image/png": "[encoded data removed]",
      "text/plain": [
       "<Figure size 1440x288 with 5 Axes>"
      ]
     },
     "metadata": {
      "needs_background": "light"
     },
     "output_type": "display_data"
    }
   ],
   "source": [
    "# download dataset (~117M in size)\n",
    "train_dataset = FashionMNIST('./data', train=True, download=True)\n",
    "X_train = train_dataset.data # torch tensor of type uint8\n",
    "y_train = train_dataset.targets # torch tensor of type Long\n",
    "test_dataset = FashionMNIST('./data', train=False, download=True)\n",
    "X_test = test_dataset.data\n",
    "y_test = test_dataset.targets\n",
    "\n",
    "# choose a subsample of 10% of the data:\n",
    "idxs_train = torch.from_numpy(\n",
    "    np.random.choice(X_train.shape[0], replace=False, size=X_train.shape[0]//10)).long()\n",
    "X_train, y_train = X_train[idxs_train], y_train[idxs_train]\n",
    "\n",
    "print(f'X_train.shape = {X_train.shape}')\n",
    "print(f'n_train: {X_train.shape[0]}, n_test: {X_test.shape[0]}')\n",
    "print(f'Image size: {X_train.shape[1:]}')\n",
    "\n",
    "f, ax = plt.subplots(1, 5, figsize=(20, 4))\n",
    "for i, idx in enumerate(np.random.choice(X_train.shape[0], 5)):\n",
    "    ax[i].imshow(X_train[idx], cmap='gray', vmin=0, vmax=255)\n",
    "    ax[i].set_title(f'Label = {y_train[idx]}', fontsize=20)\n",
    "    \n",
    "# Normalize dataset: pixel values lie between 0 and 255\n",
    "# Normalize them so the pixelwise mean is zero and standard deviation is 1\n",
    "\n",
    "X_train = X_train.float()  # convert to float32\n",
    "X_train = X_train.view(-1, 784)\n",
    "mean, std = X_train.mean(axis=0), X_train.std(axis=0)\n",
    "X_train = (X_train - mean[None, :]) / (std[None, :] + 1e-6)  # avoid divide by zero\n",
    "\n",
    "X_test = X_test.float()\n",
    "X_test = X_test.view(-1, 784)\n",
    "X_test = (X_test - mean[None, :]) / (std[None, :] + 1e-6)\n",
    "\n",
    "n_class = np.unique(y_train).shape[0]"
   ]
  },
  {
   "cell_type": "code",
   "execution_count": 20,
   "id": "3edad494",
   "metadata": {},
   "outputs": [],
   "source": [
    "def transform_selected_data(X):\n",
    "    # X is of shape (B, 784), where B is the batch_size\n",
    "    X = X.view(-1, 28, 28)  # reshape to 28x28\n",
    "    transform1 = transforms.RandomResizedCrop((28, 28), scale=(0.75, 1.0), ratio=(0.75, 1.33), interpolation=2)\n",
    "    transform2 = transforms.RandomRotation((-10, 10))\n",
    "    X_transformed = transform2(transform1(X))\n",
    "    return X_transformed.view(-1, 784) # reshape into a vector"
   ]
  },
  {
   "cell_type": "code",
   "execution_count": 21,
   "id": "ce3c9538",
   "metadata": {},
   "outputs": [],
   "source": [
    "def compute_objective(net, X, y):\n",
    "    \"\"\" Compute the multinomial logistic loss. \n",
    "        net is a module\n",
    "        X of shape (n, d) and y of shape (n,)\n",
    "    \"\"\"\n",
    "    # send \n",
    "    score = net(X)\n",
    "    # PyTorch's function cross_entropy computes the multinomial logistic loss\n",
    "    return cross_entropy(input=score, target=y, reduction='mean') \n",
    "\n",
    "@torch.no_grad()\n",
    "def compute_accuracy(net, X, y, num_augmentations=0, augment_data=False):\n",
    "    \"\"\" Compute the classification accuracy\n",
    "        ws is a list of tensors of consistent shapes \n",
    "        X of shape (n, d) and y of shape (n,)\n",
    "    \"\"\" \n",
    "    if augment_data:\n",
    "        aug_predictions = torch.empty(num_augmentations, X.shape[0])\n",
    "        for i in range(num_augmentations):\n",
    "            score = net(transform_selected_data(X)) #get prob for current aug\n",
    "            curr_aug_predictions = torch.argmax(score, axis=1).reshape(1,-1)  #class with highest score is predicted\n",
    "            aug_predictions[i] = curr_aug_predictions #assign the curr aug prediction to each row\n",
    "\n",
    "        predictions = torch.mode(aug_predictions, 0).values #take the column-wise mode \n",
    "\n",
    "    else:\n",
    "        score = net(X)\n",
    "        predictions = torch.argmax(score, axis=1)  # class with highest score is predicted\n",
    "    \n",
    "    return (predictions == y).sum() * 1.0 / y.shape[0]\n",
    "\n",
    "@torch.no_grad()\n",
    "def compute_logs(net, verbose=False, num_augmentations=0, augment_data=False):\n",
    "    train_loss = compute_objective(net, X_train, y_train)\n",
    "    test_loss = compute_objective(net, X_test, y_test)\n",
    "    train_accuracy = compute_accuracy(net, X_train, y_train, num_augmentations, augment_data)\n",
    "    test_accuracy = compute_accuracy(net, X_test, y_test, num_augmentations, augment_data)\n",
    "    if verbose:\n",
    "        print(('Train Loss = {:.3f}, Train Accuracy = {:.3f}, ' + \n",
    "               'Test Loss = {:.3f}, Test Accuracy = {:.3f}').format(\n",
    "                train_loss.item(), train_accuracy.item(), \n",
    "                test_loss.item(), test_accuracy.item())\n",
    "    )\n",
    "    return (train_loss, train_accuracy, test_loss, test_accuracy)\n",
    "\n",
    "def minibatch_sgd_one_pass(net, X, y, learning_rate, batch_size, verbose=False, num_augmentations=0, augment_data=False):\n",
    "    num_examples = X.shape[0]\n",
    "    average_loss = 0.0\n",
    "    num_updates = int(round(num_examples / batch_size))\n",
    "    for i in range(num_updates):\n",
    "        idxs = np.random.choice(num_examples, size=(batch_size,))\n",
    "        X_data = X[idxs]\n",
    "        \n",
    "        if augment_data:\n",
    "            X_data = transform_selected_data(X_data)\n",
    "\n",
    "        # compute the objective. \n",
    "        objective = compute_objective(net, X_data, y[idxs]) \n",
    "        average_loss = 0.99 * average_loss + 0.01 * objective.item()\n",
    "        if verbose and (i+1) % 100 == 0:\n",
    "            print(average_loss)\n",
    "        \n",
    "        gradients = torch.autograd.grad(outputs=objective, inputs=net.parameters())\n",
    "        \n",
    "        with torch.no_grad():\n",
    "            for (w, g) in zip(net.parameters(), gradients):\n",
    "                w -= learning_rate * g\n",
    "    return net"
   ]
  },
  {
   "cell_type": "code",
   "execution_count": 22,
   "id": "dc977bd6",
   "metadata": {},
   "outputs": [],
   "source": [
    "class MyConvNet(torch.nn.Module):\n",
    "    def __init__(self, num_classes=10):\n",
    "        super().__init__()\n",
    "        self.conv_ensemble_1 = torch.nn.Sequential(\n",
    "            torch.nn.Conv2d(1, 16, kernel_size=5, padding=2),\n",
    "            torch.nn.ReLU(),\n",
    "            torch.nn.MaxPool2d(2))\n",
    "        self.conv_ensemble_2 = torch.nn.Sequential(\n",
    "            torch.nn.Conv2d(16, 32, kernel_size=5, padding=2),\n",
    "            torch.nn.ReLU(),\n",
    "            torch.nn.MaxPool2d(2))\n",
    "        self.fully_connected_layer = torch.nn.Linear(7*7*32, 10)\n",
    "        \n",
    "    def forward(self, x):\n",
    "        x = x.view(-1, 1, 28, 28)  # reshape input; convolutions need a channel\n",
    "        out = self.conv_ensemble_1(x)  # first convolution + relu + pooling\n",
    "        out = self.conv_ensemble_2(out) # second convolution + relu + pooling\n",
    "        out = out.view(out.shape[0], -1)  # flatten output\n",
    "        out = self.fully_connected_layer(out)  # output layer\n",
    "        return out"
   ]
  },
  {
   "cell_type": "code",
   "execution_count": 23,
   "id": "df36998f",
   "metadata": {
    "scrolled": true
   },
   "outputs": [
    {
     "name": "stdout",
     "output_type": "stream",
     "text": [
      "Starting Case 1 with Augment Train=False and Augment Test=False\n",
      "Iteration 0, Train Loss = 2.317, Train Accuracy = 0.110, Test Loss = 2.316, Test Accuracy = 0.120\n",
      "Iteration 1, Train Loss = 0.467, Train Accuracy = 0.827, Test Loss = 0.530, Test Accuracy = 0.807\n",
      "Iteration 2, Train Loss = 0.370, Train Accuracy = 0.873, Test Loss = 0.462, Test Accuracy = 0.841\n",
      "Iteration 3, Train Loss = 0.343, Train Accuracy = 0.880, Test Loss = 0.458, Test Accuracy = 0.844\n",
      "Iteration 4, Train Loss = 0.322, Train Accuracy = 0.881, Test Loss = 0.464, Test Accuracy = 0.837\n",
      "Iteration 5, Train Loss = 0.280, Train Accuracy = 0.897, Test Loss = 0.455, Test Accuracy = 0.846\n",
      "Iteration 6, Train Loss = 0.232, Train Accuracy = 0.912, Test Loss = 0.420, Test Accuracy = 0.861\n",
      "Iteration 7, Train Loss = 0.210, Train Accuracy = 0.923, Test Loss = 0.415, Test Accuracy = 0.864\n",
      "Iteration 8, Train Loss = 0.198, Train Accuracy = 0.930, Test Loss = 0.440, Test Accuracy = 0.860\n",
      "Iteration 9, Train Loss = 0.173, Train Accuracy = 0.942, Test Loss = 0.438, Test Accuracy = 0.871\n",
      "Iteration 10, Train Loss = 0.159, Train Accuracy = 0.946, Test Loss = 0.436, Test Accuracy = 0.868\n",
      "Iteration 11, Train Loss = 0.149, Train Accuracy = 0.945, Test Loss = 0.481, Test Accuracy = 0.864\n",
      "Iteration 12, Train Loss = 0.113, Train Accuracy = 0.961, Test Loss = 0.454, Test Accuracy = 0.869\n",
      "Iteration 13, Train Loss = 0.123, Train Accuracy = 0.957, Test Loss = 0.460, Test Accuracy = 0.863\n",
      "Iteration 14, Train Loss = 0.103, Train Accuracy = 0.965, Test Loss = 0.517, Test Accuracy = 0.866\n",
      "Iteration 15, Train Loss = 0.133, Train Accuracy = 0.953, Test Loss = 0.558, Test Accuracy = 0.858\n",
      "Iteration 16, Train Loss = 0.071, Train Accuracy = 0.978, Test Loss = 0.512, Test Accuracy = 0.869\n",
      "Iteration 17, Train Loss = 0.068, Train Accuracy = 0.978, Test Loss = 0.540, Test Accuracy = 0.867\n",
      "Iteration 18, Train Loss = 0.047, Train Accuracy = 0.987, Test Loss = 0.537, Test Accuracy = 0.875\n",
      "Iteration 19, Train Loss = 0.043, Train Accuracy = 0.988, Test Loss = 0.553, Test Accuracy = 0.872\n",
      "Iteration 20, Train Loss = 0.047, Train Accuracy = 0.985, Test Loss = 0.583, Test Accuracy = 0.873\n",
      "Iteration 21, Train Loss = 0.035, Train Accuracy = 0.991, Test Loss = 0.589, Test Accuracy = 0.872\n",
      "Iteration 22, Train Loss = 0.039, Train Accuracy = 0.988, Test Loss = 0.623, Test Accuracy = 0.866\n",
      "Iteration 23, Train Loss = 0.028, Train Accuracy = 0.992, Test Loss = 0.648, Test Accuracy = 0.871\n",
      "Iteration 24, Train Loss = 0.034, Train Accuracy = 0.989, Test Loss = 0.642, Test Accuracy = 0.869\n",
      "Iteration 25, Train Loss = 0.018, Train Accuracy = 0.996, Test Loss = 0.685, Test Accuracy = 0.874\n",
      "Iteration 26, Train Loss = 0.019, Train Accuracy = 0.996, Test Loss = 0.699, Test Accuracy = 0.871\n",
      "Iteration 27, Train Loss = 0.018, Train Accuracy = 0.996, Test Loss = 0.721, Test Accuracy = 0.867\n",
      "Iteration 28, Train Loss = 0.046, Train Accuracy = 0.986, Test Loss = 0.744, Test Accuracy = 0.860\n",
      "Iteration 29, Train Loss = 0.023, Train Accuracy = 0.995, Test Loss = 0.701, Test Accuracy = 0.872\n",
      "Iteration 30, Train Loss = 0.018, Train Accuracy = 0.995, Test Loss = 0.721, Test Accuracy = 0.870\n",
      "Iteration 31, Train Loss = 0.008, Train Accuracy = 0.999, Test Loss = 0.742, Test Accuracy = 0.873\n",
      "Iteration 32, Train Loss = 0.005, Train Accuracy = 0.999, Test Loss = 0.755, Test Accuracy = 0.873\n",
      "Iteration 33, Train Loss = 0.004, Train Accuracy = 1.000, Test Loss = 0.764, Test Accuracy = 0.872\n",
      "Iteration 34, Train Loss = 0.002, Train Accuracy = 1.000, Test Loss = 0.793, Test Accuracy = 0.874\n",
      "\n",
      "\n",
      "Starting Case 2 with Augment Train=True and Augment Test=False\n",
      "Iteration 0, Train Loss = 2.286, Train Accuracy = 0.075, Test Loss = 2.288, Test Accuracy = 0.077\n"
     ]
    },
    {
     "name": "stderr",
     "output_type": "stream",
     "text": [
      "/home/apoorvsharma/anaconda3/envs/data598/lib/python3.8/site-packages/torchvision/transforms/transforms.py:852: UserWarning: Argument interpolation should be of type InterpolationMode instead of int. Please, use InterpolationMode enum.\n",
      "  warnings.warn(\n"
     ]
    },
    {
     "name": "stdout",
     "output_type": "stream",
     "text": [
      "Iteration 1, Train Loss = 0.562, Train Accuracy = 0.790, Test Loss = 0.628, Test Accuracy = 0.772\n",
      "Iteration 2, Train Loss = 0.493, Train Accuracy = 0.821, Test Loss = 0.571, Test Accuracy = 0.791\n",
      "Iteration 3, Train Loss = 0.427, Train Accuracy = 0.844, Test Loss = 0.506, Test Accuracy = 0.819\n",
      "Iteration 4, Train Loss = 0.404, Train Accuracy = 0.854, Test Loss = 0.494, Test Accuracy = 0.831\n",
      "Iteration 5, Train Loss = 0.430, Train Accuracy = 0.840, Test Loss = 0.528, Test Accuracy = 0.815\n",
      "Iteration 6, Train Loss = 0.372, Train Accuracy = 0.869, Test Loss = 0.449, Test Accuracy = 0.841\n",
      "Iteration 7, Train Loss = 0.374, Train Accuracy = 0.867, Test Loss = 0.483, Test Accuracy = 0.839\n",
      "Iteration 8, Train Loss = 0.354, Train Accuracy = 0.867, Test Loss = 0.458, Test Accuracy = 0.833\n",
      "Iteration 9, Train Loss = 0.334, Train Accuracy = 0.878, Test Loss = 0.428, Test Accuracy = 0.848\n",
      "Iteration 10, Train Loss = 0.316, Train Accuracy = 0.882, Test Loss = 0.425, Test Accuracy = 0.845\n",
      "Iteration 11, Train Loss = 0.309, Train Accuracy = 0.888, Test Loss = 0.438, Test Accuracy = 0.855\n",
      "Iteration 12, Train Loss = 0.321, Train Accuracy = 0.878, Test Loss = 0.464, Test Accuracy = 0.845\n",
      "Iteration 13, Train Loss = 0.295, Train Accuracy = 0.895, Test Loss = 0.419, Test Accuracy = 0.857\n",
      "Iteration 14, Train Loss = 0.303, Train Accuracy = 0.887, Test Loss = 0.456, Test Accuracy = 0.847\n",
      "Iteration 15, Train Loss = 0.264, Train Accuracy = 0.900, Test Loss = 0.416, Test Accuracy = 0.860\n",
      "Iteration 16, Train Loss = 0.283, Train Accuracy = 0.894, Test Loss = 0.440, Test Accuracy = 0.856\n",
      "Iteration 17, Train Loss = 0.259, Train Accuracy = 0.903, Test Loss = 0.390, Test Accuracy = 0.868\n",
      "Iteration 18, Train Loss = 0.283, Train Accuracy = 0.897, Test Loss = 0.426, Test Accuracy = 0.859\n",
      "Iteration 19, Train Loss = 0.278, Train Accuracy = 0.898, Test Loss = 0.431, Test Accuracy = 0.852\n",
      "Iteration 20, Train Loss = 0.237, Train Accuracy = 0.915, Test Loss = 0.384, Test Accuracy = 0.871\n",
      "Iteration 21, Train Loss = 0.296, Train Accuracy = 0.892, Test Loss = 0.451, Test Accuracy = 0.851\n",
      "Iteration 22, Train Loss = 0.266, Train Accuracy = 0.896, Test Loss = 0.414, Test Accuracy = 0.853\n",
      "Iteration 23, Train Loss = 0.245, Train Accuracy = 0.909, Test Loss = 0.408, Test Accuracy = 0.861\n",
      "Iteration 24, Train Loss = 0.239, Train Accuracy = 0.912, Test Loss = 0.394, Test Accuracy = 0.865\n",
      "Iteration 25, Train Loss = 0.265, Train Accuracy = 0.900, Test Loss = 0.450, Test Accuracy = 0.848\n",
      "Iteration 26, Train Loss = 0.237, Train Accuracy = 0.913, Test Loss = 0.408, Test Accuracy = 0.868\n",
      "Iteration 27, Train Loss = 0.248, Train Accuracy = 0.908, Test Loss = 0.438, Test Accuracy = 0.856\n",
      "Iteration 28, Train Loss = 0.211, Train Accuracy = 0.924, Test Loss = 0.394, Test Accuracy = 0.868\n",
      "Iteration 29, Train Loss = 0.277, Train Accuracy = 0.900, Test Loss = 0.444, Test Accuracy = 0.840\n",
      "Iteration 30, Train Loss = 0.222, Train Accuracy = 0.919, Test Loss = 0.393, Test Accuracy = 0.870\n",
      "Iteration 31, Train Loss = 0.258, Train Accuracy = 0.904, Test Loss = 0.457, Test Accuracy = 0.848\n",
      "Iteration 32, Train Loss = 0.213, Train Accuracy = 0.919, Test Loss = 0.408, Test Accuracy = 0.868\n",
      "Iteration 33, Train Loss = 0.269, Train Accuracy = 0.899, Test Loss = 0.492, Test Accuracy = 0.843\n",
      "Iteration 34, Train Loss = 0.204, Train Accuracy = 0.926, Test Loss = 0.418, Test Accuracy = 0.870\n",
      "Iteration 35, Train Loss = 0.211, Train Accuracy = 0.922, Test Loss = 0.438, Test Accuracy = 0.863\n",
      "Iteration 36, Train Loss = 0.218, Train Accuracy = 0.922, Test Loss = 0.441, Test Accuracy = 0.862\n",
      "Iteration 37, Train Loss = 0.220, Train Accuracy = 0.919, Test Loss = 0.437, Test Accuracy = 0.863\n",
      "Iteration 38, Train Loss = 0.213, Train Accuracy = 0.923, Test Loss = 0.442, Test Accuracy = 0.860\n",
      "Iteration 39, Train Loss = 0.238, Train Accuracy = 0.912, Test Loss = 0.454, Test Accuracy = 0.853\n",
      "Iteration 40, Train Loss = 0.224, Train Accuracy = 0.916, Test Loss = 0.452, Test Accuracy = 0.857\n",
      "Iteration 41, Train Loss = 0.251, Train Accuracy = 0.902, Test Loss = 0.475, Test Accuracy = 0.845\n",
      "Iteration 42, Train Loss = 0.210, Train Accuracy = 0.922, Test Loss = 0.455, Test Accuracy = 0.858\n",
      "Iteration 43, Train Loss = 0.198, Train Accuracy = 0.926, Test Loss = 0.440, Test Accuracy = 0.873\n",
      "Iteration 44, Train Loss = 0.190, Train Accuracy = 0.929, Test Loss = 0.431, Test Accuracy = 0.870\n",
      "Iteration 45, Train Loss = 0.190, Train Accuracy = 0.930, Test Loss = 0.423, Test Accuracy = 0.867\n",
      "Iteration 46, Train Loss = 0.181, Train Accuracy = 0.932, Test Loss = 0.429, Test Accuracy = 0.865\n",
      "Iteration 47, Train Loss = 0.218, Train Accuracy = 0.920, Test Loss = 0.472, Test Accuracy = 0.854\n",
      "Iteration 48, Train Loss = 0.179, Train Accuracy = 0.936, Test Loss = 0.417, Test Accuracy = 0.870\n",
      "Iteration 49, Train Loss = 0.190, Train Accuracy = 0.929, Test Loss = 0.428, Test Accuracy = 0.864\n",
      "Iteration 50, Train Loss = 0.183, Train Accuracy = 0.934, Test Loss = 0.432, Test Accuracy = 0.871\n",
      "Iteration 51, Train Loss = 0.188, Train Accuracy = 0.934, Test Loss = 0.417, Test Accuracy = 0.877\n",
      "Iteration 52, Train Loss = 0.185, Train Accuracy = 0.933, Test Loss = 0.445, Test Accuracy = 0.869\n",
      "Iteration 53, Train Loss = 0.174, Train Accuracy = 0.934, Test Loss = 0.416, Test Accuracy = 0.875\n",
      "Iteration 54, Train Loss = 0.198, Train Accuracy = 0.927, Test Loss = 0.439, Test Accuracy = 0.859\n",
      "Iteration 55, Train Loss = 0.175, Train Accuracy = 0.936, Test Loss = 0.423, Test Accuracy = 0.867\n",
      "Iteration 56, Train Loss = 0.172, Train Accuracy = 0.938, Test Loss = 0.449, Test Accuracy = 0.865\n",
      "Iteration 57, Train Loss = 0.191, Train Accuracy = 0.930, Test Loss = 0.470, Test Accuracy = 0.867\n",
      "Iteration 58, Train Loss = 0.193, Train Accuracy = 0.932, Test Loss = 0.441, Test Accuracy = 0.863\n",
      "Iteration 59, Train Loss = 0.168, Train Accuracy = 0.941, Test Loss = 0.404, Test Accuracy = 0.870\n",
      "Iteration 60, Train Loss = 0.174, Train Accuracy = 0.936, Test Loss = 0.406, Test Accuracy = 0.871\n",
      "Iteration 61, Train Loss = 0.166, Train Accuracy = 0.940, Test Loss = 0.431, Test Accuracy = 0.871\n",
      "Iteration 62, Train Loss = 0.172, Train Accuracy = 0.937, Test Loss = 0.437, Test Accuracy = 0.862\n",
      "Iteration 63, Train Loss = 0.152, Train Accuracy = 0.945, Test Loss = 0.415, Test Accuracy = 0.875\n",
      "Iteration 64, Train Loss = 0.167, Train Accuracy = 0.938, Test Loss = 0.449, Test Accuracy = 0.870\n",
      "Iteration 65, Train Loss = 0.175, Train Accuracy = 0.938, Test Loss = 0.466, Test Accuracy = 0.864\n",
      "Iteration 66, Train Loss = 0.213, Train Accuracy = 0.918, Test Loss = 0.498, Test Accuracy = 0.848\n",
      "Iteration 67, Train Loss = 0.162, Train Accuracy = 0.942, Test Loss = 0.466, Test Accuracy = 0.875\n",
      "Iteration 68, Train Loss = 0.197, Train Accuracy = 0.923, Test Loss = 0.461, Test Accuracy = 0.851\n",
      "Iteration 69, Train Loss = 0.162, Train Accuracy = 0.938, Test Loss = 0.453, Test Accuracy = 0.870\n",
      "Iteration 70, Train Loss = 0.154, Train Accuracy = 0.945, Test Loss = 0.436, Test Accuracy = 0.875\n",
      "Iteration 71, Train Loss = 0.171, Train Accuracy = 0.937, Test Loss = 0.452, Test Accuracy = 0.862\n",
      "Iteration 72, Train Loss = 0.162, Train Accuracy = 0.941, Test Loss = 0.459, Test Accuracy = 0.870\n",
      "Iteration 73, Train Loss = 0.154, Train Accuracy = 0.945, Test Loss = 0.433, Test Accuracy = 0.870\n",
      "Iteration 74, Train Loss = 0.175, Train Accuracy = 0.932, Test Loss = 0.498, Test Accuracy = 0.865\n",
      "Iteration 75, Train Loss = 0.157, Train Accuracy = 0.939, Test Loss = 0.467, Test Accuracy = 0.866\n",
      "Iteration 76, Train Loss = 0.162, Train Accuracy = 0.942, Test Loss = 0.466, Test Accuracy = 0.865\n",
      "Iteration 77, Train Loss = 0.171, Train Accuracy = 0.937, Test Loss = 0.436, Test Accuracy = 0.859\n",
      "Iteration 78, Train Loss = 0.141, Train Accuracy = 0.948, Test Loss = 0.443, Test Accuracy = 0.872\n",
      "Iteration 79, Train Loss = 0.173, Train Accuracy = 0.936, Test Loss = 0.460, Test Accuracy = 0.868\n",
      "Iteration 80, Train Loss = 0.155, Train Accuracy = 0.946, Test Loss = 0.444, Test Accuracy = 0.871\n",
      "Iteration 81, Train Loss = 0.178, Train Accuracy = 0.936, Test Loss = 0.475, Test Accuracy = 0.864\n",
      "Iteration 82, Train Loss = 0.153, Train Accuracy = 0.946, Test Loss = 0.455, Test Accuracy = 0.866\n",
      "Iteration 83, Train Loss = 0.162, Train Accuracy = 0.941, Test Loss = 0.480, Test Accuracy = 0.862\n"
     ]
    },
    {
     "name": "stdout",
     "output_type": "stream",
     "text": [
      "Iteration 84, Train Loss = 0.153, Train Accuracy = 0.944, Test Loss = 0.480, Test Accuracy = 0.870\n",
      "Iteration 85, Train Loss = 0.141, Train Accuracy = 0.948, Test Loss = 0.429, Test Accuracy = 0.872\n",
      "Iteration 86, Train Loss = 0.134, Train Accuracy = 0.951, Test Loss = 0.457, Test Accuracy = 0.875\n",
      "Iteration 87, Train Loss = 0.155, Train Accuracy = 0.943, Test Loss = 0.517, Test Accuracy = 0.869\n",
      "Iteration 88, Train Loss = 0.145, Train Accuracy = 0.948, Test Loss = 0.481, Test Accuracy = 0.866\n",
      "Iteration 89, Train Loss = 0.149, Train Accuracy = 0.950, Test Loss = 0.470, Test Accuracy = 0.868\n",
      "Iteration 90, Train Loss = 0.162, Train Accuracy = 0.940, Test Loss = 0.489, Test Accuracy = 0.863\n",
      "Iteration 91, Train Loss = 0.157, Train Accuracy = 0.942, Test Loss = 0.513, Test Accuracy = 0.864\n",
      "Iteration 92, Train Loss = 0.145, Train Accuracy = 0.946, Test Loss = 0.442, Test Accuracy = 0.874\n",
      "Iteration 93, Train Loss = 0.157, Train Accuracy = 0.939, Test Loss = 0.466, Test Accuracy = 0.863\n",
      "Iteration 94, Train Loss = 0.147, Train Accuracy = 0.949, Test Loss = 0.475, Test Accuracy = 0.867\n",
      "Iteration 95, Train Loss = 0.156, Train Accuracy = 0.943, Test Loss = 0.474, Test Accuracy = 0.865\n",
      "Iteration 96, Train Loss = 0.155, Train Accuracy = 0.943, Test Loss = 0.469, Test Accuracy = 0.863\n",
      "Iteration 97, Train Loss = 0.140, Train Accuracy = 0.951, Test Loss = 0.437, Test Accuracy = 0.874\n",
      "Iteration 98, Train Loss = 0.166, Train Accuracy = 0.937, Test Loss = 0.492, Test Accuracy = 0.857\n",
      "Iteration 99, Train Loss = 0.148, Train Accuracy = 0.944, Test Loss = 0.498, Test Accuracy = 0.869\n",
      "Iteration 100, Train Loss = 0.163, Train Accuracy = 0.940, Test Loss = 0.480, Test Accuracy = 0.857\n",
      "\n",
      "\n",
      "Starting Case 3 with Augment Train=False and Augment Test=True\n",
      "Iteration 0, Train Loss = 2.303, Train Accuracy = 0.082, Test Loss = 2.306, Test Accuracy = 0.094\n",
      "Iteration 1, Train Loss = 0.505, Train Accuracy = 0.788, Test Loss = 0.570, Test Accuracy = 0.775\n",
      "Iteration 2, Train Loss = 0.382, Train Accuracy = 0.815, Test Loss = 0.492, Test Accuracy = 0.796\n",
      "Iteration 3, Train Loss = 0.328, Train Accuracy = 0.821, Test Loss = 0.449, Test Accuracy = 0.793\n",
      "Iteration 4, Train Loss = 0.325, Train Accuracy = 0.853, Test Loss = 0.485, Test Accuracy = 0.800\n",
      "Iteration 5, Train Loss = 0.301, Train Accuracy = 0.803, Test Loss = 0.484, Test Accuracy = 0.801\n",
      "Iteration 6, Train Loss = 0.262, Train Accuracy = 0.822, Test Loss = 0.472, Test Accuracy = 0.791\n",
      "Iteration 7, Train Loss = 0.230, Train Accuracy = 0.848, Test Loss = 0.460, Test Accuracy = 0.830\n",
      "Iteration 8, Train Loss = 0.191, Train Accuracy = 0.875, Test Loss = 0.433, Test Accuracy = 0.833\n",
      "Iteration 9, Train Loss = 0.174, Train Accuracy = 0.877, Test Loss = 0.439, Test Accuracy = 0.826\n",
      "Iteration 10, Train Loss = 0.182, Train Accuracy = 0.805, Test Loss = 0.500, Test Accuracy = 0.770\n",
      "Iteration 11, Train Loss = 0.138, Train Accuracy = 0.869, Test Loss = 0.436, Test Accuracy = 0.812\n",
      "Iteration 12, Train Loss = 0.110, Train Accuracy = 0.901, Test Loss = 0.464, Test Accuracy = 0.836\n",
      "Iteration 13, Train Loss = 0.106, Train Accuracy = 0.889, Test Loss = 0.503, Test Accuracy = 0.843\n",
      "Iteration 14, Train Loss = 0.111, Train Accuracy = 0.861, Test Loss = 0.543, Test Accuracy = 0.823\n",
      "Iteration 15, Train Loss = 0.067, Train Accuracy = 0.903, Test Loss = 0.492, Test Accuracy = 0.834\n",
      "Iteration 16, Train Loss = 0.084, Train Accuracy = 0.874, Test Loss = 0.552, Test Accuracy = 0.815\n",
      "Iteration 17, Train Loss = 0.206, Train Accuracy = 0.845, Test Loss = 0.727, Test Accuracy = 0.778\n",
      "Iteration 18, Train Loss = 0.074, Train Accuracy = 0.885, Test Loss = 0.583, Test Accuracy = 0.830\n",
      "Iteration 19, Train Loss = 0.044, Train Accuracy = 0.890, Test Loss = 0.594, Test Accuracy = 0.789\n",
      "Iteration 20, Train Loss = 0.034, Train Accuracy = 0.899, Test Loss = 0.583, Test Accuracy = 0.845\n",
      "Iteration 21, Train Loss = 0.073, Train Accuracy = 0.897, Test Loss = 0.710, Test Accuracy = 0.833\n",
      "Iteration 22, Train Loss = 0.026, Train Accuracy = 0.873, Test Loss = 0.606, Test Accuracy = 0.839\n",
      "Iteration 23, Train Loss = 0.017, Train Accuracy = 0.882, Test Loss = 0.635, Test Accuracy = 0.846\n",
      "Iteration 24, Train Loss = 0.018, Train Accuracy = 0.889, Test Loss = 0.651, Test Accuracy = 0.842\n",
      "Iteration 25, Train Loss = 0.030, Train Accuracy = 0.886, Test Loss = 0.677, Test Accuracy = 0.804\n",
      "Iteration 26, Train Loss = 0.014, Train Accuracy = 0.855, Test Loss = 0.701, Test Accuracy = 0.822\n",
      "Iteration 27, Train Loss = 0.015, Train Accuracy = 0.900, Test Loss = 0.694, Test Accuracy = 0.839\n",
      "Iteration 28, Train Loss = 0.007, Train Accuracy = 0.854, Test Loss = 0.723, Test Accuracy = 0.825\n",
      "Iteration 29, Train Loss = 0.005, Train Accuracy = 0.929, Test Loss = 0.707, Test Accuracy = 0.823\n",
      "Iteration 30, Train Loss = 0.003, Train Accuracy = 0.878, Test Loss = 0.728, Test Accuracy = 0.841\n",
      "Iteration 31, Train Loss = 0.003, Train Accuracy = 0.878, Test Loss = 0.745, Test Accuracy = 0.826\n",
      "Iteration 32, Train Loss = 0.002, Train Accuracy = 0.875, Test Loss = 0.758, Test Accuracy = 0.839\n",
      "Iteration 33, Train Loss = 0.002, Train Accuracy = 0.877, Test Loss = 0.777, Test Accuracy = 0.839\n",
      "Iteration 34, Train Loss = 0.002, Train Accuracy = 0.867, Test Loss = 0.791, Test Accuracy = 0.816\n",
      "Iteration 35, Train Loss = 0.002, Train Accuracy = 0.899, Test Loss = 0.799, Test Accuracy = 0.806\n",
      "Iteration 36, Train Loss = 0.002, Train Accuracy = 0.890, Test Loss = 0.802, Test Accuracy = 0.814\n",
      "Iteration 37, Train Loss = 0.001, Train Accuracy = 0.917, Test Loss = 0.805, Test Accuracy = 0.836\n",
      "Iteration 38, Train Loss = 0.001, Train Accuracy = 0.826, Test Loss = 0.815, Test Accuracy = 0.821\n",
      "Iteration 39, Train Loss = 0.001, Train Accuracy = 0.890, Test Loss = 0.818, Test Accuracy = 0.818\n",
      "Iteration 40, Train Loss = 0.001, Train Accuracy = 0.891, Test Loss = 0.827, Test Accuracy = 0.837\n",
      "Iteration 41, Train Loss = 0.001, Train Accuracy = 0.899, Test Loss = 0.835, Test Accuracy = 0.828\n",
      "Iteration 42, Train Loss = 0.001, Train Accuracy = 0.893, Test Loss = 0.835, Test Accuracy = 0.823\n",
      "Iteration 43, Train Loss = 0.001, Train Accuracy = 0.868, Test Loss = 0.845, Test Accuracy = 0.831\n",
      "Iteration 44, Train Loss = 0.001, Train Accuracy = 0.904, Test Loss = 0.852, Test Accuracy = 0.831\n",
      "Iteration 45, Train Loss = 0.001, Train Accuracy = 0.854, Test Loss = 0.858, Test Accuracy = 0.814\n",
      "Iteration 46, Train Loss = 0.001, Train Accuracy = 0.881, Test Loss = 0.859, Test Accuracy = 0.809\n",
      "Iteration 47, Train Loss = 0.001, Train Accuracy = 0.848, Test Loss = 0.865, Test Accuracy = 0.842\n",
      "Iteration 48, Train Loss = 0.001, Train Accuracy = 0.895, Test Loss = 0.866, Test Accuracy = 0.827\n",
      "Iteration 49, Train Loss = 0.001, Train Accuracy = 0.908, Test Loss = 0.867, Test Accuracy = 0.828\n",
      "Iteration 50, Train Loss = 0.001, Train Accuracy = 0.898, Test Loss = 0.873, Test Accuracy = 0.825\n",
      "Iteration 51, Train Loss = 0.001, Train Accuracy = 0.865, Test Loss = 0.881, Test Accuracy = 0.848\n",
      "Iteration 52, Train Loss = 0.001, Train Accuracy = 0.909, Test Loss = 0.885, Test Accuracy = 0.848\n",
      "Iteration 53, Train Loss = 0.001, Train Accuracy = 0.885, Test Loss = 0.888, Test Accuracy = 0.838\n",
      "Iteration 54, Train Loss = 0.001, Train Accuracy = 0.871, Test Loss = 0.889, Test Accuracy = 0.815\n",
      "Iteration 55, Train Loss = 0.001, Train Accuracy = 0.882, Test Loss = 0.891, Test Accuracy = 0.834\n",
      "Iteration 56, Train Loss = 0.001, Train Accuracy = 0.918, Test Loss = 0.896, Test Accuracy = 0.828\n",
      "Iteration 57, Train Loss = 0.001, Train Accuracy = 0.881, Test Loss = 0.901, Test Accuracy = 0.823\n",
      "Iteration 58, Train Loss = 0.001, Train Accuracy = 0.879, Test Loss = 0.905, Test Accuracy = 0.820\n",
      "Iteration 59, Train Loss = 0.001, Train Accuracy = 0.855, Test Loss = 0.907, Test Accuracy = 0.816\n",
      "Iteration 60, Train Loss = 0.001, Train Accuracy = 0.891, Test Loss = 0.911, Test Accuracy = 0.834\n",
      "Iteration 61, Train Loss = 0.001, Train Accuracy = 0.895, Test Loss = 0.910, Test Accuracy = 0.829\n",
      "Iteration 62, Train Loss = 0.001, Train Accuracy = 0.886, Test Loss = 0.918, Test Accuracy = 0.834\n",
      "Iteration 63, Train Loss = 0.001, Train Accuracy = 0.906, Test Loss = 0.917, Test Accuracy = 0.851\n",
      "Iteration 64, Train Loss = 0.001, Train Accuracy = 0.866, Test Loss = 0.921, Test Accuracy = 0.834\n",
      "Iteration 65, Train Loss = 0.000, Train Accuracy = 0.892, Test Loss = 0.924, Test Accuracy = 0.854\n"
     ]
    },
    {
     "name": "stdout",
     "output_type": "stream",
     "text": [
      "Iteration 66, Train Loss = 0.000, Train Accuracy = 0.905, Test Loss = 0.926, Test Accuracy = 0.851\n",
      "Iteration 67, Train Loss = 0.000, Train Accuracy = 0.887, Test Loss = 0.929, Test Accuracy = 0.815\n",
      "Iteration 68, Train Loss = 0.000, Train Accuracy = 0.877, Test Loss = 0.931, Test Accuracy = 0.839\n",
      "Iteration 69, Train Loss = 0.000, Train Accuracy = 0.917, Test Loss = 0.932, Test Accuracy = 0.838\n",
      "Iteration 70, Train Loss = 0.000, Train Accuracy = 0.870, Test Loss = 0.935, Test Accuracy = 0.833\n",
      "Iteration 71, Train Loss = 0.000, Train Accuracy = 0.885, Test Loss = 0.939, Test Accuracy = 0.827\n",
      "Iteration 72, Train Loss = 0.000, Train Accuracy = 0.887, Test Loss = 0.939, Test Accuracy = 0.838\n",
      "Iteration 73, Train Loss = 0.000, Train Accuracy = 0.898, Test Loss = 0.942, Test Accuracy = 0.822\n",
      "Iteration 74, Train Loss = 0.000, Train Accuracy = 0.886, Test Loss = 0.943, Test Accuracy = 0.828\n",
      "Iteration 75, Train Loss = 0.000, Train Accuracy = 0.887, Test Loss = 0.948, Test Accuracy = 0.848\n",
      "Iteration 76, Train Loss = 0.000, Train Accuracy = 0.886, Test Loss = 0.950, Test Accuracy = 0.831\n",
      "Iteration 77, Train Loss = 0.000, Train Accuracy = 0.855, Test Loss = 0.951, Test Accuracy = 0.829\n",
      "Iteration 78, Train Loss = 0.000, Train Accuracy = 0.878, Test Loss = 0.952, Test Accuracy = 0.841\n",
      "Iteration 79, Train Loss = 0.000, Train Accuracy = 0.855, Test Loss = 0.955, Test Accuracy = 0.831\n",
      "Iteration 80, Train Loss = 0.000, Train Accuracy = 0.855, Test Loss = 0.959, Test Accuracy = 0.818\n",
      "Iteration 81, Train Loss = 0.000, Train Accuracy = 0.830, Test Loss = 0.958, Test Accuracy = 0.818\n",
      "Iteration 82, Train Loss = 0.000, Train Accuracy = 0.893, Test Loss = 0.960, Test Accuracy = 0.823\n",
      "Iteration 83, Train Loss = 0.000, Train Accuracy = 0.917, Test Loss = 0.962, Test Accuracy = 0.857\n",
      "Iteration 84, Train Loss = 0.000, Train Accuracy = 0.877, Test Loss = 0.963, Test Accuracy = 0.831\n",
      "Iteration 85, Train Loss = 0.000, Train Accuracy = 0.896, Test Loss = 0.968, Test Accuracy = 0.802\n",
      "Iteration 86, Train Loss = 0.000, Train Accuracy = 0.806, Test Loss = 0.970, Test Accuracy = 0.847\n",
      "Iteration 87, Train Loss = 0.000, Train Accuracy = 0.880, Test Loss = 0.971, Test Accuracy = 0.836\n",
      "Iteration 88, Train Loss = 0.000, Train Accuracy = 0.875, Test Loss = 0.972, Test Accuracy = 0.825\n",
      "Iteration 89, Train Loss = 0.000, Train Accuracy = 0.914, Test Loss = 0.974, Test Accuracy = 0.824\n",
      "Iteration 90, Train Loss = 0.000, Train Accuracy = 0.893, Test Loss = 0.978, Test Accuracy = 0.821\n",
      "Iteration 91, Train Loss = 0.000, Train Accuracy = 0.893, Test Loss = 0.976, Test Accuracy = 0.836\n",
      "Iteration 92, Train Loss = 0.000, Train Accuracy = 0.890, Test Loss = 0.979, Test Accuracy = 0.845\n",
      "Iteration 93, Train Loss = 0.000, Train Accuracy = 0.917, Test Loss = 0.980, Test Accuracy = 0.845\n",
      "Iteration 94, Train Loss = 0.000, Train Accuracy = 0.875, Test Loss = 0.982, Test Accuracy = 0.835\n",
      "Iteration 95, Train Loss = 0.000, Train Accuracy = 0.852, Test Loss = 0.984, Test Accuracy = 0.831\n",
      "Iteration 96, Train Loss = 0.000, Train Accuracy = 0.883, Test Loss = 0.986, Test Accuracy = 0.840\n",
      "Iteration 97, Train Loss = 0.000, Train Accuracy = 0.871, Test Loss = 0.986, Test Accuracy = 0.829\n",
      "Iteration 98, Train Loss = 0.000, Train Accuracy = 0.901, Test Loss = 0.987, Test Accuracy = 0.815\n",
      "Iteration 99, Train Loss = 0.000, Train Accuracy = 0.839, Test Loss = 0.988, Test Accuracy = 0.825\n",
      "Iteration 100, Train Loss = 0.000, Train Accuracy = 0.877, Test Loss = 0.990, Test Accuracy = 0.789\n",
      "\n",
      "\n",
      "Starting Case 4 with Augment Train=True and Augment Test=True\n",
      "Iteration 0, Train Loss = 2.283, Train Accuracy = 0.235, Test Loss = 2.284, Test Accuracy = 0.220\n",
      "Iteration 1, Train Loss = 0.566, Train Accuracy = 0.781, Test Loss = 0.629, Test Accuracy = 0.753\n",
      "Iteration 2, Train Loss = 0.518, Train Accuracy = 0.798, Test Loss = 0.591, Test Accuracy = 0.786\n",
      "Iteration 3, Train Loss = 0.450, Train Accuracy = 0.823, Test Loss = 0.528, Test Accuracy = 0.809\n",
      "Iteration 4, Train Loss = 0.407, Train Accuracy = 0.834, Test Loss = 0.485, Test Accuracy = 0.818\n",
      "Iteration 5, Train Loss = 0.393, Train Accuracy = 0.844, Test Loss = 0.472, Test Accuracy = 0.821\n",
      "Iteration 6, Train Loss = 0.384, Train Accuracy = 0.850, Test Loss = 0.470, Test Accuracy = 0.821\n",
      "Iteration 7, Train Loss = 0.332, Train Accuracy = 0.866, Test Loss = 0.425, Test Accuracy = 0.837\n",
      "Iteration 8, Train Loss = 0.332, Train Accuracy = 0.868, Test Loss = 0.435, Test Accuracy = 0.840\n",
      "Iteration 9, Train Loss = 0.323, Train Accuracy = 0.862, Test Loss = 0.440, Test Accuracy = 0.838\n",
      "Iteration 10, Train Loss = 0.366, Train Accuracy = 0.867, Test Loss = 0.474, Test Accuracy = 0.824\n",
      "Iteration 11, Train Loss = 0.285, Train Accuracy = 0.882, Test Loss = 0.407, Test Accuracy = 0.860\n",
      "Iteration 12, Train Loss = 0.336, Train Accuracy = 0.870, Test Loss = 0.467, Test Accuracy = 0.840\n",
      "Iteration 13, Train Loss = 0.283, Train Accuracy = 0.891, Test Loss = 0.407, Test Accuracy = 0.845\n",
      "Iteration 14, Train Loss = 0.312, Train Accuracy = 0.873, Test Loss = 0.445, Test Accuracy = 0.840\n",
      "Iteration 15, Train Loss = 0.277, Train Accuracy = 0.876, Test Loss = 0.428, Test Accuracy = 0.849\n",
      "Iteration 16, Train Loss = 0.298, Train Accuracy = 0.885, Test Loss = 0.434, Test Accuracy = 0.844\n",
      "Iteration 17, Train Loss = 0.281, Train Accuracy = 0.890, Test Loss = 0.431, Test Accuracy = 0.849\n",
      "Iteration 18, Train Loss = 0.259, Train Accuracy = 0.897, Test Loss = 0.415, Test Accuracy = 0.856\n",
      "Iteration 19, Train Loss = 0.271, Train Accuracy = 0.883, Test Loss = 0.431, Test Accuracy = 0.852\n",
      "Iteration 20, Train Loss = 0.260, Train Accuracy = 0.902, Test Loss = 0.417, Test Accuracy = 0.852\n",
      "Iteration 21, Train Loss = 0.249, Train Accuracy = 0.897, Test Loss = 0.413, Test Accuracy = 0.859\n",
      "Iteration 22, Train Loss = 0.276, Train Accuracy = 0.884, Test Loss = 0.449, Test Accuracy = 0.850\n",
      "Iteration 23, Train Loss = 0.260, Train Accuracy = 0.897, Test Loss = 0.432, Test Accuracy = 0.862\n",
      "Iteration 24, Train Loss = 0.257, Train Accuracy = 0.890, Test Loss = 0.423, Test Accuracy = 0.846\n",
      "Iteration 25, Train Loss = 0.253, Train Accuracy = 0.887, Test Loss = 0.436, Test Accuracy = 0.852\n",
      "Iteration 26, Train Loss = 0.235, Train Accuracy = 0.892, Test Loss = 0.421, Test Accuracy = 0.843\n",
      "Iteration 27, Train Loss = 0.250, Train Accuracy = 0.899, Test Loss = 0.427, Test Accuracy = 0.857\n",
      "Iteration 28, Train Loss = 0.234, Train Accuracy = 0.896, Test Loss = 0.423, Test Accuracy = 0.854\n",
      "Iteration 29, Train Loss = 0.234, Train Accuracy = 0.910, Test Loss = 0.416, Test Accuracy = 0.867\n",
      "Iteration 30, Train Loss = 0.224, Train Accuracy = 0.916, Test Loss = 0.429, Test Accuracy = 0.864\n",
      "Iteration 31, Train Loss = 0.229, Train Accuracy = 0.903, Test Loss = 0.416, Test Accuracy = 0.857\n",
      "Iteration 32, Train Loss = 0.201, Train Accuracy = 0.919, Test Loss = 0.400, Test Accuracy = 0.867\n",
      "Iteration 33, Train Loss = 0.231, Train Accuracy = 0.912, Test Loss = 0.434, Test Accuracy = 0.855\n",
      "Iteration 34, Train Loss = 0.237, Train Accuracy = 0.910, Test Loss = 0.444, Test Accuracy = 0.861\n",
      "Iteration 35, Train Loss = 0.225, Train Accuracy = 0.902, Test Loss = 0.433, Test Accuracy = 0.863\n",
      "Iteration 36, Train Loss = 0.219, Train Accuracy = 0.922, Test Loss = 0.437, Test Accuracy = 0.858\n",
      "Iteration 37, Train Loss = 0.212, Train Accuracy = 0.916, Test Loss = 0.431, Test Accuracy = 0.859\n",
      "Iteration 38, Train Loss = 0.226, Train Accuracy = 0.910, Test Loss = 0.445, Test Accuracy = 0.861\n",
      "Iteration 39, Train Loss = 0.204, Train Accuracy = 0.918, Test Loss = 0.411, Test Accuracy = 0.865\n",
      "Iteration 40, Train Loss = 0.179, Train Accuracy = 0.921, Test Loss = 0.412, Test Accuracy = 0.861\n",
      "Iteration 41, Train Loss = 0.190, Train Accuracy = 0.920, Test Loss = 0.450, Test Accuracy = 0.865\n",
      "Iteration 42, Train Loss = 0.216, Train Accuracy = 0.922, Test Loss = 0.435, Test Accuracy = 0.861\n",
      "Iteration 43, Train Loss = 0.175, Train Accuracy = 0.929, Test Loss = 0.415, Test Accuracy = 0.873\n",
      "Iteration 44, Train Loss = 0.224, Train Accuracy = 0.918, Test Loss = 0.464, Test Accuracy = 0.845\n",
      "Iteration 45, Train Loss = 0.195, Train Accuracy = 0.924, Test Loss = 0.426, Test Accuracy = 0.863\n",
      "Iteration 46, Train Loss = 0.200, Train Accuracy = 0.909, Test Loss = 0.458, Test Accuracy = 0.865\n",
      "Iteration 47, Train Loss = 0.177, Train Accuracy = 0.918, Test Loss = 0.428, Test Accuracy = 0.861\n"
     ]
    },
    {
     "name": "stdout",
     "output_type": "stream",
     "text": [
      "Iteration 48, Train Loss = 0.197, Train Accuracy = 0.916, Test Loss = 0.472, Test Accuracy = 0.857\n",
      "Iteration 49, Train Loss = 0.198, Train Accuracy = 0.925, Test Loss = 0.444, Test Accuracy = 0.864\n",
      "Iteration 50, Train Loss = 0.166, Train Accuracy = 0.921, Test Loss = 0.434, Test Accuracy = 0.878\n",
      "Iteration 51, Train Loss = 0.186, Train Accuracy = 0.923, Test Loss = 0.451, Test Accuracy = 0.867\n",
      "Iteration 52, Train Loss = 0.193, Train Accuracy = 0.924, Test Loss = 0.447, Test Accuracy = 0.860\n",
      "Iteration 53, Train Loss = 0.175, Train Accuracy = 0.920, Test Loss = 0.437, Test Accuracy = 0.874\n",
      "Iteration 54, Train Loss = 0.197, Train Accuracy = 0.926, Test Loss = 0.449, Test Accuracy = 0.861\n",
      "Iteration 55, Train Loss = 0.195, Train Accuracy = 0.923, Test Loss = 0.429, Test Accuracy = 0.871\n",
      "Iteration 56, Train Loss = 0.175, Train Accuracy = 0.937, Test Loss = 0.451, Test Accuracy = 0.869\n",
      "Iteration 57, Train Loss = 0.180, Train Accuracy = 0.915, Test Loss = 0.440, Test Accuracy = 0.863\n",
      "Iteration 58, Train Loss = 0.163, Train Accuracy = 0.933, Test Loss = 0.430, Test Accuracy = 0.866\n",
      "Iteration 59, Train Loss = 0.174, Train Accuracy = 0.921, Test Loss = 0.452, Test Accuracy = 0.853\n",
      "Iteration 60, Train Loss = 0.169, Train Accuracy = 0.922, Test Loss = 0.432, Test Accuracy = 0.858\n",
      "Iteration 61, Train Loss = 0.182, Train Accuracy = 0.928, Test Loss = 0.472, Test Accuracy = 0.870\n",
      "Iteration 62, Train Loss = 0.158, Train Accuracy = 0.936, Test Loss = 0.429, Test Accuracy = 0.872\n",
      "Iteration 63, Train Loss = 0.158, Train Accuracy = 0.929, Test Loss = 0.451, Test Accuracy = 0.873\n",
      "Iteration 64, Train Loss = 0.158, Train Accuracy = 0.932, Test Loss = 0.447, Test Accuracy = 0.876\n",
      "Iteration 65, Train Loss = 0.217, Train Accuracy = 0.915, Test Loss = 0.505, Test Accuracy = 0.858\n",
      "Iteration 66, Train Loss = 0.146, Train Accuracy = 0.916, Test Loss = 0.418, Test Accuracy = 0.862\n",
      "Iteration 67, Train Loss = 0.149, Train Accuracy = 0.946, Test Loss = 0.421, Test Accuracy = 0.874\n",
      "Iteration 68, Train Loss = 0.169, Train Accuracy = 0.932, Test Loss = 0.431, Test Accuracy = 0.866\n",
      "Iteration 69, Train Loss = 0.155, Train Accuracy = 0.923, Test Loss = 0.443, Test Accuracy = 0.868\n",
      "Iteration 70, Train Loss = 0.214, Train Accuracy = 0.925, Test Loss = 0.506, Test Accuracy = 0.858\n",
      "Iteration 71, Train Loss = 0.167, Train Accuracy = 0.922, Test Loss = 0.469, Test Accuracy = 0.865\n",
      "Iteration 72, Train Loss = 0.149, Train Accuracy = 0.925, Test Loss = 0.466, Test Accuracy = 0.869\n",
      "Iteration 73, Train Loss = 0.165, Train Accuracy = 0.930, Test Loss = 0.443, Test Accuracy = 0.873\n",
      "Iteration 74, Train Loss = 0.147, Train Accuracy = 0.941, Test Loss = 0.428, Test Accuracy = 0.871\n",
      "Iteration 75, Train Loss = 0.170, Train Accuracy = 0.948, Test Loss = 0.447, Test Accuracy = 0.872\n",
      "Iteration 76, Train Loss = 0.153, Train Accuracy = 0.940, Test Loss = 0.477, Test Accuracy = 0.868\n",
      "Iteration 77, Train Loss = 0.138, Train Accuracy = 0.941, Test Loss = 0.443, Test Accuracy = 0.878\n",
      "Iteration 78, Train Loss = 0.146, Train Accuracy = 0.940, Test Loss = 0.437, Test Accuracy = 0.862\n",
      "Iteration 79, Train Loss = 0.132, Train Accuracy = 0.933, Test Loss = 0.431, Test Accuracy = 0.875\n",
      "Iteration 80, Train Loss = 0.154, Train Accuracy = 0.925, Test Loss = 0.461, Test Accuracy = 0.865\n",
      "Iteration 81, Train Loss = 0.150, Train Accuracy = 0.939, Test Loss = 0.441, Test Accuracy = 0.868\n",
      "Iteration 82, Train Loss = 0.149, Train Accuracy = 0.928, Test Loss = 0.467, Test Accuracy = 0.870\n",
      "Iteration 83, Train Loss = 0.152, Train Accuracy = 0.939, Test Loss = 0.448, Test Accuracy = 0.865\n",
      "Iteration 84, Train Loss = 0.166, Train Accuracy = 0.932, Test Loss = 0.473, Test Accuracy = 0.854\n",
      "Iteration 85, Train Loss = 0.136, Train Accuracy = 0.933, Test Loss = 0.436, Test Accuracy = 0.872\n",
      "Iteration 86, Train Loss = 0.146, Train Accuracy = 0.947, Test Loss = 0.459, Test Accuracy = 0.874\n",
      "Iteration 87, Train Loss = 0.150, Train Accuracy = 0.932, Test Loss = 0.431, Test Accuracy = 0.861\n",
      "Iteration 88, Train Loss = 0.155, Train Accuracy = 0.933, Test Loss = 0.480, Test Accuracy = 0.862\n",
      "Iteration 89, Train Loss = 0.136, Train Accuracy = 0.938, Test Loss = 0.463, Test Accuracy = 0.868\n",
      "Iteration 90, Train Loss = 0.138, Train Accuracy = 0.941, Test Loss = 0.449, Test Accuracy = 0.878\n",
      "Iteration 91, Train Loss = 0.171, Train Accuracy = 0.929, Test Loss = 0.471, Test Accuracy = 0.857\n",
      "Iteration 92, Train Loss = 0.131, Train Accuracy = 0.944, Test Loss = 0.422, Test Accuracy = 0.875\n",
      "Iteration 93, Train Loss = 0.132, Train Accuracy = 0.942, Test Loss = 0.460, Test Accuracy = 0.868\n",
      "Iteration 94, Train Loss = 0.124, Train Accuracy = 0.943, Test Loss = 0.437, Test Accuracy = 0.862\n",
      "Iteration 95, Train Loss = 0.133, Train Accuracy = 0.939, Test Loss = 0.428, Test Accuracy = 0.872\n",
      "Iteration 96, Train Loss = 0.152, Train Accuracy = 0.945, Test Loss = 0.468, Test Accuracy = 0.870\n",
      "Iteration 97, Train Loss = 0.158, Train Accuracy = 0.917, Test Loss = 0.477, Test Accuracy = 0.864\n",
      "Iteration 98, Train Loss = 0.134, Train Accuracy = 0.938, Test Loss = 0.462, Test Accuracy = 0.871\n",
      "Iteration 99, Train Loss = 0.125, Train Accuracy = 0.945, Test Loss = 0.443, Test Accuracy = 0.870\n",
      "Iteration 100, Train Loss = 0.120, Train Accuracy = 0.942, Test Loss = 0.456, Test Accuracy = 0.877\n",
      "\n",
      "\n"
     ]
    }
   ],
   "source": [
    "learning_rate = 0.04\n",
    "num_augmentations = 8\n",
    "verbose = False\n",
    "cases_list = []\n",
    "batch_size = 16\n",
    "\n",
    "aug_data_rules = [(False, False), (True, False), (False, True), (True, True)]\n",
    "for i, aug_data in enumerate(aug_data_rules):\n",
    "    augment_train, augment_test = aug_data\n",
    "    logs = []\n",
    "    \n",
    "    print(f'Starting Case {i+1} with Augment Train={augment_train} and Augment Test={augment_test}')\n",
    "\n",
    "    model = MyConvNet(num_classes=10)\n",
    "    print('Iteration 0', end=', ')\n",
    "    logs.append(compute_logs(model, True, num_augmentations, augment_test))\n",
    "\n",
    "    # Compute 100 iterations OR until complete interpolation\n",
    "    for j in range(100):\n",
    "        model = minibatch_sgd_one_pass(model, X_train, y_train, learning_rate, batch_size, verbose, num_augmentations, augment_train)\n",
    "        print(f'Iteration {j+1}', end=', ')\n",
    "        log = compute_logs(model, True, num_augmentations, augment_test)\n",
    "        logs.append(log)\n",
    "        if log[1].item() == 1: #check if complete interpolation has been reached\n",
    "            break\n",
    "    \n",
    "    torch.save(model.state_dict(), f'./models/model_parms_case_{i+1}.pt')\n",
    "        \n",
    "    cases_list.append(logs)\n",
    "    print('\\n')\n",
    "\n",
    "with open('./models/logs.pkl', 'wb') as f:\n",
    "    pickle.dump(cases_list, f)"
   ]
  },
  {
   "cell_type": "code",
   "execution_count": 24,
   "id": "b922e130",
   "metadata": {},
   "outputs": [
    {
     "data": {
      "image/png": "[encoded data removed]",
      "text/plain": [
       "<Figure size 1440x288 with 4 Axes>"
      ]
     },
     "metadata": {
      "needs_background": "light"
     },
     "output_type": "display_data"
    }
   ],
   "source": [
    "f, ax = plt.subplots(1, 4, figsize=(20, 4))\n",
    "\n",
    "ax[0].set_title('Train Loss', fontsize=18)\n",
    "ax[1].set_title('Train Accuracy', fontsize=18)\n",
    "ax[2].set_title('Test Loss', fontsize=18)\n",
    "ax[3].set_title('Test Accuracy', fontsize=18)\n",
    "\n",
    "for j, case in enumerate(cases_list):\n",
    "    line_label = f'case_{j+1}'\n",
    "    for i in range(4):\n",
    "        ax[i].set_xlabel('#Passes', fontsize=18)\n",
    "        ax[i].set_ylabel('Loss' if i%2==0 else 'Accuracy', fontsize=18)\n",
    "        ax[i].plot(list(map(lambda x: x[i], case)), label=line_label)\n",
    "        \n",
    "ax[1].legend(fontsize=18)\n",
    "plt.tight_layout()"
   ]
  },
  {
   "cell_type": "code",
   "execution_count": 30,
   "id": "807833b2",
   "metadata": {},
   "outputs": [
    {
     "name": "stdout",
     "output_type": "stream",
     "text": [
      "The final test accuracy for case 1 is: 87.41%\n",
      "The final test accuracy for case 2 is: 85.70%\n",
      "The final test accuracy for case 3 is: 78.93%\n",
      "The final test accuracy for case 4 is: 87.69%\n"
     ]
    }
   ],
   "source": [
    "for j, case in enumerate(cases_list):\n",
    "    print(f'The final test accuracy for case {j+1} is: {case[-1][-1].item()*100:.2f}%')"
   ]
  }
 ],
 "metadata": {
  "kernelspec": {
   "display_name": "Python 3 (ipykernel)",
   "language": "python",
   "name": "python3"
  },
  "language_info": {
   "codemirror_mode": {
    "name": "ipython",
    "version": 3
   },
   "file_extension": ".py",
   "mimetype": "text/x-python",
   "name": "python",
   "nbconvert_exporter": "python",
   "pygments_lexer": "ipython3",
   "version": "3.8.12"
  }
 },
 "nbformat": 4,
 "nbformat_minor": 5
}
