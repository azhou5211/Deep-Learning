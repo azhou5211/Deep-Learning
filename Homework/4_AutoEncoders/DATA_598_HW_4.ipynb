{
 "cells": [
  {
   "cell_type": "markdown",
   "id": "4ca591c0",
   "metadata": {},
   "source": [
    "# \n",
    "<center><h1> Homework 4: AutoEncoders\n",
    "<center> Apoorv Sharma </center>\n",
    "    <center> DATA 598 (Winter 2022), University of Washington </center>"
   ]
  },
  {
   "cell_type": "markdown",
   "id": "718f68d9",
   "metadata": {},
   "source": [
    "# 1. Denoising AutoEncoders and Step Decay Learning Rates\n",
    "\n",
    "In this exercise, we will use autoencoders to denoise (= de-noise, or remove the noise from) an image. We will also implement a step decay learning rate, a commonly used trick (for all deep kinds of deep nets, not just autoencoders).\n",
    "\n",
    "Suppose we have and image x and *corrupt* it by some means to get $x' = C(x)$. Example corruptions including adding Gaussian noise or deleting random pataches in the image. A denoising autoencoder with encoder $h_w$ and decoder $g_v$ (with respective parameters w and v) takes in the corrupted input $x'$ and returns $\\hat{x} = g(h(x'))$ that approximates the noise-less image x.\n",
    "\n",
    "We will train a denoising autoencoder to reconstruct the noiseless images from the noisy ones, by minimizing the corresponding reconstruction error:\n",
    "\n",
    "$$\n",
    "\\min_{w,v} \\mathbb{E} \\left|\\left| x - g_v \\circ h_w(C(x)) \\right|\\right|^2\n",
    "$$\n",
    "\n",
    "We will use a step decay learning rate schedule\n",
    "\n",
    "$$\n",
    "\\gamma_t = \\frac{\\gamma_0}{2^{\\lfloor t/t_o \\rfloor}}\n",
    "$$\n",
    "\n",
    "in epoch $t$, where $\\gamma_0$ is a given initial learning rate, and $t_0$ threshold. The learning is cut by a factor of 2 every $t_0$ epochs:\n",
    "\n",
    "$$\n",
    "\\gamma_0 \\dots \\gamma_0, \\frac{\\gamma_0}{2} \\dots \\frac{\\gamma_0}{2}, \\frac{\\gamma_0}{4} \\dots \\frac{\\gamma_0}{4}\n",
    "$$\n",
    "\n",
    "A larger learning rate makes faster progress initially whereas a smaller learning rate is more helpful closer\n",
    "to convergence. The step-decay schedule aims to get the best of both worlds."
   ]
  },
  {
   "cell_type": "code",
   "execution_count": 1,
   "id": "c705a954",
   "metadata": {},
   "outputs": [],
   "source": [
    "import torch\n",
    "from torch.nn.functional import relu\n",
    "from torchvision.datasets import MNIST\n",
    "\n",
    "import numpy as np\n",
    "import matplotlib.pyplot as plt\n",
    "\n",
    "import math\n",
    "import pickle"
   ]
  },
  {
   "cell_type": "markdown",
   "id": "f26a1cb8",
   "metadata": {},
   "source": [
    "### Download and Process MINST dataset\n",
    "Perform the same preprocessing as in this week’s lab."
   ]
  },
  {
   "cell_type": "code",
   "execution_count": 2,
   "id": "973d9eb9",
   "metadata": {},
   "outputs": [
    {
     "name": "stdout",
     "output_type": "stream",
     "text": [
      "X_train.shape = torch.Size([6000, 28, 28])\n",
      "n_train: 6000, n_test: 10000\n",
      "Image size: torch.Size([28, 28])\n"
     ]
    }
   ],
   "source": [
    "# download dataset (~117M in size)\n",
    "train_dataset = MNIST('./data', train=True, download=True)\n",
    "X_train = train_dataset.data # torch tensor of type uint8\n",
    "y_train = train_dataset.targets # torch tensor of type Long\n",
    "test_dataset = MNIST('./data', train=False, download=True)\n",
    "X_test = test_dataset.data\n",
    "y_test = test_dataset.targets\n",
    "\n",
    "# choose a subsample of 10% of the data:\n",
    "idxs_train = torch.from_numpy(\n",
    "    np.random.choice(X_train.shape[0], replace=False, size=X_train.shape[0]//10)).long()\n",
    "X_train, y_train = X_train[idxs_train], y_train[idxs_train]\n",
    "# idxs_test = torch.from_numpy(\n",
    "#     np.random.choice(X_test.shape[0], replace=False, size=X_test.shape[0]//10))\n",
    "# X_test, y_test = X_test[idxs_test], y_test[idxs_test]\n",
    "\n",
    "print(f'X_train.shape = {X_train.shape}')\n",
    "print(f'n_train: {X_train.shape[0]}, n_test: {X_test.shape[0]}')\n",
    "print(f'Image size: {X_train.shape[1:]}')"
   ]
  },
  {
   "cell_type": "code",
   "execution_count": 3,
   "id": "c2dacd1e",
   "metadata": {},
   "outputs": [
    {
     "data": {
      "image/png": "[encoded data removed]",
      "text/plain": [
       "<Figure size 1440x288 with 5 Axes>"
      ]
     },
     "metadata": {
      "needs_background": "light"
     },
     "output_type": "display_data"
    }
   ],
   "source": [
    "f, ax = plt.subplots(1, 5, figsize=(20, 4))\n",
    "for i, idx in enumerate(np.random.choice(X_train.shape[0], 5)):\n",
    "    ax[i].imshow(X_train[idx], cmap='gray', vmin=0, vmax=255)\n",
    "    ax[i].set_title(f'Label = {y_train[idx]}', fontsize=20)"
   ]
  },
  {
   "cell_type": "code",
   "execution_count": 4,
   "id": "1026d8cf",
   "metadata": {},
   "outputs": [],
   "source": [
    "# NOTE: Run this cell only once. If you have to rerun it multiple times, \n",
    "# make sure that you run it after rerunning the previous 2 cells.\n",
    "\n",
    "# Normalize dataset: pixel values lie between 0 and 255\n",
    "# Normalize them so the pixelwise mean is zero and standard deviation is 1\n",
    "\n",
    "X_train = X_train.float()  # convert to float32\n",
    "# NOTE: we are returning a single mean/std over all the pixels, rather than a pixel-wise one\n",
    "mean, std = X_train.mean(), X_train.std()  \n",
    "X_train = (X_train - mean) / (std + 1e-6)  # avoid divide by zero\n",
    "# X_train /= torch.norm(X_train, dim=(1, 2)).max()\n",
    "\n",
    "X_test = X_test.float()\n",
    "X_test = (X_test - mean) / (std + 1e-6)\n",
    "# X_test /= torch.norm(X_test, dim=(1, 2)).max()\n",
    "\n",
    "n_class = np.unique(y_train).shape[0]"
   ]
  },
  {
   "cell_type": "markdown",
   "id": "3053a840",
   "metadata": {},
   "source": [
    "### Create convolutional autoencoder\n",
    "Use the same convolutional autoencoder as in this week’s lab, with a lower latent dimension of 40."
   ]
  },
  {
   "cell_type": "code",
   "execution_count": 5,
   "id": "a400b746",
   "metadata": {},
   "outputs": [],
   "source": [
    "class EncoderModule(torch.nn.Module):\n",
    "    def __init__(self, lower_dimension):\n",
    "        super().__init__()\n",
    "        # (B, 1, 28, 28) -> (B, 4, 12, 12)\n",
    "        self.conv1 = torch.nn.Conv2d(1, 4, kernel_size=5, stride=2, padding=0) \n",
    "        self.conv2 = torch.nn.Conv2d(4, 8, kernel_size=3, stride=2, padding=0)\n",
    "        # Flatten (B, 8, 5, 5) -> (B, 8*5*5): do this in `forward()`\n",
    "        # (B, 8*5*5) -> (B, lower_dimension); 8*5*5 = 200\n",
    "        self.linear = torch.nn.Linear(200, lower_dimension)\n",
    "    \n",
    "    def forward(self, images):\n",
    "        out = relu(self.conv1(images))  # conv1 + relu\n",
    "        out = relu(self.conv2(out))  # conv2 + relu\n",
    "        out = out.view(out.shape[0], -1)  # flatten\n",
    "        out = self.linear(out)  # Linear\n",
    "        return out"
   ]
  },
  {
   "cell_type": "code",
   "execution_count": 6,
   "id": "141a83c6",
   "metadata": {},
   "outputs": [],
   "source": [
    "class DecoderModule(torch.nn.Module):\n",
    "    def __init__(self, lower_dimension):\n",
    "        super().__init__()\n",
    "        # (B, lower_dimension) -> (B, linear)\n",
    "        self.linear_t = torch.nn.Linear(lower_dimension, 200)\n",
    "        # Unflatten (B, 8*5*5) -> (B, 8, 5, 5); do this in `forward()`\n",
    "        # (B, 8, 5, 5) -> (B, 4, 12, 12)\n",
    "        self.conv2_t = torch.nn.ConvTranspose2d(8, 4, kernel_size=3, stride=2, padding=0, output_padding=1)\n",
    "        # (B, 4, 12, 12) -> (B, 1, 28, 28)\n",
    "        self.conv1_t = torch.nn.ConvTranspose2d(4, 1, kernel_size=5, stride=2, padding=0, output_padding=1)\n",
    "\n",
    "    def forward(self, x):\n",
    "        # Apply in reverse order\n",
    "        out = relu(self.linear_t(x))  # linear_t + relu\n",
    "        out = out.view(out.shape[0], 8, 5, 5)  # Unflatten\n",
    "        out = relu(self.conv2_t(out))  # conv2_t + relu\n",
    "        out = self.conv1_t(out)  # conv1_t (note: no relu at the end)\n",
    "        return out"
   ]
  },
  {
   "cell_type": "code",
   "execution_count": 7,
   "id": "44cbab05",
   "metadata": {},
   "outputs": [],
   "source": [
    "class AutoEncoder(torch.nn.Module):\n",
    "    def __init__(self, lower_dimension):\n",
    "        super().__init__()\n",
    "        self.encoder = EncoderModule(lower_dimension)\n",
    "        self.decoder = DecoderModule(lower_dimension)\n",
    "        \n",
    "    def forward(self, images):\n",
    "        # Pass the images through the encoder to get the representations.\n",
    "        # Then, pass the representations through the decoder to get the reconstructed images\n",
    "        # images -> encoder(.) -> decoder(.)\n",
    "        out = self.encoder(images)\n",
    "        out = self.decoder(out)\n",
    "        \n",
    "        return out\n",
    "        \n",
    "    def encode_images(self, images):\n",
    "        return self.encoder(images)\n",
    "    \n",
    "    def decode_representations(self, representations):\n",
    "        return self.decoder(representations)"
   ]
  },
  {
   "cell_type": "markdown",
   "id": "474f6cbc",
   "metadata": {},
   "source": [
    "### Corruption function\n",
    "As the corruption function $C(·)$, we zero out a randomly chosen 14 × 14 patch in the original image"
   ]
  },
  {
   "cell_type": "code",
   "execution_count": 8,
   "id": "3372a581",
   "metadata": {},
   "outputs": [],
   "source": [
    "def corrupt_image_batch(images):\n",
    "    # Add a 14x14 square of zeros in a 28x28 image\n",
    "    # images: (B, 1, 28, 28)\n",
    "    \n",
    "    patch_size = 14  # zero out a 14x14 patch\n",
    "    batch_size = images.shape[0]\n",
    "    height, width = images.shape[-2:]  # height and width of each image\n",
    "\n",
    "    starting_h = np.random.choice(height - patch_size, size=batch_size, replace=True)\n",
    "    starting_w = np.random.choice(width - patch_size, size=batch_size, replace=True)\n",
    "\n",
    "    images_corrupted = images.clone()  # corrupt a copy so we do not lose the originals\n",
    "    for b in range(batch_size):\n",
    "        h = starting_h[b]\n",
    "        w = starting_w[b]\n",
    "        images_corrupted[b, 0, h:h+patch_size, b:b+patch_size] = 0  # set to 0\n",
    "    return images_corrupted"
   ]
  },
  {
   "cell_type": "markdown",
   "id": "14dbc65b",
   "metadata": {},
   "source": [
    "### Training Functions"
   ]
  },
  {
   "cell_type": "code",
   "execution_count": 9,
   "id": "25755f03",
   "metadata": {},
   "outputs": [],
   "source": [
    "def loss_function(true_images, reconstructed_images):  # square loss\n",
    "    residual = (true_images - reconstructed_images).view(-1)  # flatten into a vector\n",
    "    # return the average over examples\n",
    "    return 0.5 * torch.norm(residual) ** 2 / (true_images.shape[0])\n",
    "\n",
    "def compute_objective(model, original_images, corrupted_images):\n",
    "    # reshape images from (B, 28, 28) -> (B, 1, 28, 28) as required by the model\n",
    "    reconstructed_images = model(corrupted_images)\n",
    "    return loss_function(original_images.unsqueeze(1), reconstructed_images)"
   ]
  },
  {
   "cell_type": "code",
   "execution_count": 10,
   "id": "81642c4f",
   "metadata": {},
   "outputs": [],
   "source": [
    "@torch.no_grad()\n",
    "def compute_logs(model, verbose=False): # Only report loss\n",
    "    train_loss = compute_objective(model, X_train, corrupt_image_batch(X_train.unsqueeze(1)))\n",
    "    test_loss = compute_objective(model, X_test, corrupt_image_batch(X_test.unsqueeze(1)))\n",
    "    if verbose:\n",
    "        print('Train Loss = {:.3f}, Test Loss = {:.3f}'.format(\n",
    "                train_loss.item(), test_loss.item(),\n",
    "    ))\n",
    "    return (train_loss, test_loss)\n",
    "\n",
    "def minibatch_sgd_one_pass(model, X, learning_rate, batch_size, verbose=False):\n",
    "    num_examples = X.shape[0]\n",
    "    average_loss = 0.0\n",
    "    num_updates = int(round(num_examples / batch_size))\n",
    "    for i in range(num_updates):\n",
    "        idxs = np.random.choice(num_examples, size=(batch_size,)) \n",
    "        \n",
    "        corrupted_images = corrupt_image_batch(X[idxs].unsqueeze(1))\n",
    "        # compute the objective. \n",
    "        objective = compute_objective(model, X[idxs], corrupted_images) \n",
    "        average_loss = 0.99 * average_loss + 0.01 * objective.item()\n",
    "        if verbose and (i+1) % 100 == 0:\n",
    "            print(\"{:.3f}\".format(average_loss))\n",
    "        \n",
    "        # Exercise:\n",
    "        # compute the gradient using automatic differentiation\n",
    "        gradients = torch.autograd.grad(outputs=objective, inputs=model.parameters())\n",
    "\n",
    "        # Perform the SGD update\n",
    "        with torch.no_grad():\n",
    "            for (w, g) in zip(model.parameters(), gradients):\n",
    "                w -= learning_rate * g\n",
    "                \n",
    "    return model"
   ]
  },
  {
   "cell_type": "markdown",
   "id": "45ce10e5",
   "metadata": {},
   "source": [
    "### Train Model\n",
    "Train the model for 40 epochs starting with $\\gamma_0 = 2.5 \\cdot 10^{-4}$ and $t_0 = 10$ (i.e., halve the learning rate every 10 epochs)."
   ]
  },
  {
   "cell_type": "code",
   "execution_count": 11,
   "id": "aa03781f",
   "metadata": {},
   "outputs": [
    {
     "name": "stdout",
     "output_type": "stream",
     "text": [
      "Iteration 0, LR: 0.00025, Train Loss = 404.645, Test Loss = 415.356\n",
      "Iteration 1, LR: 0.00025, Train Loss = 145.412, Test Loss = 145.572\n",
      "Iteration 2, LR: 0.00025, Train Loss = 106.530, Test Loss = 107.233\n",
      "Iteration 3, LR: 0.00025, Train Loss = 93.991, Test Loss = 95.312\n",
      "Iteration 4, LR: 0.00025, Train Loss = 86.139, Test Loss = 86.757\n",
      "Iteration 5, LR: 0.00025, Train Loss = 82.541, Test Loss = 83.184\n",
      "Iteration 6, LR: 0.00025, Train Loss = 81.099, Test Loss = 81.884\n",
      "Iteration 7, LR: 0.00025, Train Loss = 88.533, Test Loss = 90.006\n",
      "Iteration 8, LR: 0.00025, Train Loss = 97.367, Test Loss = 98.457\n",
      "Iteration 9, LR: 0.00025, Train Loss = 78.622, Test Loss = 79.820\n",
      "Iteration 10, LR: 0.000125, Train Loss = 72.787, Test Loss = 73.965\n",
      "Iteration 11, LR: 0.000125, Train Loss = 76.856, Test Loss = 78.113\n",
      "Iteration 12, LR: 0.000125, Train Loss = 77.246, Test Loss = 78.742\n",
      "Iteration 13, LR: 0.000125, Train Loss = 67.087, Test Loss = 68.405\n",
      "Iteration 14, LR: 0.000125, Train Loss = 72.174, Test Loss = 73.264\n",
      "Iteration 15, LR: 0.000125, Train Loss = 70.513, Test Loss = 71.704\n",
      "Iteration 16, LR: 0.000125, Train Loss = 75.123, Test Loss = 76.592\n",
      "Iteration 17, LR: 0.000125, Train Loss = 73.559, Test Loss = 74.881\n",
      "Iteration 18, LR: 0.000125, Train Loss = 77.843, Test Loss = 79.427\n",
      "Iteration 19, LR: 0.000125, Train Loss = 73.648, Test Loss = 75.257\n",
      "Iteration 20, LR: 6.25e-05, Train Loss = 66.505, Test Loss = 67.895\n",
      "Iteration 21, LR: 6.25e-05, Train Loss = 67.613, Test Loss = 69.047\n",
      "Iteration 22, LR: 6.25e-05, Train Loss = 66.633, Test Loss = 67.797\n",
      "Iteration 23, LR: 6.25e-05, Train Loss = 68.236, Test Loss = 69.523\n",
      "Iteration 24, LR: 6.25e-05, Train Loss = 64.778, Test Loss = 65.867\n",
      "Iteration 25, LR: 6.25e-05, Train Loss = 67.109, Test Loss = 68.332\n",
      "Iteration 26, LR: 6.25e-05, Train Loss = 63.629, Test Loss = 64.668\n",
      "Iteration 27, LR: 6.25e-05, Train Loss = 62.602, Test Loss = 63.617\n",
      "Iteration 28, LR: 6.25e-05, Train Loss = 63.526, Test Loss = 64.637\n",
      "Iteration 29, LR: 6.25e-05, Train Loss = 67.960, Test Loss = 69.141\n",
      "Iteration 30, LR: 3.125e-05, Train Loss = 64.044, Test Loss = 65.195\n",
      "Iteration 31, LR: 3.125e-05, Train Loss = 64.812, Test Loss = 65.978\n",
      "Iteration 32, LR: 3.125e-05, Train Loss = 63.900, Test Loss = 65.036\n",
      "Iteration 33, LR: 3.125e-05, Train Loss = 65.234, Test Loss = 66.530\n",
      "Iteration 34, LR: 3.125e-05, Train Loss = 68.280, Test Loss = 69.597\n",
      "Iteration 35, LR: 3.125e-05, Train Loss = 64.544, Test Loss = 65.717\n",
      "Iteration 36, LR: 3.125e-05, Train Loss = 66.637, Test Loss = 67.790\n",
      "Iteration 37, LR: 3.125e-05, Train Loss = 65.356, Test Loss = 66.614\n",
      "Iteration 38, LR: 3.125e-05, Train Loss = 65.300, Test Loss = 66.599\n",
      "Iteration 39, LR: 3.125e-05, Train Loss = 65.520, Test Loss = 66.889\n",
      "Iteration 40, LR: 1.5625e-05, Train Loss = 65.908, Test Loss = 67.223\n"
     ]
    }
   ],
   "source": [
    "initial_learning_rate = 2.5e-4\n",
    "learning_rate_threshold = 10\n",
    "batch_size = 1\n",
    "lower_dimension = 40 # use a lower dimensionality of 40\n",
    "num_epochs = 40\n",
    "\n",
    "logs = []\n",
    "\n",
    "model = AutoEncoder(lower_dimension)\n",
    "print(f'Iteration 0, LR: {initial_learning_rate}', end=', ')\n",
    "logs.append(compute_logs(model, verbose=True))\n",
    "\n",
    "for j in range(num_epochs):\n",
    "    # step decay learning rate schedule\n",
    "    num_epoch = j + 1\n",
    "    learning_rate = initial_learning_rate / ( math.pow(2, math.floor(num_epoch/learning_rate_threshold)) )\n",
    "    \n",
    "    model = minibatch_sgd_one_pass(model, X_train, learning_rate, batch_size=batch_size, verbose=False)\n",
    "    print(f'Iteration {num_epoch}, LR: {learning_rate}', end=', ')\n",
    "    logs.append(compute_logs(model, verbose=True))\n",
    "\n",
    "with open('./models/logs.pkl', 'wb') as f:\n",
    "    pickle.dump(logs, f)\n",
    "\n",
    "# save the model parms\n",
    "torch.save(model.state_dict(), f'./models/parms.pt')"
   ]
  },
  {
   "cell_type": "markdown",
   "id": "07901264",
   "metadata": {},
   "source": [
    "#### View the loss"
   ]
  },
  {
   "cell_type": "code",
   "execution_count": 12,
   "id": "5d8c7cec",
   "metadata": {},
   "outputs": [
    {
     "data": {
      "text/plain": [
       "(59.47204246520996, 138.29356536865234)"
      ]
     },
     "execution_count": 12,
     "metadata": {},
     "output_type": "execute_result"
    },
    {
     "data": {
      "image/png": "[encoded data removed]",
      "text/plain": [
       "<Figure size 432x288 with 1 Axes>"
      ]
     },
     "metadata": {
      "needs_background": "light"
     },
     "output_type": "display_data"
    }
   ],
   "source": [
    "logs_arr = np.asarray(logs)\n",
    "\n",
    "plt.plot(logs_arr[:, 0], label=\"Train\")\n",
    "plt.plot(logs_arr[:, 1], label=\"Test\")\n",
    "plt.title('AutoEncoder Loss', fontsize=18)\n",
    "plt.ylabel('Loss', fontsize=18)\n",
    "plt.xlabel('#Passes', fontsize=18)\n",
    "plt.legend(fontsize=18)\n",
    "\n",
    "# Try to set clever bounds\n",
    "plt.ylim((logs_arr[1:].reshape(-1).min() * 0.95, logs_arr[1:].reshape(-1).max() * 0.95))"
   ]
  },
  {
   "cell_type": "markdown",
   "id": "1ef17eb6",
   "metadata": {},
   "source": [
    "### Model Output\n",
    "Show some examples of the denoising process from the test set."
   ]
  },
  {
   "cell_type": "code",
   "execution_count": 18,
   "id": "4154ddb9",
   "metadata": {},
   "outputs": [
    {
     "data": {
      "image/png": "[encoded data removed]",
      "text/plain": [
       "<Figure size 1440x720 with 15 Axes>"
      ]
     },
     "metadata": {
      "needs_background": "light"
     },
     "output_type": "display_data"
    }
   ],
   "source": [
    "f, ax = plt.subplots(3, 5, figsize=(20, 10))\n",
    "\n",
    "idxs = np.random.choice(X_test.shape[0], 5)\n",
    "images = X_test[idxs].unsqueeze(1)\n",
    "images_corrupted = corrupt_image_batch(images)\n",
    "\n",
    "for i, idx in enumerate(idxs):\n",
    "    ax[0, i].imshow(images[i].squeeze() * std + mean, cmap='gray')  # Note: Undo mean and std normalization before viewing image\n",
    "    ax[0, i].set_title(f'Original #{idx}', fontsize=20)\n",
    "    \n",
    "    ax[1, i].imshow(images_corrupted[i].squeeze() * std + mean, cmap='gray')  # Note: Undo mean and std normalization before viewing image\n",
    "    ax[2, i].set_title(f'Corrupted #{idx}', fontsize=20)\n",
    "    \n",
    "    # add batch and channel dimensions before passing through the model and squeeze them out later\n",
    "    xr = model(images_corrupted[i].view(1, 1, 28, 28)).detach().squeeze()\n",
    "    ax[2, i].imshow(xr * std + mean, cmap='gray')  # Note: Undo mean and std normalization before viewing image\n",
    "    ax[2, i].set_title(f'Recons. #{idx}', fontsize=20)"
   ]
  },
  {
   "cell_type": "markdown",
   "id": "957d0993",
   "metadata": {},
   "source": [
    "# 2. (Bonus) AutoEncoders as a non-linear PCA\n",
    "\n",
    "In this exercise, we will compare autoencoders versus PCA for dimensionality reduction. We will note their\n",
    "usefulness on the end goal of training a linear model using the extracted low-dimensional features.\n",
    "\n",
    "In the first few labs, we used images as 784 dimensional vectors. Here, you will use either autoencoders or PCA on the training dataset to project the data onto a lower dimension d. You will then train a multinomial logistic regression model with scikit-learn and keep track of the test accuracy."
   ]
  },
  {
   "cell_type": "code",
   "execution_count": 126,
   "id": "afeedff6",
   "metadata": {},
   "outputs": [],
   "source": [
    "from sklearn.decomposition import PCA\n",
    "from sklearn.linear_model import LogisticRegression"
   ]
  },
  {
   "cell_type": "code",
   "execution_count": 127,
   "id": "fd00cbec",
   "metadata": {},
   "outputs": [],
   "source": [
    "num_components_list = [10, 25, 50, 100]"
   ]
  },
  {
   "cell_type": "markdown",
   "id": "dc28fe7c",
   "metadata": {},
   "source": [
    "### Download and Process MINST dataset\n",
    "Perform the same preprocessing as in this week’s lab."
   ]
  },
  {
   "cell_type": "code",
   "execution_count": 128,
   "id": "1ae4dad6",
   "metadata": {},
   "outputs": [
    {
     "data": {
      "image/png": "[encoded data removed]",
      "text/plain": [
       "<Figure size 1440x288 with 5 Axes>"
      ]
     },
     "metadata": {
      "needs_background": "light"
     },
     "output_type": "display_data"
    }
   ],
   "source": [
    "f, ax = plt.subplots(1, 5, figsize=(20, 4))\n",
    "for i, idx in enumerate(np.random.choice(X_train.shape[0], 5)):\n",
    "    ax[i].imshow(X_train[idx].squeeze() * std + mean, cmap='gray', vmin=0, vmax=255)\n",
    "    ax[i].set_title(f'Label = {y_train[idx]}', fontsize=20)"
   ]
  },
  {
   "cell_type": "markdown",
   "id": "fcb956ca",
   "metadata": {},
   "source": [
    "### PCA Projections\n",
    "Given a lower dimension d, use PCA to reduce the dimensionality of the training set to d dimensions.\n",
    "Transform the test set by projecting on to the same space. You may use scikit-learn’s PCA implementation."
   ]
  },
  {
   "cell_type": "code",
   "execution_count": 129,
   "id": "c9686743",
   "metadata": {},
   "outputs": [],
   "source": [
    "X_train_2d = X_train.view((X_train.shape[0], -1))\n",
    "X_test_2d = X_test.view((X_test.shape[0], -1))"
   ]
  },
  {
   "cell_type": "code",
   "execution_count": 130,
   "id": "ccb8002c",
   "metadata": {},
   "outputs": [
    {
     "data": {
      "image/png": "[encoded data removed]",
      "text/plain": [
       "<Figure size 1440x720 with 5 Axes>"
      ]
     },
     "metadata": {
      "needs_background": "light"
     },
     "output_type": "display_data"
    }
   ],
   "source": [
    "f, ax = plt.subplots(1, len(num_components_list)+1, figsize=(20, 10))\n",
    "idx = np.random.choice(X_train_2d.shape[0], 1)\n",
    "\n",
    "ax[0].imshow(X_train[idx].squeeze() * std + mean, cmap='gray')  # Note: Undo mean and std normalization before viewing image\n",
    "ax[0].set_title(f'Num Components = {28*28}', fontsize=12)\n",
    "\n",
    "for i, num_components in enumerate(num_components_list):\n",
    "    pca = PCA(n_components = num_components)\n",
    "    principalComponents = pca.fit(X_train_2d)\n",
    "    \n",
    "    # Apply transform to both the training set and the test set.\n",
    "    train_img = pca.transform(X_train_2d)\n",
    "    test_img = pca.transform(X_test_2d)\n",
    "    \n",
    "    approximation = pca.inverse_transform(train_img)\n",
    "    \n",
    "    ax[i+1].set_title(f'Num Components = {num_components}', fontsize=12)\n",
    "    ax[i+1].imshow(torch.tensor(approximation[idx].reshape(28,28).squeeze()) * std + mean, cmap='gray')  # Note: Undo mean and std normalization before viewing image\n"
   ]
  },
  {
   "cell_type": "markdown",
   "id": "cd9bfbab",
   "metadata": {},
   "source": [
    "### Multinomial logistic Regression"
   ]
  },
  {
   "cell_type": "code",
   "execution_count": 131,
   "id": "107e2bb6",
   "metadata": {},
   "outputs": [],
   "source": [
    "def get_accuracy(y_true, y_pred):\n",
    "    return np.mean(y_pred == y_true)"
   ]
  },
  {
   "cell_type": "code",
   "execution_count": 132,
   "id": "7410e5f9",
   "metadata": {},
   "outputs": [
    {
     "name": "stderr",
     "output_type": "stream",
     "text": [
      "/home/apoorvsharma/anaconda3/envs/data598/lib/python3.8/site-packages/sklearn/linear_model/_logistic.py:814: ConvergenceWarning: lbfgs failed to converge (status=1):\n",
      "STOP: TOTAL NO. of ITERATIONS REACHED LIMIT.\n",
      "\n",
      "Increase the number of iterations (max_iter) or scale the data as shown in:\n",
      "    https://scikit-learn.org/stable/modules/preprocessing.html\n",
      "Please also refer to the documentation for alternative solver options:\n",
      "    https://scikit-learn.org/stable/modules/linear_model.html#logistic-regression\n",
      "  n_iter_i = _check_optimize_result(\n"
     ]
    },
    {
     "data": {
      "text/plain": [
       "LogisticRegression(max_iter=200)"
      ]
     },
     "execution_count": 132,
     "metadata": {},
     "output_type": "execute_result"
    }
   ],
   "source": [
    "log_reg_model = LogisticRegression(max_iter=200)\n",
    "log_reg_model.fit(train_img, y_train)"
   ]
  },
  {
   "cell_type": "code",
   "execution_count": 133,
   "id": "80ba3107",
   "metadata": {},
   "outputs": [
    {
     "name": "stdout",
     "output_type": "stream",
     "text": [
      "89.82\n"
     ]
    }
   ],
   "source": [
    "y_pred = log_reg_model.predict(test_img)\n",
    "print(get_accuracy(y_pred, y_test.numpy()) * 100)"
   ]
  },
  {
   "cell_type": "markdown",
   "id": "3185f567",
   "metadata": {},
   "source": [
    "### Define AutoEncoder and Training Functions\n",
    "These need to be re-written/re-defined since they were changed for #1. \n",
    "\n",
    "The same "
   ]
  },
  {
   "cell_type": "code",
   "execution_count": 134,
   "id": "5a0a2939",
   "metadata": {},
   "outputs": [],
   "source": [
    "def loss_function(true_images, reconstructed_images):  # square loss\n",
    "    residual = (true_images - reconstructed_images).view(-1)  # flatten into a vector\n",
    "    # return the average over examples\n",
    "    return 0.5 * torch.norm(residual) ** 2 / (true_images.shape[0])\n",
    "\n",
    "def compute_objective(model, images):\n",
    "    # reshape images from (B, 28, 28) -> (B, 1, 28, 28) as required by the model\n",
    "    images = images.unsqueeze(1)  # Add channel dimension\n",
    "    reconstructed_images = model(images)\n",
    "    return loss_function(images, reconstructed_images)"
   ]
  },
  {
   "cell_type": "code",
   "execution_count": 135,
   "id": "4cd39259",
   "metadata": {},
   "outputs": [],
   "source": [
    "@torch.no_grad()\n",
    "def compute_logs(model, verbose=False): # Only report loss\n",
    "    train_loss = compute_objective(model, X_train)\n",
    "    test_loss = compute_objective(model, X_test)\n",
    "    if verbose:\n",
    "        print('Train Loss = {:.3f}, Test Loss = {:.3f}'.format(\n",
    "                train_loss.item(), test_loss.item(),\n",
    "    ))\n",
    "    return (train_loss, test_loss)\n",
    "\n",
    "def minibatch_sgd_one_pass(model, X, learning_rate, batch_size, verbose=False):\n",
    "    num_examples = X.shape[0]\n",
    "    average_loss = 0.0\n",
    "    num_updates = int(round(num_examples / batch_size))\n",
    "    for i in range(num_updates):\n",
    "        idxs = np.random.choice(num_examples, size=(batch_size,)) \n",
    "        # compute the objective. \n",
    "        objective = compute_objective(model, X[idxs]) \n",
    "        average_loss = 0.99 * average_loss + 0.01 * objective.item()\n",
    "        if verbose and (i+1) % 100 == 0:\n",
    "            print(\"{:.3f}\".format(average_loss))\n",
    "        \n",
    "        # Exercise:\n",
    "        # compute the gradient using automatic differentiation\n",
    "        gradients = torch.autograd.grad(outputs=objective, inputs=model.parameters())\n",
    "\n",
    "        # Perform the SGD update\n",
    "        with torch.no_grad():\n",
    "            for (w, g) in zip(model.parameters(), gradients):\n",
    "                w -= learning_rate * g\n",
    "                \n",
    "    return model"
   ]
  },
  {
   "cell_type": "markdown",
   "id": "20c38587",
   "metadata": {},
   "source": [
    "### Dimension Reduction Analysis\n",
    "\n",
    "Here we perform the following steps, for the following values of d `[10, 25, 50, 100]`:\n",
    "1. Given a lower dimension d, use PCA to reduce the dimensionality of the training set to d dimensions. Transform the test set by projecting on to the same space.\n",
    "2. Train an autoencoder using the same settings as the lab, but with a hidden dimension as d. Train it for 40 epochs. Use the encoder to obtain d-dimensional representations for all training and test images.\n",
    "3. Train a multinomial logistic regression model with scikit-learn using each of the representations you have obtained."
   ]
  },
  {
   "cell_type": "code",
   "execution_count": 136,
   "id": "ff3aac09",
   "metadata": {},
   "outputs": [],
   "source": [
    "initial_learning_rate = 2.5e-4\n",
    "learning_rate_threshold = 10\n",
    "batch_size = 1\n",
    "num_epochs = 40"
   ]
  },
  {
   "cell_type": "code",
   "execution_count": 137,
   "id": "f5b6d9d7",
   "metadata": {},
   "outputs": [],
   "source": [
    "pca_accuracy = []\n",
    "ae_accuracy = []"
   ]
  },
  {
   "cell_type": "code",
   "execution_count": 138,
   "id": "7ada8abf",
   "metadata": {
    "scrolled": true
   },
   "outputs": [
    {
     "name": "stdout",
     "output_type": "stream",
     "text": [
      "Starting dimension reduction to 10 components\n",
      "\tStarting PCA\n",
      "\tFinished PCA\n",
      "\tStarting AutoEncoder Training\n",
      "\t\tIteration 0, LR: 0.00025, Train Loss = 392.969, Test Loss = 399.676\n",
      "\t\tIteration 1, LR: 0.00025, Train Loss = 137.437, Test Loss = 137.039\n",
      "\t\tIteration 2, LR: 0.00025, Train Loss = 126.500, Test Loss = 126.901\n",
      "\t\tIteration 3, LR: 0.00025, Train Loss = 123.041, Test Loss = 123.812\n",
      "\t\tIteration 4, LR: 0.00025, Train Loss = 117.552, Test Loss = 118.348\n",
      "\t\tIteration 5, LR: 0.00025, Train Loss = 117.204, Test Loss = 118.090\n",
      "\t\tIteration 6, LR: 0.00025, Train Loss = 113.126, Test Loss = 114.541\n",
      "\t\tIteration 7, LR: 0.00025, Train Loss = 110.779, Test Loss = 112.102\n",
      "\t\tIteration 8, LR: 0.00025, Train Loss = 113.370, Test Loss = 114.784\n",
      "\t\tIteration 9, LR: 0.00025, Train Loss = 111.648, Test Loss = 112.818\n",
      "\t\tIteration 10, LR: 0.000125, Train Loss = 103.467, Test Loss = 104.876\n",
      "\t\tIteration 11, LR: 0.000125, Train Loss = 104.136, Test Loss = 105.759\n",
      "\t\tIteration 12, LR: 0.000125, Train Loss = 102.437, Test Loss = 103.786\n",
      "\t\tIteration 13, LR: 0.000125, Train Loss = 102.139, Test Loss = 103.550\n",
      "\t\tIteration 14, LR: 0.000125, Train Loss = 101.440, Test Loss = 102.954\n",
      "\t\tIteration 15, LR: 0.000125, Train Loss = 101.903, Test Loss = 103.428\n",
      "\t\tIteration 16, LR: 0.000125, Train Loss = 100.584, Test Loss = 101.944\n",
      "\t\tIteration 17, LR: 0.000125, Train Loss = 99.690, Test Loss = 101.207\n",
      "\t\tIteration 18, LR: 0.000125, Train Loss = 99.548, Test Loss = 101.030\n",
      "\t\tIteration 19, LR: 0.000125, Train Loss = 101.049, Test Loss = 102.596\n",
      "\t\tIteration 20, LR: 6.25e-05, Train Loss = 97.364, Test Loss = 99.091\n",
      "\t\tIteration 21, LR: 6.25e-05, Train Loss = 97.258, Test Loss = 98.823\n",
      "\t\tIteration 22, LR: 6.25e-05, Train Loss = 97.127, Test Loss = 98.800\n",
      "\t\tIteration 23, LR: 6.25e-05, Train Loss = 96.823, Test Loss = 98.391\n",
      "\t\tIteration 24, LR: 6.25e-05, Train Loss = 96.992, Test Loss = 98.641\n",
      "\t\tIteration 25, LR: 6.25e-05, Train Loss = 97.047, Test Loss = 98.651\n",
      "\t\tIteration 26, LR: 6.25e-05, Train Loss = 96.693, Test Loss = 98.375\n",
      "\t\tIteration 27, LR: 6.25e-05, Train Loss = 96.558, Test Loss = 98.117\n",
      "\t\tIteration 28, LR: 6.25e-05, Train Loss = 96.692, Test Loss = 98.328\n",
      "\t\tIteration 29, LR: 6.25e-05, Train Loss = 96.249, Test Loss = 97.962\n",
      "\t\tIteration 30, LR: 3.125e-05, Train Loss = 95.701, Test Loss = 97.440\n",
      "\t\tIteration 31, LR: 3.125e-05, Train Loss = 95.424, Test Loss = 97.139\n",
      "\t\tIteration 32, LR: 3.125e-05, Train Loss = 95.357, Test Loss = 97.160\n",
      "\t\tIteration 33, LR: 3.125e-05, Train Loss = 95.267, Test Loss = 97.090\n",
      "\t\tIteration 34, LR: 3.125e-05, Train Loss = 95.195, Test Loss = 96.959\n",
      "\t\tIteration 35, LR: 3.125e-05, Train Loss = 95.153, Test Loss = 96.953\n",
      "\t\tIteration 36, LR: 3.125e-05, Train Loss = 95.436, Test Loss = 97.188\n",
      "\t\tIteration 37, LR: 3.125e-05, Train Loss = 95.312, Test Loss = 97.144\n",
      "\t\tIteration 38, LR: 3.125e-05, Train Loss = 95.379, Test Loss = 97.084\n",
      "\t\tIteration 39, LR: 3.125e-05, Train Loss = 95.082, Test Loss = 96.857\n",
      "\t\tIteration 40, LR: 1.5625e-05, Train Loss = 94.452, Test Loss = 96.368\n",
      "\tDone AutoEncoder Training\n"
     ]
    },
    {
     "name": "stderr",
     "output_type": "stream",
     "text": [
      "/home/apoorvsharma/anaconda3/envs/data598/lib/python3.8/site-packages/sklearn/linear_model/_logistic.py:814: ConvergenceWarning: lbfgs failed to converge (status=1):\n",
      "STOP: TOTAL NO. of ITERATIONS REACHED LIMIT.\n",
      "\n",
      "Increase the number of iterations (max_iter) or scale the data as shown in:\n",
      "    https://scikit-learn.org/stable/modules/preprocessing.html\n",
      "Please also refer to the documentation for alternative solver options:\n",
      "    https://scikit-learn.org/stable/modules/linear_model.html#logistic-regression\n",
      "  n_iter_i = _check_optimize_result(\n",
      "/home/apoorvsharma/anaconda3/envs/data598/lib/python3.8/site-packages/sklearn/linear_model/_logistic.py:814: ConvergenceWarning: lbfgs failed to converge (status=1):\n",
      "STOP: TOTAL NO. of ITERATIONS REACHED LIMIT.\n",
      "\n",
      "Increase the number of iterations (max_iter) or scale the data as shown in:\n",
      "    https://scikit-learn.org/stable/modules/preprocessing.html\n",
      "Please also refer to the documentation for alternative solver options:\n",
      "    https://scikit-learn.org/stable/modules/linear_model.html#logistic-regression\n",
      "  n_iter_i = _check_optimize_result(\n"
     ]
    },
    {
     "name": "stdout",
     "output_type": "stream",
     "text": [
      "AE Acc: 87.49, PCA Acc: 81.00\n",
      "Starting dimension reduction to 25 components\n",
      "\tStarting PCA\n",
      "\tFinished PCA\n",
      "\tStarting AutoEncoder Training\n",
      "\t\tIteration 0, LR: 0.00025, Train Loss = 393.306, Test Loss = 400.987\n",
      "\t\tIteration 1, LR: 0.00025, Train Loss = 393.346, Test Loss = 407.779\n",
      "\t\tIteration 2, LR: 0.00025, Train Loss = 81.403, Test Loss = 81.248\n",
      "\t\tIteration 3, LR: 0.00025, Train Loss = 77.556, Test Loss = 77.761\n",
      "\t\tIteration 4, LR: 0.00025, Train Loss = 69.746, Test Loss = 70.167\n",
      "\t\tIteration 5, LR: 0.00025, Train Loss = 64.964, Test Loss = 65.343\n",
      "\t\tIteration 6, LR: 0.00025, Train Loss = 63.337, Test Loss = 63.719\n",
      "\t\tIteration 7, LR: 0.00025, Train Loss = 62.219, Test Loss = 62.908\n",
      "\t\tIteration 8, LR: 0.00025, Train Loss = 61.937, Test Loss = 62.255\n",
      "\t\tIteration 9, LR: 0.00025, Train Loss = 62.469, Test Loss = 63.308\n",
      "\t\tIteration 10, LR: 0.000125, Train Loss = 56.246, Test Loss = 56.893\n",
      "\t\tIteration 11, LR: 0.000125, Train Loss = 55.721, Test Loss = 56.399\n",
      "\t\tIteration 12, LR: 0.000125, Train Loss = 55.234, Test Loss = 55.947\n",
      "\t\tIteration 13, LR: 0.000125, Train Loss = 54.651, Test Loss = 55.269\n",
      "\t\tIteration 14, LR: 0.000125, Train Loss = 54.743, Test Loss = 55.476\n",
      "\t\tIteration 15, LR: 0.000125, Train Loss = 64.205, Test Loss = 65.397\n",
      "\t\tIteration 16, LR: 0.000125, Train Loss = 54.331, Test Loss = 55.084\n",
      "\t\tIteration 17, LR: 0.000125, Train Loss = 54.202, Test Loss = 54.999\n",
      "\t\tIteration 18, LR: 0.000125, Train Loss = 52.999, Test Loss = 53.747\n",
      "\t\tIteration 19, LR: 0.000125, Train Loss = 53.055, Test Loss = 53.830\n",
      "\t\tIteration 20, LR: 6.25e-05, Train Loss = 52.024, Test Loss = 52.860\n",
      "\t\tIteration 21, LR: 6.25e-05, Train Loss = 51.766, Test Loss = 52.601\n",
      "\t\tIteration 22, LR: 6.25e-05, Train Loss = 51.632, Test Loss = 52.497\n",
      "\t\tIteration 23, LR: 6.25e-05, Train Loss = 51.662, Test Loss = 52.495\n",
      "\t\tIteration 24, LR: 6.25e-05, Train Loss = 51.446, Test Loss = 52.361\n",
      "\t\tIteration 25, LR: 6.25e-05, Train Loss = 51.726, Test Loss = 52.583\n",
      "\t\tIteration 26, LR: 6.25e-05, Train Loss = 51.586, Test Loss = 52.456\n",
      "\t\tIteration 27, LR: 6.25e-05, Train Loss = 51.069, Test Loss = 51.977\n",
      "\t\tIteration 28, LR: 6.25e-05, Train Loss = 51.093, Test Loss = 52.018\n",
      "\t\tIteration 29, LR: 6.25e-05, Train Loss = 51.040, Test Loss = 51.983\n",
      "\t\tIteration 30, LR: 3.125e-05, Train Loss = 50.556, Test Loss = 51.518\n",
      "\t\tIteration 31, LR: 3.125e-05, Train Loss = 50.453, Test Loss = 51.402\n",
      "\t\tIteration 32, LR: 3.125e-05, Train Loss = 50.416, Test Loss = 51.407\n",
      "\t\tIteration 33, LR: 3.125e-05, Train Loss = 50.381, Test Loss = 51.386\n",
      "\t\tIteration 34, LR: 3.125e-05, Train Loss = 50.445, Test Loss = 51.413\n",
      "\t\tIteration 35, LR: 3.125e-05, Train Loss = 50.478, Test Loss = 51.474\n",
      "\t\tIteration 36, LR: 3.125e-05, Train Loss = 50.404, Test Loss = 51.423\n",
      "\t\tIteration 37, LR: 3.125e-05, Train Loss = 50.268, Test Loss = 51.248\n",
      "\t\tIteration 38, LR: 3.125e-05, Train Loss = 50.159, Test Loss = 51.142\n",
      "\t\tIteration 39, LR: 3.125e-05, Train Loss = 50.181, Test Loss = 51.177\n",
      "\t\tIteration 40, LR: 1.5625e-05, Train Loss = 49.896, Test Loss = 50.937\n",
      "\tDone AutoEncoder Training\n"
     ]
    },
    {
     "name": "stderr",
     "output_type": "stream",
     "text": [
      "/home/apoorvsharma/anaconda3/envs/data598/lib/python3.8/site-packages/sklearn/linear_model/_logistic.py:814: ConvergenceWarning: lbfgs failed to converge (status=1):\n",
      "STOP: TOTAL NO. of ITERATIONS REACHED LIMIT.\n",
      "\n",
      "Increase the number of iterations (max_iter) or scale the data as shown in:\n",
      "    https://scikit-learn.org/stable/modules/preprocessing.html\n",
      "Please also refer to the documentation for alternative solver options:\n",
      "    https://scikit-learn.org/stable/modules/linear_model.html#logistic-regression\n",
      "  n_iter_i = _check_optimize_result(\n",
      "/home/apoorvsharma/anaconda3/envs/data598/lib/python3.8/site-packages/sklearn/linear_model/_logistic.py:814: ConvergenceWarning: lbfgs failed to converge (status=1):\n",
      "STOP: TOTAL NO. of ITERATIONS REACHED LIMIT.\n",
      "\n",
      "Increase the number of iterations (max_iter) or scale the data as shown in:\n",
      "    https://scikit-learn.org/stable/modules/preprocessing.html\n",
      "Please also refer to the documentation for alternative solver options:\n",
      "    https://scikit-learn.org/stable/modules/linear_model.html#logistic-regression\n",
      "  n_iter_i = _check_optimize_result(\n"
     ]
    },
    {
     "name": "stdout",
     "output_type": "stream",
     "text": [
      "AE Acc: 91.13, PCA Acc: 88.57\n",
      "Starting dimension reduction to 50 components\n",
      "\tStarting PCA\n",
      "\tFinished PCA\n",
      "\tStarting AutoEncoder Training\n",
      "\t\tIteration 0, LR: 0.00025, Train Loss = 396.189, Test Loss = 403.270\n",
      "\t\tIteration 1, LR: 0.00025, Train Loss = 69.511, Test Loss = 69.090\n",
      "\t\tIteration 2, LR: 0.00025, Train Loss = 55.059, Test Loss = 54.925\n",
      "\t\tIteration 3, LR: 0.00025, Train Loss = 47.931, Test Loss = 48.228\n",
      "\t\tIteration 4, LR: 0.00025, Train Loss = 46.124, Test Loss = 46.391\n",
      "\t\tIteration 5, LR: 0.00025, Train Loss = 42.575, Test Loss = 42.822\n",
      "\t\tIteration 6, LR: 0.00025, Train Loss = 42.377, Test Loss = 42.659\n",
      "\t\tIteration 7, LR: 0.00025, Train Loss = 41.450, Test Loss = 42.019\n",
      "\t\tIteration 8, LR: 0.00025, Train Loss = 39.719, Test Loss = 40.092\n",
      "\t\tIteration 9, LR: 0.00025, Train Loss = 38.143, Test Loss = 38.568\n",
      "\t\tIteration 10, LR: 0.000125, Train Loss = 35.760, Test Loss = 36.167\n",
      "\t\tIteration 11, LR: 0.000125, Train Loss = 35.393, Test Loss = 35.794\n",
      "\t\tIteration 12, LR: 0.000125, Train Loss = 35.105, Test Loss = 35.489\n",
      "\t\tIteration 13, LR: 0.000125, Train Loss = 34.991, Test Loss = 35.402\n",
      "\t\tIteration 14, LR: 0.000125, Train Loss = 34.542, Test Loss = 34.980\n",
      "\t\tIteration 15, LR: 0.000125, Train Loss = 34.692, Test Loss = 35.092\n",
      "\t\tIteration 16, LR: 0.000125, Train Loss = 34.158, Test Loss = 34.602\n",
      "\t\tIteration 17, LR: 0.000125, Train Loss = 34.129, Test Loss = 34.605\n",
      "\t\tIteration 18, LR: 0.000125, Train Loss = 34.341, Test Loss = 34.837\n",
      "\t\tIteration 19, LR: 0.000125, Train Loss = 34.806, Test Loss = 35.303\n",
      "\t\tIteration 20, LR: 6.25e-05, Train Loss = 33.113, Test Loss = 33.591\n",
      "\t\tIteration 21, LR: 6.25e-05, Train Loss = 32.907, Test Loss = 33.322\n",
      "\t\tIteration 22, LR: 6.25e-05, Train Loss = 32.889, Test Loss = 33.379\n",
      "\t\tIteration 23, LR: 6.25e-05, Train Loss = 32.822, Test Loss = 33.298\n",
      "\t\tIteration 24, LR: 6.25e-05, Train Loss = 32.726, Test Loss = 33.179\n",
      "\t\tIteration 25, LR: 6.25e-05, Train Loss = 32.605, Test Loss = 33.108\n",
      "\t\tIteration 26, LR: 6.25e-05, Train Loss = 32.587, Test Loss = 33.042\n",
      "\t\tIteration 27, LR: 6.25e-05, Train Loss = 33.080, Test Loss = 33.574\n",
      "\t\tIteration 28, LR: 6.25e-05, Train Loss = 32.480, Test Loss = 32.949\n",
      "\t\tIteration 29, LR: 6.25e-05, Train Loss = 32.526, Test Loss = 33.025\n",
      "\t\tIteration 30, LR: 3.125e-05, Train Loss = 32.130, Test Loss = 32.652\n",
      "\t\tIteration 31, LR: 3.125e-05, Train Loss = 32.046, Test Loss = 32.522\n",
      "\t\tIteration 32, LR: 3.125e-05, Train Loss = 31.992, Test Loss = 32.486\n",
      "\t\tIteration 33, LR: 3.125e-05, Train Loss = 31.968, Test Loss = 32.457\n",
      "\t\tIteration 34, LR: 3.125e-05, Train Loss = 31.911, Test Loss = 32.417\n",
      "\t\tIteration 35, LR: 3.125e-05, Train Loss = 31.933, Test Loss = 32.432\n",
      "\t\tIteration 36, LR: 3.125e-05, Train Loss = 31.856, Test Loss = 32.373\n",
      "\t\tIteration 37, LR: 3.125e-05, Train Loss = 31.990, Test Loss = 32.478\n",
      "\t\tIteration 38, LR: 3.125e-05, Train Loss = 31.920, Test Loss = 32.410\n",
      "\t\tIteration 39, LR: 3.125e-05, Train Loss = 31.851, Test Loss = 32.341\n",
      "\t\tIteration 40, LR: 1.5625e-05, Train Loss = 31.641, Test Loss = 32.159\n",
      "\tDone AutoEncoder Training\n"
     ]
    },
    {
     "name": "stderr",
     "output_type": "stream",
     "text": [
      "/home/apoorvsharma/anaconda3/envs/data598/lib/python3.8/site-packages/sklearn/linear_model/_logistic.py:814: ConvergenceWarning: lbfgs failed to converge (status=1):\n",
      "STOP: TOTAL NO. of ITERATIONS REACHED LIMIT.\n",
      "\n",
      "Increase the number of iterations (max_iter) or scale the data as shown in:\n",
      "    https://scikit-learn.org/stable/modules/preprocessing.html\n",
      "Please also refer to the documentation for alternative solver options:\n",
      "    https://scikit-learn.org/stable/modules/linear_model.html#logistic-regression\n",
      "  n_iter_i = _check_optimize_result(\n",
      "/home/apoorvsharma/anaconda3/envs/data598/lib/python3.8/site-packages/sklearn/linear_model/_logistic.py:814: ConvergenceWarning: lbfgs failed to converge (status=1):\n",
      "STOP: TOTAL NO. of ITERATIONS REACHED LIMIT.\n",
      "\n",
      "Increase the number of iterations (max_iter) or scale the data as shown in:\n",
      "    https://scikit-learn.org/stable/modules/preprocessing.html\n",
      "Please also refer to the documentation for alternative solver options:\n",
      "    https://scikit-learn.org/stable/modules/linear_model.html#logistic-regression\n",
      "  n_iter_i = _check_optimize_result(\n"
     ]
    },
    {
     "name": "stdout",
     "output_type": "stream",
     "text": [
      "AE Acc: 90.56, PCA Acc: 90.18\n",
      "Starting dimension reduction to 100 components\n",
      "\tStarting PCA\n",
      "\tFinished PCA\n",
      "\tStarting AutoEncoder Training\n",
      "\t\tIteration 0, LR: 0.00025, Train Loss = 393.916, Test Loss = 401.210\n",
      "\t\tIteration 1, LR: 0.00025, Train Loss = 62.400, Test Loss = 62.210\n",
      "\t\tIteration 2, LR: 0.00025, Train Loss = 54.769, Test Loss = 54.805\n",
      "\t\tIteration 3, LR: 0.00025, Train Loss = 47.513, Test Loss = 48.120\n",
      "\t\tIteration 4, LR: 0.00025, Train Loss = 39.543, Test Loss = 39.516\n",
      "\t\tIteration 5, LR: 0.00025, Train Loss = 39.286, Test Loss = 39.639\n",
      "\t\tIteration 6, LR: 0.00025, Train Loss = 32.880, Test Loss = 33.258\n",
      "\t\tIteration 7, LR: 0.00025, Train Loss = 33.276, Test Loss = 33.585\n",
      "\t\tIteration 8, LR: 0.00025, Train Loss = 31.602, Test Loss = 32.003\n",
      "\t\tIteration 9, LR: 0.00025, Train Loss = 32.484, Test Loss = 32.777\n",
      "\t\tIteration 10, LR: 0.000125, Train Loss = 26.794, Test Loss = 27.134\n",
      "\t\tIteration 11, LR: 0.000125, Train Loss = 26.164, Test Loss = 26.469\n",
      "\t\tIteration 12, LR: 0.000125, Train Loss = 25.980, Test Loss = 26.297\n",
      "\t\tIteration 13, LR: 0.000125, Train Loss = 25.394, Test Loss = 25.731\n",
      "\t\tIteration 14, LR: 0.000125, Train Loss = 25.283, Test Loss = 25.574\n",
      "\t\tIteration 15, LR: 0.000125, Train Loss = 25.434, Test Loss = 25.781\n",
      "\t\tIteration 16, LR: 0.000125, Train Loss = 25.036, Test Loss = 25.399\n",
      "\t\tIteration 17, LR: 0.000125, Train Loss = 25.199, Test Loss = 25.542\n",
      "\t\tIteration 18, LR: 0.000125, Train Loss = 24.690, Test Loss = 25.033\n",
      "\t\tIteration 19, LR: 0.000125, Train Loss = 24.613, Test Loss = 24.981\n",
      "\t\tIteration 20, LR: 6.25e-05, Train Loss = 23.854, Test Loss = 24.187\n",
      "\t\tIteration 21, LR: 6.25e-05, Train Loss = 23.778, Test Loss = 24.098\n",
      "\t\tIteration 22, LR: 6.25e-05, Train Loss = 23.602, Test Loss = 23.921\n",
      "\t\tIteration 23, LR: 6.25e-05, Train Loss = 23.518, Test Loss = 23.861\n",
      "\t\tIteration 24, LR: 6.25e-05, Train Loss = 23.306, Test Loss = 23.636\n",
      "\t\tIteration 25, LR: 6.25e-05, Train Loss = 23.255, Test Loss = 23.576\n",
      "\t\tIteration 26, LR: 6.25e-05, Train Loss = 23.259, Test Loss = 23.583\n",
      "\t\tIteration 27, LR: 6.25e-05, Train Loss = 23.199, Test Loss = 23.525\n",
      "\t\tIteration 28, LR: 6.25e-05, Train Loss = 23.073, Test Loss = 23.421\n",
      "\t\tIteration 29, LR: 6.25e-05, Train Loss = 22.994, Test Loss = 23.345\n",
      "\t\tIteration 30, LR: 3.125e-05, Train Loss = 22.699, Test Loss = 23.036\n",
      "\t\tIteration 31, LR: 3.125e-05, Train Loss = 22.680, Test Loss = 23.003\n",
      "\t\tIteration 32, LR: 3.125e-05, Train Loss = 22.657, Test Loss = 23.000\n",
      "\t\tIteration 33, LR: 3.125e-05, Train Loss = 22.634, Test Loss = 22.945\n",
      "\t\tIteration 34, LR: 3.125e-05, Train Loss = 22.588, Test Loss = 22.923\n",
      "\t\tIteration 35, LR: 3.125e-05, Train Loss = 22.529, Test Loss = 22.869\n",
      "\t\tIteration 36, LR: 3.125e-05, Train Loss = 22.534, Test Loss = 22.861\n",
      "\t\tIteration 37, LR: 3.125e-05, Train Loss = 22.471, Test Loss = 22.802\n",
      "\t\tIteration 38, LR: 3.125e-05, Train Loss = 22.426, Test Loss = 22.768\n",
      "\t\tIteration 39, LR: 3.125e-05, Train Loss = 22.429, Test Loss = 22.773\n",
      "\t\tIteration 40, LR: 1.5625e-05, Train Loss = 22.285, Test Loss = 22.631\n",
      "\tDone AutoEncoder Training\n"
     ]
    },
    {
     "name": "stderr",
     "output_type": "stream",
     "text": [
      "/home/apoorvsharma/anaconda3/envs/data598/lib/python3.8/site-packages/sklearn/linear_model/_logistic.py:814: ConvergenceWarning: lbfgs failed to converge (status=1):\n",
      "STOP: TOTAL NO. of ITERATIONS REACHED LIMIT.\n",
      "\n",
      "Increase the number of iterations (max_iter) or scale the data as shown in:\n",
      "    https://scikit-learn.org/stable/modules/preprocessing.html\n",
      "Please also refer to the documentation for alternative solver options:\n",
      "    https://scikit-learn.org/stable/modules/linear_model.html#logistic-regression\n",
      "  n_iter_i = _check_optimize_result(\n"
     ]
    },
    {
     "name": "stdout",
     "output_type": "stream",
     "text": [
      "AE Acc: 90.18, PCA Acc: 89.69\n"
     ]
    },
    {
     "name": "stderr",
     "output_type": "stream",
     "text": [
      "/home/apoorvsharma/anaconda3/envs/data598/lib/python3.8/site-packages/sklearn/linear_model/_logistic.py:814: ConvergenceWarning: lbfgs failed to converge (status=1):\n",
      "STOP: TOTAL NO. of ITERATIONS REACHED LIMIT.\n",
      "\n",
      "Increase the number of iterations (max_iter) or scale the data as shown in:\n",
      "    https://scikit-learn.org/stable/modules/preprocessing.html\n",
      "Please also refer to the documentation for alternative solver options:\n",
      "    https://scikit-learn.org/stable/modules/linear_model.html#logistic-regression\n",
      "  n_iter_i = _check_optimize_result(\n"
     ]
    }
   ],
   "source": [
    "for i, num_components in enumerate(num_components_list):\n",
    "    \n",
    "    print(f'Starting dimension reduction to {num_components} components')\n",
    "    \n",
    "    # STEP 1: Dimension Reduction using PCA\n",
    "    print(f'\\tStarting PCA')\n",
    "    pca = PCA(n_components = num_components)\n",
    "    principalComponents = pca.fit(X_train_2d)\n",
    "    \n",
    "    # Apply transform to both the training set and the test set.\n",
    "    train_img_pca = pca.transform(X_train_2d)\n",
    "    test_img_pca = pca.transform(X_test_2d)\n",
    "    print(f'\\tFinished PCA')\n",
    "    \n",
    "    # STEP 2: Dimension Reduction using AutoEncoder\n",
    "    print(f'\\tStarting AutoEncoder Training')\n",
    "    logs = []\n",
    "    model = AutoEncoder(num_components)\n",
    "    print(f'\\t\\tIteration 0, LR: {initial_learning_rate}', end=', ')\n",
    "    logs.append(compute_logs(model, verbose=True))\n",
    "\n",
    "    for j in range(num_epochs):\n",
    "        # step decay learning rate schedule\n",
    "        num_epoch = j + 1\n",
    "        learning_rate = initial_learning_rate / ( math.pow(2, math.floor(num_epoch/learning_rate_threshold)) )\n",
    "\n",
    "        model = minibatch_sgd_one_pass(model, X_train, learning_rate, batch_size=batch_size, verbose=False)\n",
    "        print(f'\\t\\tIteration {num_epoch}, LR: {learning_rate}', end=', ')\n",
    "        logs.append(compute_logs(model, verbose=True))\n",
    "\n",
    "    with open('./models/q2_logs_nc_{num_components}.pkl', 'wb') as f:\n",
    "        pickle.dump(logs, f)\n",
    "\n",
    "    # save the model parms\n",
    "    torch.save(model.state_dict(), f'./models/q2_parms_nc_{num_components}.pt')\n",
    "    \n",
    "    # Obtain encoded traina and test images\n",
    "    train_img_ae = model.encode_images(X_train.unsqueeze(1))\n",
    "    test_img_ae = model.encode_images(X_test.unsqueeze(1))\n",
    "    \n",
    "    print(f'\\tDone AutoEncoder Training')\n",
    "    \n",
    "    # STEP 3a Create Logistic Regression Models for each reduction method\n",
    "    log_reg_model_pca = LogisticRegression(max_iter=200)\n",
    "    log_reg_model_pca.fit(train_img_pca, y_train)\n",
    "    \n",
    "    log_reg_model_ae = LogisticRegression(max_iter=200)\n",
    "    log_reg_model_ae.fit(train_img_ae.detach().numpy(), y_train)\n",
    "    \n",
    "    # STEP 3b: Predict and get accuracy from each model\n",
    "    # Accuracy for PCA model\n",
    "    y_pred = log_reg_model_pca.predict(test_img_pca)\n",
    "    pca_accuracy.append(get_accuracy(y_pred, y_test.numpy()) * 100)\n",
    "    \n",
    "    # Accuracy for AutoEncoder model\n",
    "    y_pred = log_reg_model_ae.predict(test_img_ae.detach().numpy())\n",
    "    ae_accuracy.append(get_accuracy(y_pred, y_test.numpy()) * 100)\n",
    "    \n",
    "    print(f'AE Acc: {ae_accuracy[-1]:.2f}, PCA Acc: {pca_accuracy[-1]:.2f}')"
   ]
  },
  {
   "cell_type": "markdown",
   "id": "b1e2492f",
   "metadata": {},
   "source": [
    "### Output Analysis\n",
    "Make a plot with d on the x-axis and the best test accuracy of the logistic regression model on the y-axis with the d-dimensional representations. The plot should have two lines, corresponding to PCA and autoencoders."
   ]
  },
  {
   "cell_type": "code",
   "execution_count": 139,
   "id": "24809d04",
   "metadata": {},
   "outputs": [
    {
     "data": {
      "text/plain": [
       "<matplotlib.legend.Legend at 0x7f0413bbf640>"
      ]
     },
     "execution_count": 139,
     "metadata": {},
     "output_type": "execute_result"
    },
    {
     "data": {
      "image/png": "[encoded data removed]",
      "text/plain": [
       "<Figure size 432x288 with 1 Axes>"
      ]
     },
     "metadata": {
      "needs_background": "light"
     },
     "output_type": "display_data"
    }
   ],
   "source": [
    "plt.plot(num_components_list, ae_accuracy, label=\"Auto-Encoder Accuracy\")\n",
    "plt.plot(num_components_list, pca_accuracy, label=\"PCA Accuracy\")\n",
    "plt.title('Dimension Reduction Analysis', fontsize=18)\n",
    "plt.ylabel('Accuracy (%age)', fontsize=18)\n",
    "plt.xlabel('Latent Features', fontsize=18)\n",
    "plt.legend(fontsize=18)"
   ]
  },
  {
   "cell_type": "markdown",
   "id": "73546f98",
   "metadata": {},
   "source": [
    "Based on these observations, could you speculate why one of the two might be better or worse than the\n",
    "other?"
   ]
  },
  {
   "cell_type": "markdown",
   "id": "3947b9cb",
   "metadata": {},
   "source": [
    "PCA is essentially a linear transformation. However, AutoEncoders can map complex non-linear functions. As a result, for image data, auto-encoders perform better at reconstruction. "
   ]
  }
 ],
 "metadata": {
  "kernelspec": {
   "display_name": "Python 3 (ipykernel)",
   "language": "python",
   "name": "python3"
  },
  "language_info": {
   "codemirror_mode": {
    "name": "ipython",
    "version": 3
   },
   "file_extension": ".py",
   "mimetype": "text/x-python",
   "name": "python",
   "nbconvert_exporter": "python",
   "pygments_lexer": "ipython3",
   "version": "3.8.12"
  }
 },
 "nbformat": 4,
 "nbformat_minor": 5
}
