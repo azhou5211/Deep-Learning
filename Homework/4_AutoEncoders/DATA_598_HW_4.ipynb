{
 "cells": [
  {
   "cell_type": "markdown",
   "id": "ace467d0",
   "metadata": {},
   "source": [
    "# \n",
    "<center><h1> Homework 4: AutoEncoders\n",
    "<center> Apoorv Sharma </center>\n",
    "    <center> DATA 598 (Winter 2022), University of Washington </center>"
   ]
  },
  {
   "cell_type": "markdown",
   "id": "7589e7c6",
   "metadata": {},
   "source": [
    "# 1. Denoising AutoEncoders and Step Decay Learning Rates\n",
    "\n",
    "In this exercise, we will use autoencoders to denoise (= de-noise, or remove the noise from) an image. We will also implement a step decay learning rate, a commonly used trick (for all deep kinds of deep nets, not just autoencoders).\n",
    "\n",
    "Suppose we have and image x and *corrupt* it by some means to get $x' = C(x)$. Example corruptions including adding Gaussian noise or deleting random pataches in the image. A denoising autoencoder with encoder $h_w$ and decoder $g_v$ (with respective parameters w and v) takes in the corrupted input $x'$ and returns $\\hat{x} = g(h(x'))$ that approximates the noise-less image x.\n",
    "\n",
    "We will train a denoising autoencoder to reconstruct the noiseless images from the noisy ones, by minimizing the corresponding reconstruction error:\n",
    "\n",
    "$$\n",
    "\\min_{w,v} \\mathbb{E} \\left|\\left| x - g_v \\circ h_w(C(x)) \\right|\\right|^2\n",
    "$$\n",
    "\n",
    "We will use a step decay learning rate schedule\n",
    "\n",
    "$$\n",
    "\\gamma_t = \\frac{\\gamma_0}{2^{\\lfloor t/t_o \\rfloor}}\n",
    "$$\n",
    "\n",
    "in epoch $t$, where $\\gamma_0$ is a given initial learning rate, and $t_0$ threshold. The learning is cut by a factor of 2 every $t_0$ epochs:\n",
    "\n",
    "$$\n",
    "\\gamma_0 \\dots \\gamma_0, \\frac{\\gamma_0}{2} \\dots \\frac{\\gamma_0}{2}, \\frac{\\gamma_0}{4} \\dots \\frac{\\gamma_0}{4}\n",
    "$$\n",
    "\n",
    "A larger learning rate makes faster progress initially whereas a smaller learning rate is more helpful closer\n",
    "to convergence. The step-decay schedule aims to get the best of both worlds."
   ]
  },
  {
   "cell_type": "code",
   "execution_count": 1,
   "id": "5fdb0375",
   "metadata": {},
   "outputs": [],
   "source": [
    "import torch\n",
    "from torch.nn.functional import relu\n",
    "from torchvision.datasets import MNIST\n",
    "\n",
    "import numpy as np\n",
    "import matplotlib.pyplot as plt\n",
    "\n",
    "import math\n",
    "import pickle"
   ]
  },
  {
   "cell_type": "markdown",
   "id": "c599436d",
   "metadata": {},
   "source": [
    "### Download and Process MINST dataset\n",
    "Perform the same preprocessing as in this week’s lab."
   ]
  },
  {
   "cell_type": "code",
   "execution_count": 2,
   "id": "01b92f19",
   "metadata": {},
   "outputs": [
    {
     "name": "stdout",
     "output_type": "stream",
     "text": [
      "X_train.shape = torch.Size([6000, 28, 28])\n",
      "n_train: 6000, n_test: 10000\n",
      "Image size: torch.Size([28, 28])\n"
     ]
    }
   ],
   "source": [
    "# download dataset (~117M in size)\n",
    "train_dataset = MNIST('./data', train=True, download=True)\n",
    "X_train = train_dataset.data # torch tensor of type uint8\n",
    "y_train = train_dataset.targets # torch tensor of type Long\n",
    "test_dataset = MNIST('./data', train=False, download=True)\n",
    "X_test = test_dataset.data\n",
    "y_test = test_dataset.targets\n",
    "\n",
    "# choose a subsample of 10% of the data:\n",
    "idxs_train = torch.from_numpy(\n",
    "    np.random.choice(X_train.shape[0], replace=False, size=X_train.shape[0]//10)).long()\n",
    "X_train, y_train = X_train[idxs_train], y_train[idxs_train]\n",
    "# idxs_test = torch.from_numpy(\n",
    "#     np.random.choice(X_test.shape[0], replace=False, size=X_test.shape[0]//10))\n",
    "# X_test, y_test = X_test[idxs_test], y_test[idxs_test]\n",
    "\n",
    "print(f'X_train.shape = {X_train.shape}')\n",
    "print(f'n_train: {X_train.shape[0]}, n_test: {X_test.shape[0]}')\n",
    "print(f'Image size: {X_train.shape[1:]}')"
   ]
  },
  {
   "cell_type": "code",
   "execution_count": 3,
   "id": "522714c9",
   "metadata": {},
   "outputs": [
    {
     "data": {
      "image/png": "[encoded data removed]",
      "text/plain": [
       "<Figure size 1440x288 with 5 Axes>"
      ]
     },
     "metadata": {
      "needs_background": "light"
     },
     "output_type": "display_data"
    }
   ],
   "source": [
    "f, ax = plt.subplots(1, 5, figsize=(20, 4))\n",
    "for i, idx in enumerate(np.random.choice(X_train.shape[0], 5)):\n",
    "    ax[i].imshow(X_train[idx], cmap='gray', vmin=0, vmax=255)\n",
    "    ax[i].set_title(f'Label = {y_train[idx]}', fontsize=20)"
   ]
  },
  {
   "cell_type": "code",
   "execution_count": 4,
   "id": "1d0ca5bf",
   "metadata": {},
   "outputs": [],
   "source": [
    "# NOTE: Run this cell only once. If you have to rerun it multiple times, \n",
    "# make sure that you run it after rerunning the previous 2 cells.\n",
    "\n",
    "# Normalize dataset: pixel values lie between 0 and 255\n",
    "# Normalize them so the pixelwise mean is zero and standard deviation is 1\n",
    "\n",
    "X_train = X_train.float()  # convert to float32\n",
    "# NOTE: we are returning a single mean/std over all the pixels, rather than a pixel-wise one\n",
    "mean, std = X_train.mean(), X_train.std()  \n",
    "X_train = (X_train - mean) / (std + 1e-6)  # avoid divide by zero\n",
    "# X_train /= torch.norm(X_train, dim=(1, 2)).max()\n",
    "\n",
    "X_test = X_test.float()\n",
    "X_test = (X_test - mean) / (std + 1e-6)\n",
    "# X_test /= torch.norm(X_test, dim=(1, 2)).max()\n",
    "\n",
    "n_class = np.unique(y_train).shape[0]"
   ]
  },
  {
   "cell_type": "markdown",
   "id": "f34a63aa",
   "metadata": {},
   "source": [
    "### Create convolutional autoencoder\n",
    "Use the same convolutional autoencoder as in this week’s lab, with a lower latent dimension of 40."
   ]
  },
  {
   "cell_type": "code",
   "execution_count": 5,
   "id": "21f2c035",
   "metadata": {},
   "outputs": [],
   "source": [
    "class EncoderModule(torch.nn.Module):\n",
    "    def __init__(self, lower_dimension):\n",
    "        super().__init__()\n",
    "        # (B, 1, 28, 28) -> (B, 4, 12, 12)\n",
    "        self.conv1 = torch.nn.Conv2d(1, 4, kernel_size=5, stride=2, padding=0) \n",
    "        self.conv2 = torch.nn.Conv2d(4, 8, kernel_size=3, stride=2, padding=0)\n",
    "        # Flatten (B, 8, 5, 5) -> (B, 8*5*5): do this in `forward()`\n",
    "        # (B, 8*5*5) -> (B, lower_dimension); 8*5*5 = 200\n",
    "        self.linear = torch.nn.Linear(200, lower_dimension)\n",
    "    \n",
    "    def forward(self, images):\n",
    "        out = relu(self.conv1(images))  # conv1 + relu\n",
    "        out = relu(self.conv2(out))  # conv2 + relu\n",
    "        out = out.view(out.shape[0], -1)  # flatten\n",
    "        out = self.linear(out)  # Linear\n",
    "        return out"
   ]
  },
  {
   "cell_type": "code",
   "execution_count": 6,
   "id": "3d9c0f9e",
   "metadata": {},
   "outputs": [],
   "source": [
    "class DecoderModule(torch.nn.Module):\n",
    "    def __init__(self, lower_dimension):\n",
    "        super().__init__()\n",
    "        # (B, lower_dimension) -> (B, linear)\n",
    "        self.linear_t = torch.nn.Linear(lower_dimension, 200)\n",
    "        # Unflatten (B, 8*5*5) -> (B, 8, 5, 5); do this in `forward()`\n",
    "        # (B, 8, 5, 5) -> (B, 4, 12, 12)\n",
    "        self.conv2_t = torch.nn.ConvTranspose2d(8, 4, kernel_size=3, stride=2, padding=0, output_padding=1)\n",
    "        # (B, 4, 12, 12) -> (B, 1, 28, 28)\n",
    "        self.conv1_t = torch.nn.ConvTranspose2d(4, 1, kernel_size=5, stride=2, padding=0, output_padding=1)\n",
    "\n",
    "    def forward(self, x):\n",
    "        # Apply in reverse order\n",
    "        out = relu(self.linear_t(x))  # linear_t + relu\n",
    "        out = out.view(out.shape[0], 8, 5, 5)  # Unflatten\n",
    "        out = relu(self.conv2_t(out))  # conv2_t + relu\n",
    "        out = self.conv1_t(out)  # conv1_t (note: no relu at the end)\n",
    "        return out"
   ]
  },
  {
   "cell_type": "code",
   "execution_count": 7,
   "id": "bc25b5e4",
   "metadata": {},
   "outputs": [],
   "source": [
    "class AutoEncoder(torch.nn.Module):\n",
    "    def __init__(self, lower_dimension):\n",
    "        super().__init__()\n",
    "        self.encoder = EncoderModule(lower_dimension)\n",
    "        self.decoder = DecoderModule(lower_dimension)\n",
    "        \n",
    "    def forward(self, images):\n",
    "        # Pass the images through the encoder to get the representations.\n",
    "        # Then, pass the representations through the decoder to get the reconstructed images\n",
    "        # images -> encoder(.) -> decoder(.)\n",
    "        out = self.encoder(images)\n",
    "        out = self.decoder(out)\n",
    "        \n",
    "        return out\n",
    "        \n",
    "    def encode_images(self, images):\n",
    "        return self.encoder(images)\n",
    "    \n",
    "    def decode_representations(self, representations):\n",
    "        return self.decoder(representations)"
   ]
  },
  {
   "cell_type": "markdown",
   "id": "7cccb83e",
   "metadata": {},
   "source": [
    "### Corruption function\n",
    "As the corruption function $C(·)$, we zero out a randomly chosen 14 × 14 patch in the original image"
   ]
  },
  {
   "cell_type": "code",
   "execution_count": 8,
   "id": "d5cea47b",
   "metadata": {},
   "outputs": [],
   "source": [
    "def corrupt_image_batch(images):\n",
    "    # Add a 14x14 square of zeros in a 28x28 image\n",
    "    # images: (B, 1, 28, 28)\n",
    "    \n",
    "    patch_size = 14  # zero out a 14x14 patch\n",
    "    batch_size = images.shape[0]\n",
    "    height, width = images.shape[-2:]  # height and width of each image\n",
    "\n",
    "    starting_h = np.random.choice(height - patch_size, size=batch_size, replace=True)\n",
    "    starting_w = np.random.choice(width - patch_size, size=batch_size, replace=True)\n",
    "\n",
    "    images_corrupted = images.clone()  # corrupt a copy so we do not lose the originals\n",
    "    for b in range(batch_size):\n",
    "        h = starting_h[b]\n",
    "        w = starting_w[b]\n",
    "        images_corrupted[b, 0, h:h+patch_size, b:b+patch_size] = 0  # set to 0\n",
    "    return images_corrupted"
   ]
  },
  {
   "cell_type": "markdown",
   "id": "72b17fa2",
   "metadata": {},
   "source": [
    "### Training Functions"
   ]
  },
  {
   "cell_type": "code",
   "execution_count": 9,
   "id": "82efc44f",
   "metadata": {},
   "outputs": [],
   "source": [
    "def loss_function(true_images, reconstructed_images):  # square loss\n",
    "    residual = (true_images - reconstructed_images).view(-1)  # flatten into a vector\n",
    "    # return the average over examples\n",
    "    return 0.5 * torch.norm(residual) ** 2 / (true_images.shape[0])\n",
    "\n",
    "def compute_objective(model, original_images, corrupted_images):\n",
    "    # reshape images from (B, 28, 28) -> (B, 1, 28, 28) as required by the model\n",
    "    reconstructed_images = model(corrupted_images)\n",
    "    return loss_function(original_images.unsqueeze(1), reconstructed_images)"
   ]
  },
  {
   "cell_type": "code",
   "execution_count": 10,
   "id": "25a34146",
   "metadata": {},
   "outputs": [],
   "source": [
    "@torch.no_grad()\n",
    "def compute_logs(model, verbose=False): # Only report loss\n",
    "    train_loss = compute_objective(model, X_train, corrupt_image_batch(X_train.unsqueeze(1)))\n",
    "    test_loss = compute_objective(model, X_test, corrupt_image_batch(X_test.unsqueeze(1)))\n",
    "    if verbose:\n",
    "        print('Train Loss = {:.3f}, Test Loss = {:.3f}'.format(\n",
    "                train_loss.item(), test_loss.item(),\n",
    "    ))\n",
    "    return (train_loss, test_loss)\n",
    "\n",
    "def minibatch_sgd_one_pass(model, X, learning_rate, batch_size, verbose=False):\n",
    "    num_examples = X.shape[0]\n",
    "    average_loss = 0.0\n",
    "    num_updates = int(round(num_examples / batch_size))\n",
    "    for i in range(num_updates):\n",
    "        idxs = np.random.choice(num_examples, size=(batch_size,)) \n",
    "        \n",
    "        corrupted_images = corrupt_image_batch(X[idxs].unsqueeze(1))\n",
    "        # compute the objective. \n",
    "        objective = compute_objective(model, X[idxs], corrupted_images) \n",
    "        average_loss = 0.99 * average_loss + 0.01 * objective.item()\n",
    "        if verbose and (i+1) % 100 == 0:\n",
    "            print(\"{:.3f}\".format(average_loss))\n",
    "        \n",
    "        # Exercise:\n",
    "        # compute the gradient using automatic differentiation\n",
    "        gradients = torch.autograd.grad(outputs=objective, inputs=model.parameters())\n",
    "\n",
    "        # Perform the SGD update\n",
    "        with torch.no_grad():\n",
    "            for (w, g) in zip(model.parameters(), gradients):\n",
    "                w -= learning_rate * g\n",
    "                \n",
    "    return model"
   ]
  },
  {
   "cell_type": "markdown",
   "id": "86e80813",
   "metadata": {},
   "source": [
    "### Train Model\n",
    "Train the model for 40 epochs starting with $\\gamma_0 = 2.5 \\cdot 10^{-4}$ and $t_0 = 10$ (i.e., halve the learning rate every 10 epochs)."
   ]
  },
  {
   "cell_type": "code",
   "execution_count": 11,
   "id": "ec3e1966",
   "metadata": {},
   "outputs": [
    {
     "name": "stdout",
     "output_type": "stream",
     "text": [
      "Iteration 0, LR: 0.00025, Train Loss = 404.645, Test Loss = 415.356\n",
      "Iteration 1, LR: 0.00025, Train Loss = 145.412, Test Loss = 145.572\n",
      "Iteration 2, LR: 0.00025, Train Loss = 106.530, Test Loss = 107.233\n",
      "Iteration 3, LR: 0.00025, Train Loss = 93.991, Test Loss = 95.312\n",
      "Iteration 4, LR: 0.00025, Train Loss = 86.139, Test Loss = 86.757\n",
      "Iteration 5, LR: 0.00025, Train Loss = 82.541, Test Loss = 83.184\n",
      "Iteration 6, LR: 0.00025, Train Loss = 81.099, Test Loss = 81.884\n",
      "Iteration 7, LR: 0.00025, Train Loss = 88.533, Test Loss = 90.006\n",
      "Iteration 8, LR: 0.00025, Train Loss = 97.367, Test Loss = 98.457\n",
      "Iteration 9, LR: 0.00025, Train Loss = 78.622, Test Loss = 79.820\n",
      "Iteration 10, LR: 0.000125, Train Loss = 72.787, Test Loss = 73.965\n",
      "Iteration 11, LR: 0.000125, Train Loss = 76.856, Test Loss = 78.113\n",
      "Iteration 12, LR: 0.000125, Train Loss = 77.246, Test Loss = 78.742\n",
      "Iteration 13, LR: 0.000125, Train Loss = 67.087, Test Loss = 68.405\n",
      "Iteration 14, LR: 0.000125, Train Loss = 72.174, Test Loss = 73.264\n",
      "Iteration 15, LR: 0.000125, Train Loss = 70.513, Test Loss = 71.704\n",
      "Iteration 16, LR: 0.000125, Train Loss = 75.123, Test Loss = 76.592\n",
      "Iteration 17, LR: 0.000125, Train Loss = 73.559, Test Loss = 74.881\n",
      "Iteration 18, LR: 0.000125, Train Loss = 77.843, Test Loss = 79.427\n",
      "Iteration 19, LR: 0.000125, Train Loss = 73.648, Test Loss = 75.257\n",
      "Iteration 20, LR: 6.25e-05, Train Loss = 66.505, Test Loss = 67.895\n",
      "Iteration 21, LR: 6.25e-05, Train Loss = 67.613, Test Loss = 69.047\n",
      "Iteration 22, LR: 6.25e-05, Train Loss = 66.633, Test Loss = 67.797\n",
      "Iteration 23, LR: 6.25e-05, Train Loss = 68.236, Test Loss = 69.523\n",
      "Iteration 24, LR: 6.25e-05, Train Loss = 64.778, Test Loss = 65.867\n",
      "Iteration 25, LR: 6.25e-05, Train Loss = 67.109, Test Loss = 68.332\n",
      "Iteration 26, LR: 6.25e-05, Train Loss = 63.629, Test Loss = 64.668\n",
      "Iteration 27, LR: 6.25e-05, Train Loss = 62.602, Test Loss = 63.617\n",
      "Iteration 28, LR: 6.25e-05, Train Loss = 63.526, Test Loss = 64.637\n",
      "Iteration 29, LR: 6.25e-05, Train Loss = 67.960, Test Loss = 69.141\n",
      "Iteration 30, LR: 3.125e-05, Train Loss = 64.044, Test Loss = 65.195\n",
      "Iteration 31, LR: 3.125e-05, Train Loss = 64.812, Test Loss = 65.978\n",
      "Iteration 32, LR: 3.125e-05, Train Loss = 63.900, Test Loss = 65.036\n",
      "Iteration 33, LR: 3.125e-05, Train Loss = 65.234, Test Loss = 66.530\n",
      "Iteration 34, LR: 3.125e-05, Train Loss = 68.280, Test Loss = 69.597\n",
      "Iteration 35, LR: 3.125e-05, Train Loss = 64.544, Test Loss = 65.717\n",
      "Iteration 36, LR: 3.125e-05, Train Loss = 66.637, Test Loss = 67.790\n",
      "Iteration 37, LR: 3.125e-05, Train Loss = 65.356, Test Loss = 66.614\n",
      "Iteration 38, LR: 3.125e-05, Train Loss = 65.300, Test Loss = 66.599\n",
      "Iteration 39, LR: 3.125e-05, Train Loss = 65.520, Test Loss = 66.889\n",
      "Iteration 40, LR: 1.5625e-05, Train Loss = 65.908, Test Loss = 67.223\n"
     ]
    }
   ],
   "source": [
    "initial_learning_rate = 2.5e-4\n",
    "learning_rate_threshold = 10\n",
    "batch_size = 1\n",
    "lower_dimension = 40 # use a lower dimensionality of 40\n",
    "num_epochs = 40\n",
    "\n",
    "logs = []\n",
    "\n",
    "model = AutoEncoder(lower_dimension)\n",
    "print(f'Iteration 0, LR: {initial_learning_rate}', end=', ')\n",
    "logs.append(compute_logs(model, verbose=True))\n",
    "\n",
    "for j in range(num_epochs):\n",
    "    # step decay learning rate schedule\n",
    "    num_epoch = j + 1\n",
    "    learning_rate = initial_learning_rate / ( math.pow(2, math.floor(num_epoch/learning_rate_threshold)) )\n",
    "    \n",
    "    model = minibatch_sgd_one_pass(model, X_train, learning_rate, batch_size=batch_size, verbose=False)\n",
    "    print(f'Iteration {num_epoch}, LR: {learning_rate}', end=', ')\n",
    "    logs.append(compute_logs(model, verbose=True))\n",
    "\n",
    "with open('./models/logs.pkl', 'wb') as f:\n",
    "    pickle.dump(logs, f)\n",
    "\n",
    "# save the model parms\n",
    "torch.save(model.state_dict(), f'./models/parms.pt')"
   ]
  },
  {
   "cell_type": "markdown",
   "id": "457a46ac",
   "metadata": {},
   "source": [
    "#### View the loss"
   ]
  },
  {
   "cell_type": "code",
   "execution_count": 12,
   "id": "bbb462e8",
   "metadata": {},
   "outputs": [
    {
     "data": {
      "text/plain": [
       "(59.47204246520996, 138.29356536865234)"
      ]
     },
     "execution_count": 12,
     "metadata": {},
     "output_type": "execute_result"
    },
    {
     "data": {
      "image/png": "[encoded data removed]",
      "text/plain": [
       "<Figure size 432x288 with 1 Axes>"
      ]
     },
     "metadata": {
      "needs_background": "light"
     },
     "output_type": "display_data"
    }
   ],
   "source": [
    "logs_arr = np.asarray(logs)\n",
    "\n",
    "plt.plot(logs_arr[:, 0], label=\"Train\")\n",
    "plt.plot(logs_arr[:, 1], label=\"Test\")\n",
    "plt.title('AutoEncoder Loss', fontsize=18)\n",
    "plt.ylabel('Loss', fontsize=18)\n",
    "plt.xlabel('#Passes', fontsize=18)\n",
    "plt.legend(fontsize=18)\n",
    "\n",
    "# Try to set clever bounds\n",
    "plt.ylim((logs_arr[1:].reshape(-1).min() * 0.95, logs_arr[1:].reshape(-1).max() * 0.95))"
   ]
  },
  {
   "cell_type": "markdown",
   "id": "f59b7b58",
   "metadata": {},
   "source": [
    "### Model Output\n",
    "Show some examples of the denoising process from the test set."
   ]
  },
  {
   "cell_type": "code",
   "execution_count": 18,
   "id": "c7c2b8a8",
   "metadata": {},
   "outputs": [
    {
     "data": {
      "image/png": "[encoded data removed]",
      "text/plain": [
       "<Figure size 1440x720 with 15 Axes>"
      ]
     },
     "metadata": {
      "needs_background": "light"
     },
     "output_type": "display_data"
    }
   ],
   "source": [
    "f, ax = plt.subplots(3, 5, figsize=(20, 10))\n",
    "\n",
    "idxs = np.random.choice(X_test.shape[0], 5)\n",
    "images = X_test[idxs].unsqueeze(1)\n",
    "images_corrupted = corrupt_image_batch(images)\n",
    "\n",
    "for i, idx in enumerate(idxs):\n",
    "    ax[0, i].imshow(images[i].squeeze() * std + mean, cmap='gray')  # Note: Undo mean and std normalization before viewing image\n",
    "    ax[0, i].set_title(f'Original #{idx}', fontsize=20)\n",
    "    \n",
    "    ax[1, i].imshow(images_corrupted[i].squeeze() * std + mean, cmap='gray')  # Note: Undo mean and std normalization before viewing image\n",
    "    ax[2, i].set_title(f'Corrupted #{idx}', fontsize=20)\n",
    "    \n",
    "    # add batch and channel dimensions before passing through the model and squeeze them out later\n",
    "    xr = model(images_corrupted[i].view(1, 1, 28, 28)).detach().squeeze()\n",
    "    ax[2, i].imshow(xr * std + mean, cmap='gray')  # Note: Undo mean and std normalization before viewing image\n",
    "    ax[2, i].set_title(f'Recons. #{idx}', fontsize=20)"
   ]
  }
 ],
 "metadata": {
  "kernelspec": {
   "display_name": "Python 3 (ipykernel)",
   "language": "python",
   "name": "python3"
  },
  "language_info": {
   "codemirror_mode": {
    "name": "ipython",
    "version": 3
   },
   "file_extension": ".py",
   "mimetype": "text/x-python",
   "name": "python",
   "nbconvert_exporter": "python",
   "pygments_lexer": "ipython3",
   "version": "3.8.12"
  }
 },
 "nbformat": 4,
 "nbformat_minor": 5
}
