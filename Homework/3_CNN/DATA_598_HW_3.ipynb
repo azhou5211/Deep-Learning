{
 "cells": [
  {
   "cell_type": "markdown",
   "id": "6dc5594a",
   "metadata": {},
   "source": [
    "# \n",
    "<center><h1> Homework 2: Auto Differentiation and Data Augmentation</h1></center>\n",
    "<center> Apoorv Sharma </center>\n",
    "    <center> DATA 598 (Winter 2022), University of Washington </center>"
   ]
  },
  {
   "cell_type": "markdown",
   "id": "8500c9f5",
   "metadata": {},
   "source": [
    "# 1. The Effect of BatchNorm on a ConvNet"
   ]
  },
  {
   "cell_type": "markdown",
   "id": "e52bdd89",
   "metadata": {},
   "source": [
    "In this exercise, we will combine both the topics we covered in class this week. The goal of this exercise is to\n",
    "visualize the effective smoothness of a covolutional neural network with and without batch normalization.\n",
    "\n",
    "Let $\\phi(.; \\omega) : \\mathbb{R}^{28x28} \\rightarrow \\mathbb{R}^{10}$ denote a convolution neural network with parameters $\\omega$ which takes in an image of size $28 × 28$ and returns a score for 10 output classes (All the MLPs and ConvNets we have considered so far fit this input-output description of $\\phi$, upto a reshaping of the images). Consider the\n",
    "objective function:\n",
    "\n",
    "$$\n",
    "f(\\omega) = \\frac{1}{n} \\sum_{i=1}^{n} l(y_i, \\phi(x_i,\\omega))\n",
    "$$"
   ]
  }
 ],
 "metadata": {
  "kernelspec": {
   "display_name": "Python 3 (ipykernel)",
   "language": "python",
   "name": "python3"
  },
  "language_info": {
   "codemirror_mode": {
    "name": "ipython",
    "version": 3
   },
   "file_extension": ".py",
   "mimetype": "text/x-python",
   "name": "python",
   "nbconvert_exporter": "python",
   "pygments_lexer": "ipython3",
   "version": "3.8.12"
  }
 },
 "nbformat": 4,
 "nbformat_minor": 5
}
