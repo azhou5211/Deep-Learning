{
 "cells": [
  {
   "cell_type": "markdown",
   "id": "079f4ffd",
   "metadata": {},
   "source": [
    "# \n",
    "<center><h1> Homework 3: ConvNet\n",
    "<center> Apoorv Sharma </center>\n",
    "    <center> DATA 598 (Winter 2022), University of Washington </center>"
   ]
  },
  {
   "cell_type": "markdown",
   "id": "6d3047aa",
   "metadata": {},
   "source": [
    "# 1. The Effect of BatchNorm on a ConvNet"
   ]
  },
  {
   "cell_type": "markdown",
   "id": "4c2d45ee",
   "metadata": {},
   "source": [
    "In this exercise, we will combine both the topics we covered in class this week. The goal of this exercise is to\n",
    "visualize the effective smoothness of a covolutional neural network with and without batch normalization.\n",
    "\n",
    "Let $\\phi(.; \\omega) : \\mathbb{R}^{28x28} \\rightarrow \\mathbb{R}^{10}$ denote a convolution neural network with parameters $\\omega$ which takes in an image of size $28 × 28$ and returns a score for 10 output classes (All the MLPs and ConvNets we have considered so far fit this input-output description of $\\phi$, upto a reshaping of the images). Consider the\n",
    "objective function:\n",
    "\n",
    "$$\n",
    "f(\\omega) = \\frac{1}{n} \\sum_{i=1}^{n} l(y_i, \\phi(x_i,\\omega))\n",
    "$$"
   ]
  },
  {
   "cell_type": "markdown",
   "id": "6b6d0b19",
   "metadata": {},
   "source": [
    "Concretely, your task is as follows:\n",
    "* Use the FashionMNIST dataset. Perform the same preprocessing as in previous homeworks.\n",
    "* Code up a ConvNet module with two convolutional layers with the following structure (the input has 1 channel, so we write the image as 1 × 28 × 28):"
   ]
  },
  {
   "cell_type": "code",
   "execution_count": 1,
   "id": "159ddc46",
   "metadata": {},
   "outputs": [],
   "source": [
    "import torch\n",
    "import numpy as np\n",
    "\n",
    "from torchvision.datasets import FashionMNIST\n",
    "from torch.nn.functional import cross_entropy, relu\n",
    "\n",
    "import pickle\n",
    "import os\n",
    "import copy\n",
    "import math\n",
    "\n",
    "import matplotlib.pyplot as plt \n",
    "%matplotlib inline"
   ]
  },
  {
   "cell_type": "code",
   "execution_count": 2,
   "id": "ff42b36a",
   "metadata": {},
   "outputs": [],
   "source": [
    "path = './models'\n",
    "if not os.path.exists(path):\n",
    "  os.makedirs(path)"
   ]
  },
  {
   "cell_type": "markdown",
   "id": "67046bf9",
   "metadata": {},
   "source": [
    "#### CovNet1 Specification\n",
    "\n",
    "* k denotes the kernel/filter size and “#filters” denotes the number of filters\n",
    "* In PyTorch, the convolutions and pooling operations on images are called “Conv2d” and “Max-Pool2d” respectively.\n",
    "* For the first conv layer, the specification asks you to use a kernel size of 5, and a padding of 2. The number of input channels is the same as the number of channels from the preceding layer (here, it is 1 since the preceding layer is just the image with 1 channel). Finally, the number of output channels is the same as the number of filters (here, 16). The second conv layer is constructed in a similarly; the number of input channels is the same as the number of outputs channels of the first conv layer (since ReLU and MaxPool do not change the number of channels). When not specified, we take the stride to be 1.\n",
    "* The last “Linear” layer takes in the output of the second MaxPool and flattens it down to a vector of a certain size S. You are to figure out this size by running a dummy input through these layers and analyzing the output size, as we have done in the lab. The linear layer then maps this S-dimensional input to a 10-dimensional output, one for each class."
   ]
  },
  {
   "cell_type": "code",
   "execution_count": 3,
   "id": "42580e23",
   "metadata": {},
   "outputs": [],
   "source": [
    "class CovNetNoBatchNorm(torch.nn.Module):\n",
    "    def __init__(self, num_classes=10):\n",
    "        super().__init__()\n",
    "        self.conv_ensemble_1 = torch.nn.Sequential(\n",
    "            torch.nn.Conv2d(in_channels=1, out_channels=16, kernel_size=5, padding=2),\n",
    "            torch.nn.ReLU(),\n",
    "            torch.nn.MaxPool2d(2))\n",
    "        self.conv_ensemble_2 = torch.nn.Sequential(\n",
    "            torch.nn.Conv2d(in_channels=16, out_channels=32, kernel_size=5, padding=2),\n",
    "            torch.nn.ReLU(),\n",
    "            torch.nn.MaxPool2d(2))\n",
    "        \n",
    "        # cov_ensemble_2 has shape: torch.Size([1, 32, 26, 26])\n",
    "        self.fully_connected_layer = torch.nn.Linear(7*7*32, num_classes)\n",
    "        \n",
    "    def forward(self, x):\n",
    "        x = x.view(-1, 1, 28, 28)  # reshape input; convolutions need a channel\n",
    "        out = self.conv_ensemble_1(x)  # first convolution + relu + pooling\n",
    "        out = self.conv_ensemble_2(out) # second convolution + relu + pooling\n",
    "        out = out.view(out.shape[0], -1)  # flatten output\n",
    "        out = self.fully_connected_layer(out)  # output layer\n",
    "        return out"
   ]
  },
  {
   "cell_type": "code",
   "execution_count": 4,
   "id": "450a28b7",
   "metadata": {},
   "outputs": [],
   "source": [
    "image_size = 28\n",
    "random_image = torch.randn(1, 1, image_size, image_size)"
   ]
  },
  {
   "cell_type": "code",
   "execution_count": 5,
   "id": "35559c0e",
   "metadata": {},
   "outputs": [],
   "source": [
    "class CovNetBatchNorm(torch.nn.Module):\n",
    "    def __init__(self, num_classes=10):\n",
    "        super().__init__()\n",
    "        self.conv_ensemble_1 = torch.nn.Sequential(\n",
    "            torch.nn.Conv2d(in_channels=1, out_channels=16, kernel_size=5, padding=2),\n",
    "            torch.nn.ReLU(),\n",
    "            torch.nn.MaxPool2d(2),\n",
    "            torch.nn.BatchNorm2d(16))\n",
    "        self.conv_ensemble_2 = torch.nn.Sequential(\n",
    "            torch.nn.Conv2d(in_channels=16, out_channels=32, kernel_size=5, padding=2),\n",
    "            torch.nn.ReLU(),\n",
    "            torch.nn.MaxPool2d(2),\n",
    "            torch.nn.BatchNorm2d(32))\n",
    "        \n",
    "        # cov_ensemble_2 has shape: torch.Size([1, 32, 26, 26])\n",
    "        self.fully_connected_layer = torch.nn.Linear(7*7*32, num_classes)\n",
    "        \n",
    "    def forward(self, x):\n",
    "        x = x.view(-1, 1, 28, 28)  # reshape input; convolutions need a channel\n",
    "        out = self.conv_ensemble_1(x)  # first convolution + relu + pooling\n",
    "        out = self.conv_ensemble_2(out) # second convolution + relu + pooling\n",
    "        out = out.view(out.shape[0], -1)  # flatten output\n",
    "        out = self.fully_connected_layer(out)  # output layer\n",
    "        return out"
   ]
  },
  {
   "cell_type": "markdown",
   "id": "dfb49f4e",
   "metadata": {},
   "source": [
    "Test the models and ensure that they work"
   ]
  },
  {
   "cell_type": "code",
   "execution_count": 6,
   "id": "df7f2607",
   "metadata": {},
   "outputs": [],
   "source": [
    "m1 = CovNetNoBatchNorm(num_classes=10)"
   ]
  },
  {
   "cell_type": "code",
   "execution_count": 7,
   "id": "8b777579",
   "metadata": {},
   "outputs": [],
   "source": [
    "m2 = CovNetBatchNorm(num_classes=10)"
   ]
  },
  {
   "cell_type": "code",
   "execution_count": 8,
   "id": "3f6081b3",
   "metadata": {},
   "outputs": [
    {
     "name": "stdout",
     "output_type": "stream",
     "text": [
      "tensor([[-8.3779e-02,  1.9382e-04,  6.5174e-02, -4.2130e-01,  7.6804e-02,\n",
      "          1.0856e-01,  7.5034e-02,  2.3799e-01,  7.1075e-02, -1.8772e-02]],\n",
      "       grad_fn=<AddmmBackward0>)\n"
     ]
    }
   ],
   "source": [
    "output = m1(random_image)\n",
    "print(output)"
   ]
  },
  {
   "cell_type": "code",
   "execution_count": 9,
   "id": "e096d92c",
   "metadata": {},
   "outputs": [
    {
     "name": "stdout",
     "output_type": "stream",
     "text": [
      "tensor([[-1.0892,  0.8060, -0.9953, -0.8221, -0.2303, -0.5744,  0.3975, -0.4681,\n",
      "         -0.0533, -0.3376]], grad_fn=<AddmmBackward0>)\n"
     ]
    }
   ],
   "source": [
    "output = m2(random_image)\n",
    "print(output)"
   ]
  },
  {
   "cell_type": "code",
   "execution_count": 10,
   "id": "ab3085d9",
   "metadata": {},
   "outputs": [
    {
     "name": "stdout",
     "output_type": "stream",
     "text": [
      "X_train.shape = torch.Size([6000, 28, 28])\n",
      "n_train: 6000, n_test: 10000\n",
      "Image size: torch.Size([28, 28])\n"
     ]
    }
   ],
   "source": [
    "# download dataset (~117M in size)\n",
    "train_dataset = FashionMNIST('./data', train=True, download=True)\n",
    "X_train = train_dataset.data # torch tensor of type uint8\n",
    "y_train = train_dataset.targets # torch tensor of type Long\n",
    "test_dataset = FashionMNIST('./data', train=False, download=True)\n",
    "X_test = test_dataset.data\n",
    "y_test = test_dataset.targets\n",
    "\n",
    "# choose a subsample of 10% of the data:\n",
    "idxs_train = torch.from_numpy(\n",
    "    np.random.choice(X_train.shape[0], replace=False, size=X_train.shape[0]//10))\n",
    "X_train, y_train = X_train[idxs_train], y_train[idxs_train]\n",
    "# idxs_test = torch.from_numpy(\n",
    "#     np.random.choice(X_test.shape[0], replace=False, size=X_test.shape[0]//10))\n",
    "# X_test, y_test = X_test[idxs_test], y_test[idxs_test]\n",
    "\n",
    "print(f'X_train.shape = {X_train.shape}')\n",
    "print(f'n_train: {X_train.shape[0]}, n_test: {X_test.shape[0]}')\n",
    "print(f'Image size: {X_train.shape[1:]}')\n",
    "\n",
    "# Normalize dataset: pixel values lie between 0 and 255\n",
    "# Normalize them so the pixelwise mean is zero and standard deviation is 1\n",
    "\n",
    "X_train = X_train.float()  # convert to float32\n",
    "X_train = X_train.view(-1, 784)  # flatten into a (n, d) shape\n",
    "mean, std = X_train.mean(axis=0), X_train.std(axis=0)\n",
    "X_train = (X_train - mean[None, :]) / (std[None, :] + 1e-6)  # avoid divide by zero\n",
    "\n",
    "X_test = X_test.float()\n",
    "X_test = X_test.view(-1, 784)\n",
    "X_test = (X_test - mean[None, :]) / (std[None, :] + 1e-6)\n",
    "\n",
    "n_class = np.unique(y_train).shape[0]"
   ]
  },
  {
   "cell_type": "code",
   "execution_count": 11,
   "id": "c54d54c1",
   "metadata": {},
   "outputs": [],
   "source": [
    "def compute_objective(model, X, y):\n",
    "    \"\"\" Compute the multinomial logistic loss. \n",
    "        model is a module\n",
    "        X of shape (n, d) and y of shape (n,)\n",
    "    \"\"\"\n",
    "    # send \n",
    "    score = model(X)\n",
    "    # PyTorch's function cross_entropy computes the multinomial logistic loss\n",
    "    return cross_entropy(input=score, target=y, reduction='mean') \n",
    "\n",
    "@torch.no_grad()\n",
    "def compute_accuracy(model, X, y):\n",
    "    \"\"\" Compute the classification accuracy\n",
    "        ws is a list of tensors of consistent shapes \n",
    "        X of shape (n, d) and y of shape (n,)\n",
    "    \"\"\"\n",
    "    is_train = model.training  # if True, model is in training mode\n",
    "    model.eval()  # use eval mode for accuracy\n",
    "    score = model(X)\n",
    "    predictions = torch.argmax(score, axis=1)  # class with highest score is predicted\n",
    "    if is_train:  # switch back to train mode if appropriate\n",
    "        model.train()\n",
    "    return (predictions == y).sum() * 1.0 / y.shape[0]\n",
    "\n",
    "@torch.no_grad()\n",
    "def compute_logs(model, verbose=False):\n",
    "    is_train = model.training  # if True, model is in training mode\n",
    "    model.eval()  # switch to eval mode\n",
    "    train_loss = compute_objective(model, X_train, y_train)\n",
    "    test_loss = compute_objective(model, X_test, y_test)\n",
    "    train_accuracy = compute_accuracy(model, X_train, y_train)\n",
    "    test_accuracy = compute_accuracy(model, X_test, y_test)\n",
    "    if verbose:\n",
    "        print(('Train Loss = {:.3f}, Train Accuracy = {:.3f}, ' + \n",
    "               'Test Loss = {:.3f}, Test Accuracy = {:.3f}').format(\n",
    "                train_loss.item(), train_accuracy.item(), \n",
    "                test_loss.item(), test_accuracy.item())\n",
    "    )\n",
    "    if is_train:  # switch back to train mode if appropriate\n",
    "        model.train()\n",
    "    return (train_loss, train_accuracy, test_loss, test_accuracy)"
   ]
  },
  {
   "cell_type": "code",
   "execution_count": 12,
   "id": "70417b8e",
   "metadata": {},
   "outputs": [],
   "source": [
    "def minibatch_sgd_one_pass(model, X, y, learning_rate, batch_size, verbose=False):\n",
    "    model.train()\n",
    "    num_examples = X.shape[0]\n",
    "    average_loss = 0.0\n",
    "    num_updates = int(round(num_examples / batch_size))\n",
    "    for i in range(num_updates):\n",
    "        idxs = np.random.choice(X.shape[0], size=(batch_size,)) # draw `batch_size` many samples\n",
    "        model.train()  # make sure we are in train mode\n",
    "        # compute the objective. \n",
    "        objective = compute_objective(model, X[idxs], y[idxs]) \n",
    "        average_loss = 0.99 * average_loss + 0.01 * objective.item()\n",
    "        if verbose and (i+1) % 100 == 0:\n",
    "            print(average_loss)\n",
    "        \n",
    "        # compute the gradient using automatic differentiation\n",
    "        gradients = torch.autograd.grad(outputs=objective, inputs=model.parameters())\n",
    "        \n",
    "        # perform SGD update. IMPORTANT: Make the update inplace!\n",
    "        with torch.no_grad():\n",
    "            for (w, g) in zip(model.parameters(), gradients):\n",
    "                w -= learning_rate * g\n",
    "    return model"
   ]
  },
  {
   "cell_type": "code",
   "execution_count": 13,
   "id": "6141cf1c",
   "metadata": {},
   "outputs": [],
   "source": [
    "def compute_effective_local_smoothness(model, X, y, learning_rate, batch_size, verbose=False):\n",
    "    \n",
    "    # choose random samples of size batch_size\n",
    "    idxs = np.random.choice(X.shape[0], size=(batch_size,))\n",
    "    \n",
    "    # STEP 1: COMPUTE 'U'\n",
    "    model.train()\n",
    "    objective_u = compute_objective(model, X[idxs], y[idxs]) \n",
    "\n",
    "    # compute the gradient using automatic differentiation\n",
    "    gradients_u = torch.autograd.grad(outputs=objective_u, inputs=model.parameters())\n",
    "    u = [-learning_rate * g for g in gradients_u]\n",
    "    \n",
    "    model.eval()\n",
    "    # STEP 2: COMPUTE F(W)\n",
    "    objective = compute_objective(model, X, y)\n",
    "    gradients = torch.autograd.grad(outputs=objective, inputs=model.parameters())\n",
    "    \n",
    "    # STEP 3: COMPUTE F(U + W)\n",
    "    model_new = copy.deepcopy(model)\n",
    "    \n",
    "    # perform SGD update - to get f(u+w)\n",
    "    with torch.no_grad():\n",
    "        for (w, g) in zip(model_new.parameters(), gradients_u):\n",
    "            w -= learning_rate * g\n",
    "\n",
    "    objective_new = compute_objective(model_new, X, y)\n",
    "    gradients_new = torch.autograd.grad(outputs=objective_new, inputs=model_new.parameters())\n",
    "    \n",
    "    # STEP 4: COMPUTE EFFECTIVE LOCAL SMOOTHNESS\n",
    "    effective_local_smoothness = 0\n",
    "    for i, (g_new, g_old) in enumerate(zip(gradients_new, gradients)):\n",
    "        effective_local_smoothness += torch.norm(g_new - g_old)\n",
    "        if verbose:\n",
    "            print(f'\\tIteration: {i} has L_hat : {effective_local_smoothness}')\n",
    "    effective_local_smoothness = math.sqrt(effective_local_smoothness)\n",
    "    \n",
    "    u_l2_norm = 0\n",
    "    for i, u_val in enumerate(u):\n",
    "        u_l2_norm += torch.norm(u_val)\n",
    "        if verbose:\n",
    "            print(f'\\tIteration: {i} has u_l2_norm : {u_l2_norm}')\n",
    "    u_l2_norm = math.sqrt(u_l2_norm)\n",
    "    \n",
    "    effective_local_smoothness /= u_l2_norm\n",
    "    if verbose:\n",
    "        print(f'Final L_hat : {effective_local_smoothness}')\n",
    "    \n",
    "    return effective_local_smoothness\n"
   ]
  },
  {
   "cell_type": "code",
   "execution_count": 14,
   "id": "8e282f8d",
   "metadata": {},
   "outputs": [
    {
     "name": "stdout",
     "output_type": "stream",
     "text": [
      "Train Loss = 2.317, Train Accuracy = 0.098, Test Loss = 2.320, Test Accuracy = 0.092, Smoothness = 2.312\n",
      "0.6077157165691467\n",
      "Train Loss = 0.538, Train Accuracy = 0.815, Test Loss = 0.598, Test Accuracy = 0.790, Smoothness = 3.288\n",
      "0.33318486105681944\n",
      "Train Loss = 0.453, Train Accuracy = 0.832, Test Loss = 0.544, Test Accuracy = 0.809, Smoothness = 3.893\n",
      "0.2919037683915744\n",
      "Train Loss = 0.378, Train Accuracy = 0.867, Test Loss = 0.481, Test Accuracy = 0.839, Smoothness = 2.704\n",
      "0.24160208177000478\n",
      "Train Loss = 0.341, Train Accuracy = 0.879, Test Loss = 0.486, Test Accuracy = 0.836, Smoothness = 2.668\n",
      "0.19952211269952672\n",
      "Train Loss = 0.309, Train Accuracy = 0.889, Test Loss = 0.466, Test Accuracy = 0.851, Smoothness = 2.600\n",
      "0.2036377096688466\n",
      "Train Loss = 0.278, Train Accuracy = 0.899, Test Loss = 0.465, Test Accuracy = 0.855, Smoothness = 3.054\n",
      "0.16755015007042304\n",
      "Train Loss = 0.251, Train Accuracy = 0.914, Test Loss = 0.449, Test Accuracy = 0.863, Smoothness = 2.428\n",
      "0.15666239709979773\n",
      "Train Loss = 0.227, Train Accuracy = 0.922, Test Loss = 0.439, Test Accuracy = 0.865, Smoothness = 2.418\n",
      "0.1385763830678668\n",
      "Train Loss = 0.238, Train Accuracy = 0.916, Test Loss = 0.466, Test Accuracy = 0.862, Smoothness = 2.829\n",
      "0.1479078635056388\n",
      "Train Loss = 0.203, Train Accuracy = 0.929, Test Loss = 0.454, Test Accuracy = 0.860, Smoothness = 3.057\n",
      "\n",
      "Train Loss = 2.337, Train Accuracy = 0.066, Test Loss = 2.347, Test Accuracy = 0.070, Smoothness = 2.078\n",
      "0.3815614377167116\n",
      "Train Loss = 0.340, Train Accuracy = 0.885, Test Loss = 0.553, Test Accuracy = 0.839, Smoothness = 2.243\n",
      "0.22025927798914735\n",
      "Train Loss = 0.267, Train Accuracy = 0.912, Test Loss = 0.555, Test Accuracy = 0.845, Smoothness = 2.823\n",
      "0.1567977741060513\n",
      "Train Loss = 0.220, Train Accuracy = 0.923, Test Loss = 0.544, Test Accuracy = 0.850, Smoothness = 2.962\n",
      "0.11354855838898219\n",
      "Train Loss = 0.179, Train Accuracy = 0.943, Test Loss = 0.533, Test Accuracy = 0.856, Smoothness = 2.766\n",
      "0.10036963896209894\n",
      "Train Loss = 0.129, Train Accuracy = 0.958, Test Loss = 0.496, Test Accuracy = 0.868, Smoothness = 1.622\n",
      "0.0822299704727732\n",
      "Train Loss = 0.120, Train Accuracy = 0.963, Test Loss = 0.583, Test Accuracy = 0.857, Smoothness = 1.934\n",
      "0.07484127470610276\n",
      "Train Loss = 0.083, Train Accuracy = 0.975, Test Loss = 0.560, Test Accuracy = 0.864, Smoothness = 1.963\n",
      "0.050365800648935345\n",
      "Train Loss = 0.061, Train Accuracy = 0.986, Test Loss = 0.549, Test Accuracy = 0.867, Smoothness = 2.134\n",
      "0.04173350795240793\n",
      "Train Loss = 0.047, Train Accuracy = 0.988, Test Loss = 0.540, Test Accuracy = 0.869, Smoothness = 1.776\n",
      "0.03512068508365517\n",
      "Train Loss = 0.046, Train Accuracy = 0.990, Test Loss = 0.572, Test Accuracy = 0.871, Smoothness = 2.009\n",
      "\n"
     ]
    }
   ],
   "source": [
    "batch_logs = []\n",
    "learning_rate = 0.04\n",
    "num_passes = 10\n",
    "batch_size = 32\n",
    "\n",
    "m1 = CovNetNoBatchNorm(num_classes=10)\n",
    "m2 = CovNetBatchNorm(num_classes=10)\n",
    "\n",
    "for i, model in enumerate([m1, m2]):\n",
    "    logs = []\n",
    "    log = list(compute_logs(model, False)) +\\\n",
    "            [torch.tensor(compute_effective_local_smoothness(model, X_train, y_train, learning_rate, \n",
    "                                                batch_size=batch_size, verbose=False))]\n",
    "    logs.append(log)\n",
    "    print(('Train Loss = {:.3f}, Train Accuracy = {:.3f}, ' + \n",
    "               'Test Loss = {:.3f}, Test Accuracy = {:.3f}, Smoothness = {:.3f}').format(\n",
    "                logs[-1][0].item(), logs[-1][1].item(), \n",
    "                logs[-1][2].item(), logs[-1][3].item(), logs[-1][4].item()))\n",
    "    \n",
    "    for _ in range(num_passes):\n",
    "        model = minibatch_sgd_one_pass(model, X_train, y_train, learning_rate, \n",
    "                                       batch_size=batch_size, verbose=True)\n",
    "        \n",
    "        log = list(compute_logs(model, False)) +\\\n",
    "            [torch.tensor(compute_effective_local_smoothness(model, X_train, y_train, learning_rate, \n",
    "                                                batch_size=batch_size, verbose=False))]\n",
    "        logs.append(log)\n",
    "        print(('Train Loss = {:.3f}, Train Accuracy = {:.3f}, ' + \n",
    "               'Test Loss = {:.3f}, Test Accuracy = {:.3f}, Smoothness = {:.3f}').format(\n",
    "                logs[-1][0].item(), logs[-1][1].item(), \n",
    "                logs[-1][2].item(), logs[-1][3].item(), logs[-1][4].item()))\n",
    "    \n",
    "    # done training this mode - append logs\n",
    "    batch_logs.append(logs)\n",
    "    \n",
    "    # save the model parms\n",
    "    torch.save(model.state_dict(), f'./models/{type(model).__name__}.pt')\n",
    "    \n",
    "    print()\n",
    "\n",
    "with open('./models/logs.pkl', 'wb') as f:\n",
    "    pickle.dump(batch_logs, f)"
   ]
  },
  {
   "cell_type": "code",
   "execution_count": 15,
   "id": "d72dbbba",
   "metadata": {},
   "outputs": [],
   "source": [
    "without_norm_logs, with_norm_logs = batch_logs"
   ]
  },
  {
   "cell_type": "code",
   "execution_count": 16,
   "id": "54dfa3bd",
   "metadata": {},
   "outputs": [
    {
     "data": {
      "image/png": "[encoded data removed]",
      "text/plain": [
       "<Figure size 1440x288 with 3 Axes>"
      ]
     },
     "metadata": {
      "needs_background": "light"
     },
     "output_type": "display_data"
    }
   ],
   "source": [
    "f, ax = plt.subplots(1, 3, figsize=(20, 4))\n",
    "\n",
    "ax[0].set_title('Train Loss', fontsize=18)\n",
    "ax[1].set_title('Test Accuracy', fontsize=18)\n",
    "ax[2].set_title('Effective Local Smoothness', fontsize=18)\n",
    "\n",
    "# Train Loss\n",
    "ax[0].set_xlabel('#Passes', fontsize=18)\n",
    "ax[0].set_ylabel('Train Loss', fontsize=18)\n",
    "ax[0].plot(list(map(lambda x: x[0].item(), without_norm_logs)), label=f'Without Batch Norm')\n",
    "ax[0].plot(list(map(lambda x: x[0].item(), with_norm_logs)), label='With Bach Norm')\n",
    "\n",
    "# Test Accuracy\n",
    "ax[1].set_xlabel('#Passes', fontsize=18)\n",
    "ax[1].set_ylabel('Test Accuracy', fontsize=18)\n",
    "ax[1].plot(list(map(lambda x: x[3], without_norm_logs)), label=f'Without Batch Norm')\n",
    "ax[1].plot(list(map(lambda x: x[3], with_norm_logs)), label='With Bach Norm')\n",
    "\n",
    "# Effective Local Smoothness\n",
    "ax[2].set_xlabel('#Passes', fontsize=18)\n",
    "ax[2].set_ylabel('Effective Local Smoothness', fontsize=18)\n",
    "ax[2].plot(list(map(lambda x: x[4], without_norm_logs)), label=f'Without Batch Norm')\n",
    "ax[2].plot(list(map(lambda x: x[4], with_norm_logs)), label='With Bach Norm')\n",
    "        \n",
    "ax[1].legend(fontsize=18)\n",
    "plt.tight_layout()"
   ]
  },
  {
   "cell_type": "markdown",
   "id": "3e01d5c6",
   "metadata": {},
   "source": [
    "Using batch norm results improved performance: lower training loss and slightly higher accuracy. Moreover, the smoothness value is also lower. \n",
    "\n",
    "We can use a larger learning rate since the smoothness value is lower when using batch norm. This is because:\n",
    "\n",
    "$\\eta = \\frac{1}{L}$, where $L$ is the smoothness and $\\eta$ is the learning rate. \n",
    "\n",
    "Thus a smaller $L$ value results in a larger $\\eta$ value."
   ]
  },
  {
   "cell_type": "markdown",
   "id": "94b3b957",
   "metadata": {},
   "source": [
    "# 2. Max pooling or convolution with stride"
   ]
  },
  {
   "cell_type": "markdown",
   "id": "fbcf6b8c",
   "metadata": {},
   "source": [
    "In this exercise, we will compare two alternatives: convolution + max pooling, as considered in Exercise\n",
    "1, versus a convolution with a stride greater than 1. Throughout this exercise, we do not use batch norm."
   ]
  },
  {
   "cell_type": "code",
   "execution_count": 17,
   "id": "f552f109",
   "metadata": {},
   "outputs": [],
   "source": [
    "class CovNetNoBatchNormSameSize(torch.nn.Module):\n",
    "    def __init__(self, num_classes=10):\n",
    "        super().__init__()\n",
    "        self.conv_ensemble_1 = torch.nn.Sequential(\n",
    "            torch.nn.Conv2d(in_channels=1, out_channels=16, kernel_size=5, padding=2, stride=2),\n",
    "            torch.nn.ReLU())\n",
    "        self.conv_ensemble_2 = torch.nn.Sequential(\n",
    "            torch.nn.Conv2d(in_channels=16, out_channels=32, kernel_size=5, padding=2, stride=2),\n",
    "            torch.nn.ReLU())\n",
    "        \n",
    "        # cov_ensemble_2 has shape: torch.Size([1, 32, 26, 26])\n",
    "        self.fully_connected_layer = torch.nn.Linear(7*7*32, num_classes)\n",
    "        \n",
    "    def forward(self, x):\n",
    "        x = x.view(-1, 1, 28, 28)  # reshape input; convolutions need a channel\n",
    "        out = self.conv_ensemble_1(x)  # first convolution + relu + pooling\n",
    "        #print(f'Layer 2 Input: {out.shape}')\n",
    "        out = self.conv_ensemble_2(out) # second convolution + relu + pooling\n",
    "        #print(f'Final Input: {out.shape}')\n",
    "        out = out.view(out.shape[0], -1)  # flatten output\n",
    "        out = self.fully_connected_layer(out)  # output layer\n",
    "        return out"
   ]
  },
  {
   "cell_type": "markdown",
   "id": "8ab29cc7",
   "metadata": {},
   "source": [
    "Figure out the right stride so that the input to the second conv layer and the final linear layer are\n",
    "identical in shape to those in the previous exercise."
   ]
  },
  {
   "cell_type": "code",
   "execution_count": 18,
   "id": "99dacb38",
   "metadata": {},
   "outputs": [],
   "source": [
    "m3 = CovNetNoBatchNormSameSize(num_classes=10)"
   ]
  },
  {
   "cell_type": "code",
   "execution_count": 19,
   "id": "cb1cd6ab",
   "metadata": {},
   "outputs": [],
   "source": [
    "m4 = CovNetNoBatchNorm(num_classes=10)"
   ]
  },
  {
   "cell_type": "code",
   "execution_count": 20,
   "id": "d19b9a4c",
   "metadata": {},
   "outputs": [
    {
     "data": {
      "text/plain": [
       "tensor([[-0.1364,  0.0222,  0.0544, -0.1002, -0.1649, -0.0130,  0.1072, -0.0075,\n",
       "          0.1371, -0.0609]], grad_fn=<AddmmBackward0>)"
      ]
     },
     "execution_count": 20,
     "metadata": {},
     "output_type": "execute_result"
    }
   ],
   "source": [
    "'''\n",
    "Trying to match the following (Ex 1)\n",
    "\n",
    "Layer 2 Input: torch.Size([1, 16, 14, 14])\n",
    "Final Input: torch.Size([1, 32, 7, 7])\n",
    "'''\n",
    "\n",
    "m3(random_image)"
   ]
  },
  {
   "cell_type": "markdown",
   "id": "2e31ab9c",
   "metadata": {},
   "source": [
    "Train each ConvNet, with a learning rate of 0.04 and a batch size of 32 for 10 passes through the data. The rest of the setup, including dataset preprocessing, is identical to Exercise 1."
   ]
  },
  {
   "cell_type": "code",
   "execution_count": 21,
   "id": "34eb8b02",
   "metadata": {},
   "outputs": [
    {
     "name": "stdout",
     "output_type": "stream",
     "text": [
      "Train Loss = 2.311, Train Accuracy = 0.063, Test Loss = 2.311, Test Accuracy = 0.059\n",
      "0.605155238223401\n",
      "Train Loss = 0.577, Train Accuracy = 0.785, Test Loss = 0.625, Test Accuracy = 0.767\n",
      "0.3403315510535405\n",
      "Train Loss = 0.473, Train Accuracy = 0.837, Test Loss = 0.549, Test Accuracy = 0.810\n",
      "0.29171773399465933\n",
      "Train Loss = 0.417, Train Accuracy = 0.844, Test Loss = 0.507, Test Accuracy = 0.816\n",
      "0.2423640320297841\n",
      "Train Loss = 0.371, Train Accuracy = 0.868, Test Loss = 0.486, Test Accuracy = 0.826\n",
      "0.23680898904886663\n",
      "Train Loss = 0.336, Train Accuracy = 0.874, Test Loss = 0.468, Test Accuracy = 0.834\n",
      "0.21623955207096252\n",
      "Train Loss = 0.324, Train Accuracy = 0.885, Test Loss = 0.470, Test Accuracy = 0.836\n",
      "0.20026351094434205\n",
      "Train Loss = 0.308, Train Accuracy = 0.889, Test Loss = 0.478, Test Accuracy = 0.845\n",
      "0.18325313030500676\n",
      "Train Loss = 0.280, Train Accuracy = 0.900, Test Loss = 0.448, Test Accuracy = 0.848\n",
      "0.17247257084098197\n",
      "Train Loss = 0.262, Train Accuracy = 0.908, Test Loss = 0.455, Test Accuracy = 0.850\n",
      "0.17322208970362965\n",
      "Train Loss = 0.242, Train Accuracy = 0.916, Test Loss = 0.449, Test Accuracy = 0.848\n",
      "\n",
      "Train Loss = 2.300, Train Accuracy = 0.089, Test Loss = 2.303, Test Accuracy = 0.091\n",
      "0.5902338012673278\n",
      "Train Loss = 0.573, Train Accuracy = 0.791, Test Loss = 0.629, Test Accuracy = 0.771\n",
      "0.34883395773970327\n",
      "Train Loss = 0.427, Train Accuracy = 0.858, Test Loss = 0.498, Test Accuracy = 0.832\n",
      "0.2760762032693727\n",
      "Train Loss = 0.402, Train Accuracy = 0.860, Test Loss = 0.504, Test Accuracy = 0.828\n",
      "0.24085568448713998\n",
      "Train Loss = 0.344, Train Accuracy = 0.875, Test Loss = 0.455, Test Accuracy = 0.846\n",
      "0.22227712806506109\n",
      "Train Loss = 0.343, Train Accuracy = 0.874, Test Loss = 0.483, Test Accuracy = 0.844\n",
      "0.2010431612038585\n",
      "Train Loss = 0.304, Train Accuracy = 0.896, Test Loss = 0.467, Test Accuracy = 0.852\n",
      "0.1759295753463106\n",
      "Train Loss = 0.279, Train Accuracy = 0.901, Test Loss = 0.460, Test Accuracy = 0.855\n",
      "0.1716977108372874\n",
      "Train Loss = 0.250, Train Accuracy = 0.912, Test Loss = 0.438, Test Accuracy = 0.856\n",
      "0.1567501663584897\n",
      "Train Loss = 0.232, Train Accuracy = 0.919, Test Loss = 0.428, Test Accuracy = 0.860\n",
      "0.14642424677104848\n",
      "Train Loss = 0.199, Train Accuracy = 0.934, Test Loss = 0.445, Test Accuracy = 0.868\n",
      "\n"
     ]
    }
   ],
   "source": [
    "batch_logs_2 = []\n",
    "learning_rate = 0.04\n",
    "num_passes = 10\n",
    "batch_size = 32\n",
    "\n",
    "m3 = CovNetNoBatchNormSameSize(num_classes=10)\n",
    "m4 = CovNetNoBatchNorm(num_classes=10)\n",
    "\n",
    "for i, model in enumerate([m3, m4]):\n",
    "    logs = []\n",
    "    logs.append(compute_logs(model, True))\n",
    "    for _ in range(num_passes):\n",
    "        model = minibatch_sgd_one_pass(model, X_train, y_train, learning_rate, \n",
    "                                       batch_size=batch_size, verbose=True)\n",
    "        \n",
    "        logs.append(compute_logs(model, True))\n",
    "    \n",
    "    # done training this mode - append logs\n",
    "    batch_logs_2.append(logs)\n",
    "    \n",
    "    # save the model parms\n",
    "    torch.save(model.state_dict(), f'./models/{type(model).__name__}_ex2.pt')\n",
    "    \n",
    "    print()\n",
    "\n",
    "with open('./models/logs_2.pkl', 'wb') as f:\n",
    "    pickle.dump(batch_logs_2, f)"
   ]
  },
  {
   "cell_type": "code",
   "execution_count": 26,
   "id": "708f9d8f",
   "metadata": {},
   "outputs": [
    {
     "data": {
      "image/png": "[encoded data removed]",
      "text/plain": [
       "<Figure size 1440x288 with 4 Axes>"
      ]
     },
     "metadata": {
      "needs_background": "light"
     },
     "output_type": "display_data"
    }
   ],
   "source": [
    "f, ax = plt.subplots(1, 4, figsize=(20, 4))\n",
    "\n",
    "ax[0].set_title('Train Loss', fontsize=18)\n",
    "ax[1].set_title('Train Accuracy', fontsize=18)\n",
    "ax[2].set_title('Test Loss', fontsize=18)\n",
    "ax[3].set_title('Test Accuracy', fontsize=18)\n",
    "\n",
    "#TODO: Swap the case for j\n",
    "for j, case in enumerate(batch_logs_2):\n",
    "    if j == 0:\n",
    "        line_label = f'Stride > 0'\n",
    "    else:\n",
    "        line_label = f'max pooling'\n",
    "\n",
    "    for i in range(4):\n",
    "        ax[i].set_xlabel('#Passes', fontsize=18)\n",
    "        ax[i].set_ylabel('Loss' if i%2==0 else 'Accuracy', fontsize=18)\n",
    "        ax[i].plot(list(map(lambda x: x[i], case)), label=line_label)\n",
    "        \n",
    "ax[1].legend(fontsize=18)\n",
    "plt.tight_layout()"
   ]
  },
  {
   "cell_type": "markdown",
   "id": "cd282ba0",
   "metadata": {},
   "source": [
    "There is no observable difference in the performance of the 2 models"
   ]
  }
 ],
 "metadata": {
  "kernelspec": {
   "display_name": "Python 3 (ipykernel)",
   "language": "python",
   "name": "python3"
  },
  "language_info": {
   "codemirror_mode": {
    "name": "ipython",
    "version": 3
   },
   "file_extension": ".py",
   "mimetype": "text/x-python",
   "name": "python",
   "nbconvert_exporter": "python",
   "pygments_lexer": "ipython3",
   "version": "3.8.12"
  }
 },
 "nbformat": 4,
 "nbformat_minor": 5
}
