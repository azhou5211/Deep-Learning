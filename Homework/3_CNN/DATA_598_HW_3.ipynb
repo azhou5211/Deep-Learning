{
 "cells": [
  {
   "cell_type": "markdown",
   "id": "98095f3e",
   "metadata": {},
   "source": [
    "# \n",
    "<center><h1> Homework 3: ConvNet\n",
    "<center> Apoorv Sharma </center>\n",
    "    <center> DATA 598 (Winter 2022), University of Washington </center>"
   ]
  },
  {
   "cell_type": "markdown",
   "id": "5fa467d9",
   "metadata": {},
   "source": [
    "# 1. The Effect of BatchNorm on a ConvNet"
   ]
  },
  {
   "cell_type": "markdown",
   "id": "5a91b41e",
   "metadata": {},
   "source": [
    "In this exercise, we will combine both the topics we covered in class this week. The goal of this exercise is to\n",
    "visualize the effective smoothness of a covolutional neural network with and without batch normalization.\n",
    "\n",
    "Let $\\phi(.; \\omega) : \\mathbb{R}^{28x28} \\rightarrow \\mathbb{R}^{10}$ denote a convolution neural network with parameters $\\omega$ which takes in an image of size $28 × 28$ and returns a score for 10 output classes (All the MLPs and ConvNets we have considered so far fit this input-output description of $\\phi$, upto a reshaping of the images). Consider the\n",
    "objective function:\n",
    "\n",
    "$$\n",
    "f(\\omega) = \\frac{1}{n} \\sum_{i=1}^{n} l(y_i, \\phi(x_i,\\omega))\n",
    "$$"
   ]
  },
  {
   "cell_type": "markdown",
   "id": "6024666d",
   "metadata": {},
   "source": [
    "Concretely, your task is as follows:\n",
    "* Use the FashionMNIST dataset. Perform the same preprocessing as in previous homeworks.\n",
    "* Code up a ConvNet module with two convolutional layers with the following structure (the input has 1 channel, so we write the image as 1 × 28 × 28):"
   ]
  },
  {
   "cell_type": "code",
   "execution_count": 1,
   "id": "f77edb55",
   "metadata": {},
   "outputs": [],
   "source": [
    "import torch\n",
    "import numpy as np\n",
    "\n",
    "from torchvision.datasets import FashionMNIST\n",
    "from torch.nn.functional import cross_entropy, relu\n",
    "\n",
    "import pickle\n",
    "import os\n",
    "import copy\n",
    "import math\n",
    "\n",
    "import matplotlib.pyplot as plt \n",
    "%matplotlib inline"
   ]
  },
  {
   "cell_type": "code",
   "execution_count": 2,
   "id": "a790444b",
   "metadata": {},
   "outputs": [],
   "source": [
    "path = './models'\n",
    "if not os.path.exists(path):\n",
    "  os.makedirs(path)"
   ]
  },
  {
   "cell_type": "markdown",
   "id": "e3ea67d1",
   "metadata": {},
   "source": [
    "#### CovNet1 Specification\n",
    "\n",
    "* k denotes the kernel/filter size and “#filters” denotes the number of filters\n",
    "* In PyTorch, the convolutions and pooling operations on images are called “Conv2d” and “Max-Pool2d” respectively.\n",
    "* For the first conv layer, the specification asks you to use a kernel size of 5, and a padding of 2. The number of input channels is the same as the number of channels from the preceding layer (here, it is 1 since the preceding layer is just the image with 1 channel). Finally, the number of output channels is the same as the number of filters (here, 16). The second conv layer is constructed in a similarly; the number of input channels is the same as the number of outputs channels of the first conv layer (since ReLU and MaxPool do not change the number of channels). When not specified, we take the stride to be 1.\n",
    "* The last “Linear” layer takes in the output of the second MaxPool and flattens it down to a vector of a certain size S. You are to figure out this size by running a dummy input through these layers and analyzing the output size, as we have done in the lab. The linear layer then maps this S-dimensional input to a 10-dimensional output, one for each class."
   ]
  },
  {
   "cell_type": "code",
   "execution_count": 3,
   "id": "3ec5983f",
   "metadata": {},
   "outputs": [],
   "source": [
    "class CovNetNoBatchNorm(torch.nn.Module):\n",
    "    def __init__(self, num_classes=10):\n",
    "        super().__init__()\n",
    "        self.conv_ensemble_1 = torch.nn.Sequential(\n",
    "            torch.nn.Conv2d(in_channels=1, out_channels=16, kernel_size=5, padding=2),\n",
    "            torch.nn.ReLU(),\n",
    "            torch.nn.MaxPool2d(2))\n",
    "        self.conv_ensemble_2 = torch.nn.Sequential(\n",
    "            torch.nn.Conv2d(in_channels=16, out_channels=32, kernel_size=5, padding=2),\n",
    "            torch.nn.ReLU(),\n",
    "            torch.nn.MaxPool2d(2))\n",
    "        \n",
    "        # cov_ensemble_2 has shape: torch.Size([1, 32, 26, 26])\n",
    "        self.fully_connected_layer = torch.nn.Linear(7*7*32, num_classes)\n",
    "        \n",
    "    def forward(self, x):\n",
    "        x = x.view(-1, 1, 28, 28)  # reshape input; convolutions need a channel\n",
    "        out = self.conv_ensemble_1(x)  # first convolution + relu + pooling\n",
    "        out = self.conv_ensemble_2(out) # second convolution + relu + pooling\n",
    "        out = out.view(out.shape[0], -1)  # flatten output\n",
    "        out = self.fully_connected_layer(out)  # output layer\n",
    "        return out"
   ]
  },
  {
   "cell_type": "code",
   "execution_count": 4,
   "id": "30f382d3",
   "metadata": {},
   "outputs": [],
   "source": [
    "image_size = 28\n",
    "random_image = torch.randn(1, 1, image_size, image_size)"
   ]
  },
  {
   "cell_type": "code",
   "execution_count": 5,
   "id": "a4eecc1e",
   "metadata": {},
   "outputs": [],
   "source": [
    "class CovNetBatchNorm(torch.nn.Module):\n",
    "    def __init__(self, num_classes=10):\n",
    "        super().__init__()\n",
    "        self.conv_ensemble_1 = torch.nn.Sequential(\n",
    "            torch.nn.Conv2d(in_channels=1, out_channels=16, kernel_size=5, padding=2),\n",
    "            torch.nn.ReLU(),\n",
    "            torch.nn.MaxPool2d(2),\n",
    "            torch.nn.BatchNorm2d(16))\n",
    "        self.conv_ensemble_2 = torch.nn.Sequential(\n",
    "            torch.nn.Conv2d(in_channels=16, out_channels=32, kernel_size=5, padding=2),\n",
    "            torch.nn.ReLU(),\n",
    "            torch.nn.MaxPool2d(2),\n",
    "            torch.nn.BatchNorm2d(32))\n",
    "        \n",
    "        # cov_ensemble_2 has shape: torch.Size([1, 32, 26, 26])\n",
    "        self.fully_connected_layer = torch.nn.Linear(7*7*32, num_classes)\n",
    "        \n",
    "    def forward(self, x):\n",
    "        x = x.view(-1, 1, 28, 28)  # reshape input; convolutions need a channel\n",
    "        out = self.conv_ensemble_1(x)  # first convolution + relu + pooling\n",
    "        out = self.conv_ensemble_2(out) # second convolution + relu + pooling\n",
    "        out = out.view(out.shape[0], -1)  # flatten output\n",
    "        out = self.fully_connected_layer(out)  # output layer\n",
    "        return out"
   ]
  },
  {
   "cell_type": "markdown",
   "id": "9f3dee52",
   "metadata": {},
   "source": [
    "Test the models and ensure that they work"
   ]
  },
  {
   "cell_type": "code",
   "execution_count": 6,
   "id": "5b484cb9",
   "metadata": {},
   "outputs": [],
   "source": [
    "m1 = CovNetNoBatchNorm(num_classes=10)"
   ]
  },
  {
   "cell_type": "code",
   "execution_count": 7,
   "id": "df0d591f",
   "metadata": {},
   "outputs": [],
   "source": [
    "m2 = CovNetBatchNorm(num_classes=10)"
   ]
  },
  {
   "cell_type": "code",
   "execution_count": 8,
   "id": "03e60da9",
   "metadata": {},
   "outputs": [
    {
     "name": "stdout",
     "output_type": "stream",
     "text": [
      "tensor([[ 0.1016, -0.2411, -0.3763, -0.3883,  0.0033, -0.2623, -0.2217,  0.0976,\n",
      "          0.2097,  0.3103]], grad_fn=<AddmmBackward0>)\n"
     ]
    }
   ],
   "source": [
    "output = m1(random_image)\n",
    "print(output)"
   ]
  },
  {
   "cell_type": "code",
   "execution_count": 9,
   "id": "d74ebac2",
   "metadata": {},
   "outputs": [
    {
     "name": "stdout",
     "output_type": "stream",
     "text": [
      "tensor([[ 0.1623,  0.6407,  0.8012,  0.0449, -0.6774, -0.7373,  0.1761,  0.7273,\n",
      "          0.4897, -0.5715]], grad_fn=<AddmmBackward0>)\n"
     ]
    }
   ],
   "source": [
    "output = m2(random_image)\n",
    "print(output)"
   ]
  },
  {
   "cell_type": "code",
   "execution_count": 10,
   "id": "642d095a",
   "metadata": {},
   "outputs": [
    {
     "name": "stdout",
     "output_type": "stream",
     "text": [
      "X_train.shape = torch.Size([6000, 28, 28])\n",
      "n_train: 6000, n_test: 10000\n",
      "Image size: torch.Size([28, 28])\n"
     ]
    }
   ],
   "source": [
    "# download dataset (~117M in size)\n",
    "train_dataset = FashionMNIST('./data', train=True, download=True)\n",
    "X_train = train_dataset.data # torch tensor of type uint8\n",
    "y_train = train_dataset.targets # torch tensor of type Long\n",
    "test_dataset = FashionMNIST('./data', train=False, download=True)\n",
    "X_test = test_dataset.data\n",
    "y_test = test_dataset.targets\n",
    "\n",
    "# choose a subsample of 10% of the data:\n",
    "idxs_train = torch.from_numpy(\n",
    "    np.random.choice(X_train.shape[0], replace=False, size=X_train.shape[0]//10))\n",
    "X_train, y_train = X_train[idxs_train], y_train[idxs_train]\n",
    "# idxs_test = torch.from_numpy(\n",
    "#     np.random.choice(X_test.shape[0], replace=False, size=X_test.shape[0]//10))\n",
    "# X_test, y_test = X_test[idxs_test], y_test[idxs_test]\n",
    "\n",
    "print(f'X_train.shape = {X_train.shape}')\n",
    "print(f'n_train: {X_train.shape[0]}, n_test: {X_test.shape[0]}')\n",
    "print(f'Image size: {X_train.shape[1:]}')\n",
    "\n",
    "# Normalize dataset: pixel values lie between 0 and 255\n",
    "# Normalize them so the pixelwise mean is zero and standard deviation is 1\n",
    "\n",
    "X_train = X_train.float()  # convert to float32\n",
    "X_train = X_train.view(-1, 784)  # flatten into a (n, d) shape\n",
    "mean, std = X_train.mean(axis=0), X_train.std(axis=0)\n",
    "X_train = (X_train - mean[None, :]) / (std[None, :] + 1e-6)  # avoid divide by zero\n",
    "\n",
    "X_test = X_test.float()\n",
    "X_test = X_test.view(-1, 784)\n",
    "X_test = (X_test - mean[None, :]) / (std[None, :] + 1e-6)\n",
    "\n",
    "n_class = np.unique(y_train).shape[0]"
   ]
  },
  {
   "cell_type": "code",
   "execution_count": 11,
   "id": "df7bcd16",
   "metadata": {},
   "outputs": [],
   "source": [
    "def compute_objective(model, X, y):\n",
    "    \"\"\" Compute the multinomial logistic loss. \n",
    "        model is a module\n",
    "        X of shape (n, d) and y of shape (n,)\n",
    "    \"\"\"\n",
    "    # send \n",
    "    score = model(X)\n",
    "    # PyTorch's function cross_entropy computes the multinomial logistic loss\n",
    "    return cross_entropy(input=score, target=y, reduction='mean') \n",
    "\n",
    "@torch.no_grad()\n",
    "def compute_accuracy(model, X, y):\n",
    "    \"\"\" Compute the classification accuracy\n",
    "        ws is a list of tensors of consistent shapes \n",
    "        X of shape (n, d) and y of shape (n,)\n",
    "    \"\"\"\n",
    "    is_train = model.training  # if True, model is in training mode\n",
    "    model.eval()  # use eval mode for accuracy\n",
    "    score = model(X)\n",
    "    predictions = torch.argmax(score, axis=1)  # class with highest score is predicted\n",
    "    if is_train:  # switch back to train mode if appropriate\n",
    "        model.train()\n",
    "    return (predictions == y).sum() * 1.0 / y.shape[0]\n",
    "\n",
    "@torch.no_grad()\n",
    "def compute_logs(model, verbose=False):\n",
    "    is_train = model.training  # if True, model is in training mode\n",
    "    model.eval()  # switch to eval mode\n",
    "    train_loss = compute_objective(model, X_train, y_train)\n",
    "    test_loss = compute_objective(model, X_test, y_test)\n",
    "    train_accuracy = compute_accuracy(model, X_train, y_train)\n",
    "    test_accuracy = compute_accuracy(model, X_test, y_test)\n",
    "    if verbose:\n",
    "        print(('Train Loss = {:.3f}, Train Accuracy = {:.3f}, ' + \n",
    "               'Test Loss = {:.3f}, Test Accuracy = {:.3f}').format(\n",
    "                train_loss.item(), train_accuracy.item(), \n",
    "                test_loss.item(), test_accuracy.item())\n",
    "    )\n",
    "    if is_train:  # switch back to train mode if appropriate\n",
    "        model.train()\n",
    "    return (train_loss, train_accuracy, test_loss, test_accuracy)"
   ]
  },
  {
   "cell_type": "code",
   "execution_count": 12,
   "id": "9d60297f",
   "metadata": {},
   "outputs": [],
   "source": [
    "def minibatch_sgd_one_pass(model, X, y, learning_rate, batch_size, verbose=False):\n",
    "    model.train()\n",
    "    num_examples = X.shape[0]\n",
    "    average_loss = 0.0\n",
    "    num_updates = int(round(num_examples / batch_size))\n",
    "    for i in range(num_updates):\n",
    "        idxs = np.random.choice(X.shape[0], size=(batch_size,)) # draw `batch_size` many samples\n",
    "        model.train()  # make sure we are in train mode\n",
    "        # compute the objective. \n",
    "        objective = compute_objective(model, X[idxs], y[idxs]) \n",
    "        average_loss = 0.99 * average_loss + 0.01 * objective.item()\n",
    "        if verbose and (i+1) % 100 == 0:\n",
    "            print(average_loss)\n",
    "        \n",
    "        # compute the gradient using automatic differentiation\n",
    "        gradients = torch.autograd.grad(outputs=objective, inputs=model.parameters())\n",
    "        \n",
    "        # perform SGD update. IMPORTANT: Make the update inplace!\n",
    "        with torch.no_grad():\n",
    "            for (w, g) in zip(model.parameters(), gradients):\n",
    "                w -= learning_rate * g\n",
    "    return model"
   ]
  },
  {
   "cell_type": "code",
   "execution_count": 13,
   "id": "cdd0c113",
   "metadata": {},
   "outputs": [],
   "source": [
    "def compute_effective_local_smoothness(model, X, y, learning_rate, batch_size, verbose=False):\n",
    "    \n",
    "    # choose random samples of size batch_size\n",
    "    idxs = np.random.choice(X.shape[0], size=(batch_size,))\n",
    "    \n",
    "    # STEP 1: COMPUTE 'U'\n",
    "    model.train()\n",
    "    objective_u = compute_objective(model, X[idxs], y[idxs]) \n",
    "\n",
    "    # compute the gradient using automatic differentiation\n",
    "    gradients_u = torch.autograd.grad(outputs=objective_u, inputs=model.parameters())\n",
    "    u = [-learning_rate * g for g in gradients_u]\n",
    "    \n",
    "    model.eval()\n",
    "    # STEP 2: COMPUTE F(W)\n",
    "    objective = compute_objective(model, X, y)\n",
    "    gradients = torch.autograd.grad(outputs=objective, inputs=model.parameters())\n",
    "    \n",
    "    # STEP 3: COMPUTE F(U + W)\n",
    "    model_new = copy.deepcopy(model)\n",
    "    \n",
    "    # perform SGD update - to get f(u+w)\n",
    "    with torch.no_grad():\n",
    "        for (w, g) in zip(model_new.parameters(), gradients_u):\n",
    "            w -= learning_rate * g\n",
    "\n",
    "    objective_new = compute_objective(model_new, X, y)\n",
    "    gradients_new = torch.autograd.grad(outputs=objective_new, inputs=model_new.parameters())\n",
    "    \n",
    "    # STEP 4: COMPUTE EFFECTIVE LOCAL SMOOTHNESS\n",
    "    effective_local_smoothness = 0\n",
    "    for i, (g_new, g_old) in enumerate(zip(gradients_new, gradients)):\n",
    "        effective_local_smoothness += torch.norm(g_new - g_old)\n",
    "        if verbose:\n",
    "            print(f'\\tIteration: {i} has L_hat : {effective_local_smoothness}')\n",
    "    effective_local_smoothness = math.sqrt(effective_local_smoothness)\n",
    "    \n",
    "    u_l2_norm = 0\n",
    "    for i, u_val in enumerate(u):\n",
    "        u_l2_norm += torch.norm(u_val)\n",
    "        if verbose:\n",
    "            print(f'\\tIteration: {i} has u_l2_norm : {u_l2_norm}')\n",
    "    u_l2_norm = math.sqrt(u_l2_norm)\n",
    "    \n",
    "    effective_local_smoothness /= u_l2_norm\n",
    "    if verbose:\n",
    "        print(f'Final L_hat : {effective_local_smoothness}')\n",
    "    \n",
    "    return effective_local_smoothness\n"
   ]
  },
  {
   "cell_type": "code",
   "execution_count": 14,
   "id": "150be2f2",
   "metadata": {},
   "outputs": [
    {
     "name": "stdout",
     "output_type": "stream",
     "text": [
      "Train Loss = 2.301, Train Accuracy = 0.086, Test Loss = 2.309, Test Accuracy = 0.086, Smoothness = 3.205\n",
      "0.7672079644566414\n",
      "Train Loss = 0.797, Train Accuracy = 0.712, Test Loss = 0.820, Test Accuracy = 0.705, Smoothness = 8.627\n",
      "0.4645170168251138\n",
      "Train Loss = 0.708, Train Accuracy = 0.742, Test Loss = 0.743, Test Accuracy = 0.730, Smoothness = 6.874\n",
      "0.4025559542037903\n",
      "Train Loss = 0.558, Train Accuracy = 0.808, Test Loss = 0.620, Test Accuracy = 0.783, Smoothness = 6.749\n",
      "0.33976802506040943\n",
      "Train Loss = 0.557, Train Accuracy = 0.791, Test Loss = 0.619, Test Accuracy = 0.770, Smoothness = 5.836\n",
      "0.3226731524099615\n",
      "Train Loss = 0.466, Train Accuracy = 0.839, Test Loss = 0.539, Test Accuracy = 0.814, Smoothness = 4.573\n",
      "0.30147109368432334\n",
      "Train Loss = 0.442, Train Accuracy = 0.839, Test Loss = 0.522, Test Accuracy = 0.818, Smoothness = 3.694\n",
      "0.27183690368143226\n",
      "Train Loss = 0.404, Train Accuracy = 0.857, Test Loss = 0.487, Test Accuracy = 0.834, Smoothness = 7.230\n",
      "0.27552854979104063\n",
      "Train Loss = 0.437, Train Accuracy = 0.835, Test Loss = 0.532, Test Accuracy = 0.810, Smoothness = 5.530\n",
      "0.25054749374802393\n",
      "Train Loss = 0.375, Train Accuracy = 0.868, Test Loss = 0.471, Test Accuracy = 0.842, Smoothness = 5.200\n",
      "0.2508992686233923\n",
      "Train Loss = 0.362, Train Accuracy = 0.873, Test Loss = 0.457, Test Accuracy = 0.842, Smoothness = 4.307\n",
      "\n",
      "Train Loss = 2.296, Train Accuracy = 0.098, Test Loss = 2.297, Test Accuracy = 0.098, Smoothness = 1.986\n",
      "0.4238848259343566\n",
      "Train Loss = 0.418, Train Accuracy = 0.863, Test Loss = 0.543, Test Accuracy = 0.827, Smoothness = 3.887\n",
      "0.2650918160816693\n",
      "Train Loss = 0.337, Train Accuracy = 0.885, Test Loss = 0.491, Test Accuracy = 0.835, Smoothness = 2.988\n",
      "0.20262016958336518\n",
      "Train Loss = 0.281, Train Accuracy = 0.904, Test Loss = 0.462, Test Accuracy = 0.852, Smoothness = 3.738\n",
      "0.16783603981081238\n",
      "Train Loss = 0.241, Train Accuracy = 0.930, Test Loss = 0.439, Test Accuracy = 0.859, Smoothness = 3.807\n",
      "0.14813280300158757\n",
      "Train Loss = 0.215, Train Accuracy = 0.933, Test Loss = 0.452, Test Accuracy = 0.853, Smoothness = 3.667\n",
      "0.12253552270562391\n",
      "Train Loss = 0.183, Train Accuracy = 0.944, Test Loss = 0.441, Test Accuracy = 0.862, Smoothness = 4.042\n",
      "0.11965837465128852\n",
      "Train Loss = 0.160, Train Accuracy = 0.954, Test Loss = 0.428, Test Accuracy = 0.868, Smoothness = 4.038\n",
      "0.09842550398076982\n",
      "Train Loss = 0.138, Train Accuracy = 0.960, Test Loss = 0.432, Test Accuracy = 0.865, Smoothness = 4.794\n",
      "0.08366200721752606\n",
      "Train Loss = 0.122, Train Accuracy = 0.970, Test Loss = 0.423, Test Accuracy = 0.872, Smoothness = 4.058\n",
      "0.07677990264893718\n",
      "Train Loss = 0.113, Train Accuracy = 0.973, Test Loss = 0.436, Test Accuracy = 0.863, Smoothness = 3.354\n",
      "\n"
     ]
    }
   ],
   "source": [
    "batch_logs = []\n",
    "learning_rate = 0.01\n",
    "num_passes = 10\n",
    "batch_size = 32\n",
    "\n",
    "m1 = CovNetNoBatchNorm(num_classes=10)\n",
    "m2 = CovNetBatchNorm(num_classes=10)\n",
    "\n",
    "for i, model in enumerate([m1, m2]):\n",
    "    logs = []\n",
    "    log = list(compute_logs(model, False)) +\\\n",
    "            [torch.tensor(compute_effective_local_smoothness(model, X_train, y_train, learning_rate, \n",
    "                                                batch_size=batch_size, verbose=False))]\n",
    "    logs.append(log)\n",
    "    print(('Train Loss = {:.3f}, Train Accuracy = {:.3f}, ' + \n",
    "               'Test Loss = {:.3f}, Test Accuracy = {:.3f}, Smoothness = {:.3f}').format(\n",
    "                logs[-1][0].item(), logs[-1][1].item(), \n",
    "                logs[-1][2].item(), logs[-1][3].item(), logs[-1][4].item()))\n",
    "    \n",
    "    for _ in range(num_passes):\n",
    "        model = minibatch_sgd_one_pass(model, X_train, y_train, learning_rate, \n",
    "                                       batch_size=batch_size, verbose=True)\n",
    "        \n",
    "        log = list(compute_logs(model, False)) +\\\n",
    "            [torch.tensor(compute_effective_local_smoothness(model, X_train, y_train, learning_rate, \n",
    "                                                batch_size=batch_size, verbose=False))]\n",
    "        logs.append(log)\n",
    "        print(('Train Loss = {:.3f}, Train Accuracy = {:.3f}, ' + \n",
    "               'Test Loss = {:.3f}, Test Accuracy = {:.3f}, Smoothness = {:.3f}').format(\n",
    "                logs[-1][0].item(), logs[-1][1].item(), \n",
    "                logs[-1][2].item(), logs[-1][3].item(), logs[-1][4].item()))\n",
    "    \n",
    "    # done training this mode - append logs\n",
    "    batch_logs.append(logs)\n",
    "    \n",
    "    # save the model parms\n",
    "    torch.save(model.state_dict(), f'./models/{type(model).__name__}.pt')\n",
    "    \n",
    "    print()\n",
    "\n",
    "with open('./models/logs.pkl', 'wb') as f:\n",
    "    pickle.dump(batch_logs, f)"
   ]
  },
  {
   "cell_type": "code",
   "execution_count": 15,
   "id": "563e88af",
   "metadata": {},
   "outputs": [],
   "source": [
    "without_norm_logs, with_norm_logs = batch_logs"
   ]
  },
  {
   "cell_type": "code",
   "execution_count": 16,
   "id": "737db6c5",
   "metadata": {},
   "outputs": [
    {
     "data": {
      "image/png": "[encoded data removed]",
      "text/plain": [
       "<Figure size 1440x288 with 3 Axes>"
      ]
     },
     "metadata": {
      "needs_background": "light"
     },
     "output_type": "display_data"
    }
   ],
   "source": [
    "f, ax = plt.subplots(1, 3, figsize=(20, 4))\n",
    "\n",
    "ax[0].set_title('Train Loss', fontsize=18)\n",
    "ax[1].set_title('Test Accuracy', fontsize=18)\n",
    "ax[2].set_title('Effective Local Smoothness', fontsize=18)\n",
    "\n",
    "# Train Loss\n",
    "ax[0].set_xlabel('#Passes', fontsize=18)\n",
    "ax[0].set_ylabel('Train Loss', fontsize=18)\n",
    "ax[0].plot(list(map(lambda x: x[0].item(), without_norm_logs)), label=f'Without Batch Norm')\n",
    "ax[0].plot(list(map(lambda x: x[0].item(), with_norm_logs)), label='With Bach Norm')\n",
    "\n",
    "# Test Accuracy\n",
    "ax[1].set_xlabel('#Passes', fontsize=18)\n",
    "ax[1].set_ylabel('Test Accuracy', fontsize=18)\n",
    "ax[1].plot(list(map(lambda x: x[3], without_norm_logs)), label=f'Without Batch Norm')\n",
    "ax[1].plot(list(map(lambda x: x[3], with_norm_logs)), label='With Bach Norm')\n",
    "\n",
    "# Effective Local Smoothness\n",
    "ax[2].set_xlabel('#Passes', fontsize=18)\n",
    "ax[2].set_ylabel('Effective Local Smoothness', fontsize=18)\n",
    "ax[2].plot(list(map(lambda x: x[4], without_norm_logs)), label=f'Without Batch Norm')\n",
    "ax[2].plot(list(map(lambda x: x[4], with_norm_logs)), label='With Bach Norm')\n",
    "        \n",
    "ax[1].legend(fontsize=18)\n",
    "plt.tight_layout()"
   ]
  },
  {
   "cell_type": "markdown",
   "id": "ab7c25be",
   "metadata": {},
   "source": [
    "Using batch norm results improved performance: lower training loss and slightly higher accuracy. Moreover, the smoothness value is also lower. \n",
    "\n",
    "We can use a larger learning rate since the smoothness value is lower when using batch norm. This is because:\n",
    "\n",
    "$\\eta = \\frac{1}{L}$, where $L$ is the smoothness and $\\eta$ is the learning rate. \n",
    "\n",
    "Thus a smaller $L$ value results in a larger $\\eta$ value."
   ]
  }
 ],
 "metadata": {
  "kernelspec": {
   "display_name": "Python 3 (ipykernel)",
   "language": "python",
   "name": "python3"
  },
  "language_info": {
   "codemirror_mode": {
    "name": "ipython",
    "version": 3
   },
   "file_extension": ".py",
   "mimetype": "text/x-python",
   "name": "python",
   "nbconvert_exporter": "python",
   "pygments_lexer": "ipython3",
   "version": "3.8.12"
  }
 },
 "nbformat": 4,
 "nbformat_minor": 5
}
