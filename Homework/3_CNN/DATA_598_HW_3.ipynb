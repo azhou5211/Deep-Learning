{
 "cells": [
  {
   "cell_type": "markdown",
   "id": "028436ac",
   "metadata": {},
   "source": [
    "# \n",
    "<center><h1> Homework 3: ConvNet\n",
    "<center> Apoorv Sharma </center>\n",
    "    <center> DATA 598 (Winter 2022), University of Washington </center>"
   ]
  },
  {
   "cell_type": "markdown",
   "id": "a3648960",
   "metadata": {},
   "source": [
    "# 1. The Effect of BatchNorm on a ConvNet"
   ]
  },
  {
   "cell_type": "markdown",
   "id": "b0287f80",
   "metadata": {},
   "source": [
    "In this exercise, we will combine both the topics we covered in class this week. The goal of this exercise is to\n",
    "visualize the effective smoothness of a covolutional neural network with and without batch normalization.\n",
    "\n",
    "Let $\\phi(.; \\omega) : \\mathbb{R}^{28x28} \\rightarrow \\mathbb{R}^{10}$ denote a convolution neural network with parameters $\\omega$ which takes in an image of size $28 × 28$ and returns a score for 10 output classes (All the MLPs and ConvNets we have considered so far fit this input-output description of $\\phi$, upto a reshaping of the images). Consider the\n",
    "objective function:\n",
    "\n",
    "$$\n",
    "f(\\omega) = \\frac{1}{n} \\sum_{i=1}^{n} l(y_i, \\phi(x_i,\\omega))\n",
    "$$"
   ]
  },
  {
   "cell_type": "markdown",
   "id": "6084753a",
   "metadata": {},
   "source": [
    "Concretely, your task is as follows:\n",
    "* Use the FashionMNIST dataset. Perform the same preprocessing as in previous homeworks.\n",
    "* Code up a ConvNet module with two convolutional layers with the following structure (the input has 1 channel, so we write the image as 1 × 28 × 28):"
   ]
  },
  {
   "cell_type": "code",
   "execution_count": 1,
   "id": "fc35a2b1",
   "metadata": {},
   "outputs": [],
   "source": [
    "import torch\n",
    "import numpy as np\n",
    "\n",
    "from torchvision.datasets import FashionMNIST\n",
    "from torch.nn.functional import cross_entropy, relu\n",
    "\n",
    "import pickle\n",
    "import os\n",
    "import copy\n",
    "import math\n",
    "\n",
    "import matplotlib.pyplot as plt \n",
    "%matplotlib inline"
   ]
  },
  {
   "cell_type": "code",
   "execution_count": 2,
   "id": "404665fb",
   "metadata": {},
   "outputs": [],
   "source": [
    "path = './models'\n",
    "if not os.path.exists(path):\n",
    "  os.makedirs(path)"
   ]
  },
  {
   "cell_type": "markdown",
   "id": "e50de12d",
   "metadata": {},
   "source": [
    "#### CovNet1 Specification\n",
    "\n",
    "* k denotes the kernel/filter size and “#filters” denotes the number of filters\n",
    "* In PyTorch, the convolutions and pooling operations on images are called “Conv2d” and “Max-Pool2d” respectively.\n",
    "* For the first conv layer, the specification asks you to use a kernel size of 5, and a padding of 2. The number of input channels is the same as the number of channels from the preceding layer (here, it is 1 since the preceding layer is just the image with 1 channel). Finally, the number of output channels is the same as the number of filters (here, 16). The second conv layer is constructed in a similarly; the number of input channels is the same as the number of outputs channels of the first conv layer (since ReLU and MaxPool do not change the number of channels). When not specified, we take the stride to be 1.\n",
    "* The last “Linear” layer takes in the output of the second MaxPool and flattens it down to a vector of a certain size S. You are to figure out this size by running a dummy input through these layers and analyzing the output size, as we have done in the lab. The linear layer then maps this S-dimensional input to a 10-dimensional output, one for each class."
   ]
  },
  {
   "cell_type": "code",
   "execution_count": 3,
   "id": "26df94a9",
   "metadata": {},
   "outputs": [],
   "source": [
    "class CovNetNoBatchNorm(torch.nn.Module):\n",
    "    def __init__(self, num_classes=10):\n",
    "        super().__init__()\n",
    "        self.conv_ensemble_1 = torch.nn.Sequential(\n",
    "            torch.nn.Conv2d(in_channels=1, out_channels=16, kernel_size=5, padding=2),\n",
    "            torch.nn.ReLU(),\n",
    "            torch.nn.MaxPool2d(2, stride=1))\n",
    "        self.conv_ensemble_2 = torch.nn.Sequential(\n",
    "            torch.nn.Conv2d(in_channels=16, out_channels=32, kernel_size=5, padding=2),\n",
    "            torch.nn.ReLU(),\n",
    "            torch.nn.MaxPool2d(2, stride=1))\n",
    "        \n",
    "        # cov_ensemble_2 has shape: torch.Size([1, 32, 26, 26])\n",
    "        self.fully_connected_layer = torch.nn.Linear(26*26*32, num_classes)\n",
    "        \n",
    "    def forward(self, x):\n",
    "        x = x.view(-1, 1, 28, 28)  # reshape input; convolutions need a channel\n",
    "        out = self.conv_ensemble_1(x)  # first convolution + relu + pooling\n",
    "        out = self.conv_ensemble_2(out) # second convolution + relu + pooling\n",
    "        out = out.view(out.shape[0], -1)  # flatten output\n",
    "        out = self.fully_connected_layer(out)  # output layer\n",
    "        return out"
   ]
  },
  {
   "cell_type": "code",
   "execution_count": 4,
   "id": "d039ffbc",
   "metadata": {},
   "outputs": [],
   "source": [
    "image_size = 28\n",
    "random_image = torch.randn(1, 1, image_size, image_size)"
   ]
  },
  {
   "cell_type": "code",
   "execution_count": 5,
   "id": "e52f8f2e",
   "metadata": {},
   "outputs": [],
   "source": [
    "class CovNetBatchNorm(torch.nn.Module):\n",
    "    def __init__(self, num_classes=10):\n",
    "        super().__init__()\n",
    "        self.conv_ensemble_1 = torch.nn.Sequential(\n",
    "            torch.nn.Conv2d(in_channels=1, out_channels=16, kernel_size=5, padding=2),\n",
    "            torch.nn.ReLU(),\n",
    "            torch.nn.MaxPool2d(2, stride=1),\n",
    "            torch.nn.BatchNorm2d(16))\n",
    "        self.conv_ensemble_2 = torch.nn.Sequential(\n",
    "            torch.nn.Conv2d(in_channels=16, out_channels=32, kernel_size=5, padding=2),\n",
    "            torch.nn.ReLU(),\n",
    "            torch.nn.MaxPool2d(2, stride=1),\n",
    "            torch.nn.BatchNorm2d(32))\n",
    "        \n",
    "        # cov_ensemble_2 has shape: torch.Size([1, 32, 26, 26])\n",
    "        self.fully_connected_layer = torch.nn.Linear(26*26*32, num_classes)\n",
    "        \n",
    "    def forward(self, x):\n",
    "        x = x.view(-1, 1, 28, 28)  # reshape input; convolutions need a channel\n",
    "        out = self.conv_ensemble_1(x)  # first convolution + relu + pooling\n",
    "        out = self.conv_ensemble_2(out) # second convolution + relu + pooling\n",
    "        out = out.view(out.shape[0], -1)  # flatten output\n",
    "        out = self.fully_connected_layer(out)  # output layer\n",
    "        return out"
   ]
  },
  {
   "cell_type": "markdown",
   "id": "fe43e558",
   "metadata": {},
   "source": [
    "Test the models and ensure that they work"
   ]
  },
  {
   "cell_type": "code",
   "execution_count": 6,
   "id": "31dd6e87",
   "metadata": {},
   "outputs": [],
   "source": [
    "m1 = CovNetNoBatchNorm(num_classes=10)"
   ]
  },
  {
   "cell_type": "code",
   "execution_count": 7,
   "id": "1d77f826",
   "metadata": {},
   "outputs": [],
   "source": [
    "m2 = CovNetBatchNorm(num_classes=10)"
   ]
  },
  {
   "cell_type": "code",
   "execution_count": 8,
   "id": "c55555d6",
   "metadata": {},
   "outputs": [
    {
     "name": "stdout",
     "output_type": "stream",
     "text": [
      "tensor([[ 0.1490,  0.0817,  0.2093,  0.1988,  0.2066, -0.1267,  0.2904,  0.0401,\n",
      "         -0.2143,  0.0073]], grad_fn=<AddmmBackward0>)\n"
     ]
    }
   ],
   "source": [
    "output = m1(random_image)\n",
    "print(output)"
   ]
  },
  {
   "cell_type": "code",
   "execution_count": 9,
   "id": "0aaa0525",
   "metadata": {},
   "outputs": [
    {
     "name": "stdout",
     "output_type": "stream",
     "text": [
      "tensor([[ 0.4923,  0.0243,  0.4017,  0.4683, -0.4594, -0.7645,  0.3127,  1.1416,\n",
      "          0.7004, -0.1929]], grad_fn=<AddmmBackward0>)\n"
     ]
    }
   ],
   "source": [
    "output = m2(random_image)\n",
    "print(output)"
   ]
  },
  {
   "cell_type": "code",
   "execution_count": 10,
   "id": "8223d2b2",
   "metadata": {},
   "outputs": [
    {
     "name": "stdout",
     "output_type": "stream",
     "text": [
      "X_train.shape = torch.Size([6000, 28, 28])\n",
      "n_train: 6000, n_test: 10000\n",
      "Image size: torch.Size([28, 28])\n"
     ]
    }
   ],
   "source": [
    "# download dataset (~117M in size)\n",
    "train_dataset = FashionMNIST('./data', train=True, download=True)\n",
    "X_train = train_dataset.data # torch tensor of type uint8\n",
    "y_train = train_dataset.targets # torch tensor of type Long\n",
    "test_dataset = FashionMNIST('./data', train=False, download=True)\n",
    "X_test = test_dataset.data\n",
    "y_test = test_dataset.targets\n",
    "\n",
    "# choose a subsample of 10% of the data:\n",
    "idxs_train = torch.from_numpy(\n",
    "    np.random.choice(X_train.shape[0], replace=False, size=X_train.shape[0]//10))\n",
    "X_train, y_train = X_train[idxs_train], y_train[idxs_train]\n",
    "# idxs_test = torch.from_numpy(\n",
    "#     np.random.choice(X_test.shape[0], replace=False, size=X_test.shape[0]//10))\n",
    "# X_test, y_test = X_test[idxs_test], y_test[idxs_test]\n",
    "\n",
    "print(f'X_train.shape = {X_train.shape}')\n",
    "print(f'n_train: {X_train.shape[0]}, n_test: {X_test.shape[0]}')\n",
    "print(f'Image size: {X_train.shape[1:]}')\n",
    "\n",
    "# Normalize dataset: pixel values lie between 0 and 255\n",
    "# Normalize them so the pixelwise mean is zero and standard deviation is 1\n",
    "\n",
    "X_train = X_train.float()  # convert to float32\n",
    "X_train = X_train.view(-1, 784)  # flatten into a (n, d) shape\n",
    "mean, std = X_train.mean(axis=0), X_train.std(axis=0)\n",
    "X_train = (X_train - mean[None, :]) / (std[None, :] + 1e-6)  # avoid divide by zero\n",
    "\n",
    "X_test = X_test.float()\n",
    "X_test = X_test.view(-1, 784)\n",
    "X_test = (X_test - mean[None, :]) / (std[None, :] + 1e-6)\n",
    "\n",
    "n_class = np.unique(y_train).shape[0]"
   ]
  },
  {
   "cell_type": "code",
   "execution_count": 11,
   "id": "5af0ca50",
   "metadata": {},
   "outputs": [],
   "source": [
    "def compute_objective(model, X, y):\n",
    "    \"\"\" Compute the multinomial logistic loss. \n",
    "        model is a module\n",
    "        X of shape (n, d) and y of shape (n,)\n",
    "    \"\"\"\n",
    "    # send \n",
    "    score = model(X)\n",
    "    # PyTorch's function cross_entropy computes the multinomial logistic loss\n",
    "    return cross_entropy(input=score, target=y, reduction='mean') \n",
    "\n",
    "@torch.no_grad()\n",
    "def compute_accuracy(model, X, y):\n",
    "    \"\"\" Compute the classification accuracy\n",
    "        ws is a list of tensors of consistent shapes \n",
    "        X of shape (n, d) and y of shape (n,)\n",
    "    \"\"\"\n",
    "    is_train = model.training  # if True, model is in training mode\n",
    "    model.eval()  # use eval mode for accuracy\n",
    "    score = model(X)\n",
    "    predictions = torch.argmax(score, axis=1)  # class with highest score is predicted\n",
    "    if is_train:  # switch back to train mode if appropriate\n",
    "        model.train()\n",
    "    return (predictions == y).sum() * 1.0 / y.shape[0]\n",
    "\n",
    "@torch.no_grad()\n",
    "def compute_logs(model, verbose=False):\n",
    "    is_train = model.training  # if True, model is in training mode\n",
    "    model.eval()  # switch to eval mode\n",
    "    train_loss = compute_objective(model, X_train, y_train)\n",
    "    test_loss = compute_objective(model, X_test, y_test)\n",
    "    train_accuracy = compute_accuracy(model, X_train, y_train)\n",
    "    test_accuracy = compute_accuracy(model, X_test, y_test)\n",
    "    if verbose:\n",
    "        print(('Train Loss = {:.3f}, Train Accuracy = {:.3f}, ' + \n",
    "               'Test Loss = {:.3f}, Test Accuracy = {:.3f}').format(\n",
    "                train_loss.item(), train_accuracy.item(), \n",
    "                test_loss.item(), test_accuracy.item())\n",
    "    )\n",
    "    if is_train:  # switch back to train mode if appropriate\n",
    "        model.train()\n",
    "    return (train_loss, train_accuracy, test_loss, test_accuracy)"
   ]
  },
  {
   "cell_type": "code",
   "execution_count": 12,
   "id": "7bd5df38",
   "metadata": {},
   "outputs": [],
   "source": [
    "def minibatch_sgd_one_pass(model, X, y, learning_rate, batch_size, verbose=False):\n",
    "    model.train()\n",
    "    num_examples = X.shape[0]\n",
    "    average_loss = 0.0\n",
    "    num_updates = int(round(num_examples / batch_size))\n",
    "    for i in range(num_updates):\n",
    "        idxs = np.random.choice(X.shape[0], size=(batch_size,)) # draw `batch_size` many samples\n",
    "        model.train()  # make sure we are in train mode\n",
    "        # compute the objective. \n",
    "        objective = compute_objective(model, X[idxs], y[idxs]) \n",
    "        average_loss = 0.99 * average_loss + 0.01 * objective.item()\n",
    "        if verbose and (i+1) % 100 == 0:\n",
    "            print(average_loss)\n",
    "        \n",
    "        # compute the gradient using automatic differentiation\n",
    "        gradients = torch.autograd.grad(outputs=objective, inputs=model.parameters())\n",
    "        \n",
    "        # perform SGD update. IMPORTANT: Make the update inplace!\n",
    "        with torch.no_grad():\n",
    "            for (w, g) in zip(model.parameters(), gradients):\n",
    "                w -= learning_rate * g\n",
    "    return model"
   ]
  },
  {
   "cell_type": "code",
   "execution_count": 13,
   "id": "70586e88",
   "metadata": {},
   "outputs": [],
   "source": [
    "def compute_effective_local_smoothness(model, X, y, learning_rate, batch_size, verbose=False):\n",
    "    \n",
    "    # choose random samples of size batch_size\n",
    "    idxs = np.random.choice(X.shape[0], size=(batch_size,))\n",
    "    \n",
    "    # STEP 1: COMPUTE 'U'\n",
    "    model.train()\n",
    "    objective_u = compute_objective(model, X[idxs], y[idxs]) \n",
    "\n",
    "    # compute the gradient using automatic differentiation\n",
    "    gradients_u = torch.autograd.grad(outputs=objective_u, inputs=model.parameters())\n",
    "    u = [-learning_rate * g for g in gradients_u]\n",
    "    \n",
    "    model.eval()\n",
    "    # STEP 2: COMPUTE F(W)\n",
    "    objective = compute_objective(model, X, y)\n",
    "    gradients = torch.autograd.grad(outputs=objective, inputs=model.parameters())\n",
    "    \n",
    "    # STEP 3: COMPUTE F(U + W)\n",
    "    model_new = copy.deepcopy(model)\n",
    "    \n",
    "    # perform SGD update - to get f(u+w)\n",
    "    with torch.no_grad():\n",
    "        for (w, g) in zip(model_new.parameters(), gradients_u):\n",
    "            w -= learning_rate * g\n",
    "\n",
    "    objective_new = compute_objective(model_new, X, y)\n",
    "    gradients_new = torch.autograd.grad(outputs=objective_new, inputs=model_new.parameters())\n",
    "    \n",
    "    # STEP 4: COMPUTE EFFECTIVE LOCAL SMOOTHNESS\n",
    "    effective_local_smoothness = 0\n",
    "    for i, (g_new, g_old) in enumerate(zip(gradients_new, gradients)):\n",
    "        effective_local_smoothness += torch.norm(g_new - g_old)\n",
    "        if verbose:\n",
    "            print(f'\\tIteration: {i} has L_hat : {effective_local_smoothness}')\n",
    "    effective_local_smoothness = math.sqrt(effective_local_smoothness)\n",
    "    \n",
    "    u_l2_norm = 0\n",
    "    for i, u_val in enumerate(u):\n",
    "        u_l2_norm += torch.norm(u_val)\n",
    "        if verbose:\n",
    "            print(f'\\tIteration: {i} has u_l2_norm : {u_l2_norm}')\n",
    "    u_l2_norm = math.sqrt(u_l2_norm)\n",
    "    \n",
    "    effective_local_smoothness /= u_l2_norm\n",
    "    if verbose:\n",
    "        print(f'Final L_hat : {effective_local_smoothness}')\n",
    "    \n",
    "    return effective_local_smoothness\n"
   ]
  },
  {
   "cell_type": "code",
   "execution_count": 14,
   "id": "4c61f2c5",
   "metadata": {},
   "outputs": [
    {
     "name": "stdout",
     "output_type": "stream",
     "text": [
      "Train Loss = 2.333, Train Accuracy = 0.120, Test Loss = 2.341, Test Accuracy = 0.109, Smoothness = 8.994\n",
      "0.5349946223456469\n",
      "0.3053336643025521\n",
      "0.26985156643553826\n",
      "0.2390145544892563\n",
      "0.23754222975069866\n",
      "0.21127145338917924\n",
      "0.18107076496423338\n",
      "0.17776292276194475\n",
      "0.1656335209726864\n",
      "0.16153551982961437\n",
      "\n",
      "Train Loss = 2.321, Train Accuracy = 0.033, Test Loss = 2.323, Test Accuracy = 0.034, Smoothness = 4.072\n",
      "0.6065587564585013\n",
      "0.3038860985219904\n",
      "0.1975275708181522\n",
      "0.11229983196608809\n",
      "0.08631059061139464\n",
      "0.05277260255056164\n",
      "0.03768737161945681\n",
      "0.027950398639603642\n",
      "0.018308711734399102\n",
      "0.010533519807009818\n",
      "\n"
     ]
    }
   ],
   "source": [
    "batch_logs = []\n",
    "learning_rate = 0.01\n",
    "num_passes = 10\n",
    "batch_size = 32\n",
    "\n",
    "m1 = CovNetNoBatchNorm(num_classes=10)\n",
    "m2 = CovNetBatchNorm(num_classes=10)\n",
    "\n",
    "for i, model in enumerate([m1, m2]):\n",
    "    logs = []\n",
    "    log = list(compute_logs(model, False)) +\\\n",
    "            [torch.tensor(compute_effective_local_smoothness(model, X_train, y_train, learning_rate, \n",
    "                                                batch_size=batch_size, verbose=False))]\n",
    "    logs.append(log)\n",
    "    print(('Train Loss = {:.3f}, Train Accuracy = {:.3f}, ' + \n",
    "               'Test Loss = {:.3f}, Test Accuracy = {:.3f}, Smoothness = {:.3f}').format(\n",
    "                logs[-1][0].item(), logs[-1][1].item(), \n",
    "                logs[-1][2].item(), logs[-1][3].item(), logs[-1][4].item()))\n",
    "    \n",
    "    for _ in range(num_passes):\n",
    "        model = minibatch_sgd_one_pass(model, X_train, y_train, learning_rate, \n",
    "                                       batch_size=batch_size, verbose=True)\n",
    "        \n",
    "        log = list(compute_logs(model, False)) +\\\n",
    "            [torch.tensor(compute_effective_local_smoothness(model, X_train, y_train, learning_rate, \n",
    "                                                batch_size=batch_size, verbose=False))]\n",
    "        logs.append(log)\n",
    "    \n",
    "    # done training this mode - append logs\n",
    "    batch_logs.append(logs)\n",
    "    \n",
    "    # save the model parms\n",
    "    torch.save(model.state_dict(), f'./models/{type(model).__name__}.pt')\n",
    "    \n",
    "    print()\n",
    "\n",
    "with open('./models/logs.pkl', 'wb') as f:\n",
    "    pickle.dump(batch_logs, f)"
   ]
  },
  {
   "cell_type": "code",
   "execution_count": 19,
   "id": "33d7e11f",
   "metadata": {},
   "outputs": [],
   "source": [
    "without_norm_logs, with_norm_logs = batch_logs"
   ]
  },
  {
   "cell_type": "code",
   "execution_count": 30,
   "id": "97d868ab",
   "metadata": {},
   "outputs": [
    {
     "data": {
      "image/png": "[encoded data removed]",
      "text/plain": [
       "<Figure size 1440x288 with 3 Axes>"
      ]
     },
     "metadata": {
      "needs_background": "light"
     },
     "output_type": "display_data"
    }
   ],
   "source": [
    "f, ax = plt.subplots(1, 3, figsize=(20, 4))\n",
    "\n",
    "ax[0].set_title('Train Loss', fontsize=18)\n",
    "ax[1].set_title('Test Accuracy', fontsize=18)\n",
    "ax[2].set_title('Effective Local Smoothness', fontsize=18)\n",
    "\n",
    "# Train Loss\n",
    "ax[0].set_xlabel('#Passes', fontsize=18)\n",
    "ax[0].set_ylabel('Train Loss', fontsize=18)\n",
    "ax[0].plot(list(map(lambda x: x[0].item(), without_norm_logs)), label=f'Without Batch Norm')\n",
    "ax[0].plot(list(map(lambda x: x[0].item(), with_norm_logs)), label='With Bach Norm')\n",
    "\n",
    "# Test Accuracy\n",
    "ax[1].set_xlabel('#Passes', fontsize=18)\n",
    "ax[1].set_ylabel('Test Accuracy', fontsize=18)\n",
    "ax[1].plot(list(map(lambda x: x[3], without_norm_logs)), label=f'Without Batch Norm')\n",
    "ax[1].plot(list(map(lambda x: x[3], with_norm_logs)), label='With Bach Norm')\n",
    "\n",
    "# Effective Local Smoothness\n",
    "ax[2].set_xlabel('#Passes', fontsize=18)\n",
    "ax[2].set_ylabel('Effective Local Smoothness', fontsize=18)\n",
    "ax[2].plot(list(map(lambda x: x[4], without_norm_logs)), label=f'Without Batch Norm')\n",
    "ax[2].plot(list(map(lambda x: x[4], with_norm_logs)), label='With Bach Norm')\n",
    "        \n",
    "ax[1].legend(fontsize=18)\n",
    "plt.tight_layout()"
   ]
  },
  {
   "cell_type": "markdown",
   "id": "3a43b7c8",
   "metadata": {},
   "source": [
    "Using batch norm results improved performance: lower training loss and slightly higher accuracy. Moreover, the smoothness value is also lower. \n",
    "\n",
    "We can use a larger learning rate since the smoothness value is lower when using batch norm. This is because:\n",
    "\n",
    "$\\eta = \\frac{1}{L}$, where $L$ is the smoothness and $\\eta$ is the learning rate. \n",
    "\n",
    "Thus a smaller $L$ value results in a larger $\\eta$ value."
   ]
  }
 ],
 "metadata": {
  "kernelspec": {
   "display_name": "Python 3 (ipykernel)",
   "language": "python",
   "name": "python3"
  },
  "language_info": {
   "codemirror_mode": {
    "name": "ipython",
    "version": 3
   },
   "file_extension": ".py",
   "mimetype": "text/x-python",
   "name": "python",
   "nbconvert_exporter": "python",
   "pygments_lexer": "ipython3",
   "version": "3.8.12"
  }
 },
 "nbformat": 4,
 "nbformat_minor": 5
}
