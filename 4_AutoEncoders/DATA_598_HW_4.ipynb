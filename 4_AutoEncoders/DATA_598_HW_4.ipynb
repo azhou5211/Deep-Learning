{
 "cells": [
  {
   "cell_type": "markdown",
   "id": "26304901",
   "metadata": {},
   "source": [
    "# \n",
    "<center><h1> Homework 4: AutoEncoders\n",
    "<center> Apoorv Sharma </center>\n",
    "    <center> DATA 598 (Winter 2022), University of Washington </center>"
   ]
  },
  {
   "cell_type": "markdown",
   "id": "6a7e9aa3",
   "metadata": {},
   "source": [
    "# 1. Denoising AutoEncoders and Step Decay Learning Rates\n",
    "\n",
    "In this exercise, we will use autoencoders to denoise (= de-noise, or remove the noise from) an image. We will also implement a step decay learning rate, a commonly used trick (for all deep kinds of deep nets, not just autoencoders).\n",
    "\n",
    "Suppose we have and image x and *corrupt* it by some means to get $x' = C(x)$. Example corruptions including adding Gaussian noise or deleting random pataches in the image. A denoising autoencoder with encoder $h_w$ and decoder $g_v$ (with respective parameters w and v) takes in the corrupted input $x'$ and returns $\\hat{x} = g(h(x'))$ that approximates the noise-less image x.\n",
    "\n",
    "We will train a denoising autoencoder to reconstruct the noiseless images from the noisy ones, by minimizing the corresponding reconstruction error:\n",
    "\n",
    "$$\n",
    "\\min_{w,v} \\mathbb{E} \\left|\\left| x - g_v \\circ h_w(C(x)) \\right|\\right|^2\n",
    "$$\n",
    "\n",
    "We will use a step decay learning rate schedule\n",
    "\n",
    "$$\n",
    "\\gamma_t = \\frac{\\gamma_0}{2^{\\lfloor t/t_o \\rfloor}}\n",
    "$$\n",
    "\n",
    "in epoch $t$, where $\\gamma_0$ is a given initial learning rate, and $t_0$ threshold. The learning is cut by a factor of 2 every $t_0$ epochs:\n",
    "\n",
    "$$\n",
    "\\gamma_0 \\dots \\gamma_0, \\frac{\\gamma_0}{2} \\dots \\frac{\\gamma_0}{2}, \\frac{\\gamma_0}{4} \\dots \\frac{\\gamma_0}{4}\n",
    "$$\n",
    "\n",
    "A larger learning rate makes faster progress initially whereas a smaller learning rate is more helpful closer\n",
    "to convergence. The step-decay schedule aims to get the best of both worlds."
   ]
  },
  {
   "cell_type": "code",
   "execution_count": 1,
   "id": "85dea51e",
   "metadata": {},
   "outputs": [],
   "source": [
    "import torch\n",
    "from torch.nn.functional import relu\n",
    "from torchvision.datasets import MNIST\n",
    "\n",
    "import numpy as np\n",
    "import matplotlib.pyplot as plt\n",
    "\n",
    "import math\n",
    "import pickle"
   ]
  },
  {
   "cell_type": "markdown",
   "id": "fbd00202",
   "metadata": {},
   "source": [
    "### Download and Process MINST dataset\n",
    "Perform the same preprocessing as in this week’s lab."
   ]
  },
  {
   "cell_type": "code",
   "execution_count": 2,
   "id": "a89a6073",
   "metadata": {},
   "outputs": [
    {
     "name": "stdout",
     "output_type": "stream",
     "text": [
      "X_train.shape = torch.Size([6000, 28, 28])\n",
      "n_train: 6000, n_test: 10000\n",
      "Image size: torch.Size([28, 28])\n"
     ]
    }
   ],
   "source": [
    "# download dataset (~117M in size)\n",
    "train_dataset = MNIST('./data', train=True, download=True)\n",
    "X_train = train_dataset.data # torch tensor of type uint8\n",
    "y_train = train_dataset.targets # torch tensor of type Long\n",
    "test_dataset = MNIST('./data', train=False, download=True)\n",
    "X_test = test_dataset.data\n",
    "y_test = test_dataset.targets\n",
    "\n",
    "# choose a subsample of 10% of the data:\n",
    "idxs_train = torch.from_numpy(\n",
    "    np.random.choice(X_train.shape[0], replace=False, size=X_train.shape[0]//10)).long()\n",
    "X_train, y_train = X_train[idxs_train], y_train[idxs_train]\n",
    "# idxs_test = torch.from_numpy(\n",
    "#     np.random.choice(X_test.shape[0], replace=False, size=X_test.shape[0]//10))\n",
    "# X_test, y_test = X_test[idxs_test], y_test[idxs_test]\n",
    "\n",
    "print(f'X_train.shape = {X_train.shape}')\n",
    "print(f'n_train: {X_train.shape[0]}, n_test: {X_test.shape[0]}')\n",
    "print(f'Image size: {X_train.shape[1:]}')"
   ]
  },
  {
   "cell_type": "code",
   "execution_count": 3,
   "id": "5b1f77a1",
   "metadata": {},
   "outputs": [
    {
     "data": {
      "image/png": "[encoded data removed]",
      "text/plain": [
       "<Figure size 1440x288 with 5 Axes>"
      ]
     },
     "metadata": {
      "needs_background": "light"
     },
     "output_type": "display_data"
    }
   ],
   "source": [
    "f, ax = plt.subplots(1, 5, figsize=(20, 4))\n",
    "for i, idx in enumerate(np.random.choice(X_train.shape[0], 5)):\n",
    "    ax[i].imshow(X_train[idx], cmap='gray', vmin=0, vmax=255)\n",
    "    ax[i].set_title(f'Label = {y_train[idx]}', fontsize=20)"
   ]
  },
  {
   "cell_type": "code",
   "execution_count": 4,
   "id": "4409d91f",
   "metadata": {},
   "outputs": [],
   "source": [
    "# NOTE: Run this cell only once. If you have to rerun it multiple times, \n",
    "# make sure that you run it after rerunning the previous 2 cells.\n",
    "\n",
    "# Normalize dataset: pixel values lie between 0 and 255\n",
    "# Normalize them so the pixelwise mean is zero and standard deviation is 1\n",
    "\n",
    "X_train = X_train.float()  # convert to float32\n",
    "# NOTE: we are returning a single mean/std over all the pixels, rather than a pixel-wise one\n",
    "mean, std = X_train.mean(), X_train.std()  \n",
    "X_train = (X_train - mean) / (std + 1e-6)  # avoid divide by zero\n",
    "# X_train /= torch.norm(X_train, dim=(1, 2)).max()\n",
    "\n",
    "X_test = X_test.float()\n",
    "X_test = (X_test - mean) / (std + 1e-6)\n",
    "# X_test /= torch.norm(X_test, dim=(1, 2)).max()\n",
    "\n",
    "n_class = np.unique(y_train).shape[0]"
   ]
  },
  {
   "cell_type": "markdown",
   "id": "e5aa7966",
   "metadata": {},
   "source": [
    "### Create convolutional autoencoder\n",
    "Use the same convolutional autoencoder as in this week’s lab, with a lower latent dimension of 40."
   ]
  },
  {
   "cell_type": "code",
   "execution_count": 5,
   "id": "8dd160e2",
   "metadata": {},
   "outputs": [],
   "source": [
    "class EncoderModule(torch.nn.Module):\n",
    "    def __init__(self, lower_dimension):\n",
    "        super().__init__()\n",
    "        # (B, 1, 28, 28) -> (B, 4, 12, 12)\n",
    "        self.conv1 = torch.nn.Conv2d(1, 4, kernel_size=5, stride=2, padding=0) \n",
    "        self.conv2 = torch.nn.Conv2d(4, 8, kernel_size=3, stride=2, padding=0)\n",
    "        # Flatten (B, 8, 5, 5) -> (B, 8*5*5): do this in `forward()`\n",
    "        # (B, 8*5*5) -> (B, lower_dimension); 8*5*5 = 200\n",
    "        self.linear = torch.nn.Linear(200, lower_dimension)\n",
    "    \n",
    "    def forward(self, images):\n",
    "        out = relu(self.conv1(images))  # conv1 + relu\n",
    "        out = relu(self.conv2(out))  # conv2 + relu\n",
    "        out = out.view(out.shape[0], -1)  # flatten\n",
    "        out = self.linear(out)  # Linear\n",
    "        return out"
   ]
  },
  {
   "cell_type": "code",
   "execution_count": 6,
   "id": "d7617d2f",
   "metadata": {},
   "outputs": [],
   "source": [
    "class DecoderModule(torch.nn.Module):\n",
    "    def __init__(self, lower_dimension):\n",
    "        super().__init__()\n",
    "        # (B, lower_dimension) -> (B, linear)\n",
    "        self.linear_t = torch.nn.Linear(lower_dimension, 200)\n",
    "        # Unflatten (B, 8*5*5) -> (B, 8, 5, 5); do this in `forward()`\n",
    "        # (B, 8, 5, 5) -> (B, 4, 12, 12)\n",
    "        self.conv2_t = torch.nn.ConvTranspose2d(8, 4, kernel_size=3, stride=2, padding=0, output_padding=1)\n",
    "        # (B, 4, 12, 12) -> (B, 1, 28, 28)\n",
    "        self.conv1_t = torch.nn.ConvTranspose2d(4, 1, kernel_size=5, stride=2, padding=0, output_padding=1)\n",
    "\n",
    "    def forward(self, x):\n",
    "        # Apply in reverse order\n",
    "        out = relu(self.linear_t(x))  # linear_t + relu\n",
    "        out = out.view(out.shape[0], 8, 5, 5)  # Unflatten\n",
    "        out = relu(self.conv2_t(out))  # conv2_t + relu\n",
    "        out = self.conv1_t(out)  # conv1_t (note: no relu at the end)\n",
    "        return out"
   ]
  },
  {
   "cell_type": "code",
   "execution_count": 7,
   "id": "64219cdb",
   "metadata": {},
   "outputs": [],
   "source": [
    "class AutoEncoder(torch.nn.Module):\n",
    "    def __init__(self, lower_dimension):\n",
    "        super().__init__()\n",
    "        self.encoder = EncoderModule(lower_dimension)\n",
    "        self.decoder = DecoderModule(lower_dimension)\n",
    "        \n",
    "    def forward(self, images):\n",
    "        # Pass the images through the encoder to get the representations.\n",
    "        # Then, pass the representations through the decoder to get the reconstructed images\n",
    "        # images -> encoder(.) -> decoder(.)\n",
    "        out = self.encoder(images)\n",
    "        out = self.decoder(out)\n",
    "        \n",
    "        return out\n",
    "        \n",
    "    def encode_images(self, images):\n",
    "        return self.encoder(images)\n",
    "    \n",
    "    def decode_representations(self, representations):\n",
    "        return self.decoder(representations)"
   ]
  },
  {
   "cell_type": "markdown",
   "id": "8e6788fc",
   "metadata": {},
   "source": [
    "### Corruption function\n",
    "As the corruption function $C(·)$, we zero out a randomly chosen 14 × 14 patch in the original image"
   ]
  },
  {
   "cell_type": "code",
   "execution_count": 8,
   "id": "fb8c10d1",
   "metadata": {},
   "outputs": [],
   "source": [
    "def corrupt_image_batch(images):\n",
    "    # Add a 14x14 square of zeros in a 28x28 image\n",
    "    # images: (B, 1, 28, 28)\n",
    "    \n",
    "    patch_size = 14  # zero out a 14x14 patch\n",
    "    batch_size = images.shape[0]\n",
    "    height, width = images.shape[-2:]  # height and width of each image\n",
    "\n",
    "    starting_h = np.random.choice(height - patch_size, size=batch_size, replace=True)\n",
    "    starting_w = np.random.choice(width - patch_size, size=batch_size, replace=True)\n",
    "\n",
    "    images_corrupted = images.clone()  # corrupt a copy so we do not lose the originals\n",
    "    for b in range(batch_size):\n",
    "        h = starting_h[b]\n",
    "        w = starting_w[b]\n",
    "        images_corrupted[b, 0, h:h+patch_size, b:b+patch_size] = 0  # set to 0\n",
    "    return images_corrupted"
   ]
  },
  {
   "cell_type": "markdown",
   "id": "24dd7a91",
   "metadata": {},
   "source": [
    "### Training Functions"
   ]
  },
  {
   "cell_type": "code",
   "execution_count": 9,
   "id": "17008fec",
   "metadata": {},
   "outputs": [],
   "source": [
    "def loss_function(true_images, reconstructed_images):  # square loss\n",
    "    residual = (true_images - reconstructed_images).view(-1)  # flatten into a vector\n",
    "    # return the average over examples\n",
    "    return 0.5 * torch.norm(residual) ** 2 / (true_images.shape[0])\n",
    "\n",
    "def compute_objective(model, original_images, corrupted_images):\n",
    "    # reshape images from (B, 28, 28) -> (B, 1, 28, 28) as required by the model\n",
    "    reconstructed_images = model(corrupted_images)\n",
    "    return loss_function(original_images.unsqueeze(1), reconstructed_images)"
   ]
  },
  {
   "cell_type": "code",
   "execution_count": 10,
   "id": "1c29cb16",
   "metadata": {},
   "outputs": [],
   "source": [
    "@torch.no_grad()\n",
    "def compute_logs(model, verbose=False): # Only report loss\n",
    "    train_loss = compute_objective(model, X_train, corrupt_image_batch(X_train.unsqueeze(1)))\n",
    "    test_loss = compute_objective(model, X_test, corrupt_image_batch(X_test.unsqueeze(1)))\n",
    "    if verbose:\n",
    "        print('Train Loss = {:.3f}, Test Loss = {:.3f}'.format(\n",
    "                train_loss.item(), test_loss.item(),\n",
    "    ))\n",
    "    return (train_loss, test_loss)\n",
    "\n",
    "def minibatch_sgd_one_pass(model, X, learning_rate, batch_size, verbose=False):\n",
    "    num_examples = X.shape[0]\n",
    "    average_loss = 0.0\n",
    "    num_updates = int(round(num_examples / batch_size))\n",
    "    for i in range(num_updates):\n",
    "        idxs = np.random.choice(num_examples, size=(batch_size,)) \n",
    "        \n",
    "        corrupted_images = corrupt_image_batch(X[idxs].unsqueeze(1))\n",
    "        # compute the objective. \n",
    "        objective = compute_objective(model, X[idxs], corrupted_images) \n",
    "        average_loss = 0.99 * average_loss + 0.01 * objective.item()\n",
    "        if verbose and (i+1) % 100 == 0:\n",
    "            print(\"{:.3f}\".format(average_loss))\n",
    "        \n",
    "        # Exercise:\n",
    "        # compute the gradient using automatic differentiation\n",
    "        gradients = torch.autograd.grad(outputs=objective, inputs=model.parameters())\n",
    "\n",
    "        # Perform the SGD update\n",
    "        with torch.no_grad():\n",
    "            for (w, g) in zip(model.parameters(), gradients):\n",
    "                w -= learning_rate * g\n",
    "                \n",
    "    return model"
   ]
  },
  {
   "cell_type": "markdown",
   "id": "7e674a14",
   "metadata": {},
   "source": [
    "### Train Model\n",
    "Train the model for 40 epochs starting with $\\gamma_0 = 2.5 \\cdot 10^{-4}$ and $t_0 = 10$ (i.e., halve the learning rate every 10 epochs)."
   ]
  },
  {
   "cell_type": "code",
   "execution_count": 11,
   "id": "9ef41211",
   "metadata": {},
   "outputs": [
    {
     "name": "stdout",
     "output_type": "stream",
     "text": [
      "Iteration 0, LR: 0.00025, Train Loss = 403.148, Test Loss = 409.312\n",
      "Iteration 1, LR: 0.00025, Train Loss = 105.786, Test Loss = 105.933\n",
      "Iteration 2, LR: 0.00025, Train Loss = 98.256, Test Loss = 99.154\n",
      "Iteration 3, LR: 0.00025, Train Loss = 97.623, Test Loss = 98.991\n",
      "Iteration 4, LR: 0.00025, Train Loss = 86.478, Test Loss = 86.705\n",
      "Iteration 5, LR: 0.00025, Train Loss = 85.741, Test Loss = 86.091\n",
      "Iteration 6, LR: 0.00025, Train Loss = 89.762, Test Loss = 89.973\n",
      "Iteration 7, LR: 0.00025, Train Loss = 86.330, Test Loss = 86.676\n",
      "Iteration 8, LR: 0.00025, Train Loss = 78.222, Test Loss = 78.539\n",
      "Iteration 9, LR: 0.00025, Train Loss = 71.088, Test Loss = 71.248\n",
      "Iteration 10, LR: 0.000125, Train Loss = 79.126, Test Loss = 79.552\n",
      "Iteration 11, LR: 0.000125, Train Loss = 74.888, Test Loss = 75.221\n",
      "Iteration 12, LR: 0.000125, Train Loss = 68.541, Test Loss = 68.927\n",
      "Iteration 13, LR: 0.000125, Train Loss = 69.009, Test Loss = 69.327\n",
      "Iteration 14, LR: 0.000125, Train Loss = 72.473, Test Loss = 72.941\n",
      "Iteration 15, LR: 0.000125, Train Loss = 66.059, Test Loss = 66.402\n",
      "Iteration 16, LR: 0.000125, Train Loss = 67.637, Test Loss = 68.053\n",
      "Iteration 17, LR: 0.000125, Train Loss = 68.926, Test Loss = 69.170\n",
      "Iteration 18, LR: 0.000125, Train Loss = 67.436, Test Loss = 67.592\n",
      "Iteration 19, LR: 0.000125, Train Loss = 69.775, Test Loss = 70.145\n",
      "Iteration 20, LR: 6.25e-05, Train Loss = 64.511, Test Loss = 64.899\n",
      "Iteration 21, LR: 6.25e-05, Train Loss = 66.767, Test Loss = 67.420\n",
      "Iteration 22, LR: 6.25e-05, Train Loss = 67.294, Test Loss = 67.952\n",
      "Iteration 23, LR: 6.25e-05, Train Loss = 70.986, Test Loss = 71.420\n",
      "Iteration 24, LR: 6.25e-05, Train Loss = 65.656, Test Loss = 66.042\n",
      "Iteration 25, LR: 6.25e-05, Train Loss = 66.357, Test Loss = 66.819\n",
      "Iteration 26, LR: 6.25e-05, Train Loss = 61.469, Test Loss = 62.023\n",
      "Iteration 27, LR: 6.25e-05, Train Loss = 63.393, Test Loss = 64.070\n",
      "Iteration 28, LR: 6.25e-05, Train Loss = 64.305, Test Loss = 64.820\n",
      "Iteration 29, LR: 6.25e-05, Train Loss = 63.250, Test Loss = 63.656\n",
      "Iteration 30, LR: 3.125e-05, Train Loss = 63.937, Test Loss = 64.424\n",
      "Iteration 31, LR: 3.125e-05, Train Loss = 65.244, Test Loss = 65.932\n",
      "Iteration 32, LR: 3.125e-05, Train Loss = 63.428, Test Loss = 63.922\n",
      "Iteration 33, LR: 3.125e-05, Train Loss = 63.397, Test Loss = 64.042\n",
      "Iteration 34, LR: 3.125e-05, Train Loss = 62.125, Test Loss = 62.669\n",
      "Iteration 35, LR: 3.125e-05, Train Loss = 65.279, Test Loss = 65.835\n",
      "Iteration 36, LR: 3.125e-05, Train Loss = 62.458, Test Loss = 62.966\n",
      "Iteration 37, LR: 3.125e-05, Train Loss = 62.087, Test Loss = 62.481\n",
      "Iteration 38, LR: 3.125e-05, Train Loss = 63.737, Test Loss = 64.289\n",
      "Iteration 39, LR: 3.125e-05, Train Loss = 63.072, Test Loss = 63.793\n",
      "Iteration 40, LR: 1.5625e-05, Train Loss = 60.442, Test Loss = 60.926\n"
     ]
    }
   ],
   "source": [
    "initial_learning_rate = 2.5e-4\n",
    "learning_rate_threshold = 10\n",
    "batch_size = 1\n",
    "lower_dimension = 40 # use a lower dimensionality of 40\n",
    "num_epochs = 40\n",
    "\n",
    "logs = []\n",
    "\n",
    "model = AutoEncoder(lower_dimension)\n",
    "print(f'Iteration 0, LR: {initial_learning_rate}', end=', ')\n",
    "logs.append(compute_logs(model, verbose=True))\n",
    "\n",
    "for j in range(num_epochs):\n",
    "    # step decay learning rate schedule\n",
    "    num_epoch = j + 1\n",
    "    learning_rate = initial_learning_rate / ( math.pow(2, math.floor(num_epoch/learning_rate_threshold)) )\n",
    "    \n",
    "    model = minibatch_sgd_one_pass(model, X_train, learning_rate, batch_size=batch_size, verbose=False)\n",
    "    print(f'Iteration {num_epoch}, LR: {learning_rate}', end=', ')\n",
    "    logs.append(compute_logs(model, verbose=True))\n",
    "\n",
    "with open('./models/logs.pkl', 'wb') as f:\n",
    "    pickle.dump(logs, f)\n",
    "\n",
    "# save the model parms\n",
    "torch.save(model.state_dict(), f'./models/parms.pt')"
   ]
  },
  {
   "cell_type": "markdown",
   "id": "e8b42cd2",
   "metadata": {},
   "source": [
    "#### View the loss"
   ]
  },
  {
   "cell_type": "code",
   "execution_count": 12,
   "id": "e559040a",
   "metadata": {},
   "outputs": [
    {
     "data": {
      "text/plain": [
       "(57.420057106018064, 100.63650093078613)"
      ]
     },
     "execution_count": 12,
     "metadata": {},
     "output_type": "execute_result"
    },
    {
     "data": {
      "image/png": "[encoded data removed]",
      "text/plain": [
       "<Figure size 432x288 with 1 Axes>"
      ]
     },
     "metadata": {
      "needs_background": "light"
     },
     "output_type": "display_data"
    }
   ],
   "source": [
    "logs_arr = np.asarray(logs)\n",
    "\n",
    "plt.plot(logs_arr[:, 0], label=\"Train\")\n",
    "plt.plot(logs_arr[:, 1], label=\"Test\")\n",
    "plt.title('AutoEncoder Loss', fontsize=18)\n",
    "plt.ylabel('Loss', fontsize=18)\n",
    "plt.xlabel('#Passes', fontsize=18)\n",
    "plt.legend(fontsize=18)\n",
    "\n",
    "# Try to set clever bounds\n",
    "plt.ylim((logs_arr[1:].reshape(-1).min() * 0.95, logs_arr[1:].reshape(-1).max() * 0.95))"
   ]
  },
  {
   "cell_type": "markdown",
   "id": "0f8060d4",
   "metadata": {},
   "source": [
    "### Model Output\n",
    "Show some examples of the denoising process from the test set."
   ]
  },
  {
   "cell_type": "code",
   "execution_count": 13,
   "id": "57469e12",
   "metadata": {},
   "outputs": [
    {
     "data": {
      "image/png": "[encoded data removed]",
      "text/plain": [
       "<Figure size 1440x720 with 15 Axes>"
      ]
     },
     "metadata": {
      "needs_background": "light"
     },
     "output_type": "display_data"
    }
   ],
   "source": [
    "f, ax = plt.subplots(3, 5, figsize=(20, 10))\n",
    "\n",
    "idxs = np.random.choice(X_test.shape[0], 5)\n",
    "images = X_test[idxs].unsqueeze(1)\n",
    "images_corrupted = corrupt_image_batch(images)\n",
    "\n",
    "for i, idx in enumerate(idxs):\n",
    "    ax[0, i].imshow(images[i].squeeze() * std + mean, cmap='gray')  # Note: Undo mean and std normalization before viewing image\n",
    "    ax[0, i].set_title(f'Original #{idx}', fontsize=20)\n",
    "    \n",
    "    ax[1, i].imshow(images_corrupted[i].squeeze() * std + mean, cmap='gray')  # Note: Undo mean and std normalization before viewing image\n",
    "    ax[2, i].set_title(f'Corrupted #{idx}', fontsize=20)\n",
    "    \n",
    "    # add batch and channel dimensions before passing through the model and squeeze them out later\n",
    "    xr = model(images_corrupted[i].view(1, 1, 28, 28)).detach().squeeze()\n",
    "    ax[2, i].imshow(xr * std + mean, cmap='gray')  # Note: Undo mean and std normalization before viewing image\n",
    "    ax[2, i].set_title(f'Recons. #{idx}', fontsize=20)"
   ]
  },
  {
   "cell_type": "markdown",
   "id": "f1ed804e",
   "metadata": {},
   "source": [
    "# 2. (Bonus) AutoEncoders as a non-linear PCA\n",
    "\n",
    "In this exercise, we will compare autoencoders versus PCA for dimensionality reduction. We will note their\n",
    "usefulness on the end goal of training a linear model using the extracted low-dimensional features.\n",
    "\n",
    "In the first few labs, we used images as 784 dimensional vectors. Here, you will use either autoencoders or PCA on the training dataset to project the data onto a lower dimension d. You will then train a multinomial logistic regression model with scikit-learn and keep track of the test accuracy."
   ]
  },
  {
   "cell_type": "code",
   "execution_count": 14,
   "id": "1d944ab6",
   "metadata": {},
   "outputs": [],
   "source": [
    "from sklearn.decomposition import PCA\n",
    "from sklearn.linear_model import LogisticRegression"
   ]
  },
  {
   "cell_type": "code",
   "execution_count": 15,
   "id": "f10ee6e8",
   "metadata": {},
   "outputs": [],
   "source": [
    "num_components_list = [10, 25, 50, 100]"
   ]
  },
  {
   "cell_type": "markdown",
   "id": "9e61b39c",
   "metadata": {},
   "source": [
    "### Download and Process MINST dataset\n",
    "Perform the same preprocessing as in this week’s lab."
   ]
  },
  {
   "cell_type": "code",
   "execution_count": 16,
   "id": "96a40956",
   "metadata": {},
   "outputs": [
    {
     "data": {
      "image/png": "[encoded data removed]",
      "text/plain": [
       "<Figure size 1440x288 with 5 Axes>"
      ]
     },
     "metadata": {
      "needs_background": "light"
     },
     "output_type": "display_data"
    }
   ],
   "source": [
    "f, ax = plt.subplots(1, 5, figsize=(20, 4))\n",
    "for i, idx in enumerate(np.random.choice(X_train.shape[0], 5)):\n",
    "    ax[i].imshow(X_train[idx].squeeze() * std + mean, cmap='gray', vmin=0, vmax=255)\n",
    "    ax[i].set_title(f'Label = {y_train[idx]}', fontsize=20)"
   ]
  },
  {
   "cell_type": "markdown",
   "id": "852dd03b",
   "metadata": {},
   "source": [
    "### PCA Projections\n",
    "Given a lower dimension d, use PCA to reduce the dimensionality of the training set to d dimensions.\n",
    "Transform the test set by projecting on to the same space. You may use scikit-learn’s PCA implementation."
   ]
  },
  {
   "cell_type": "code",
   "execution_count": 17,
   "id": "ce6e3f9e",
   "metadata": {},
   "outputs": [],
   "source": [
    "X_train_2d = X_train.view((X_train.shape[0], -1))\n",
    "X_test_2d = X_test.view((X_test.shape[0], -1))"
   ]
  },
  {
   "cell_type": "code",
   "execution_count": 18,
   "id": "2c62bfa2",
   "metadata": {},
   "outputs": [
    {
     "data": {
      "image/png": "[encoded data removed]",
      "text/plain": [
       "<Figure size 1440x720 with 5 Axes>"
      ]
     },
     "metadata": {
      "needs_background": "light"
     },
     "output_type": "display_data"
    }
   ],
   "source": [
    "f, ax = plt.subplots(1, len(num_components_list)+1, figsize=(20, 10))\n",
    "idx = np.random.choice(X_train_2d.shape[0], 1)\n",
    "\n",
    "ax[0].imshow(X_train[idx].squeeze() * std + mean, cmap='gray')  # Note: Undo mean and std normalization before viewing image\n",
    "ax[0].set_title(f'Num Components = {28*28}', fontsize=12)\n",
    "\n",
    "for i, num_components in enumerate(num_components_list):\n",
    "    pca = PCA(n_components = num_components)\n",
    "    principalComponents = pca.fit(X_train_2d)\n",
    "    \n",
    "    # Apply transform to both the training set and the test set.\n",
    "    train_img = pca.transform(X_train_2d)\n",
    "    test_img = pca.transform(X_test_2d)\n",
    "    \n",
    "    approximation = pca.inverse_transform(train_img)\n",
    "    \n",
    "    ax[i+1].set_title(f'Num Components = {num_components}', fontsize=12)\n",
    "    ax[i+1].imshow(torch.tensor(approximation[idx].reshape(28,28).squeeze()) * std + mean, cmap='gray')  # Note: Undo mean and std normalization before viewing image\n"
   ]
  },
  {
   "cell_type": "markdown",
   "id": "0e6fe093",
   "metadata": {},
   "source": [
    "### Multinomial logistic Regression"
   ]
  },
  {
   "cell_type": "code",
   "execution_count": 19,
   "id": "44e0a60a",
   "metadata": {},
   "outputs": [],
   "source": [
    "def get_accuracy(y_true, y_pred):\n",
    "    return np.mean(y_pred == y_true)"
   ]
  },
  {
   "cell_type": "code",
   "execution_count": 20,
   "id": "2b8b8f8b",
   "metadata": {},
   "outputs": [
    {
     "name": "stderr",
     "output_type": "stream",
     "text": [
      "/home/apoorvsharma/anaconda3/envs/data598/lib/python3.8/site-packages/sklearn/linear_model/_logistic.py:814: ConvergenceWarning: lbfgs failed to converge (status=1):\n",
      "STOP: TOTAL NO. of ITERATIONS REACHED LIMIT.\n",
      "\n",
      "Increase the number of iterations (max_iter) or scale the data as shown in:\n",
      "    https://scikit-learn.org/stable/modules/preprocessing.html\n",
      "Please also refer to the documentation for alternative solver options:\n",
      "    https://scikit-learn.org/stable/modules/linear_model.html#logistic-regression\n",
      "  n_iter_i = _check_optimize_result(\n"
     ]
    },
    {
     "data": {
      "text/plain": [
       "LogisticRegression(max_iter=200)"
      ]
     },
     "execution_count": 20,
     "metadata": {},
     "output_type": "execute_result"
    }
   ],
   "source": [
    "log_reg_model = LogisticRegression(max_iter=200)\n",
    "log_reg_model.fit(train_img, y_train)"
   ]
  },
  {
   "cell_type": "code",
   "execution_count": 21,
   "id": "863e0859",
   "metadata": {},
   "outputs": [
    {
     "name": "stdout",
     "output_type": "stream",
     "text": [
      "89.68\n"
     ]
    }
   ],
   "source": [
    "y_pred = log_reg_model.predict(test_img)\n",
    "print(get_accuracy(y_pred, y_test.numpy()) * 100)"
   ]
  },
  {
   "cell_type": "markdown",
   "id": "5d8c4258",
   "metadata": {},
   "source": [
    "### Define AutoEncoder and Training Functions\n",
    "These need to be re-written/re-defined since they were changed for #1. \n",
    "\n",
    "The same "
   ]
  },
  {
   "cell_type": "code",
   "execution_count": 22,
   "id": "775b42b5",
   "metadata": {},
   "outputs": [],
   "source": [
    "def loss_function(true_images, reconstructed_images):  # square loss\n",
    "    residual = (true_images - reconstructed_images).view(-1)  # flatten into a vector\n",
    "    # return the average over examples\n",
    "    return 0.5 * torch.norm(residual) ** 2 / (true_images.shape[0])\n",
    "\n",
    "def compute_objective(model, images):\n",
    "    # reshape images from (B, 28, 28) -> (B, 1, 28, 28) as required by the model\n",
    "    images = images.unsqueeze(1)  # Add channel dimension\n",
    "    reconstructed_images = model(images)\n",
    "    return loss_function(images, reconstructed_images)"
   ]
  },
  {
   "cell_type": "code",
   "execution_count": 23,
   "id": "426ae239",
   "metadata": {},
   "outputs": [],
   "source": [
    "@torch.no_grad()\n",
    "def compute_logs(model, verbose=False): # Only report loss\n",
    "    train_loss = compute_objective(model, X_train)\n",
    "    test_loss = compute_objective(model, X_test)\n",
    "    if verbose:\n",
    "        print('Train Loss = {:.3f}, Test Loss = {:.3f}'.format(\n",
    "                train_loss.item(), test_loss.item(),\n",
    "    ))\n",
    "    return (train_loss, test_loss)\n",
    "\n",
    "def minibatch_sgd_one_pass(model, X, learning_rate, batch_size, verbose=False):\n",
    "    num_examples = X.shape[0]\n",
    "    average_loss = 0.0\n",
    "    num_updates = int(round(num_examples / batch_size))\n",
    "    for i in range(num_updates):\n",
    "        idxs = np.random.choice(num_examples, size=(batch_size,)) \n",
    "        # compute the objective. \n",
    "        objective = compute_objective(model, X[idxs]) \n",
    "        average_loss = 0.99 * average_loss + 0.01 * objective.item()\n",
    "        if verbose and (i+1) % 100 == 0:\n",
    "            print(\"{:.3f}\".format(average_loss))\n",
    "        \n",
    "        # Exercise:\n",
    "        # compute the gradient using automatic differentiation\n",
    "        gradients = torch.autograd.grad(outputs=objective, inputs=model.parameters())\n",
    "\n",
    "        # Perform the SGD update\n",
    "        with torch.no_grad():\n",
    "            for (w, g) in zip(model.parameters(), gradients):\n",
    "                w -= learning_rate * g\n",
    "                \n",
    "    return model"
   ]
  },
  {
   "cell_type": "markdown",
   "id": "8f38e1fc",
   "metadata": {},
   "source": [
    "### Dimension Reduction Analysis\n",
    "\n",
    "Here we perform the following steps, for the following values of d `[10, 25, 50, 100]`:\n",
    "1. Given a lower dimension d, use PCA to reduce the dimensionality of the training set to d dimensions. Transform the test set by projecting on to the same space.\n",
    "2. Train an autoencoder using the same settings as the lab, but with a hidden dimension as d. Train it for 40 epochs. Use the encoder to obtain d-dimensional representations for all training and test images.\n",
    "3. Train a multinomial logistic regression model with scikit-learn using each of the representations you have obtained."
   ]
  },
  {
   "cell_type": "code",
   "execution_count": 28,
   "id": "baa4b59d",
   "metadata": {},
   "outputs": [],
   "source": [
    "initial_learning_rate = 2.5e-4\n",
    "learning_rate_threshold = 10\n",
    "batch_size = 1\n",
    "num_epochs = 40"
   ]
  },
  {
   "cell_type": "code",
   "execution_count": 29,
   "id": "240d30cd",
   "metadata": {},
   "outputs": [],
   "source": [
    "pca_accuracy = []\n",
    "ae_accuracy = []"
   ]
  },
  {
   "cell_type": "code",
   "execution_count": 30,
   "id": "540c7c21",
   "metadata": {
    "scrolled": true
   },
   "outputs": [
    {
     "name": "stdout",
     "output_type": "stream",
     "text": [
      "Starting dimension reduction to 10 components\n",
      "\tStarting PCA\n",
      "\tFinished PCA\n",
      "\tStarting AutoEncoder Training\n",
      "\t\tIteration 0, LR: 0.00025, Train Loss = 398.408, Test Loss = 406.882\n",
      "\t\tIteration 1, LR: 0.00025, Train Loss = 388.082, Test Loss = 395.253\n",
      "\t\tIteration 2, LR: 0.00025, Train Loss = 125.771, Test Loss = 126.142\n",
      "\t\tIteration 3, LR: 0.00025, Train Loss = 118.647, Test Loss = 118.829\n",
      "\t\tIteration 4, LR: 0.00025, Train Loss = 121.273, Test Loss = 121.887\n",
      "\t\tIteration 5, LR: 0.00025, Train Loss = 114.497, Test Loss = 114.543\n",
      "\t\tIteration 6, LR: 0.00025, Train Loss = 112.021, Test Loss = 112.409\n",
      "\t\tIteration 7, LR: 0.00025, Train Loss = 110.072, Test Loss = 110.112\n",
      "\t\tIteration 8, LR: 0.00025, Train Loss = 108.094, Test Loss = 108.636\n",
      "\t\tIteration 9, LR: 0.00025, Train Loss = 110.723, Test Loss = 111.919\n",
      "\t\tIteration 10, LR: 0.000125, Train Loss = 103.235, Test Loss = 104.026\n",
      "\t\tIteration 11, LR: 0.000125, Train Loss = 101.062, Test Loss = 101.586\n",
      "\t\tIteration 12, LR: 0.000125, Train Loss = 101.835, Test Loss = 102.618\n",
      "\t\tIteration 13, LR: 0.000125, Train Loss = 101.978, Test Loss = 102.940\n",
      "\t\tIteration 14, LR: 0.000125, Train Loss = 100.311, Test Loss = 101.439\n",
      "\t\tIteration 15, LR: 0.000125, Train Loss = 100.948, Test Loss = 101.921\n",
      "\t\tIteration 16, LR: 0.000125, Train Loss = 100.228, Test Loss = 101.313\n",
      "\t\tIteration 17, LR: 0.000125, Train Loss = 100.060, Test Loss = 101.000\n",
      "\t\tIteration 18, LR: 0.000125, Train Loss = 99.171, Test Loss = 99.822\n",
      "\t\tIteration 19, LR: 0.000125, Train Loss = 98.942, Test Loss = 99.748\n",
      "\t\tIteration 20, LR: 6.25e-05, Train Loss = 96.578, Test Loss = 97.640\n",
      "\t\tIteration 21, LR: 6.25e-05, Train Loss = 96.684, Test Loss = 97.898\n",
      "\t\tIteration 22, LR: 6.25e-05, Train Loss = 96.339, Test Loss = 97.371\n",
      "\t\tIteration 23, LR: 6.25e-05, Train Loss = 96.418, Test Loss = 97.486\n",
      "\t\tIteration 24, LR: 6.25e-05, Train Loss = 95.683, Test Loss = 96.701\n",
      "\t\tIteration 25, LR: 6.25e-05, Train Loss = 95.896, Test Loss = 97.046\n",
      "\t\tIteration 26, LR: 6.25e-05, Train Loss = 95.799, Test Loss = 96.880\n",
      "\t\tIteration 27, LR: 6.25e-05, Train Loss = 95.466, Test Loss = 96.521\n",
      "\t\tIteration 28, LR: 6.25e-05, Train Loss = 96.302, Test Loss = 97.360\n",
      "\t\tIteration 29, LR: 6.25e-05, Train Loss = 95.937, Test Loss = 96.938\n",
      "\t\tIteration 30, LR: 3.125e-05, Train Loss = 94.265, Test Loss = 95.533\n",
      "\t\tIteration 31, LR: 3.125e-05, Train Loss = 94.139, Test Loss = 95.275\n",
      "\t\tIteration 32, LR: 3.125e-05, Train Loss = 94.069, Test Loss = 95.372\n",
      "\t\tIteration 33, LR: 3.125e-05, Train Loss = 94.028, Test Loss = 95.211\n",
      "\t\tIteration 34, LR: 3.125e-05, Train Loss = 94.090, Test Loss = 95.221\n",
      "\t\tIteration 35, LR: 3.125e-05, Train Loss = 93.887, Test Loss = 95.229\n",
      "\t\tIteration 36, LR: 3.125e-05, Train Loss = 93.858, Test Loss = 94.989\n",
      "\t\tIteration 37, LR: 3.125e-05, Train Loss = 93.658, Test Loss = 94.879\n",
      "\t\tIteration 38, LR: 3.125e-05, Train Loss = 93.673, Test Loss = 94.732\n",
      "\t\tIteration 39, LR: 3.125e-05, Train Loss = 93.820, Test Loss = 95.022\n",
      "\t\tIteration 40, LR: 1.5625e-05, Train Loss = 93.179, Test Loss = 94.494\n",
      "\tDone AutoEncoder Training\n"
     ]
    },
    {
     "name": "stderr",
     "output_type": "stream",
     "text": [
      "/home/apoorvsharma/anaconda3/envs/data598/lib/python3.8/site-packages/sklearn/linear_model/_logistic.py:814: ConvergenceWarning: lbfgs failed to converge (status=1):\n",
      "STOP: TOTAL NO. of ITERATIONS REACHED LIMIT.\n",
      "\n",
      "Increase the number of iterations (max_iter) or scale the data as shown in:\n",
      "    https://scikit-learn.org/stable/modules/preprocessing.html\n",
      "Please also refer to the documentation for alternative solver options:\n",
      "    https://scikit-learn.org/stable/modules/linear_model.html#logistic-regression\n",
      "  n_iter_i = _check_optimize_result(\n",
      "/home/apoorvsharma/anaconda3/envs/data598/lib/python3.8/site-packages/sklearn/linear_model/_logistic.py:814: ConvergenceWarning: lbfgs failed to converge (status=1):\n",
      "STOP: TOTAL NO. of ITERATIONS REACHED LIMIT.\n",
      "\n",
      "Increase the number of iterations (max_iter) or scale the data as shown in:\n",
      "    https://scikit-learn.org/stable/modules/preprocessing.html\n",
      "Please also refer to the documentation for alternative solver options:\n",
      "    https://scikit-learn.org/stable/modules/linear_model.html#logistic-regression\n",
      "  n_iter_i = _check_optimize_result(\n"
     ]
    },
    {
     "name": "stdout",
     "output_type": "stream",
     "text": [
      "AE Acc: 88.13, PCA Acc: 80.59\n",
      "Starting dimension reduction to 25 components\n",
      "\tStarting PCA\n",
      "\tFinished PCA\n",
      "\tStarting AutoEncoder Training\n",
      "\t\tIteration 0, LR: 0.00025, Train Loss = 392.124, Test Loss = 399.276\n",
      "\t\tIteration 1, LR: 0.00025, Train Loss = 110.442, Test Loss = 109.876\n",
      "\t\tIteration 2, LR: 0.00025, Train Loss = 77.722, Test Loss = 77.165\n",
      "\t\tIteration 3, LR: 0.00025, Train Loss = 73.069, Test Loss = 72.832\n",
      "\t\tIteration 4, LR: 0.00025, Train Loss = 72.282, Test Loss = 71.602\n",
      "\t\tIteration 5, LR: 0.00025, Train Loss = 70.758, Test Loss = 70.191\n",
      "\t\tIteration 6, LR: 0.00025, Train Loss = 65.048, Test Loss = 64.995\n",
      "\t\tIteration 7, LR: 0.00025, Train Loss = 62.681, Test Loss = 62.431\n",
      "\t\tIteration 8, LR: 0.00025, Train Loss = 61.486, Test Loss = 61.192\n",
      "\t\tIteration 9, LR: 0.00025, Train Loss = 61.099, Test Loss = 61.214\n",
      "\t\tIteration 10, LR: 0.000125, Train Loss = 57.536, Test Loss = 57.585\n",
      "\t\tIteration 11, LR: 0.000125, Train Loss = 56.843, Test Loss = 56.884\n",
      "\t\tIteration 12, LR: 0.000125, Train Loss = 56.359, Test Loss = 56.382\n",
      "\t\tIteration 13, LR: 0.000125, Train Loss = 56.539, Test Loss = 56.739\n",
      "\t\tIteration 14, LR: 0.000125, Train Loss = 56.082, Test Loss = 56.090\n",
      "\t\tIteration 15, LR: 0.000125, Train Loss = 55.765, Test Loss = 55.853\n",
      "\t\tIteration 16, LR: 0.000125, Train Loss = 55.421, Test Loss = 55.634\n",
      "\t\tIteration 17, LR: 0.000125, Train Loss = 55.756, Test Loss = 55.947\n",
      "\t\tIteration 18, LR: 0.000125, Train Loss = 55.017, Test Loss = 55.174\n",
      "\t\tIteration 19, LR: 0.000125, Train Loss = 55.691, Test Loss = 55.674\n",
      "\t\tIteration 20, LR: 6.25e-05, Train Loss = 53.242, Test Loss = 53.456\n",
      "\t\tIteration 21, LR: 6.25e-05, Train Loss = 53.222, Test Loss = 53.410\n",
      "\t\tIteration 22, LR: 6.25e-05, Train Loss = 53.244, Test Loss = 53.376\n",
      "\t\tIteration 23, LR: 6.25e-05, Train Loss = 53.491, Test Loss = 53.672\n",
      "\t\tIteration 24, LR: 6.25e-05, Train Loss = 52.973, Test Loss = 53.179\n",
      "\t\tIteration 25, LR: 6.25e-05, Train Loss = 53.386, Test Loss = 53.583\n",
      "\t\tIteration 26, LR: 6.25e-05, Train Loss = 52.634, Test Loss = 52.852\n",
      "\t\tIteration 27, LR: 6.25e-05, Train Loss = 52.682, Test Loss = 52.903\n",
      "\t\tIteration 28, LR: 6.25e-05, Train Loss = 53.113, Test Loss = 53.432\n",
      "\t\tIteration 29, LR: 6.25e-05, Train Loss = 52.535, Test Loss = 52.723\n",
      "\t\tIteration 30, LR: 3.125e-05, Train Loss = 51.927, Test Loss = 52.209\n",
      "\t\tIteration 31, LR: 3.125e-05, Train Loss = 51.827, Test Loss = 52.125\n",
      "\t\tIteration 32, LR: 3.125e-05, Train Loss = 51.801, Test Loss = 52.100\n",
      "\t\tIteration 33, LR: 3.125e-05, Train Loss = 51.868, Test Loss = 52.159\n",
      "\t\tIteration 34, LR: 3.125e-05, Train Loss = 51.747, Test Loss = 52.049\n",
      "\t\tIteration 35, LR: 3.125e-05, Train Loss = 51.760, Test Loss = 52.059\n",
      "\t\tIteration 36, LR: 3.125e-05, Train Loss = 51.637, Test Loss = 51.883\n",
      "\t\tIteration 37, LR: 3.125e-05, Train Loss = 51.615, Test Loss = 51.946\n",
      "\t\tIteration 38, LR: 3.125e-05, Train Loss = 51.505, Test Loss = 51.866\n",
      "\t\tIteration 39, LR: 3.125e-05, Train Loss = 51.488, Test Loss = 51.840\n",
      "\t\tIteration 40, LR: 1.5625e-05, Train Loss = 51.186, Test Loss = 51.570\n",
      "\tDone AutoEncoder Training\n"
     ]
    },
    {
     "name": "stderr",
     "output_type": "stream",
     "text": [
      "/home/apoorvsharma/anaconda3/envs/data598/lib/python3.8/site-packages/sklearn/linear_model/_logistic.py:814: ConvergenceWarning: lbfgs failed to converge (status=1):\n",
      "STOP: TOTAL NO. of ITERATIONS REACHED LIMIT.\n",
      "\n",
      "Increase the number of iterations (max_iter) or scale the data as shown in:\n",
      "    https://scikit-learn.org/stable/modules/preprocessing.html\n",
      "Please also refer to the documentation for alternative solver options:\n",
      "    https://scikit-learn.org/stable/modules/linear_model.html#logistic-regression\n",
      "  n_iter_i = _check_optimize_result(\n",
      "/home/apoorvsharma/anaconda3/envs/data598/lib/python3.8/site-packages/sklearn/linear_model/_logistic.py:814: ConvergenceWarning: lbfgs failed to converge (status=1):\n",
      "STOP: TOTAL NO. of ITERATIONS REACHED LIMIT.\n",
      "\n",
      "Increase the number of iterations (max_iter) or scale the data as shown in:\n",
      "    https://scikit-learn.org/stable/modules/preprocessing.html\n",
      "Please also refer to the documentation for alternative solver options:\n",
      "    https://scikit-learn.org/stable/modules/linear_model.html#logistic-regression\n",
      "  n_iter_i = _check_optimize_result(\n"
     ]
    },
    {
     "name": "stdout",
     "output_type": "stream",
     "text": [
      "AE Acc: 90.73, PCA Acc: 88.52\n",
      "Starting dimension reduction to 50 components\n",
      "\tStarting PCA\n",
      "\tFinished PCA\n",
      "\tStarting AutoEncoder Training\n",
      "\t\tIteration 0, LR: 0.00025, Train Loss = 393.328, Test Loss = 400.636\n",
      "\t\tIteration 1, LR: 0.00025, Train Loss = 76.671, Test Loss = 76.322\n",
      "\t\tIteration 2, LR: 0.00025, Train Loss = 62.838, Test Loss = 62.395\n",
      "\t\tIteration 3, LR: 0.00025, Train Loss = 57.246, Test Loss = 56.715\n",
      "\t\tIteration 4, LR: 0.00025, Train Loss = 54.207, Test Loss = 54.016\n",
      "\t\tIteration 5, LR: 0.00025, Train Loss = 75.574, Test Loss = 75.448\n",
      "\t\tIteration 6, LR: 0.00025, Train Loss = 50.080, Test Loss = 49.592\n",
      "\t\tIteration 7, LR: 0.00025, Train Loss = 53.834, Test Loss = 54.251\n",
      "\t\tIteration 8, LR: 0.00025, Train Loss = 46.501, Test Loss = 46.436\n",
      "\t\tIteration 9, LR: 0.00025, Train Loss = 45.986, Test Loss = 46.062\n",
      "\t\tIteration 10, LR: 0.000125, Train Loss = 39.784, Test Loss = 39.671\n",
      "\t\tIteration 11, LR: 0.000125, Train Loss = 39.110, Test Loss = 38.953\n",
      "\t\tIteration 12, LR: 0.000125, Train Loss = 38.691, Test Loss = 38.656\n",
      "\t\tIteration 13, LR: 0.000125, Train Loss = 38.134, Test Loss = 38.016\n",
      "\t\tIteration 14, LR: 0.000125, Train Loss = 38.228, Test Loss = 38.085\n",
      "\t\tIteration 15, LR: 0.000125, Train Loss = 37.777, Test Loss = 37.737\n",
      "\t\tIteration 16, LR: 0.000125, Train Loss = 37.115, Test Loss = 37.096\n",
      "\t\tIteration 17, LR: 0.000125, Train Loss = 36.782, Test Loss = 36.758\n",
      "\t\tIteration 18, LR: 0.000125, Train Loss = 36.945, Test Loss = 36.935\n",
      "\t\tIteration 19, LR: 0.000125, Train Loss = 36.630, Test Loss = 36.673\n",
      "\t\tIteration 20, LR: 6.25e-05, Train Loss = 35.518, Test Loss = 35.549\n",
      "\t\tIteration 21, LR: 6.25e-05, Train Loss = 35.370, Test Loss = 35.382\n",
      "\t\tIteration 22, LR: 6.25e-05, Train Loss = 35.105, Test Loss = 35.116\n",
      "\t\tIteration 23, LR: 6.25e-05, Train Loss = 35.148, Test Loss = 35.179\n",
      "\t\tIteration 24, LR: 6.25e-05, Train Loss = 34.953, Test Loss = 34.986\n",
      "\t\tIteration 25, LR: 6.25e-05, Train Loss = 34.871, Test Loss = 34.940\n",
      "\t\tIteration 26, LR: 6.25e-05, Train Loss = 34.837, Test Loss = 34.886\n",
      "\t\tIteration 27, LR: 6.25e-05, Train Loss = 34.756, Test Loss = 34.792\n",
      "\t\tIteration 28, LR: 6.25e-05, Train Loss = 34.764, Test Loss = 34.795\n",
      "\t\tIteration 29, LR: 6.25e-05, Train Loss = 34.699, Test Loss = 34.778\n",
      "\t\tIteration 30, LR: 3.125e-05, Train Loss = 34.240, Test Loss = 34.283\n",
      "\t\tIteration 31, LR: 3.125e-05, Train Loss = 34.187, Test Loss = 34.240\n",
      "\t\tIteration 32, LR: 3.125e-05, Train Loss = 34.183, Test Loss = 34.273\n",
      "\t\tIteration 33, LR: 3.125e-05, Train Loss = 34.084, Test Loss = 34.143\n",
      "\t\tIteration 34, LR: 3.125e-05, Train Loss = 34.048, Test Loss = 34.126\n",
      "\t\tIteration 35, LR: 3.125e-05, Train Loss = 34.067, Test Loss = 34.140\n",
      "\t\tIteration 36, LR: 3.125e-05, Train Loss = 33.938, Test Loss = 33.999\n",
      "\t\tIteration 37, LR: 3.125e-05, Train Loss = 33.972, Test Loss = 34.066\n",
      "\t\tIteration 38, LR: 3.125e-05, Train Loss = 33.906, Test Loss = 33.977\n",
      "\t\tIteration 39, LR: 3.125e-05, Train Loss = 33.930, Test Loss = 34.031\n",
      "\t\tIteration 40, LR: 1.5625e-05, Train Loss = 33.737, Test Loss = 33.846\n",
      "\tDone AutoEncoder Training\n"
     ]
    },
    {
     "name": "stderr",
     "output_type": "stream",
     "text": [
      "/home/apoorvsharma/anaconda3/envs/data598/lib/python3.8/site-packages/sklearn/linear_model/_logistic.py:814: ConvergenceWarning: lbfgs failed to converge (status=1):\n",
      "STOP: TOTAL NO. of ITERATIONS REACHED LIMIT.\n",
      "\n",
      "Increase the number of iterations (max_iter) or scale the data as shown in:\n",
      "    https://scikit-learn.org/stable/modules/preprocessing.html\n",
      "Please also refer to the documentation for alternative solver options:\n",
      "    https://scikit-learn.org/stable/modules/linear_model.html#logistic-regression\n",
      "  n_iter_i = _check_optimize_result(\n",
      "/home/apoorvsharma/anaconda3/envs/data598/lib/python3.8/site-packages/sklearn/linear_model/_logistic.py:814: ConvergenceWarning: lbfgs failed to converge (status=1):\n",
      "STOP: TOTAL NO. of ITERATIONS REACHED LIMIT.\n",
      "\n",
      "Increase the number of iterations (max_iter) or scale the data as shown in:\n",
      "    https://scikit-learn.org/stable/modules/preprocessing.html\n",
      "Please also refer to the documentation for alternative solver options:\n",
      "    https://scikit-learn.org/stable/modules/linear_model.html#logistic-regression\n",
      "  n_iter_i = _check_optimize_result(\n"
     ]
    },
    {
     "name": "stdout",
     "output_type": "stream",
     "text": [
      "AE Acc: 90.40, PCA Acc: 89.98\n",
      "Starting dimension reduction to 100 components\n",
      "\tStarting PCA\n",
      "\tFinished PCA\n",
      "\tStarting AutoEncoder Training\n",
      "\t\tIteration 0, LR: 0.00025, Train Loss = 400.061, Test Loss = 411.124\n",
      "\t\tIteration 1, LR: 0.00025, Train Loss = 67.329, Test Loss = 66.640\n",
      "\t\tIteration 2, LR: 0.00025, Train Loss = 56.515, Test Loss = 56.282\n",
      "\t\tIteration 3, LR: 0.00025, Train Loss = 45.893, Test Loss = 45.705\n",
      "\t\tIteration 4, LR: 0.00025, Train Loss = 76.234, Test Loss = 76.851\n",
      "\t\tIteration 5, LR: 0.00025, Train Loss = 40.744, Test Loss = 40.700\n",
      "\t\tIteration 6, LR: 0.00025, Train Loss = 43.252, Test Loss = 43.148\n",
      "\t\tIteration 7, LR: 0.00025, Train Loss = 38.617, Test Loss = 38.480\n",
      "\t\tIteration 8, LR: 0.00025, Train Loss = 39.971, Test Loss = 40.016\n",
      "\t\tIteration 9, LR: 0.00025, Train Loss = 37.326, Test Loss = 37.274\n",
      "\t\tIteration 10, LR: 0.000125, Train Loss = 32.580, Test Loss = 32.562\n",
      "\t\tIteration 11, LR: 0.000125, Train Loss = 32.723, Test Loss = 32.687\n",
      "\t\tIteration 12, LR: 0.000125, Train Loss = 31.059, Test Loss = 31.100\n",
      "\t\tIteration 13, LR: 0.000125, Train Loss = 29.890, Test Loss = 29.885\n",
      "\t\tIteration 14, LR: 0.000125, Train Loss = 33.256, Test Loss = 33.379\n",
      "\t\tIteration 15, LR: 0.000125, Train Loss = 28.503, Test Loss = 28.517\n",
      "\t\tIteration 16, LR: 0.000125, Train Loss = 28.047, Test Loss = 28.110\n",
      "\t\tIteration 17, LR: 0.000125, Train Loss = 27.495, Test Loss = 27.527\n",
      "\t\tIteration 18, LR: 0.000125, Train Loss = 27.164, Test Loss = 27.194\n",
      "\t\tIteration 19, LR: 0.000125, Train Loss = 27.145, Test Loss = 27.188\n",
      "\t\tIteration 20, LR: 6.25e-05, Train Loss = 25.625, Test Loss = 25.715\n",
      "\t\tIteration 21, LR: 6.25e-05, Train Loss = 25.671, Test Loss = 25.715\n",
      "\t\tIteration 22, LR: 6.25e-05, Train Loss = 25.602, Test Loss = 25.677\n",
      "\t\tIteration 23, LR: 6.25e-05, Train Loss = 25.323, Test Loss = 25.429\n",
      "\t\tIteration 24, LR: 6.25e-05, Train Loss = 25.313, Test Loss = 25.385\n",
      "\t\tIteration 25, LR: 6.25e-05, Train Loss = 25.209, Test Loss = 25.301\n",
      "\t\tIteration 26, LR: 6.25e-05, Train Loss = 25.052, Test Loss = 25.142\n",
      "\t\tIteration 27, LR: 6.25e-05, Train Loss = 24.830, Test Loss = 24.948\n",
      "\t\tIteration 28, LR: 6.25e-05, Train Loss = 24.860, Test Loss = 24.994\n",
      "\t\tIteration 29, LR: 6.25e-05, Train Loss = 24.748, Test Loss = 24.886\n",
      "\t\tIteration 30, LR: 3.125e-05, Train Loss = 24.256, Test Loss = 24.390\n",
      "\t\tIteration 31, LR: 3.125e-05, Train Loss = 24.209, Test Loss = 24.339\n",
      "\t\tIteration 32, LR: 3.125e-05, Train Loss = 24.059, Test Loss = 24.193\n",
      "\t\tIteration 33, LR: 3.125e-05, Train Loss = 24.122, Test Loss = 24.247\n",
      "\t\tIteration 34, LR: 3.125e-05, Train Loss = 23.989, Test Loss = 24.119\n",
      "\t\tIteration 35, LR: 3.125e-05, Train Loss = 23.989, Test Loss = 24.117\n",
      "\t\tIteration 36, LR: 3.125e-05, Train Loss = 23.926, Test Loss = 24.066\n",
      "\t\tIteration 37, LR: 3.125e-05, Train Loss = 23.941, Test Loss = 24.077\n",
      "\t\tIteration 38, LR: 3.125e-05, Train Loss = 23.771, Test Loss = 23.893\n",
      "\t\tIteration 39, LR: 3.125e-05, Train Loss = 23.837, Test Loss = 23.979\n",
      "\t\tIteration 40, LR: 1.5625e-05, Train Loss = 23.562, Test Loss = 23.699\n",
      "\tDone AutoEncoder Training\n"
     ]
    },
    {
     "name": "stderr",
     "output_type": "stream",
     "text": [
      "/home/apoorvsharma/anaconda3/envs/data598/lib/python3.8/site-packages/sklearn/linear_model/_logistic.py:814: ConvergenceWarning: lbfgs failed to converge (status=1):\n",
      "STOP: TOTAL NO. of ITERATIONS REACHED LIMIT.\n",
      "\n",
      "Increase the number of iterations (max_iter) or scale the data as shown in:\n",
      "    https://scikit-learn.org/stable/modules/preprocessing.html\n",
      "Please also refer to the documentation for alternative solver options:\n",
      "    https://scikit-learn.org/stable/modules/linear_model.html#logistic-regression\n",
      "  n_iter_i = _check_optimize_result(\n"
     ]
    },
    {
     "name": "stdout",
     "output_type": "stream",
     "text": [
      "AE Acc: 90.31, PCA Acc: 89.70\n"
     ]
    },
    {
     "name": "stderr",
     "output_type": "stream",
     "text": [
      "/home/apoorvsharma/anaconda3/envs/data598/lib/python3.8/site-packages/sklearn/linear_model/_logistic.py:814: ConvergenceWarning: lbfgs failed to converge (status=1):\n",
      "STOP: TOTAL NO. of ITERATIONS REACHED LIMIT.\n",
      "\n",
      "Increase the number of iterations (max_iter) or scale the data as shown in:\n",
      "    https://scikit-learn.org/stable/modules/preprocessing.html\n",
      "Please also refer to the documentation for alternative solver options:\n",
      "    https://scikit-learn.org/stable/modules/linear_model.html#logistic-regression\n",
      "  n_iter_i = _check_optimize_result(\n"
     ]
    }
   ],
   "source": [
    "for i, num_components in enumerate(num_components_list):\n",
    "    \n",
    "    print(f'Starting dimension reduction to {num_components} components')\n",
    "    \n",
    "    # STEP 1: Dimension Reduction using PCA\n",
    "    print(f'\\tStarting PCA')\n",
    "    pca = PCA(n_components = num_components)\n",
    "    principalComponents = pca.fit(X_train_2d)\n",
    "    \n",
    "    # Apply transform to both the training set and the test set.\n",
    "    train_img_pca = pca.transform(X_train_2d)\n",
    "    test_img_pca = pca.transform(X_test_2d)\n",
    "    print(f'\\tFinished PCA')\n",
    "    \n",
    "    # STEP 2: Dimension Reduction using AutoEncoder\n",
    "    print(f'\\tStarting AutoEncoder Training')\n",
    "    logs = []\n",
    "    model = AutoEncoder(num_components)\n",
    "    print(f'\\t\\tIteration 0, LR: {initial_learning_rate}', end=', ')\n",
    "    logs.append(compute_logs(model, verbose=True))\n",
    "\n",
    "    for j in range(num_epochs):\n",
    "        # step decay learning rate schedule\n",
    "        num_epoch = j + 1\n",
    "        learning_rate = initial_learning_rate / ( math.pow(2, math.floor(num_epoch/learning_rate_threshold)) )\n",
    "\n",
    "        model = minibatch_sgd_one_pass(model, X_train, learning_rate, batch_size=batch_size, verbose=False)\n",
    "        print(f'\\t\\tIteration {num_epoch}, LR: {learning_rate}', end=', ')\n",
    "        logs.append(compute_logs(model, verbose=True))\n",
    "\n",
    "    with open('./models/q2_logs_nc_{num_components}.pkl', 'wb') as f:\n",
    "        pickle.dump(logs, f)\n",
    "\n",
    "    # save the model parms\n",
    "    torch.save(model.state_dict(), f'./models/q2_parms_nc_{num_components}.pt')\n",
    "    \n",
    "    # Obtain encoded traina and test images\n",
    "    train_img_ae = model.encode_images(X_train.unsqueeze(1))\n",
    "    test_img_ae = model.encode_images(X_test.unsqueeze(1))\n",
    "    \n",
    "    print(f'\\tDone AutoEncoder Training')\n",
    "    \n",
    "    # STEP 3a Create Logistic Regression Models for each reduction method\n",
    "    log_reg_model_pca = LogisticRegression(max_iter=200)\n",
    "    log_reg_model_pca.fit(train_img_pca, y_train)\n",
    "    \n",
    "    log_reg_model_ae = LogisticRegression(max_iter=200)\n",
    "    log_reg_model_ae.fit(train_img_ae.detach().numpy(), y_train)\n",
    "    \n",
    "    # STEP 3b: Predict and get accuracy from each model\n",
    "    # Accuracy for PCA model\n",
    "    y_pred = log_reg_model_pca.predict(test_img_pca)\n",
    "    pca_accuracy.append(get_accuracy(y_pred, y_test.numpy()) * 100)\n",
    "    \n",
    "    # Accuracy for AutoEncoder model\n",
    "    y_pred = log_reg_model_ae.predict(test_img_ae.detach().numpy())\n",
    "    ae_accuracy.append(get_accuracy(y_pred, y_test.numpy()) * 100)\n",
    "    \n",
    "    print(f'AE Acc: {ae_accuracy[-1]:.2f}, PCA Acc: {pca_accuracy[-1]:.2f}')"
   ]
  },
  {
   "cell_type": "markdown",
   "id": "f29cc3eb",
   "metadata": {},
   "source": [
    "### Output Analysis\n",
    "Make a plot with d on the x-axis and the best test accuracy of the logistic regression model on the y-axis with the d-dimensional representations. The plot should have two lines, corresponding to PCA and autoencoders."
   ]
  },
  {
   "cell_type": "code",
   "execution_count": 31,
   "id": "ef4bb54e",
   "metadata": {},
   "outputs": [
    {
     "data": {
      "text/plain": [
       "<matplotlib.legend.Legend at 0x7f358027efa0>"
      ]
     },
     "execution_count": 31,
     "metadata": {},
     "output_type": "execute_result"
    },
    {
     "data": {
      "image/png": "[encoded data removed]",
      "text/plain": [
       "<Figure size 432x288 with 1 Axes>"
      ]
     },
     "metadata": {
      "needs_background": "light"
     },
     "output_type": "display_data"
    }
   ],
   "source": [
    "plt.plot(num_components_list, ae_accuracy, label=\"Auto-Encoder Accuracy\")\n",
    "plt.plot(num_components_list, pca_accuracy, label=\"PCA Accuracy\")\n",
    "plt.title('Dimension Reduction Analysis', fontsize=18)\n",
    "plt.ylabel('Accuracy (%age)', fontsize=18)\n",
    "plt.xlabel('Latent Features', fontsize=18)\n",
    "plt.legend(fontsize=18)"
   ]
  },
  {
   "cell_type": "markdown",
   "id": "c5f96eba",
   "metadata": {},
   "source": [
    "Based on these observations, could you speculate why one of the two might be better or worse than the\n",
    "other?"
   ]
  },
  {
   "cell_type": "markdown",
   "id": "fb159937",
   "metadata": {},
   "source": [
    "PCA is essentially a linear transformation. However, AutoEncoders can map complex non-linear functions. As a result, for image data, auto-encoders perform better at reconstruction. "
   ]
  }
 ],
 "metadata": {
  "kernelspec": {
   "display_name": "Python 3 (ipykernel)",
   "language": "python",
   "name": "python3"
  },
  "language_info": {
   "codemirror_mode": {
    "name": "ipython",
    "version": 3
   },
   "file_extension": ".py",
   "mimetype": "text/x-python",
   "name": "python",
   "nbconvert_exporter": "python",
   "pygments_lexer": "ipython3",
   "version": "3.8.12"
  }
 },
 "nbformat": 4,
 "nbformat_minor": 5
}
