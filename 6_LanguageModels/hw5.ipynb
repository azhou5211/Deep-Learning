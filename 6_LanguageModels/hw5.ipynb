{
 "cells": [
  {
   "cell_type": "markdown",
   "metadata": {},
   "source": [
    "<center>  <h1> Data 598 (Winter 2022): HW5 </h1> </center> \n",
    "    <center> University of Washington </center>\n",
    "    \n",
    "Please fill out all the `TODO`s in the notebook below. "
   ]
  },
  {
   "cell_type": "markdown",
   "metadata": {},
   "source": [
    "# Coding up a differentiable module\n",
    "\n",
    "Consider the soft-thresholding function $f_T: \\mathbb{R} \\to \\mathbb{R}$ defined for any $T > 0$ as \n",
    "$$\n",
    "    f_T(y) = \n",
    "    \\begin{cases} \n",
    "        0, & \\text{ if } -T \\le y \\le T \\,, \\\\\n",
    "        y - T, & \\text{ if } y > T \\,, \\\\\n",
    "        y + T, & \\text{ if } y < T \\,.\n",
    "    \\end{cases}\n",
    "$$\n",
    "\n",
    "See the image below for $T=3$. \n",
    "<img src=\"https://d3i71xaburhd42.cloudfront.net/32c265c127e6985e365b93158123655e13768ea4/6-Figure2-1.png\" width=\"300\">\n",
    "\n"
   ]
  },
  {
   "cell_type": "markdown",
   "metadata": {},
   "source": [
    "**A)** Write a function to compute which takes in as arguments $y, T$ and returns the soft-thresholding $f_T(y)$.\n",
    "    Plot this function with $T = 3.14$ in the range $[-10, 10]$."
   ]
  },
  {
   "cell_type": "code",
   "execution_count": 1,
   "metadata": {},
   "outputs": [
    {
     "name": "stdout",
     "output_type": "stream",
     "text": [
      "tensor(3.1416, requires_grad=True)\n"
     ]
    }
   ],
   "source": [
    "import numpy as np\n",
    "import torch\n",
    "\n",
    "# Example of PyTorch Scalar\n",
    "x = torch.tensor(3.14159, requires_grad=True)\n",
    "print(x)"
   ]
  },
  {
   "cell_type": "code",
   "execution_count": 2,
   "metadata": {},
   "outputs": [],
   "source": [
    "import matplotlib.pyplot as plt\n",
    "def softt(y, T):\n",
    "    \"\"\" `y` is a torch.tensor (i.e., PyTorch's scalar type; same as above), \n",
    "        `T` is a regular Python number (float or int).\n",
    "        return type: torch.tensor\n",
    "    \"\"\"\n",
    "    # HINT: if you write a program with branches, make sure that the output type is always a torch.tensor    \n",
    "    if -T <= y <= T:\n",
    "        return torch.zeros(1, requires_grad=True)\n",
    "    elif y > T:\n",
    "        return y - T\n",
    "    elif y < (-1 * T):\n",
    "        return y + T\n",
    "    \n",
    "    return None\n"
   ]
  },
  {
   "cell_type": "code",
   "execution_count": 3,
   "metadata": {},
   "outputs": [
    {
     "name": "stderr",
     "output_type": "stream",
     "text": [
      "/home/apoorvsharma/.local/lib/python3.8/site-packages/numpy/core/shape_base.py:65: VisibleDeprecationWarning: Creating an ndarray from ragged nested sequences (which is a list-or-tuple of lists-or-tuples-or ndarrays with different lengths or shapes) is deprecated. If you meant to do this, you must specify 'dtype=object' when creating the ndarray.\n",
      "  ary = asanyarray(ary)\n"
     ]
    },
    {
     "data": {
      "text/plain": [
       "Text(0.5, 0, 'X')"
      ]
     },
     "execution_count": 3,
     "metadata": {},
     "output_type": "execute_result"
    },
    {
     "data": {
      "image/png": "[encoded data removed]",
      "text/plain": [
       "<Figure size 432x288 with 1 Axes>"
      ]
     },
     "metadata": {
      "needs_background": "light"
     },
     "output_type": "display_data"
    }
   ],
   "source": [
    "x_list = np.arange(-10, 10.1, 0.1)\n",
    "T = 3.14159\n",
    "y_list = [softt(torch.tensor(x, requires_grad=True), T).detach().numpy() for x in x_list]\n",
    "\n",
    "f = plt.figure()\n",
    "ax = f.gca()\n",
    "ax.plot(x_list, y_list, '.')\n",
    "ax.set_title('Soft-Thresholding Function', fontsize=18)\n",
    "ax.set_ylabel('Y', fontsize=18)\n",
    "ax.set_xlabel('X', fontsize=18)"
   ]
  },
  {
   "cell_type": "markdown",
   "metadata": {},
   "source": [
    "**B)** Write a function which computes the derivate $f_T'(y)$ of the soft-thresholding function w.r.t. $y$, as returned by PyTorch. Plot this for $T=3.14$ in the range $[-10, 10]$. \n",
    "\n",
    "**Hint 1**: If you coded up `softt` using branches, you might encounter a situation where the output does not depend on the input. In this case, you will have to appropriately set the `allow_unused` flag. \n",
    "\n",
    "**Hint 2**: When PyTorch returns a derivative of `None`, it actually stands for `0`. If your derivative returns a `None`, you will have to handle this appropriately when plotting the function."
   ]
  },
  {
   "cell_type": "code",
   "execution_count": 4,
   "metadata": {},
   "outputs": [
    {
     "name": "stdout",
     "output_type": "stream",
     "text": [
      "0\n"
     ]
    },
    {
     "data": {
      "text/plain": [
       "Text(0.5, 0, 'X')"
      ]
     },
     "execution_count": 4,
     "metadata": {},
     "output_type": "execute_result"
    },
    {
     "data": {
      "image/png": "[encoded data removed]",
      "text/plain": [
       "<Figure size 432x288 with 1 Axes>"
      ]
     },
     "metadata": {
      "needs_background": "light"
     },
     "output_type": "display_data"
    }
   ],
   "source": [
    "def softt_derivative(y, T): \n",
    "    # TODO: your code here\n",
    "    # Call torch.autograd.grad to compute the derivative\n",
    "    \n",
    "    fy = softt(y, T)\n",
    "    fy_prime = torch.autograd.grad(outputs=fy, inputs=[y], allow_unused=True)[0]\n",
    "    if fy_prime == None: fy_prime = 0\n",
    "    return fy_prime\n",
    "\n",
    "# Test your code\n",
    "a = torch.tensor(1.20, requires_grad=True)\n",
    "print(softt_derivative(a, 3.14))\n",
    "\n",
    "# Plot\n",
    "x_list = np.arange(-10, 10.1, 0.1)\n",
    "T = 3.14159\n",
    "y_list = [softt_derivative(torch.tensor(x, requires_grad=True), T) for x in x_list]\n",
    "\n",
    "f = plt.figure()\n",
    "ax = f.gca()\n",
    "ax.plot(x_list, y_list, '.')\n",
    "ax.set_title('Soft-Thresholding Derivative', fontsize=18)\n",
    "ax.set_ylabel('Y', fontsize=18)\n",
    "ax.set_xlabel('X', fontsize=18)"
   ]
  },
  {
   "cell_type": "markdown",
   "metadata": {},
   "source": [
    "**C)** We will now code a differentiable module using `torch.nn.Module`. \n",
    "\n",
    "First, let us extend the definition of \n",
    "the soft-thresholding $f_T$ to vectors by applying the soft-thresholding operation component-wise. \n",
    "\n",
    "Now write a differentiable module which implements the transformation $g_{T}(x, A; M)$ given by \n",
    "$$\n",
    "    g_{T}(x, A; M) = M^{-1} \\, f_T\\big( (A^{-1} A)^n  Mx \\big) \\,,\n",
    "$$\n",
    "\n",
    "where $n=10000$ is given. Note that we can simplify $ A^{-1} A = I$ to obtain the same result. However, our chain (going right to left) contains the repetitive and unnecessary computation of multiplying $Mx$ by $A$ and then immediately undoing it by multiplying by $A^{-1}$. \n",
    "\n",
    "Note that $x \\in \\mathbb{R}^d$ is a vector, $A \\in \\mathbb{R}^{d\\times d}$ is an invertible matrix and the output is a vector is a vector in $\\mathbb{R}^d$.\n",
    "\n",
    "Here, $M \\in \\mathbb{R}^{d \\times d}$, a symmetric matrix, is a *parameter* of the module. (Recall: parameters maintain state of the module; register a parameter in `torch.nn.Module` by using the `torch.nn.Parameter` wrapper).\n",
    "\n",
    "Supply $T > 0$ and and initial value $M_0 \\in \\mathbb{R}^{d \\times d}$ symmetric to the constructor, while the `forward` method only accepts $x \\in \\mathbb{R}^d$ as an input. \n",
    "\n",
    "You may use the function `create_symmetric_invertible_matrix` to initialize this matrix `M` in the constructor."
   ]
  },
  {
   "cell_type": "code",
   "execution_count": 5,
   "metadata": {},
   "outputs": [],
   "source": [
    "class WastefulMatmulSofttMatmulinv(torch.nn.Module):\n",
    "    def __init__(self, T, M, n=10000):\n",
    "        super().__init__()\n",
    "        self.M = torch.nn.Parameter(M)\n",
    "        self.T = T\n",
    "        self.n = n\n",
    "    \n",
    "    def forward(self, x, A):\n",
    "        IMx = torch.matmul(self.M, x)\n",
    "        for _ in range(self.n):\n",
    "            IMx = torch.matmul(torch.linalg.inv(A), IMx)\n",
    "            IMx = torch.matmul(A, IMx)\n",
    "        fy = torch.FloatTensor([softt(val, self.T) for val in IMx]).double()\n",
    "        result = torch.matmul(torch.linalg.inv(self.M), fy)\n",
    "        \n",
    "        return result\n",
    "    \n",
    "    '''\n",
    "    def forward(self, x, A):\n",
    "        #Ainv_A = torch.pow(torch.matmul(torch.linalg.inv(A), A), self.n)\n",
    "        Ainv_A = torch.eye(x.shape[0]).double()\n",
    "        for _ in range(self.n):\n",
    "            Ainv_A = torch.matmul(Ainv_A, torch.linalg.inv(A))\n",
    "            Ainv_A = torch.matmul(Ainv_A, A)\n",
    "        \n",
    "        AMx = torch.matmul(torch.matmul(Ainv_A, self.M), x)\n",
    "        \n",
    "        fy = AMx.detach().apply_(lambda val: softt(val, self.T))\n",
    "        result = torch.linalg.inv(self.M) * fy\n",
    "        \n",
    "        return result\n",
    "    '''\n",
    "    "
   ]
  },
  {
   "cell_type": "markdown",
   "metadata": {},
   "source": [
    "**D)** Initialize the module with $T = 3.14$ and $M_0$ using the function `create_symmetric_invertible_matrix` with `seed=0`.  \n",
    "Use `dimension=5`. Pass in the following vector `x` and matrix `A` defined below and compute $g_T(x, A;M_0)$."
   ]
  },
  {
   "cell_type": "code",
   "execution_count": 6,
   "metadata": {},
   "outputs": [
    {
     "name": "stdout",
     "output_type": "stream",
     "text": [
      "x: tensor([ 0.1000,  5.0000, -2.3000, -1.0000, -2.0000], dtype=torch.float64,\n",
      "       requires_grad=True)\n",
      "tensor([-0.6328,  6.8930, -0.5180,  1.2438, -0.6816], dtype=torch.float64,\n",
      "       grad_fn=<MvBackward0>)\n"
     ]
    }
   ],
   "source": [
    "import numpy as np\n",
    "def create_symmetric_invertible_matrix(dimension, seed=0):\n",
    "    # return symmetric invertible square matrix of size `dimension` x `dimension`\n",
    "    rng = np.random.RandomState(dimension + seed)\n",
    "    factor = rng.randn(dimension, dimension)  # use dtype double\n",
    "    return 1e-6 * torch.eye(dimension) + torch.from_numpy(np.matmul(factor, factor.T))\n",
    "\n",
    "dimension = 5\n",
    "x = torch.DoubleTensor([0.1, 5, -2.3, -1, -2]).requires_grad_(True)  # use dtype double\n",
    "A = create_symmetric_invertible_matrix(dimension, seed=10).requires_grad_(True)\n",
    "print('x:', x)\n",
    "\n",
    "M_0 = create_symmetric_invertible_matrix(x.shape[0])\n",
    "T = 3.14\n",
    "wasteful = WastefulMatmulSofttMatmulinv(T, M_0)\n",
    "gt_wasteful = wasteful(x, A)\n",
    "print(gt_wasteful)"
   ]
  },
  {
   "cell_type": "markdown",
   "metadata": {},
   "source": [
    "**E)** For the same vector `x` as defined above, compute and print out the gradient of $\\varphi_T(x, A; M) = \\|x - g_T(x, A; M)\\|_2^2$\n",
    "with respect to $x$, $A$, and $M$ using automatic differentiation. Use $T=3.14$ again.\n",
    "\n",
    "Time the computation of the gradient using Python's `time` module. "
   ]
  },
  {
   "cell_type": "code",
   "execution_count": 7,
   "metadata": {},
   "outputs": [
    {
     "name": "stdout",
     "output_type": "stream",
     "text": [
      "Computation Time: 0.7804 seconds\n"
     ]
    }
   ],
   "source": [
    "import time\n",
    "\n",
    "start = time.time()\n",
    "grad_wasteful = torch.autograd.grad(outputs=torch.pow(torch.linalg.norm(x - wasteful(x, A)), 2), inputs=[x, A, wasteful.M], allow_unused=True)[0]\n",
    "print(f'Computation Time: {time.time() - start:.4f} seconds')"
   ]
  },
  {
   "cell_type": "markdown",
   "metadata": {},
   "source": [
    "**F)** Repeat parts C-E above but with an efficient version of `WastefulMatmulSofttMatmulinv` that utilizes the simplification $A^{-1} A = I$ to return the exact same output. \n",
    "\n",
    "Note how much time the computation of the gradient takes. Why do you observe the discrepancy in the run times? Do you observe any discrepancy in the gradients? If yes, why? \n",
    "\n",
    "**Hint**: Set the flag `allow_unused=True` in the call to `torch.auto.grad`. "
   ]
  },
  {
   "cell_type": "code",
   "execution_count": 8,
   "metadata": {},
   "outputs": [],
   "source": [
    "class EfficientMatmulSofttMatmulinv(torch.nn.Module):\n",
    "    def __init__(self, T, M, n=10000):\n",
    "        super().__init__()\n",
    "        self.M = torch.nn.Parameter(M)\n",
    "        self.T = T\n",
    "        self.n = n\n",
    "        \n",
    "    def forward(self, x, A):\n",
    "        IMx = torch.matmul(torch.matmul(self.M, x), torch.eye(x.shape[0]).double())\n",
    "        fy = torch.FloatTensor([softt(val, self.T) for val in IMx]).double()\n",
    "        result = torch.matmul(torch.linalg.inv(self.M), fy)\n",
    "        \n",
    "        return result\n",
    "    \n",
    "    '''\n",
    "    def forward(self, x, A):\n",
    "        Ainv_A = torch.eye(x.shape[0]).double() #Use the Identity matrix\n",
    "        AMx = torch.matmul(torch.matmul(Ainv_A, self.M), x)\n",
    "        \n",
    "        fy = AMx.detach().apply_(lambda val: softt(val, self.T))\n",
    "        result = torch.linalg.inv(self.M) * fy\n",
    "        \n",
    "        return result\n",
    "    '''"
   ]
  },
  {
   "cell_type": "code",
   "execution_count": 9,
   "metadata": {},
   "outputs": [
    {
     "name": "stdout",
     "output_type": "stream",
     "text": [
      "tensor([-0.6328,  6.8930, -0.5180,  1.2438, -0.6816], dtype=torch.float64,\n",
      "       grad_fn=<MvBackward0>)\n"
     ]
    }
   ],
   "source": [
    "# TODO: your code here with EfficientMatmulSofttMatmulinv\n",
    "efficient = EfficientMatmulSofttMatmulinv(T, M_0)\n",
    "gt_eff = efficient(x, A)\n",
    "print(gt_eff)"
   ]
  },
  {
   "cell_type": "code",
   "execution_count": 10,
   "metadata": {},
   "outputs": [
    {
     "name": "stdout",
     "output_type": "stream",
     "text": [
      "Computation Time: 0.0035 seconds\n"
     ]
    }
   ],
   "source": [
    "start = time.time()\n",
    "grad_efficient = torch.autograd.grad(outputs=torch.pow(torch.linalg.norm(x - efficient(x, A)), 2), inputs=[x, A, efficient.M], allow_unused=True)[0]\n",
    "print(f'Computation Time: {time.time() - start:.4f} seconds')"
   ]
  },
  {
   "cell_type": "code",
   "execution_count": 11,
   "metadata": {},
   "outputs": [
    {
     "name": "stdout",
     "output_type": "stream",
     "text": [
      "tensor([ 1.4655, -3.7860, -3.5641, -4.4875, -2.6368], dtype=torch.float64)\n",
      "tensor([ 1.4655, -3.7860, -3.5641, -4.4875, -2.6368], dtype=torch.float64)\n"
     ]
    },
    {
     "data": {
      "text/plain": [
       "tensor([0., 0., 0., 0., 0.], dtype=torch.float64)"
      ]
     },
     "execution_count": 11,
     "metadata": {},
     "output_type": "execute_result"
    }
   ],
   "source": [
    "# TODO: check the difference of gradients from EfficientMatmulSofttMatmulinv and WastefulMatmulSofttMatmulinv\n",
    "print(grad_wasteful)\n",
    "print(grad_efficient)\n",
    "grad_efficient - grad_wasteful"
   ]
  },
  {
   "cell_type": "markdown",
   "metadata": {},
   "source": []
  }
 ],
 "metadata": {
  "kernelspec": {
   "display_name": "Python 3 (ipykernel)",
   "language": "python",
   "name": "python3"
  },
  "language_info": {
   "codemirror_mode": {
    "name": "ipython",
    "version": 3
   },
   "file_extension": ".py",
   "mimetype": "text/x-python",
   "name": "python",
   "nbconvert_exporter": "python",
   "pygments_lexer": "ipython3",
   "version": "3.8.12"
  }
 },
 "nbformat": 4,
 "nbformat_minor": 4
}
