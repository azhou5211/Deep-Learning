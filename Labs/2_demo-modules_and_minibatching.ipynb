{
 "cells": [
  {
   "cell_type": "markdown",
   "metadata": {},
   "source": [
    "<center>  <h1> Lecture 2: Differentiable Modules and Minibatching </h1> </center> \n",
    "<center> Krishna Pillutla, Zaid Harchaoui </center>\n",
    "    <center> Data 598 (Winter 2022), University of Washington </center>\n",
    "\n",
    "Today we will study two concepts:\n",
    "\n",
    "- Writing differentiable modules in PyTorch, and, \n",
    "- Minibatching for stochastic gradient optimization.\n",
    "\n",
    "## 1. Differentiable Modules and Functions\n",
    "We will refer to differentiable programming as DiffProg in short. \n",
    "\n",
    "It is important to make a distinction between three types of objects: a mathematical function, a DiffProg function and a differentiable module. \n",
    "\n",
    "<img src=\"https://homes.cs.washington.edu/~pillutla/public/figures/function_math_code.jpeg\" width=\"1200\">\n",
    "\n",
    "- **A mathematical function** is an object $f: \\mathbb{R}^{d_1} \\to \\mathbb{R}^{d_2}$, for instance,\n",
    "$$\n",
    "    f(x) = \\exp(x) - \\sin(x) \\,.\n",
    "$$\n",
    "\n",
    "- **A DiffProg function** is a piece of code which implements a mathematical function $f: \\mathbb{R}^n \\to \\mathbb{R}^m$ as a program such that: \n",
    "    1. $f$ is differentiable (in the [mathematical sense](https://en.wikipedia.org/wiki/Differentiable_function)); this allows computation of derivatives of the output with respect to *each* of the inputs, \n",
    "    2. the partial derivatives of $f$ are either computable by automatic differentiation or are explicitly implemented, and, \n",
    "    3. the program maintains no *state*\n",
    "    \n",
    "- **A differentiable module** is a piece of code which implements a mathematical function $f: \\mathbb{R}^{n_1} \\times \\mathbb{R}^{n_2} \\to \\mathbb{R}^m$ as a program such that: \n",
    "    1. $f$ is differentiable (in the [mathematical sense](https://en.wikipedia.org/wiki/Differentiable_function)); this allows computation of derivatives of the output with respect to *each* of the inputs, \n",
    "    2. the partial derivatives of $f$ are either computable by automatic differentiation or are explicitly implemented, and, \n",
    "    3. the program is allowed to maintain some parameters as *state*. In other words, it is implemented as a *class*, not a pure *function*.\n",
    "\n",
    "<img src=\"https://homes.cs.washington.edu/~pillutla/public/figures/module.jpeg\" width=\"400\">\n",
    "\n",
    "\n",
    "We now distinguish between the inputs and parameters of a mathematical function, similar to a module.\n",
    "We write $f(x; \\theta)$, where the semi-colon separates the input $x$ from the parameters $\\theta$. \n",
    "Two examples of mathematical functions which we have already coded up include:\n",
    "\n",
    "- Affine functions: $f(x; \\theta) = W^\\top x + b$, where $W \\in \\mathbb{R}^{d_1 \\times d_2}$ and $b \\in \\mathbb{R}^{d_2}$ are the parameters, i.e., $\\theta = (W, b)$. \n",
    "\n",
    "\n",
    "- Nonlinear functions: $f(x; \\theta) = \\big(\\sigma(x_1), \\cdots, \\sigma(x_{d_1})\\big)$ is a non-linear function $\\sigma$, such as the rectified linear unit (ReLU) applied element-wise. This module has no parameters, i.e., $\\theta = \\varnothing$. \n",
    "\n",
    "\n",
    "**Programming Aspects**: First note that the data-types of inputs, parameters and outputs should be a floating type such as `float32` or `float64`. \n",
    "\n",
    "*Functions versus Modules*: The difference between DiffProg functions and modules is analogous to the difference between functional programming and object-oriented programming. The module is implemented by a class, which can maintain a state (member variables).\n",
    "\n",
    "*DiffProg Function/Module Construction*: We can construct a DiffProg function/module in two ways: \n",
    "\n",
    "1. compose previously defined differentiable modules and library functions, and, \n",
    "1. explicitly code up partial derivatives.\n",
    "\n",
    "Let us look at each in turn, in the context of PyTorch."
   ]
  },
  {
   "cell_type": "code",
   "execution_count": 1,
   "metadata": {},
   "outputs": [
    {
     "data": {
      "text/html": [
       "<style>.container { width:100% !important; }</style>"
      ],
      "text/plain": [
       "<IPython.core.display.HTML object>"
      ]
     },
     "metadata": {},
     "output_type": "display_data"
    }
   ],
   "source": [
    "from IPython.core.display import display, HTML\n",
    "display(HTML(\"<style>.container { width:100% !important; }</style>\"))"
   ]
  },
  {
   "cell_type": "markdown",
   "metadata": {},
   "source": [
    "## 1. Differentiable modules from library functions\n",
    "\n",
    "We can use library functions `torch.norm`, `torch.log`, `torch.exp` and similar floating point functions. A differentiable module in PyTorch is a sub-class of `torch.nn.Module`. This is the most common use case.\n",
    "\n",
    "PyTorch modules require us to implement two methods:\n",
    "\n",
    "- the constructor `__init__`: declare and store all the parameters $\\theta$ of the module here; we use the special `torch.nn.Parameter` to declare our parameters.\n",
    "- the `forward` method: pass input $x$ as an input and implement the output $f(x;\\theta)$ using library functions or predefined modules. \n",
    "\n",
    "Let us start with a simple example. "
   ]
  },
  {
   "cell_type": "code",
   "execution_count": 2,
   "metadata": {},
   "outputs": [],
   "source": [
    "import torch\n",
    "import numpy as np\n",
    "\n",
    "class LinearModule(torch.nn.Module):  #  1. sub-class torch.nn.Module\n",
    "    \n",
    "    # 2. pass in any number of arguments used to define the module to the constructor\n",
    "    def __init__(self, input_dim, output_dim): # we pass in input and output dimensions\n",
    "        super().__init__()  # call the constructor of the super class (required for correctness)\n",
    "        \n",
    "        # 3. Declare all parameters using `torch.nn.Parameter`\n",
    "        self.weight = torch.nn.Parameter(torch.randn(input_dim, output_dim) * 1/output_dim)\n",
    "        self.bias = torch.nn.Parameter(torch.zeros(output_dim))\n",
    "        # At this point, theta = (W, b), where W is represented by self.weight and b by self.bias\n",
    "        \n",
    "    # 4. Define the forward function f(x; theta), where x denotes the inputs\n",
    "    def forward(self, inputs):\n",
    "        # we expect `inputs` to be of shape (n, input_dim), where n is the number of inputs\n",
    "        assert len(inputs.shape) == 2 and inputs.shape[1] == self.weight.shape[0]\n",
    "        # Apply `f(x; theta) = W^T x + b` to each row of `inputs`\n",
    "        return torch.stack([torch.matmul(self.weight.t(), x) + self.bias for x in inputs])\n",
    "        \n",
    "    # NOTE: we have used only library functions here, so we do not need to supply gradient computations here\n",
    "    # Automatic differentiation does the rest for us"
   ]
  },
  {
   "cell_type": "markdown",
   "metadata": {},
   "source": [
    "We now define a module and take a tour of the functionality provided by PyTorch."
   ]
  },
  {
   "cell_type": "code",
   "execution_count": 3,
   "metadata": {},
   "outputs": [
    {
     "name": "stdout",
     "output_type": "stream",
     "text": [
      "Length of parameters: 2\n",
      "requires_grad: [True, True]\n"
     ]
    }
   ],
   "source": [
    "input_dim = 128\n",
    "output_dim = 10\n",
    "linear = LinearModule(input_dim, output_dim)\n",
    "\n",
    "# Obtain the parameters of the module\n",
    "parameters = list(linear.parameters()) \n",
    "print('Length of parameters:', len(parameters))\n",
    "\n",
    "# Note that PyTorch automatically sets requires_grad=True for parameters\n",
    "print('requires_grad:', [param.requires_grad for param in parameters])"
   ]
  },
  {
   "cell_type": "code",
   "execution_count": 4,
   "metadata": {},
   "outputs": [
    {
     "name": "stdout",
     "output_type": "stream",
     "text": [
      "Names of parameters: dict_keys(['weight', 'bias'])\n"
     ]
    }
   ],
   "source": [
    "# Modules also give names to the parameters, based on the names of the variables we give\n",
    "named_parameters = dict(linear.named_parameters())\n",
    "print('Names of parameters:', named_parameters.keys())"
   ]
  },
  {
   "cell_type": "code",
   "execution_count": 6,
   "metadata": {},
   "outputs": [
    {
     "name": "stdout",
     "output_type": "stream",
     "text": [
      "input shape: torch.Size([25, 128])\n",
      "output shape: torch.Size([25, 10])\n",
      "output shape: torch.Size([25, 10])\n"
     ]
    }
   ],
   "source": [
    "x = torch.rand(25, input_dim)  # some arbitrary input of the correct shape\n",
    "print('input shape:', x.shape)\n",
    "# Call the forward function\n",
    "output = linear.forward(x)\n",
    "print('output shape:', output.shape)\n",
    "# Alternatively, we can directly call the module as follows\n",
    "output = linear(x)\n",
    "print('output shape:', output.shape)"
   ]
  },
  {
   "cell_type": "markdown",
   "metadata": {},
   "source": [
    "Modules can be nested. We will now create a new module for a multilayer perceptron (MLP) with a single hidden layer by nesting two linear modules within and ReLU function. \n",
    "\n",
    "\n",
    "<img src=\"https://upload.wikimedia.org/wikipedia/commons/2/28/MultiLayerPerceptron.png\" width=\"400\">\n",
    "\n",
    "<div style=\"width: 200; height: 200; overflow: hidden\">\n",
    "  <img src=\"https://upload.wikimedia.org/wikipedia/commons/8/85/ReLU_and_Nonnegative_Soft_Thresholding_Functions.svg\" width=\"800\" height=\"200\">\n",
    "</div>\n",
    "\n",
    "The only difference is the that we declare \"modules\" instead of parameters in the constructor `__init__`.\n"
   ]
  },
  {
   "cell_type": "code",
   "execution_count": 7,
   "metadata": {},
   "outputs": [],
   "source": [
    "# we use our own definition of the ReLU function\n",
    "def relu_function(x): # x is an arbitrary tensor\n",
    "    return torch.where(x >= 0, x, torch.zeros_like(x)) # same behavior as np.where\n",
    "\n",
    "class TwoLayerPerceptron(torch.nn.Module):  # sub-class `torch.nn.Module`\n",
    "    def __init__(self, input_dim, hidden_width, output_dim):\n",
    "        super().__init__()  # initialize super-class (Required for correctness!)\n",
    "        # register parameters or sub-modules in the constructor\n",
    "        self.input_to_hidden = LinearModule(input_dim, hidden_width)\n",
    "        self.hidden_to_output = LinearModule(hidden_width, output_dim)\n",
    "        \n",
    "    def forward(self, x): # compute the function f(x; theta) for input x\n",
    "        hidden = self.input_to_hidden(x)  # apply the first linear module\n",
    "        hidden = relu_function(hidden)  # apply the non-linearity\n",
    "        return self.hidden_to_output(hidden)  # apply the final linear module"
   ]
  },
  {
   "cell_type": "code",
   "execution_count": 8,
   "metadata": {},
   "outputs": [
    {
     "name": "stdout",
     "output_type": "stream",
     "text": [
      "output shape: torch.Size([1, 10])\n",
      "parameter names: dict_keys(['input_to_hidden.weight', 'input_to_hidden.bias', 'hidden_to_output.weight', 'hidden_to_output.bias'])\n"
     ]
    }
   ],
   "source": [
    "# test the module\n",
    "mlp = TwoLayerPerceptron(50, 128, 10)\n",
    "x = torch.rand(1, 50)\n",
    "output = mlp(x)\n",
    "print('output shape:', output.shape)\n",
    "\n",
    "named_parameters = dict(mlp.named_parameters())\n",
    "print('parameter names:', named_parameters.keys())"
   ]
  },
  {
   "cell_type": "markdown",
   "metadata": {},
   "source": [
    "Let us now try to train this MLP using the FashionMNIST dataset from last week."
   ]
  },
  {
   "cell_type": "code",
   "execution_count": 19,
   "metadata": {},
   "outputs": [
    {
     "name": "stdout",
     "output_type": "stream",
     "text": [
      "X_train.shape = torch.Size([6000, 28, 28])\n",
      "n_train: 6000, n_test: 10000\n",
      "Image size: torch.Size([28, 28])\n"
     ]
    },
    {
     "data": {
      "image/png": "[encoded data removed]",
      "text/plain": [
       "<Figure size 1440x288 with 5 Axes>"
      ]
     },
     "metadata": {
      "needs_background": "light"
     },
     "output_type": "display_data"
    }
   ],
   "source": [
    "from torchvision.datasets import FashionMNIST\n",
    "import matplotlib.pyplot as plt\n",
    "\n",
    "# download dataset (~117M in size)\n",
    "train_dataset = FashionMNIST('./data', train=True, download=True)\n",
    "X_train = train_dataset.data # torch tensor of type uint8\n",
    "y_train = train_dataset.targets # torch tensor of type Long\n",
    "test_dataset = FashionMNIST('./data', train=False, download=True)\n",
    "X_test = test_dataset.data\n",
    "y_test = test_dataset.targets\n",
    "\n",
    "# choose a subsample of 10% of the data:\n",
    "idxs_train = torch.from_numpy(\n",
    "    np.random.choice(X_train.shape[0], replace=False, size=X_train.shape[0]//10)).long()\n",
    "X_train, y_train = X_train[idxs_train], y_train[idxs_train]\n",
    "# idxs_test = torch.from_numpy(\n",
    "#     np.random.choice(X_test.shape[0], replace=False, size=X_test.shape[0]//10))\n",
    "# X_test, y_test = X_test[idxs_test], y_test[idxs_test]\n",
    "\n",
    "print(f'X_train.shape = {X_train.shape}')\n",
    "print(f'n_train: {X_train.shape[0]}, n_test: {X_test.shape[0]}')\n",
    "print(f'Image size: {X_train.shape[1:]}')\n",
    "\n",
    "f, ax = plt.subplots(1, 5, figsize=(20, 4))\n",
    "for i, idx in enumerate(np.random.choice(X_train.shape[0], 5)):\n",
    "    ax[i].imshow(X_train[idx], cmap='gray', vmin=0, vmax=255)\n",
    "    ax[i].set_title(f'Label = {y_train[idx]}', fontsize=20)\n",
    "    \n",
    "# Normalize dataset: pixel values lie between 0 and 255\n",
    "# Normalize them so the pixelwise mean is zero and standard deviation is 1\n",
    "\n",
    "X_train = X_train.float()  # convert to float32\n",
    "X_train = X_train.view(-1, 784)\n",
    "mean, std = X_train.mean(axis=0), X_train.std(axis=0)\n",
    "X_train = (X_train - mean[None, :]) / (std[None, :] + 1e-6)  # avoid divide by zero\n",
    "\n",
    "X_test = X_test.float()\n",
    "X_test = X_test.view(-1, 784)\n",
    "X_test = (X_test - mean[None, :]) / (std[None, :] + 1e-6)\n",
    "\n",
    "n_class = np.unique(y_train).shape[0]"
   ]
  },
  {
   "cell_type": "code",
   "execution_count": 10,
   "metadata": {},
   "outputs": [],
   "source": [
    "from torch.nn.functional import cross_entropy\n",
    "\n",
    "def compute_objective(mlp, X, y):\n",
    "    \"\"\" Compute the multinomial logistic loss. \n",
    "        mlp is a module\n",
    "        X of shape (n, d) and y of shape (n,)\n",
    "    \"\"\"\n",
    "    # send \n",
    "    score = mlp(X)\n",
    "    # PyTorch's function cross_entropy computes the multinomial logistic loss\n",
    "    return cross_entropy(input=score, target=y, reduction='mean') \n",
    "\n",
    "@torch.no_grad()\n",
    "def compute_accuracy(mlp, X, y):\n",
    "    \"\"\" Compute the  accuracy\n",
    "        ws is a list of tensors of consistent shapes \n",
    "        X of shape (n, d) and y of shape (n,)\n",
    "    \"\"\"\n",
    "    score = mlp(X)\n",
    "    predictions = torch.argmax(score, axis=1)  # class with highest score is predicted\n",
    "    return (predictions == y).sum() * 1.0 / y.shape[0]\n",
    "\n",
    "@torch.no_grad()\n",
    "def compute_logs(mlp, verbose=False):\n",
    "    train_loss = compute_objective(mlp, X_train, y_train)\n",
    "    test_loss = compute_objective(mlp, X_test, y_test)\n",
    "    train_accuracy = compute_accuracy(mlp, X_train, y_train)\n",
    "    test_accuracy = compute_accuracy(mlp, X_test, y_test)\n",
    "    if verbose:\n",
    "        print(('Train Loss = {:.3f}, Train Accuracy = {:.3f}, ' + \n",
    "               'Test Loss = {:.3f}, Test Accuracy = {:.3f}').format(\n",
    "                train_loss.item(), train_accuracy.item(), \n",
    "                test_loss.item(), test_accuracy.item())\n",
    "    )\n",
    "    return (train_loss, train_accuracy, test_loss, test_accuracy)\n",
    "\n",
    "def sgd_one_pass(mlp, X, y, learning_rate, verbose=False):\n",
    "    num_examples = X.shape[0]\n",
    "    average_loss = 0.0\n",
    "    for i in range(num_examples):\n",
    "        idx = np.random.choice(X.shape[0])\n",
    "        # compute the objective. \n",
    "        # Note: This function requires X to be of shape (n,d). In this case, n=1 \n",
    "        objective = compute_objective(mlp, X[idx:idx+1], y[idx:idx+1]) \n",
    "        average_loss = 0.99 * average_loss + 0.01 * objective.item()\n",
    "        if verbose and (i+1) % 100 == 0:\n",
    "            print(average_loss)\n",
    "        \n",
    "        # compute the gradient using automatic differentiation\n",
    "        gradients = torch.autograd.grad(outputs=objective, inputs=mlp.parameters())\n",
    "        \n",
    "        # perform SGD update. IMPORTANT: Make the update inplace!\n",
    "        with torch.no_grad():\n",
    "            for (w, g) in zip(mlpclassification.parameters(), gradients):\n",
    "                w -= learning_rate * g\n",
    "    return mlp"
   ]
  },
  {
   "cell_type": "code",
   "execution_count": 11,
   "metadata": {
    "scrolled": true
   },
   "outputs": [
    {
     "name": "stdout",
     "output_type": "stream",
     "text": [
      "Iteration 0, Train Loss = 2.331, Train Accuracy = 0.089, Test Loss = 2.329, Test Accuracy = 0.095\n",
      "Iteration 1, Train Loss = 0.422, Train Accuracy = 0.845, Test Loss = 0.576, Test Accuracy = 0.800\n"
     ]
    },
    {
     "ename": "KeyboardInterrupt",
     "evalue": "",
     "output_type": "error",
     "traceback": [
      "\u001b[0;31m---------------------------------------------------------------------------\u001b[0m",
      "\u001b[0;31mKeyboardInterrupt\u001b[0m                         Traceback (most recent call last)",
      "\u001b[0;32m<ipython-input-11-07c17f5b88bc>\u001b[0m in \u001b[0;36m<module>\u001b[0;34m\u001b[0m\n\u001b[1;32m      8\u001b[0m \u001b[0;34m\u001b[0m\u001b[0m\n\u001b[1;32m      9\u001b[0m \u001b[0;32mfor\u001b[0m \u001b[0mj\u001b[0m \u001b[0;32min\u001b[0m \u001b[0mrange\u001b[0m\u001b[0;34m(\u001b[0m\u001b[0;36m5\u001b[0m\u001b[0;34m)\u001b[0m\u001b[0;34m:\u001b[0m\u001b[0;34m\u001b[0m\u001b[0;34m\u001b[0m\u001b[0m\n\u001b[0;32m---> 10\u001b[0;31m     \u001b[0mmlp\u001b[0m \u001b[0;34m=\u001b[0m \u001b[0msgd_one_pass\u001b[0m\u001b[0;34m(\u001b[0m\u001b[0mmlp\u001b[0m\u001b[0;34m,\u001b[0m \u001b[0mX_train\u001b[0m\u001b[0;34m,\u001b[0m \u001b[0my_train\u001b[0m\u001b[0;34m,\u001b[0m \u001b[0mlearning_rate\u001b[0m\u001b[0;34m,\u001b[0m \u001b[0mverbose\u001b[0m\u001b[0;34m=\u001b[0m\u001b[0;32mFalse\u001b[0m\u001b[0;34m)\u001b[0m\u001b[0;34m\u001b[0m\u001b[0;34m\u001b[0m\u001b[0m\n\u001b[0m\u001b[1;32m     11\u001b[0m     \u001b[0mprint\u001b[0m\u001b[0;34m(\u001b[0m\u001b[0;34mf'Iteration {j+1}'\u001b[0m\u001b[0;34m,\u001b[0m \u001b[0mend\u001b[0m\u001b[0;34m=\u001b[0m\u001b[0;34m', '\u001b[0m\u001b[0;34m)\u001b[0m\u001b[0;34m\u001b[0m\u001b[0;34m\u001b[0m\u001b[0m\n\u001b[1;32m     12\u001b[0m     \u001b[0mlogs\u001b[0m\u001b[0;34m.\u001b[0m\u001b[0mappend\u001b[0m\u001b[0;34m(\u001b[0m\u001b[0mcompute_logs\u001b[0m\u001b[0;34m(\u001b[0m\u001b[0mmlp\u001b[0m\u001b[0;34m,\u001b[0m \u001b[0mverbose\u001b[0m\u001b[0;34m=\u001b[0m\u001b[0;32mTrue\u001b[0m\u001b[0;34m)\u001b[0m\u001b[0;34m)\u001b[0m\u001b[0;34m\u001b[0m\u001b[0;34m\u001b[0m\u001b[0m\n",
      "\u001b[0;32m<ipython-input-10-5e0899362e9a>\u001b[0m in \u001b[0;36msgd_one_pass\u001b[0;34m(mlp, X, y, learning_rate, verbose)\u001b[0m\n\u001b[1;32m     48\u001b[0m \u001b[0;34m\u001b[0m\u001b[0m\n\u001b[1;32m     49\u001b[0m         \u001b[0;31m# compute the gradient using automatic differentiation\u001b[0m\u001b[0;34m\u001b[0m\u001b[0;34m\u001b[0m\u001b[0;34m\u001b[0m\u001b[0m\n\u001b[0;32m---> 50\u001b[0;31m         \u001b[0mgradients\u001b[0m \u001b[0;34m=\u001b[0m \u001b[0mtorch\u001b[0m\u001b[0;34m.\u001b[0m\u001b[0mautograd\u001b[0m\u001b[0;34m.\u001b[0m\u001b[0mgrad\u001b[0m\u001b[0;34m(\u001b[0m\u001b[0moutputs\u001b[0m\u001b[0;34m=\u001b[0m\u001b[0mobjective\u001b[0m\u001b[0;34m,\u001b[0m \u001b[0minputs\u001b[0m\u001b[0;34m=\u001b[0m\u001b[0mmlp\u001b[0m\u001b[0;34m.\u001b[0m\u001b[0mparameters\u001b[0m\u001b[0;34m(\u001b[0m\u001b[0;34m)\u001b[0m\u001b[0;34m)\u001b[0m\u001b[0;34m\u001b[0m\u001b[0;34m\u001b[0m\u001b[0m\n\u001b[0m\u001b[1;32m     51\u001b[0m \u001b[0;34m\u001b[0m\u001b[0m\n\u001b[1;32m     52\u001b[0m         \u001b[0;31m# perform SGD update. IMPORTANT: Make the update inplace!\u001b[0m\u001b[0;34m\u001b[0m\u001b[0;34m\u001b[0m\u001b[0;34m\u001b[0m\u001b[0m\n",
      "\u001b[0;32m~/software/anaconda3/envs/data598/lib/python3.7/site-packages/torch/autograd/__init__.py\u001b[0m in \u001b[0;36mgrad\u001b[0;34m(outputs, inputs, grad_outputs, retain_graph, create_graph, only_inputs, allow_unused)\u001b[0m\n\u001b[1;32m    202\u001b[0m     return Variable._execution_engine.run_backward(\n\u001b[1;32m    203\u001b[0m         \u001b[0moutputs\u001b[0m\u001b[0;34m,\u001b[0m \u001b[0mgrad_outputs_\u001b[0m\u001b[0;34m,\u001b[0m \u001b[0mretain_graph\u001b[0m\u001b[0;34m,\u001b[0m \u001b[0mcreate_graph\u001b[0m\u001b[0;34m,\u001b[0m\u001b[0;34m\u001b[0m\u001b[0;34m\u001b[0m\u001b[0m\n\u001b[0;32m--> 204\u001b[0;31m         inputs, allow_unused)\n\u001b[0m\u001b[1;32m    205\u001b[0m \u001b[0;34m\u001b[0m\u001b[0m\n\u001b[1;32m    206\u001b[0m \u001b[0;34m\u001b[0m\u001b[0m\n",
      "\u001b[0;31mKeyboardInterrupt\u001b[0m: "
     ]
    }
   ],
   "source": [
    "learning_rate = 5e-3\n",
    "\n",
    "logs = []\n",
    "\n",
    "mlp = TwoLayerPerceptron(input_dim=784, hidden_width=64, output_dim=10)\n",
    "print(f'Iteration 0', end=', ')\n",
    "logs.append(compute_logs(mlp, verbose=True))\n",
    "\n",
    "for j in range(5):\n",
    "    mlp = sgd_one_pass(mlp, X_train, y_train, learning_rate, verbose=False)\n",
    "    print(f'Iteration {j+1}', end=', ')\n",
    "    logs.append(compute_logs(mlp, verbose=True))\n"
   ]
  },
  {
   "cell_type": "markdown",
   "metadata": {},
   "source": [
    "## 2. DiffProg by coding up derivatives\n",
    "\n",
    "Let us now look at how to code up our own derivatives in PyTorch for the special case of a function whose output is one-dimensional. Consider a function $f: \\mathbb{R}^{d_1} \\times \\cdots \\mathbb{R}^{d_n} \\to \\mathbb{R}$ with $n$ inputs. \n",
    "\n",
    "DiffProg function with hard-coded derivatives are implemented in PyTorch by sub-classing `torch.autograd.Function`. We need implement two methods:\n",
    "\n",
    "- the `forward` method: pass the inputs $x_1, \\cdots, x_n$ and compute the output $f(x_1, \\cdots, x_n)$,\n",
    "- the `backward` method: pass as input a scalar $z$ and return $z \\frac{\\partial}{\\partial x_1} f(x_1, \\cdots, x_n), \\cdots, z \\frac{\\partial}{\\partial x_n} f(x_1, \\cdots, x_n)$.\n",
    "\n",
    "Both `forward` and `backward` are implemented as *static* methods, so there is no state here. Recall that instance methods (non-static) are called directly on an object, which is an instantiation of a class and has a state, while static methods do not have access to an object (and are hence stateless).\n",
    "\n",
    "The backward function actually implements the chain rule. Indeed, the derivatives of the composition $(g \\circ f)(x_1, \\cdots, x_n)$ are \n",
    "$$\n",
    "     \\frac{\\partial}{\\partial x_i} g\\big(f(x_1, \\cdots, x_n)\\big) \n",
    "     = g'\\big(f(x_1, \\cdots, x_n)\\big) \\times \\frac{\\partial}{\\partial x_i} f(x_1, \\cdots, x_n).\n",
    "$$\n",
    "\n",
    "Automatic differentiation takes care of applying the chain rule by passing in $z = g'\\big(f(x_1, \\cdots, x_n)\\big)$ to the `backward` method during the gradient computation. \n",
    "\n",
    "Let us start with a simple example, $f(x) = 2^x$. We will implement $f'(x) = 2^x \\, \\log(2) = f(x) \\, \\log(2)$ in the backward function. "
   ]
  },
  {
   "cell_type": "code",
   "execution_count": 10,
   "metadata": {},
   "outputs": [],
   "source": [
    "import math\n",
    "\n",
    "class MyPowerFunction(torch.autograd.Function): # subclass `torch.autograd.Function`\n",
    "    \n",
    "    @staticmethod  # both forward and backward are static methods\n",
    "    def forward(ctx, x):  # `ctx` allows us to save intermediate computations for the derivative\n",
    "        y = 2**x\n",
    "        ctx.save_for_backward(y)  # save the result\n",
    "        return y\n",
    "    \n",
    "    @staticmethod \n",
    "    def backward(ctx, z): # use ctx retrieve the saved `y` here \n",
    "        print('Note: Using the backward function we defined!')\n",
    "        y = ctx.saved_tensors[0]  # saved_tensors is a tuple. We extract its first element\n",
    "        fprime = y * math.log(2)  # derivative\n",
    "        return z * fprime  # return z times the derivative"
   ]
  },
  {
   "cell_type": "markdown",
   "metadata": {},
   "source": [
    "Let us try this out now."
   ]
  },
  {
   "cell_type": "code",
   "execution_count": 11,
   "metadata": {},
   "outputs": [
    {
     "name": "stdout",
     "output_type": "stream",
     "text": [
      "x =  tensor([0.9854], requires_grad=True)\n",
      "tensor([1.9799], grad_fn=<MyPowerFunctionBackward>)\n",
      "Note: Using the backward function we defined!\n",
      "derivative = tensor([1.3724])\n"
     ]
    }
   ],
   "source": [
    "x = torch.rand(1, requires_grad=True) \n",
    "print('x = ', x)\n",
    "\n",
    "# call the function using the `apply` method\n",
    "two_power_x = MyPowerFunction.apply(x)\n",
    "print(two_power_x)\n",
    "\n",
    "# use autograd to compute the derivative\n",
    "derivative_custom = torch.autograd.grad(outputs=two_power_x, inputs=[x])[0]  # torch.autograd.grad return a tuple of length 1\n",
    "print('derivative =', derivative_custom)"
   ]
  },
  {
   "cell_type": "markdown",
   "metadata": {},
   "source": [
    "Let us compare that against the result returned by PyTorch's automatic differentiation."
   ]
  },
  {
   "cell_type": "code",
   "execution_count": 12,
   "metadata": {},
   "outputs": [
    {
     "name": "stdout",
     "output_type": "stream",
     "text": [
      "tensor([1.9799], grad_fn=<PowBackward1>)\n",
      "derivative = tensor([1.3724])\n"
     ]
    }
   ],
   "source": [
    "two_power_x_again = 2 ** x\n",
    "print(two_power_x_again)\n",
    "\n",
    "# use autograd to compute the derivative\n",
    "derivative_torch = torch.autograd.grad(outputs=two_power_x_again, inputs=[x])[0]  # torch.autograd.grad return a tuple of length 1\n",
    "print('derivative =', derivative_torch)"
   ]
  },
  {
   "cell_type": "markdown",
   "metadata": {},
   "source": [
    "You can read the documentation of `torch.autograd.Function` [here](https://pytorch.org/docs/stable/autograd.html#torch.autograd.Function)."
   ]
  },
  {
   "cell_type": "markdown",
   "metadata": {},
   "source": [
    "## Minibatch Stochastic Gradient Descent (SGD)\n",
    "\n",
    "Minibatch SGD extrapolates between gradient descent (which requires $n$ gradient computations per update) and stochastic gradient descent (which requires $1$ gradient computation per update) by using $B$ gradient computations per update. \n",
    "\n",
    "Consider minimizing $f : \\mathbb{R}^d \\to \\mathbb{R}$ defined by \n",
    "$$\n",
    "    f(w) = \\frac{1}{n} \\sum_{i=1}^n L(x_i, y_i; w) \\,,\n",
    "$$\n",
    "\n",
    "In other words, the algorithm starts from some initial $w_0$ and iterates\n",
    "\n",
    "- sample $B$ indices $i_1, \\cdots, i_B$ from $\\{1, \\cdots, n\\}$, \n",
    "- calculate the stochastic gradient $g_t = \\frac{1}{B} \\sum_{b=1}^B \\nabla L(x_{i_b}, y_{i_b}; w_t)$\n",
    "- update $w_{t+1} = w_t - \\eta g_t$\n",
    "\n",
    "Gradient descent is at the extreme $B = n$ and stochastic gradient descent at $B= 1$. \n",
    "\n",
    "The advantages of such an approach are:\n",
    "\n",
    "- Reduced variance: by averaging more items, we reduce the variance of the gradient estimate. We will revisit this in the homework. \n",
    "- With specialized hardware such as GPUs, the time to compute a minibatch stochastic gradient is around the same as that of a stochastic gradient with $B=1$ (the constraint here is the GPU memory).\n",
    "\n",
    "Here we will demonstrate the effect of the minibatch size on the divergent learning rate. We will use the MLP we coded up above. \n"
   ]
  },
  {
   "cell_type": "code",
   "execution_count": 13,
   "metadata": {},
   "outputs": [],
   "source": [
    "def minibatch_sgd_one_pass(mlp, X, y, learning_rate, batch_size, verbose=False):\n",
    "    num_examples = X.shape[0]\n",
    "    average_loss = 0.0\n",
    "    num_updates = int(round(num_examples / batch_size))\n",
    "    for i in range(num_updates):\n",
    "        idxs = np.random.choice(X.shape[0], size=(batch_size,)) # draw `batch_size` many samples\n",
    "        # compute the objective. \n",
    "        objective = compute_objective(mlp, X[idxs], y[idxs]) \n",
    "        average_loss = 0.99 * average_loss + 0.01 * objective.item()\n",
    "        if verbose and (i+1) % 100 == 0:\n",
    "            print(average_loss)\n",
    "        \n",
    "        # compute the gradient using automatic differentiation\n",
    "        gradients = torch.autograd.grad(outputs=objective, inputs=mlp.parameters())\n",
    "        \n",
    "        # perform SGD update. IMPORTANT: Make the update inplace!\n",
    "        with torch.no_grad():\n",
    "            for (w, g) in zip(mlp.parameters(), gradients):\n",
    "                w -= learning_rate * g\n",
    "    return mlp"
   ]
  },
  {
   "cell_type": "code",
   "execution_count": 14,
   "metadata": {
    "scrolled": true
   },
   "outputs": [
    {
     "ename": "NameError",
     "evalue": "name 'compute_logs' is not defined",
     "output_type": "error",
     "traceback": [
      "\u001b[0;31m---------------------------------------------------------------------------\u001b[0m",
      "\u001b[0;31mNameError\u001b[0m                                 Traceback (most recent call last)",
      "\u001b[0;32m/tmp/ipykernel_16497/1404957397.py\u001b[0m in \u001b[0;36m<module>\u001b[0;34m\u001b[0m\n\u001b[1;32m      4\u001b[0m \u001b[0;34m\u001b[0m\u001b[0m\n\u001b[1;32m      5\u001b[0m \u001b[0mmlp\u001b[0m \u001b[0;34m=\u001b[0m \u001b[0mTwoLayerPerceptron\u001b[0m\u001b[0;34m(\u001b[0m\u001b[0minput_dim\u001b[0m\u001b[0;34m=\u001b[0m\u001b[0;36m784\u001b[0m\u001b[0;34m,\u001b[0m \u001b[0mhidden_width\u001b[0m\u001b[0;34m=\u001b[0m\u001b[0;36m64\u001b[0m\u001b[0;34m,\u001b[0m \u001b[0moutput_dim\u001b[0m\u001b[0;34m=\u001b[0m\u001b[0;36m10\u001b[0m\u001b[0;34m)\u001b[0m\u001b[0;34m\u001b[0m\u001b[0;34m\u001b[0m\u001b[0m\n\u001b[0;32m----> 6\u001b[0;31m \u001b[0mlogs\u001b[0m\u001b[0;34m.\u001b[0m\u001b[0mappend\u001b[0m\u001b[0;34m(\u001b[0m\u001b[0mcompute_logs\u001b[0m\u001b[0;34m(\u001b[0m\u001b[0mmlp\u001b[0m\u001b[0;34m,\u001b[0m \u001b[0mverbose\u001b[0m\u001b[0;34m=\u001b[0m\u001b[0;32mTrue\u001b[0m\u001b[0;34m)\u001b[0m\u001b[0;34m)\u001b[0m\u001b[0;34m\u001b[0m\u001b[0;34m\u001b[0m\u001b[0m\n\u001b[0m\u001b[1;32m      7\u001b[0m \u001b[0;34m\u001b[0m\u001b[0m\n\u001b[1;32m      8\u001b[0m \u001b[0mbatch_size\u001b[0m \u001b[0;34m=\u001b[0m \u001b[0;36m64\u001b[0m\u001b[0;34m\u001b[0m\u001b[0;34m\u001b[0m\u001b[0m\n",
      "\u001b[0;31mNameError\u001b[0m: name 'compute_logs' is not defined"
     ]
    }
   ],
   "source": [
    "learning_rate = 0.32\n",
    "\n",
    "logs = []\n",
    "\n",
    "mlp = TwoLayerPerceptron(input_dim=784, hidden_width=64, output_dim=10)\n",
    "logs.append(compute_logs(mlp, verbose=True))\n",
    "\n",
    "batch_size = 64\n",
    "\n",
    "for _ in range(batch_size):  # run multiple passes because our sub-sampled dataset is too small\n",
    "    mlp = minibatch_sgd_one_pass(mlp, X_train, y_train, learning_rate, batch_size=batch_size, verbose=True)\n"
   ]
  },
  {
   "cell_type": "markdown",
   "metadata": {},
   "source": [
    "Let us fill out this table with which learning rates work and which ones do not.\n",
    "\n",
    "- 'X' denotes a learning rate which causes divergence.\n",
    "- 'Y' denotes a learning rate which does not cause divergence. \n",
    "\n",
    "\n",
    "\n",
    "| B, $\\eta$   | $\\eta = 0.02$| $\\eta = 0.04$ | $\\eta = 0.08$ | $\\eta = 0.16$ | $\\eta = 0.32$ | $\\eta = 0.64$ |\n",
    "| ----------- | ------------ | ------------- | ------------- | ------------- | ------------- | ------------- |\n",
    "| $B = 1$     |       X      |       X       |       X       |       X       |      X        |       X       |\n",
    "| $B = 2$     |       Y      |               |               |               |               |               |\n",
    "| $B = 4$     |              |               |               |               |               |               |\n",
    "| $B = 8$     |              |               |               |               |               |               |\n",
    "| $B = 16$    |              |               |               |               |               |               |\n",
    "| $B = 32$    |              |               |               |               |               |               |\n",
    "| $B = 64$    |              |               |               |               |               |               |"
   ]
  },
  {
   "cell_type": "markdown",
   "metadata": {},
   "source": [
    "### Data augmentation\n",
    "\n",
    "Typical neural network pipelines use data augmentations. In particular, we take one image and produce many other images which are small variants. This makes the model more robust to small changes in the patters we are trying to capture. \n",
    "\n",
    "Let us consider an example."
   ]
  },
  {
   "cell_type": "code",
   "execution_count": 15,
   "metadata": {},
   "outputs": [
    {
     "name": "stderr",
     "output_type": "stream",
     "text": [
      "/home/pillutla/software/anaconda3/envs/data598/lib/python3.8/site-packages/torchvision/transforms/transforms.py:852: UserWarning: Argument interpolation should be of type InterpolationMode instead of int. Please, use InterpolationMode enum.\n",
      "  warnings.warn(\n"
     ]
    },
    {
     "data": {
      "image/png": "[encoded data removed]",
      "text/plain": [
       "<Figure size 1800x720 with 10 Axes>"
      ]
     },
     "metadata": {
      "needs_background": "light"
     },
     "output_type": "display_data"
    }
   ],
   "source": [
    "import torchvision.transforms as transforms\n",
    "\n",
    "images = train_dataset.data[:5]\n",
    "my_transform = transforms.RandomResizedCrop((28, 28), scale=(0.75, 1.0), ratio=(0.75, 1.33), interpolation=2)\n",
    "images_transformed = my_transform(images)\n",
    "\n",
    "f, ax = plt.subplots(2, 5, figsize=(25, 10))\n",
    "\n",
    "for i in range(5):\n",
    "    ax[0, i].imshow(images[i])\n",
    "    ax[1, i].imshow(images_transformed[i])"
   ]
  },
  {
   "cell_type": "code",
   "execution_count": 18,
   "metadata": {},
   "outputs": [
    {
     "data": {
      "image/png": "[encoded data removed]",
      "text/plain": [
       "<Figure size 1800x720 with 10 Axes>"
      ]
     },
     "metadata": {
      "needs_background": "light"
     },
     "output_type": "display_data"
    }
   ],
   "source": [
    "images = train_dataset.data[:5]\n",
    "my_transform = transforms.RandomRotation((-25, 25)) # random roatation in -25 to 25 degrees\n",
    "images_transformed = my_transform(images)\n",
    "\n",
    "f, ax = plt.subplots(2, 5, figsize=(25, 10))\n",
    "\n",
    "for i in range(5):\n",
    "    ax[0, i].imshow(images[i])\n",
    "    ax[1, i].imshow(images_transformed[i])"
   ]
  },
  {
   "cell_type": "code",
   "execution_count": 46,
   "metadata": {},
   "outputs": [],
   "source": [
    "# Use this for your homework\n",
    "\n",
    "def transform_selected_data(X):\n",
    "    # X is of shape (B, 784), where B is the batch_size\n",
    "    X = X.view(-1, 28, 28)  # reshape to 28x28\n",
    "    transform1 = transforms.RandomResizedCrop((28, 28), scale=(0.75, 1.0), ratio=(0.75, 1.33), interpolation=2)\n",
    "    transform2 = transforms.RandomRotation((-10, 10))\n",
    "    X_transformed = transform2(transform1(X))\n",
    "    return X_transformed.view(-1, 784) # reshape into a vector\n",
    "\n",
    "\n",
    "# call, e.g., as `transform_selected_data(X_train[:10])`"
   ]
  },
  {
   "cell_type": "markdown",
   "metadata": {},
   "source": [
    "## Convolutional neural network\n",
    "\n",
    "A different type of neural networks appropriate for images or audio signals are called convolutional neural networks (ConvNets). It is also made up of a chain of compositions of linear operations and non-linear maps. The difference is that the linear operation is a convolution, which respects the spatial structure of the images or the temporal structure of audio. \n",
    "\n",
    "We will give the precise definition of ConvNets next week; for now we simply use them as just another type of a deep net.\n",
    "\n",
    "<img src=\"https://upload.wikimedia.org/wikipedia/commons/6/68/Conv_layer.png\" width=500>\n",
    "\n",
    "\n",
    "### Using a ConvNet\n",
    "In today's lab, we will go through the usual exercise of figuring out the divergent learning rate, etc. on the following ConvNet. Simply replace the *TwoLayerPercptron* class from above with the following convolutional neural network.\n"
   ]
  },
  {
   "cell_type": "code",
   "execution_count": null,
   "metadata": {},
   "outputs": [],
   "source": [
    "class MyConvNet(torch.nn.Module):\n",
    "    def __init__(self, num_classes=10):\n",
    "        super().__init__()\n",
    "        self.conv_ensemble_1 = torch.nn.Sequential(\n",
    "            torch.nn.Conv2d(1, 16, kernel_size=5, padding=2),\n",
    "            torch.nn.ReLU(),\n",
    "            torch.nn.MaxPool2d(2))\n",
    "        self.conv_ensemble_2 = torch.nn.Sequential(\n",
    "            torch.nn.Conv2d(16, 32, kernel_size=5, padding=2),\n",
    "            torch.nn.ReLU(),\n",
    "            torch.nn.MaxPool2d(2))\n",
    "        self.fully_connected_layer = torch.nn.Linear(7*7*32, 10)\n",
    "        \n",
    "    def forward(self, x):\n",
    "        x = x.view(-1, 1, 28, 28)  # reshape input; convolutions need a channel\n",
    "        out = self.conv_ensemble_1(x)  # first convolution + relu + pooling\n",
    "        out = self.conv_ensemble_2(out) # second convolution + relu + pooling\n",
    "        out = out.view(out.shape[0], -1)  # flatten output\n",
    "        out = self.fully_connected_layer(out)  # output layer\n",
    "        return out"
   ]
  }
 ],
 "metadata": {
  "kernelspec": {
   "display_name": "Python 3 (ipykernel)",
   "language": "python",
   "name": "python3"
  },
  "language_info": {
   "codemirror_mode": {
    "name": "ipython",
    "version": 3
   },
   "file_extension": ".py",
   "mimetype": "text/x-python",
   "name": "python",
   "nbconvert_exporter": "python",
   "pygments_lexer": "ipython3",
   "version": "3.8.12"
  }
 },
 "nbformat": 4,
 "nbformat_minor": 2
}
