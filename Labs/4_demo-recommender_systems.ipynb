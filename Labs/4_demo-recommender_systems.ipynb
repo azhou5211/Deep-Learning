{
 "cells": [
  {
   "cell_type": "markdown",
   "metadata": {},
   "source": [
    "<center> <h1> Lecture 4: Recommender Systems </h1> </center>\n",
    "<center> Krishna Pillutla, Zaid Harchaoui </center>\n",
    "    <center> Data 598 (Winter 2022), University of Washington </center>\n",
    "\n",
    "\n",
    "\n",
    "A recommender system seeks to predict the \"rating\" or \"preference\" a user would give to an item. Examples include:\n",
    " - online shopping sites (e.g., amazon.com)\n",
    " - music/movie services site (e.g., Netflix and Spotify) \n",
    " - mobile application stores (e.g., IOS app store and Google play)\n",
    " - online advertising\n",
    " \n",
    "The goal of recommender systems is to recommend those items to users which they would like.\n",
    "The benefits are\n",
    "- it helps reduce user effort in finding items (especially if there are too many items)\n",
    "- it is a source of revenue for online businesses\n",
    "\n",
    "\n",
    "\n",
    "This notebook has been adapted from the [D2L book](http://d2l.ai/chapter_recommender-systems/index.html)."
   ]
  },
  {
   "cell_type": "markdown",
   "metadata": {},
   "source": [
    "## Collaborative Filtering\n",
    "Collaborative filtering (CF) is probably the most common paradigm of recommender systems.  It is based on the idea that \n",
    "people *collaborate* with each other to *filter* products of interest. \n",
    "\n",
    "For instance, suppose that Charlie and Jackie both like a number of similar audio products such as speakers, headphones and so on. \n",
    "Charlie likes a new wireless headset which Jackie is not aware of. Chances are that Jackie will like it too. \n",
    "\n",
    "Collaborative filtering is based on **the previous behavior** of **similar users**.\n",
    "\n",
    "We will focus on *model-based* collaborative filtering, which constructs \n",
    "attempts to model the user-item preferences and fits this model with data. \n",
    "\n",
    "**Explicit and Implicit Feedback**:\n",
    "- In some applications, *explicit feedback* is available. For instance, when a user reviews a product on Amazon, likes a video on YouTube or a song on Spotify, and so on.\n",
    "- On the other hand, one might only have to rely on *implicit feedback*, which is inferred from user behavior. For instance, a user clicked on an ad or a product recommendation, we use that to conclude that the user liked the product in question. Other examples include clicking a certain product on Amazon, duration a user watched a YouTube video and so on. \n",
    "\n",
    "**Downsides**:\n",
    "\n",
    "- Explicit feedback is not always available as many users may be reluctant to rate products. \n",
    "- While implicit feedback is more readily available, it can be quite noisy. For instance, a user watched a movie does not necessarily indicate a positive view of that movie.\n",
    "        \n",
    "Often, one must use all kinds of feedback available in order to build a good recommender system."
   ]
  },
  {
   "cell_type": "markdown",
   "metadata": {},
   "source": [
    "## The MovieLens dataset\n",
    "\n",
    "We will use the [MovieLens](https://grouplens.org/datasets/movielens/) dataset, \n",
    "which contains the ratings (1-5) assigned to various movies by various users.\n",
    "\n",
    "Suppose we have $m$ users and $n$ items. \n",
    "Usually, each user only sees a small number of items. Therefore, this \n",
    "user-item interaction matrix will be *extremely* sparse. "
   ]
  },
  {
   "cell_type": "code",
   "execution_count": 1,
   "metadata": {},
   "outputs": [],
   "source": [
    "import torch\n",
    "import numpy as np\n",
    "import os, sys, time \n",
    "import pandas as pd\n",
    "\n",
    "import zipfile, tarfile, requests  # TODO: Ensure package requests is installed\n",
    "\n",
    "import matplotlib.pyplot as plt\n",
    "%matplotlib inline"
   ]
  },
  {
   "cell_type": "code",
   "execution_count": 2,
   "metadata": {},
   "outputs": [],
   "source": [
    "def download_and_extract_data(url):\n",
    "    \"\"\"Download and extract a zip/tar file.\"\"\"\n",
    "    #fname = download(name)\n",
    "    fname = os.path.join('./data', url.split('/')[-1])\n",
    "    if os.path.exists(fname):\n",
    "        print(f'File {fname} already exists. Reading it')\n",
    "    else:\n",
    "        print(f'Downloading {fname} from {url}...')\n",
    "        r = requests.get(url, stream=True, verify=True)\n",
    "        with open(fname, 'wb') as f:\n",
    "            f.write(r.content)\n",
    "    \n",
    "    base_dir = os.path.dirname(fname)\n",
    "    data_dir, ext = os.path.splitext(fname)\n",
    "    if ext == '.zip':\n",
    "        fp = zipfile.ZipFile(fname, 'r')\n",
    "    elif ext in ('.tar', '.gz'):\n",
    "        fp = tarfile.open(fname, 'r')\n",
    "    else:\n",
    "        assert False, 'Only zip/tar files can be extracted.'\n",
    "    fp.extractall(base_dir)\n",
    "    print('Done!')\n",
    "    return data_dir\n",
    "\n",
    "data_url = 'http://files.grouplens.org/datasets/movielens/ml-100k.zip'\n",
    "\n",
    "def read_data_ml100k():\n",
    "    data_dir = download_and_extract_data(data_url)\n",
    "    names = ['user_id', 'item_id', 'rating', 'timestamp']\n",
    "    data = pd.read_csv(os.path.join(data_dir, 'u.data'), '\\t', names=names,\n",
    "                       engine='python')\n",
    "    num_users = data.user_id.unique().shape[0]\n",
    "    num_items = data.item_id.unique().shape[0]\n",
    "    return data, num_users, num_items\n"
   ]
  },
  {
   "cell_type": "code",
   "execution_count": 3,
   "metadata": {},
   "outputs": [
    {
     "name": "stdout",
     "output_type": "stream",
     "text": [
      "Downloading ./data/ml-100k.zip from http://files.grouplens.org/datasets/movielens/ml-100k.zip...\n",
      "Done!\n"
     ]
    },
    {
     "name": "stderr",
     "output_type": "stream",
     "text": [
      "/tmp/ipykernel_7824/1744849826.py:1: FutureWarning: In a future version of pandas all arguments of read_csv except for the argument 'filepath_or_buffer' will be keyword-only\n",
      "  data, num_users, num_items = read_data_ml100k()\n"
     ]
    }
   ],
   "source": [
    "data, num_users, num_items = read_data_ml100k()"
   ]
  },
  {
   "cell_type": "code",
   "execution_count": 4,
   "metadata": {},
   "outputs": [
    {
     "name": "stdout",
     "output_type": "stream",
     "text": [
      "(100000, 4) 943 1682\n",
      "We have 100000 ratings from 943 users and 1682 items\n"
     ]
    },
    {
     "data": {
      "text/html": [
       "<div>\n",
       "<style scoped>\n",
       "    .dataframe tbody tr th:only-of-type {\n",
       "        vertical-align: middle;\n",
       "    }\n",
       "\n",
       "    .dataframe tbody tr th {\n",
       "        vertical-align: top;\n",
       "    }\n",
       "\n",
       "    .dataframe thead th {\n",
       "        text-align: right;\n",
       "    }\n",
       "</style>\n",
       "<table border=\"1\" class=\"dataframe\">\n",
       "  <thead>\n",
       "    <tr style=\"text-align: right;\">\n",
       "      <th></th>\n",
       "      <th>user_id</th>\n",
       "      <th>item_id</th>\n",
       "      <th>rating</th>\n",
       "      <th>timestamp</th>\n",
       "    </tr>\n",
       "  </thead>\n",
       "  <tbody>\n",
       "    <tr>\n",
       "      <th>0</th>\n",
       "      <td>196</td>\n",
       "      <td>242</td>\n",
       "      <td>3</td>\n",
       "      <td>881250949</td>\n",
       "    </tr>\n",
       "    <tr>\n",
       "      <th>1</th>\n",
       "      <td>186</td>\n",
       "      <td>302</td>\n",
       "      <td>3</td>\n",
       "      <td>891717742</td>\n",
       "    </tr>\n",
       "    <tr>\n",
       "      <th>2</th>\n",
       "      <td>22</td>\n",
       "      <td>377</td>\n",
       "      <td>1</td>\n",
       "      <td>878887116</td>\n",
       "    </tr>\n",
       "  </tbody>\n",
       "</table>\n",
       "</div>"
      ],
      "text/plain": [
       "   user_id  item_id  rating  timestamp\n",
       "0      196      242       3  881250949\n",
       "1      186      302       3  891717742\n",
       "2       22      377       1  878887116"
      ]
     },
     "execution_count": 4,
     "metadata": {},
     "output_type": "execute_result"
    }
   ],
   "source": [
    "print(data.shape, num_users, num_items)\n",
    "print(f'We have {data.shape[0]} ratings from {num_users} users and {num_items} items')\n",
    "data.head(3)"
   ]
  },
  {
   "cell_type": "markdown",
   "metadata": {},
   "source": [
    "To reduce the scale of the problem, we will subsample the dataset. "
   ]
  },
  {
   "cell_type": "code",
   "execution_count": 5,
   "metadata": {},
   "outputs": [
    {
     "data": {
      "text/html": [
       "<div>\n",
       "<style scoped>\n",
       "    .dataframe tbody tr th:only-of-type {\n",
       "        vertical-align: middle;\n",
       "    }\n",
       "\n",
       "    .dataframe tbody tr th {\n",
       "        vertical-align: top;\n",
       "    }\n",
       "\n",
       "    .dataframe thead th {\n",
       "        text-align: right;\n",
       "    }\n",
       "</style>\n",
       "<table border=\"1\" class=\"dataframe\">\n",
       "  <thead>\n",
       "    <tr style=\"text-align: right;\">\n",
       "      <th></th>\n",
       "      <th>user_id</th>\n",
       "      <th>item_id</th>\n",
       "      <th>rating</th>\n",
       "      <th>timestamp</th>\n",
       "    </tr>\n",
       "  </thead>\n",
       "  <tbody>\n",
       "    <tr>\n",
       "      <th>2</th>\n",
       "      <td>22</td>\n",
       "      <td>377</td>\n",
       "      <td>1</td>\n",
       "      <td>878887116</td>\n",
       "    </tr>\n",
       "    <tr>\n",
       "      <th>9</th>\n",
       "      <td>6</td>\n",
       "      <td>86</td>\n",
       "      <td>3</td>\n",
       "      <td>883603013</td>\n",
       "    </tr>\n",
       "    <tr>\n",
       "      <th>10</th>\n",
       "      <td>62</td>\n",
       "      <td>257</td>\n",
       "      <td>2</td>\n",
       "      <td>879372434</td>\n",
       "    </tr>\n",
       "  </tbody>\n",
       "</table>\n",
       "</div>"
      ],
      "text/plain": [
       "    user_id  item_id  rating  timestamp\n",
       "2        22      377       1  878887116\n",
       "9         6       86       3  883603013\n",
       "10       62      257       2  879372434"
      ]
     },
     "execution_count": 5,
     "metadata": {},
     "output_type": "execute_result"
    }
   ],
   "source": [
    "num_users = 100\n",
    "num_items = 500\n",
    "# Users and items are numbered 1, 2, ...\n",
    "data = data[(data['user_id'] <= num_users) & (data['item_id'] <= num_items)]\n",
    "data.head(3)"
   ]
  },
  {
   "cell_type": "code",
   "execution_count": 6,
   "metadata": {
    "scrolled": true
   },
   "outputs": [
    {
     "name": "stdout",
     "output_type": "stream",
     "text": [
      "0.84916\n"
     ]
    }
   ],
   "source": [
    "sparsity = 1 - len(data) / (num_users * num_items)\n",
    "print(sparsity)"
   ]
  },
  {
   "cell_type": "markdown",
   "metadata": {},
   "source": [
    "Let us randomly split the data into train and test sets."
   ]
  },
  {
   "cell_type": "code",
   "execution_count": 7,
   "metadata": {},
   "outputs": [
    {
     "name": "stdout",
     "output_type": "stream",
     "text": [
      "(6035, 4) (1507, 4)\n"
     ]
    }
   ],
   "source": [
    "def split_data_ml100k(data, num_users, num_items, test_ratio=0.2):\n",
    "    \"\"\"Split the dataset randomly.\"\"\"\n",
    "    mask = [True if x == 1 else False for x in np.random.uniform(\n",
    "            0, 1, (len(data))) < 1 - test_ratio]\n",
    "    neg_mask = [not x for x in mask]\n",
    "    train_data, test_data = data[mask], data[neg_mask]\n",
    "    return train_data, test_data\n",
    "\n",
    "train_data, test_data = split_data_ml100k(data, num_users, num_items)\n",
    "print(train_data.shape, test_data.shape)"
   ]
  },
  {
   "cell_type": "markdown",
   "metadata": {},
   "source": [
    "Let us format each sparse matrix into a [coordinate list](https://en.wikipedia.org/wiki/Sparse_matrix#Coordinate_list_(COO)) format."
   ]
  },
  {
   "cell_type": "code",
   "execution_count": 9,
   "metadata": {},
   "outputs": [],
   "source": [
    "def load_data_ml100k(data, num_users, num_items):\n",
    "    users, items, scores = [], [], []\n",
    "    for line in data.itertuples():\n",
    "        # go from 1-based indexing (original data) to 0-based indexing (for Python)\n",
    "        user_index, item_index = int(line[1] - 1), int(line[2] - 1) \n",
    "        score = int(line[3])\n",
    "        users.append(user_index)\n",
    "        items.append(item_index)\n",
    "        scores.append(score)\n",
    "    return np.asarray(users), np.asarray(items), np.asarray(scores)\n",
    "\n",
    "# iterate through zip(users, items, scores) to obtain each rating\n",
    "\n",
    "train_users, train_items, train_scores = load_data_ml100k(train_data, num_users, num_items)\n",
    "test_users, test_items, test_scores = load_data_ml100k(test_data, num_users, num_items)\n",
    "\n",
    "# Ratings are maintained as a triple (users, items, scores)\n",
    "# such that ratings[users[j], items[j]] = scores[j]"
   ]
  },
  {
   "cell_type": "markdown",
   "metadata": {},
   "source": [
    "## Matrix Factorization\n",
    "\n",
    "The principle underlying matrix factorization is that each user-item interaction rating \n",
    "is explained by a small number of *latent factors*. \n",
    "\n",
    "Suppose we have $m$ users and $n$ items.\n",
    "Let $R \\in \\mathbb{R}^{m \\times n}$ be a rating matrix where $R_{ui}$ denotes the rating \n",
    "given by user $u$ to item $i$. \n",
    "\n",
    "Concretely, each user $u$ can be described by a vector $p_u \\in \\mathbb{R}^f$ and each item $i$ can be described by a vector $q_i \\in \\mathbb{R}^f$. Then the rating given to item $i$ by user $u$ is simply the dot product\n",
    "$$\n",
    "    \\hat R_{ui} = p_u^\\top q_i + b_u + b_i \\,,\n",
    "$$\n",
    "where $b_u, b_i \\in \\mathbb{R}$ are respectively the biases of user $u$ and item $i$.\n",
    "\n",
    "Image credits: D2L.ai\n",
    "![image](http://d2l.ai/_images/rec-mf.svg)\n",
    "\n",
    "\n",
    "Stacking the user factors into a matrix $P \\in \\mathbb{R}^{m \\times f}$ \n",
    "and item factors into a matrix $Q \\in \\mathbb{R}^{n \\times f}$, this model can be written as \n",
    "$$\n",
    "    \\hat R = P Q^\\top + {b_U} \\vec{1}_n^\\top + \\vec{1}_m {b_I}^\\top \\,,\n",
    "$$\n",
    "where ${b_U} \\in \\mathbb{R}^m$ and ${b_I} \\in \\mathbb{R}^n$ are the bias vectors obtained by stacking each of the biases into a vector, and $\\vec{1}$ denotes the vector of all ones. \n",
    "\n",
    "The objective is simply the square loss between the available ratings and the reconstructions (i.e., the reconstruction error):\n",
    "\n",
    "$$\n",
    "    \\min_{P, Q, b_U, b_I} \\frac{1}{N} \\sum_{j=1}^N (R_{u_j, i_j} - \\hat R_{u_j, i_j})^2 \n",
    "         + \\lambda ( \\|P\\|_F^2 + \\|Q\\|_F^2) \\,,\n",
    "$$\n",
    "where $\\lambda$ is a regularization parameter."
   ]
  },
  {
   "cell_type": "code",
   "execution_count": 10,
   "metadata": {},
   "outputs": [],
   "source": [
    "class MatrixFactorization(torch.nn.Module):\n",
    "    # no batching\n",
    "    def __init__(self, num_factors, num_users, num_items):\n",
    "        super().__init__()\n",
    "        # matrix factors\n",
    "        self.P = torch.nn.Parameter(torch.randn(num_users, num_factors) * 1e-2)\n",
    "        self.Q = torch.nn.Parameter(torch.randn(num_items, num_factors) * 1e-2)\n",
    "        # bias vectors\n",
    "        self.user_bias = torch.nn.Parameter(torch.zeros(num_users))\n",
    "        self.item_bias = torch.nn.Parameter(torch.zeros(num_items))\n",
    "\n",
    "    def forward(self, user_id, item_id): # user_id, item_id are integers\n",
    "        p_u = self.P[user_id]\n",
    "        q_i = self.Q[item_id]\n",
    "        b_u = self.user_bias[user_id]\n",
    "        b_i = self.item_bias[item_id]\n",
    "        output = torch.dot(p_u, q_i) + b_u + b_i\n",
    "        return output\n",
    "\n",
    "# NOTE: In practice, we would always make a \"batched\" implementation.\n",
    "# In other words, we would take in a list of user ids and item ids and\n",
    "# return a list of outputs. This allows for use of minibatch SGD for training"
   ]
  },
  {
   "cell_type": "markdown",
   "metadata": {},
   "source": [
    "**Evaluation**: We evaluate the model with the reconstruction error, as measured by the square loss (that is, the objective minus the regularization terms). "
   ]
  },
  {
   "cell_type": "code",
   "execution_count": 11,
   "metadata": {},
   "outputs": [],
   "source": [
    "@torch.no_grad()\n",
    "def calculate_mse(users, items, scores, model):\n",
    "    square_loss = 0.0\n",
    "    for u, i, s in zip(users, items, scores):\n",
    "        square_loss += (model(u, i).item() - s)**2\n",
    "    return square_loss / len(users)  # average reconstruction error\n",
    "\n",
    "@torch.no_grad()\n",
    "def evaluate(users, items, scores, model, reg_param):\n",
    "    mse = calculate_mse(users, items, scores, model)\n",
    "    regularization = reg_param * (  # regularization\n",
    "                torch.norm(model.P.view(-1))**2 +  # ||P||_F^2\n",
    "                torch.norm(model.Q.view(-1))**2    # ||Q||_F^2\n",
    "            ).item()\n",
    "    objective = mse + regularization\n",
    "    return objective, mse\n",
    "\n",
    "@torch.no_grad()\n",
    "def evaluate_all(model, reg_param):\n",
    "    return [*evaluate(train_users, train_items, train_scores, model, reg_param),\n",
    "            *evaluate(test_users, test_items, test_scores, model, reg_param)]"
   ]
  },
  {
   "cell_type": "code",
   "execution_count": 12,
   "metadata": {},
   "outputs": [],
   "source": [
    "def sgd_one_pass(model, train_users, train_items, train_scores, \n",
    "                 rng, reg_param, learning_rate, verbose=True):\n",
    "    randomly_shuffled_indices = rng.permutation(len(train_users))\n",
    "    average_loss = 0.0\n",
    "    for iteration_count, idx in enumerate(randomly_shuffled_indices):\n",
    "        # select one user-item pair at random\n",
    "        u, i, s = train_users[idx], train_items[idx], train_scores[idx]\n",
    "        # compute (a stochastic estimate of) the objective using this pair\n",
    "        objective = (\n",
    "            (model(u, i) - s)**2 +  # square loss\n",
    "            reg_param * (  # regularization\n",
    "                torch.norm(model.P.view(-1))**2 +  # ||P||_F^2\n",
    "                torch.norm(model.Q.view(-1))**2    # ||Q||_F^2\n",
    "            )\n",
    "        )\n",
    "        log_freq = 500\n",
    "        average_loss = (1 - 1/log_freq) * average_loss + (1/log_freq) * objective.item()\n",
    "        if verbose and (iteration_count+1)%log_freq == 0:\n",
    "            print(average_loss)\n",
    "        \n",
    "        # compute the gradient using automatic differentiation\n",
    "        gradients = torch.autograd.grad(outputs=objective, inputs=model.parameters())\n",
    "        \n",
    "        # perform SGD update. Note: updates are performed inplace!\n",
    "        with torch.no_grad():\n",
    "            for (w, g) in zip(model.parameters(), gradients):\n",
    "                w -= learning_rate * g\n",
    "    return model"
   ]
  },
  {
   "cell_type": "markdown",
   "metadata": {},
   "source": [
    "Find the divergent learning rate. "
   ]
  },
  {
   "cell_type": "code",
   "execution_count": 14,
   "metadata": {},
   "outputs": [
    {
     "name": "stdout",
     "output_type": "stream",
     "text": [
      "[14.91963356564628, 14.919615422477591, 14.81676540576639, 14.816747262597701]\n",
      "2.405747997644659\n",
      "2.278567609920007\n",
      "1.8922755814244503\n",
      "1.794047163691903\n",
      "1.5408447951400794\n",
      "1.6084932887408665\n",
      "1.7107250369500318\n",
      "2.321176307446478\n",
      "nan\n",
      "nan\n",
      "nan\n",
      "nan\n"
     ]
    }
   ],
   "source": [
    "rng = np.random.RandomState(1)\n",
    "model = MatrixFactorization(num_factors=30, num_users=num_users, num_items=num_items)\n",
    "\n",
    "learning_rate = 0.2\n",
    "reg_param = 1e-5\n",
    "\n",
    "print(evaluate_all(model, reg_param))\n",
    "\n",
    "_ = sgd_one_pass(model, train_users, train_items, train_scores, \n",
    "                 rng, reg_param, learning_rate, verbose=True)"
   ]
  },
  {
   "cell_type": "markdown",
   "metadata": {},
   "source": [
    "Use the usual divergent learning rate heuristic to run 10 epochs through the data. "
   ]
  },
  {
   "cell_type": "code",
   "execution_count": 15,
   "metadata": {},
   "outputs": [
    {
     "name": "stdout",
     "output_type": "stream",
     "text": [
      "0 \t 14.921 14.92 14.819 14.817\n",
      "1 \t 0.928 0.928 1.048 1.047 5.59\n",
      "2 \t 0.853 0.852 1.003 1.002 4.92\n",
      "3 \t 0.839 0.837 1.026 1.024 4.92\n",
      "4 \t 0.828 0.822 1.011 1.004 4.84\n",
      "5 \t 0.798 0.777 1.012 0.991 4.86\n",
      "6 \t 0.779 0.725 1.048 0.994 5.0\n",
      "7 \t 0.749 0.659 1.074 0.983 4.98\n",
      "8 \t 0.734 0.615 1.118 0.999 5.0\n",
      "9 \t 0.726 0.576 1.135 0.985 5.04\n",
      "10 \t 0.713 0.538 1.168 0.993 5.01\n",
      "11 \t 0.699 0.5 1.192 0.993 4.99\n",
      "12 \t 0.7 0.478 1.218 0.995 4.87\n",
      "13 \t 0.697 0.46 1.242 1.005 4.93\n",
      "14 \t 0.691 0.437 1.245 0.991 4.6\n",
      "15 \t 0.685 0.415 1.271 1.001 4.86\n",
      "16 \t 0.681 0.401 1.271 0.991 4.89\n",
      "17 \t 0.686 0.398 1.27 0.983 4.88\n",
      "18 \t 0.682 0.388 1.29 0.996 4.88\n"
     ]
    },
    {
     "ename": "KeyboardInterrupt",
     "evalue": "",
     "output_type": "error",
     "traceback": [
      "\u001b[0;31m---------------------------------------------------------------------------\u001b[0m",
      "\u001b[0;31mKeyboardInterrupt\u001b[0m                         Traceback (most recent call last)",
      "\u001b[0;32m<ipython-input-15-2c934a057df6>\u001b[0m in \u001b[0;36m<module>\u001b[0;34m\u001b[0m\n\u001b[1;32m     12\u001b[0m     \u001b[0mt1\u001b[0m \u001b[0;34m=\u001b[0m \u001b[0mtime\u001b[0m\u001b[0;34m.\u001b[0m\u001b[0mtime\u001b[0m\u001b[0;34m(\u001b[0m\u001b[0;34m)\u001b[0m\u001b[0;34m\u001b[0m\u001b[0;34m\u001b[0m\u001b[0m\n\u001b[1;32m     13\u001b[0m     _ = sgd_one_pass(model, train_users, train_items, train_scores, \n\u001b[0;32m---> 14\u001b[0;31m                      rng, reg_param, learning_rate, verbose=False)\n\u001b[0m\u001b[1;32m     15\u001b[0m     \u001b[0mlogs\u001b[0m\u001b[0;34m.\u001b[0m\u001b[0mappend\u001b[0m\u001b[0;34m(\u001b[0m\u001b[0mevaluate_all\u001b[0m\u001b[0;34m(\u001b[0m\u001b[0mmodel\u001b[0m\u001b[0;34m,\u001b[0m \u001b[0mreg_param\u001b[0m\u001b[0;34m)\u001b[0m\u001b[0;34m)\u001b[0m\u001b[0;34m\u001b[0m\u001b[0;34m\u001b[0m\u001b[0m\n\u001b[1;32m     16\u001b[0m     \u001b[0mprint\u001b[0m\u001b[0;34m(\u001b[0m\u001b[0mi\u001b[0m\u001b[0;34m+\u001b[0m\u001b[0;36m1\u001b[0m\u001b[0;34m,\u001b[0m \u001b[0;34m'\\t'\u001b[0m\u001b[0;34m,\u001b[0m \u001b[0;34m*\u001b[0m\u001b[0mnp\u001b[0m\u001b[0;34m.\u001b[0m\u001b[0maround\u001b[0m\u001b[0;34m(\u001b[0m\u001b[0mlogs\u001b[0m\u001b[0;34m[\u001b[0m\u001b[0;34m-\u001b[0m\u001b[0;36m1\u001b[0m\u001b[0;34m]\u001b[0m\u001b[0;34m,\u001b[0m \u001b[0;36m3\u001b[0m\u001b[0;34m)\u001b[0m\u001b[0;34m,\u001b[0m \u001b[0mround\u001b[0m\u001b[0;34m(\u001b[0m\u001b[0mtime\u001b[0m\u001b[0;34m.\u001b[0m\u001b[0mtime\u001b[0m\u001b[0;34m(\u001b[0m\u001b[0;34m)\u001b[0m \u001b[0;34m-\u001b[0m \u001b[0mt1\u001b[0m\u001b[0;34m,\u001b[0m \u001b[0;36m2\u001b[0m\u001b[0;34m)\u001b[0m\u001b[0;34m)\u001b[0m\u001b[0;34m\u001b[0m\u001b[0;34m\u001b[0m\u001b[0m\n",
      "\u001b[0;32m<ipython-input-12-a317a34238b9>\u001b[0m in \u001b[0;36msgd_one_pass\u001b[0;34m(model, train_users, train_items, train_scores, rng, reg_param, learning_rate, verbose)\u001b[0m\n\u001b[1;32m     20\u001b[0m \u001b[0;34m\u001b[0m\u001b[0m\n\u001b[1;32m     21\u001b[0m         \u001b[0;31m# compute the gradient using automatic differentiation\u001b[0m\u001b[0;34m\u001b[0m\u001b[0;34m\u001b[0m\u001b[0;34m\u001b[0m\u001b[0m\n\u001b[0;32m---> 22\u001b[0;31m         \u001b[0mgradients\u001b[0m \u001b[0;34m=\u001b[0m \u001b[0mtorch\u001b[0m\u001b[0;34m.\u001b[0m\u001b[0mautograd\u001b[0m\u001b[0;34m.\u001b[0m\u001b[0mgrad\u001b[0m\u001b[0;34m(\u001b[0m\u001b[0moutputs\u001b[0m\u001b[0;34m=\u001b[0m\u001b[0mobjective\u001b[0m\u001b[0;34m,\u001b[0m \u001b[0minputs\u001b[0m\u001b[0;34m=\u001b[0m\u001b[0mmodel\u001b[0m\u001b[0;34m.\u001b[0m\u001b[0mparameters\u001b[0m\u001b[0;34m(\u001b[0m\u001b[0;34m)\u001b[0m\u001b[0;34m)\u001b[0m\u001b[0;34m\u001b[0m\u001b[0;34m\u001b[0m\u001b[0m\n\u001b[0m\u001b[1;32m     23\u001b[0m \u001b[0;34m\u001b[0m\u001b[0m\n\u001b[1;32m     24\u001b[0m         \u001b[0;31m# perform SGD update. Note: updates are performed inplace!\u001b[0m\u001b[0;34m\u001b[0m\u001b[0;34m\u001b[0m\u001b[0;34m\u001b[0m\u001b[0m\n",
      "\u001b[0;32m~/software/anaconda3/envs/data598/lib/python3.7/site-packages/torch/autograd/__init__.py\u001b[0m in \u001b[0;36mgrad\u001b[0;34m(outputs, inputs, grad_outputs, retain_graph, create_graph, only_inputs, allow_unused)\u001b[0m\n\u001b[1;32m    195\u001b[0m \u001b[0;34m\u001b[0m\u001b[0m\n\u001b[1;32m    196\u001b[0m     \u001b[0mgrad_outputs_\u001b[0m \u001b[0;34m=\u001b[0m \u001b[0m_tensor_or_tensors_to_tuple\u001b[0m\u001b[0;34m(\u001b[0m\u001b[0mgrad_outputs\u001b[0m\u001b[0;34m,\u001b[0m \u001b[0mlen\u001b[0m\u001b[0;34m(\u001b[0m\u001b[0moutputs\u001b[0m\u001b[0;34m)\u001b[0m\u001b[0;34m)\u001b[0m\u001b[0;34m\u001b[0m\u001b[0;34m\u001b[0m\u001b[0m\n\u001b[0;32m--> 197\u001b[0;31m     \u001b[0mgrad_outputs_\u001b[0m \u001b[0;34m=\u001b[0m \u001b[0m_make_grads\u001b[0m\u001b[0;34m(\u001b[0m\u001b[0moutputs\u001b[0m\u001b[0;34m,\u001b[0m \u001b[0mgrad_outputs_\u001b[0m\u001b[0;34m)\u001b[0m\u001b[0;34m\u001b[0m\u001b[0;34m\u001b[0m\u001b[0m\n\u001b[0m\u001b[1;32m    198\u001b[0m \u001b[0;34m\u001b[0m\u001b[0m\n\u001b[1;32m    199\u001b[0m     \u001b[0;32mif\u001b[0m \u001b[0mretain_graph\u001b[0m \u001b[0;32mis\u001b[0m \u001b[0;32mNone\u001b[0m\u001b[0;34m:\u001b[0m\u001b[0;34m\u001b[0m\u001b[0;34m\u001b[0m\u001b[0m\n",
      "\u001b[0;32m~/software/anaconda3/envs/data598/lib/python3.7/site-packages/torch/autograd/__init__.py\u001b[0m in \u001b[0;36m_make_grads\u001b[0;34m(outputs, grads)\u001b[0m\n\u001b[1;32m     49\u001b[0m                 \u001b[0;32mif\u001b[0m \u001b[0mout\u001b[0m\u001b[0;34m.\u001b[0m\u001b[0mnumel\u001b[0m\u001b[0;34m(\u001b[0m\u001b[0;34m)\u001b[0m \u001b[0;34m!=\u001b[0m \u001b[0;36m1\u001b[0m\u001b[0;34m:\u001b[0m\u001b[0;34m\u001b[0m\u001b[0;34m\u001b[0m\u001b[0m\n\u001b[1;32m     50\u001b[0m                     \u001b[0;32mraise\u001b[0m \u001b[0mRuntimeError\u001b[0m\u001b[0;34m(\u001b[0m\u001b[0;34m\"grad can be implicitly created only for scalar outputs\"\u001b[0m\u001b[0;34m)\u001b[0m\u001b[0;34m\u001b[0m\u001b[0;34m\u001b[0m\u001b[0m\n\u001b[0;32m---> 51\u001b[0;31m                 \u001b[0mnew_grads\u001b[0m\u001b[0;34m.\u001b[0m\u001b[0mappend\u001b[0m\u001b[0;34m(\u001b[0m\u001b[0mtorch\u001b[0m\u001b[0;34m.\u001b[0m\u001b[0mones_like\u001b[0m\u001b[0;34m(\u001b[0m\u001b[0mout\u001b[0m\u001b[0;34m,\u001b[0m \u001b[0mmemory_format\u001b[0m\u001b[0;34m=\u001b[0m\u001b[0mtorch\u001b[0m\u001b[0;34m.\u001b[0m\u001b[0mpreserve_format\u001b[0m\u001b[0;34m)\u001b[0m\u001b[0;34m)\u001b[0m\u001b[0;34m\u001b[0m\u001b[0;34m\u001b[0m\u001b[0m\n\u001b[0m\u001b[1;32m     52\u001b[0m             \u001b[0;32melse\u001b[0m\u001b[0;34m:\u001b[0m\u001b[0;34m\u001b[0m\u001b[0;34m\u001b[0m\u001b[0m\n\u001b[1;32m     53\u001b[0m                 \u001b[0mnew_grads\u001b[0m\u001b[0;34m.\u001b[0m\u001b[0mappend\u001b[0m\u001b[0;34m(\u001b[0m\u001b[0;32mNone\u001b[0m\u001b[0;34m)\u001b[0m\u001b[0;34m\u001b[0m\u001b[0;34m\u001b[0m\u001b[0m\n",
      "\u001b[0;31mKeyboardInterrupt\u001b[0m: "
     ]
    }
   ],
   "source": [
    "rng = np.random.RandomState(1)\n",
    "model = MatrixFactorization(num_factors=30, num_users=num_users, num_items=num_items)\n",
    "\n",
    "learning_rate = 0.05\n",
    "reg_param = 1e-3\n",
    "\n",
    "logs = [evaluate_all(model, reg_param)]\n",
    "\n",
    "print(0, '\\t', *np.around(logs[-1], 3))  # round logs to 3 decimal places\n",
    "\n",
    "for i in range(50):\n",
    "    t1 = time.time()\n",
    "    _ = sgd_one_pass(model, train_users, train_items, train_scores, \n",
    "                     rng, reg_param, learning_rate, verbose=False)\n",
    "    logs.append(evaluate_all(model, reg_param))\n",
    "    print(i+1, '\\t', *np.around(logs[-1], 3), round(time.time() - t1, 2))\n"
   ]
  },
  {
   "cell_type": "code",
   "execution_count": 16,
   "metadata": {},
   "outputs": [
    {
     "data": {
      "text/plain": [
       "<matplotlib.legend.Legend at 0x7f90b946dbd0>"
      ]
     },
     "execution_count": 16,
     "metadata": {},
     "output_type": "execute_result"
    },
    {
     "data": {
      "image/png": "[encoded data removed]",
      "text/plain": [
       "<Figure size 720x288 with 2 Axes>"
      ]
     },
     "metadata": {
      "needs_background": "light"
     },
     "output_type": "display_data"
    }
   ],
   "source": [
    "logs = np.asarray(logs)\n",
    "\n",
    "f, ax = plt.subplots(1, 2, figsize=(10, 4))\n",
    "ax[0].plot(logs[:, 0], label='Train', linewidth='3')\n",
    "ax[0].plot(logs[:, 2], label='Test', linewidth='3')\n",
    "ax[0].set_title('Loss', fontsize=18)\n",
    "ax[0].set_xlabel('#Passes', fontsize=18)\n",
    "\n",
    "ax[1].plot(logs[:, 1], label='Train', linewidth='3')\n",
    "ax[1].plot(logs[:, 3], label='Test', linewidth='3')\n",
    "ax[1].set_title('MSE', fontsize=18)\n",
    "ax[1].set_xlabel('#Passes', fontsize=18)\n",
    "\n",
    "for a in ax: a.set_ylim((0, 3))\n",
    "\n",
    "ax[0].legend(fontsize=18)"
   ]
  },
  {
   "cell_type": "markdown",
   "metadata": {},
   "source": [
    "We can make a prediction for any user-item pair now."
   ]
  },
  {
   "cell_type": "code",
   "execution_count": 17,
   "metadata": {},
   "outputs": [
    {
     "name": "stdout",
     "output_type": "stream",
     "text": [
      "3.842097043991089\n"
     ]
    }
   ],
   "source": [
    "predicted_rating = model(user_id=5, item_id=10)\n",
    "print(predicted_rating.item())"
   ]
  },
  {
   "attachments": {
    "enc-dec-1.png": {
     "image/png": "[encoded data removed]"
    }
   },
   "cell_type": "markdown",
   "metadata": {},
   "source": [
    "## AutoRec: A deeper recommender system\n",
    "\n",
    "AutoRec is a recommender system which uses neural networks to build a recommender system. \n",
    "The basic idea it to train a non-linear model to reconstruct the rating matrix. \n",
    "We train this model based on the available data in the matrix, and the reconstruction \n",
    "of the unavailable data for prediction. \n",
    "\n",
    "More precisely, let $r_i \\in \\mathbb{R}^m$ be the vector of ratings given to item $i$ from all users (i.e., it is a column of the rating matrix $R$). We will train a neural network to reconstruct $r_i$ using a small dimensional latent space (denoted here as \"code\"). Such a neural network is called an **autoencoder** -- we will play with autoencoders in greater detail in the lab. \n",
    "\n",
    "<!-- <img src=\"https://upload.wikimedia.org/wikipedia/commons/3/37/Autoencoder_schema.png\" width=\"300\"> -->\n",
    "\n",
    "<div>\n",
    "<img src=\"attachment:enc-dec-1.png\" width=\"400\"/>\n",
    "</div>\n",
    "\n",
    "We will use the reconstructed output to make our predictions.\n",
    "\n",
    "**Note**: We could have alternatively created an autoencoder on ratings given by a single user to all items (i.e., using rows of the rating matrix $R$). \n",
    "\n",
    "\n",
    "Reference:\n",
    "\n",
    "    Sedhain, S., Menon, A. K., Sanner, S., & Xie, L. (2015). Autorec: autoencoders meet collaborative filtering. In Proc. WWW (pp. 111–112).\n"
   ]
  },
  {
   "cell_type": "code",
   "execution_count": 18,
   "metadata": {},
   "outputs": [],
   "source": [
    "class AutoEncoder(torch.nn.Module):\n",
    "    def __init__(self, input_dim, num_hidden, dropout=0.1):\n",
    "        super().__init__()\n",
    "        self.input_to_hidden = torch.nn.Linear(input_dim, num_hidden)\n",
    "        # Note: output_dim = input_dim for an autoencoder\n",
    "        self.hidden_to_output = torch.nn.Linear(num_hidden, input_dim)\n",
    "        self.dropout = torch.nn.Dropout(dropout)\n",
    "    \n",
    "    def forward(self, columns, mask_unknowns=True):\n",
    "        # expect \"columns\" of shape (input_dim,) or (batch_size, input_dim,)\n",
    "        x = self.dropout(self.input_to_hidden(columns))  # first linear layer\n",
    "        x = torch.nn.functional.relu(x)  # Activation\n",
    "        x = self.hidden_to_output(x)  # second linear layer\n",
    "        if mask_unknowns:\n",
    "            # column only contains 0 (unknown ratings) or positive scores (known ratings)\n",
    "            # torch.sign masks out unknown ratings for the purpose of training\n",
    "            x = x * torch.sign(columns)\n",
    "        return x\n",
    "        "
   ]
  },
  {
   "cell_type": "code",
   "execution_count": 19,
   "metadata": {},
   "outputs": [
    {
     "name": "stdout",
     "output_type": "stream",
     "text": [
      "torch.Size([100, 500])\n"
     ]
    }
   ],
   "source": [
    "# Create the rating matrix with entries available for training. Others are zeros\n",
    "train_matrix = torch.zeros(num_users, num_items)\n",
    "for u, i, s in zip(train_users, train_items, train_scores):\n",
    "    train_matrix[u, i] = s\n",
    "print(train_matrix.shape)"
   ]
  },
  {
   "cell_type": "code",
   "execution_count": 20,
   "metadata": {},
   "outputs": [],
   "source": [
    "@torch.no_grad()\n",
    "def calculate_mse(predictions, users, items, scores):\n",
    "    # predictions[u, i] is the prediction of the score for user u and item i\n",
    "    mse = 0.0\n",
    "    for u, i, s in zip(users, items, scores):\n",
    "        mse += (predictions[u, i].item() - s)**2 / len(users)\n",
    "    return mse\n",
    "\n",
    "@torch.no_grad()\n",
    "def evaluate_autorec(model, reg_param):\n",
    "    model.eval()\n",
    "    # call model in batched mode\n",
    "    predictions = model(train_matrix.T, mask_unknowns=False).T   # (num_users, num_items)\n",
    "    train_mse = calculate_mse(predictions, train_users, train_items, train_scores)\n",
    "    test_mse = calculate_mse(predictions, test_users, test_items, test_scores)\n",
    "    regularization = reg_param * (  # regularization\n",
    "            np.linalg.norm([torch.norm(w.view(-1)).item() for w in model.parameters()])**2\n",
    "            )\n",
    "    train_objective = train_mse + regularization\n",
    "    test_objective = test_mse + regularization\n",
    "    return train_objective, train_mse, test_objective, test_mse\n"
   ]
  },
  {
   "cell_type": "code",
   "execution_count": 21,
   "metadata": {},
   "outputs": [],
   "source": [
    "def sgd_one_pass(model, train_matrix,\n",
    "                 rng, reg_param, learning_rate, verbose=True):\n",
    "    model.train()\n",
    "    average_loss = 0.0\n",
    "    for idx in range(train_matrix.shape[1]):\n",
    "        item = rng.randint(train_matrix.shape[1])\n",
    "        column = train_matrix[:, item]\n",
    "        number_of_ratings = (column > 0).sum().item()\n",
    "        if number_of_ratings == 0:\n",
    "            continue\n",
    "        # pass through model\n",
    "        reconstruction = model(column, mask_unknowns=True)\n",
    "        # compute objective\n",
    "        objective = (\n",
    "            torch.norm((reconstruction - column).view(-1))**2 / number_of_ratings  + \n",
    "            reg_param * sum([torch.norm(w.view(-1))**2 for w in model.parameters()])\n",
    "        )\n",
    "        average_loss = 0.95 * average_loss + 0.05 * objective.item()\n",
    "        if verbose and (idx + 1) % 50 == 0: \n",
    "            print(average_loss)\n",
    "#             e1 = torch.norm((reconstruction - column).view(-1)).item()**2 / (number_of_ratings)\n",
    "#             e2 = sum([torch.norm(w.view(-1))**2 for w in model.parameters()]).item()\n",
    "#             print(objective.item(), e1, e2, number_of_ratings)\n",
    "        # gradient\n",
    "        gradients = torch.autograd.grad(outputs=objective, inputs=model.parameters())\n",
    "        # SGD update\n",
    "        with torch.no_grad():\n",
    "            for w, g in zip(model.parameters(), gradients):\n",
    "                w -= learning_rate * g\n",
    "            "
   ]
  },
  {
   "cell_type": "code",
   "execution_count": 22,
   "metadata": {
    "scrolled": true
   },
   "outputs": [
    {
     "name": "stdout",
     "output_type": "stream",
     "text": [
      "(15.517463015089335, 15.465508828298667, 15.290086503328368, 15.2381323165377)\n",
      "6.998927200303597\n",
      "4.214021336725548\n",
      "4.829922827238999\n",
      "3.357241203050874\n",
      "3.010133130679595\n",
      "2.6996448324916558\n",
      "2.7815760774281886\n",
      "2.150368969710537\n",
      "1.75223464351603\n",
      "1.7579124215551867\n",
      "1.696454854361451\n",
      "1.5999584089078633\n",
      "1.6730574008122316\n",
      "1.3840167920226771\n",
      "1.2216751912537749\n",
      "1.2662496223839066\n",
      "1.691557665341896\n",
      "1.4221810354234437\n",
      "1.2907180847716297\n",
      "1.235214296466344\n",
      "1.176984413819596\n",
      "1.075090230408843\n",
      "1.0387469784402004\n",
      "0.8935132964572261\n",
      "1.1192054377884249\n",
      "1.0071711236417051\n",
      "1.0127836066621885\n",
      "1.090535980103481\n",
      "1.0825242699574715\n",
      "1.2140701879543505\n",
      "0.801736284606505\n",
      "0.8186655437983982\n",
      "1.0428869037463797\n",
      "0.8022163696451421\n",
      "0.870289802152128\n",
      "0.9251909890358254\n",
      "0.893855196468262\n",
      "0.8909376699406873\n",
      "0.8349016974354756\n",
      "0.8441121657767444\n",
      "0.7521126932104152\n",
      "0.6482492613433671\n",
      "0.7903962516391037\n",
      "0.8647009775566035\n",
      "0.8697162190888769\n",
      "0.9164189564541115\n",
      "0.6982380047500878\n",
      "0.8451291784569611\n",
      "0.7262817630737314\n",
      "0.9130914178864404\n",
      "(0.8080529257861323, 0.7097055242433763, 2.1721490381429494, 2.0738016366001935)\n"
     ]
    }
   ],
   "source": [
    "rng = np.random.RandomState(1)\n",
    "model = AutoEncoder(input_dim=num_users, num_hidden=50)\n",
    "reg_param = 1e-3\n",
    "learning_rate = 0.01\n",
    "\n",
    "# Initial performance\n",
    "print(evaluate_autorec(model, reg_param))\n",
    "\n",
    "for i in range(5):\n",
    "    sgd_one_pass(model, train_matrix, rng, reg_param, learning_rate, verbose=True)\n",
    "\n",
    "print(evaluate_autorec(model, reg_param))\n"
   ]
  },
  {
   "cell_type": "code",
   "execution_count": 23,
   "metadata": {},
   "outputs": [
    {
     "name": "stdout",
     "output_type": "stream",
     "text": [
      "0 \t 15.044 14.994 14.988 14.937\n",
      "5 \t 2.698 2.423 3.263 2.989\n",
      "10 \t 3.548 3.177 3.903 3.533\n",
      "15 \t 1.944 1.502 2.402 1.96\n",
      "20 \t 2.4 1.891 2.799 2.29\n",
      "25 \t 2.074 1.532 2.38 1.838\n",
      "30 \t 2.617 2.046 2.968 2.397\n",
      "35 \t 1.993 1.4 2.353 1.76\n",
      "40 \t 1.885 1.275 2.254 1.644\n",
      "45 \t 1.706 1.091 2.067 1.451\n",
      "50 \t 1.663 1.051 2.03 1.419\n",
      "55 \t 1.588 0.976 1.968 1.356\n",
      "60 \t 1.632 1.019 2.02 1.406\n",
      "65 \t 1.679 1.061 2.085 1.467\n",
      "70 \t 1.529 0.918 1.925 1.314\n",
      "75 \t 1.559 0.95 1.989 1.38\n",
      "80 \t 1.531 0.926 1.929 1.324\n",
      "85 \t 1.685 1.084 2.118 1.517\n",
      "90 \t 1.723 1.119 2.125 1.521\n",
      "95 \t 1.663 1.054 2.102 1.494\n",
      "100 \t 1.453 0.846 1.85 1.242\n",
      "105 \t 1.464 0.862 1.914 1.313\n",
      "110 \t 1.489 0.893 1.87 1.274\n",
      "115 \t 1.64 1.046 2.124 1.529\n",
      "120 \t 1.532 0.936 1.995 1.399\n",
      "125 \t 1.367 0.776 1.787 1.196\n",
      "130 \t 1.419 0.835 1.872 1.287\n",
      "135 \t 1.342 0.761 1.791 1.21\n",
      "140 \t 1.318 0.737 1.753 1.171\n",
      "145 \t 1.586 1.009 2.042 1.465\n",
      "150 \t 1.326 0.745 1.801 1.22\n",
      "155 \t 1.432 0.859 1.905 1.332\n",
      "160 \t 1.375 0.801 1.829 1.255\n",
      "165 \t 1.379 0.808 1.842 1.271\n",
      "170 \t 1.33 0.761 1.808 1.24\n",
      "175 \t 1.401 0.838 1.894 1.332\n",
      "180 \t 1.415 0.854 1.921 1.359\n",
      "185 \t 1.451 0.889 1.956 1.394\n",
      "190 \t 1.44 0.883 1.896 1.339\n",
      "195 \t 1.441 0.885 1.902 1.345\n",
      "200 \t 1.39 0.831 1.877 1.318\n",
      "205 \t 1.457 0.897 1.958 1.398\n",
      "210 \t 1.469 0.907 1.885 1.323\n",
      "215 \t 1.435 0.875 1.882 1.322\n",
      "220 \t 1.425 0.867 1.904 1.345\n",
      "225 \t 1.362 0.808 1.849 1.294\n",
      "230 \t 1.377 0.82 1.86 1.303\n",
      "235 \t 1.349 0.795 1.824 1.27\n",
      "240 \t 1.345 0.788 1.858 1.301\n",
      "245 \t 1.411 0.857 1.896 1.342\n",
      "250 \t 1.359 0.803 1.829 1.272\n",
      "255 \t 1.317 0.762 1.743 1.188\n",
      "260 \t 1.472 0.914 1.965 1.407\n",
      "265 \t 1.346 0.782 1.786 1.222\n",
      "270 \t 1.342 0.774 1.791 1.223\n",
      "275 \t 1.408 0.846 1.856 1.294\n",
      "280 \t 1.485 0.921 2.01 1.446\n",
      "285 \t 1.593 1.03 2.12 1.557\n",
      "290 \t 1.345 0.78 1.811 1.246\n",
      "295 \t 1.402 0.84 1.905 1.343\n",
      "300 \t 1.325 0.765 1.796 1.236\n",
      "305 \t 1.397 0.84 1.909 1.351\n",
      "310 \t 1.531 0.969 2.045 1.484\n",
      "315 \t 1.414 0.853 1.94 1.379\n",
      "320 \t 1.319 0.755 1.788 1.224\n",
      "325 \t 1.397 0.831 1.871 1.305\n",
      "330 \t 1.359 0.796 1.925 1.362\n",
      "335 \t 1.274 0.716 1.74 1.183\n",
      "340 \t 1.31 0.751 1.758 1.2\n",
      "345 \t 1.416 0.856 1.965 1.405\n",
      "350 \t 1.629 1.068 2.147 1.585\n",
      "355 \t 1.358 0.794 1.836 1.272\n",
      "360 \t 1.357 0.797 1.849 1.289\n",
      "365 \t 1.478 0.923 2.0 1.445\n",
      "370 \t 1.372 0.81 1.882 1.32\n",
      "375 \t 1.362 0.796 1.892 1.326\n",
      "380 \t 1.413 0.847 1.914 1.348\n",
      "385 \t 1.308 0.748 1.812 1.252\n",
      "390 \t 1.442 0.882 1.98 1.42\n",
      "395 \t 1.458 0.899 2.031 1.473\n",
      "400 \t 1.427 0.873 1.914 1.36\n",
      "405 \t 1.355 0.799 1.839 1.283\n",
      "410 \t 1.325 0.769 1.774 1.218\n",
      "415 \t 1.351 0.793 1.873 1.316\n",
      "420 \t 1.372 0.816 1.868 1.312\n",
      "425 \t 1.484 0.929 2.009 1.454\n",
      "430 \t 1.307 0.754 1.751 1.197\n",
      "435 \t 1.411 0.857 1.931 1.377\n",
      "440 \t 1.407 0.851 1.946 1.39\n",
      "445 \t 1.362 0.806 1.829 1.273\n",
      "450 \t 1.503 0.941 2.042 1.481\n",
      "455 \t 1.511 0.953 2.019 1.462\n",
      "460 \t 1.295 0.737 1.835 1.277\n",
      "465 \t 1.346 0.793 1.849 1.296\n",
      "470 \t 1.348 0.787 1.845 1.284\n",
      "475 \t 1.36 0.799 1.854 1.293\n",
      "480 \t 1.326 0.766 1.801 1.241\n",
      "485 \t 1.351 0.794 1.871 1.314\n",
      "490 \t 1.316 0.76 1.845 1.289\n",
      "495 \t 1.421 0.867 1.897 1.343\n",
      "500 \t 1.315 0.756 1.803 1.245\n"
     ]
    }
   ],
   "source": [
    "model = AutoEncoder(input_dim=num_users, num_hidden=50, dropout=0.75)\n",
    "reg_param = 1e-3\n",
    "learning_rate = 0.01\n",
    "\n",
    "# Initial performance\n",
    "logs = [evaluate_autorec(model, reg_param)]\n",
    "print(0, '\\t', *np.around(logs[-1], 3))\n",
    "\n",
    "for i in range(500):\n",
    "    sgd_one_pass(model, train_matrix, rng, reg_param, learning_rate, verbose=False)\n",
    "    if (i+1) % 5 == 0:\n",
    "        logs.append(evaluate_autorec(model, reg_param))\n",
    "        print(i+1, '\\t', *np.around(logs[-1], 3))\n"
   ]
  },
  {
   "cell_type": "code",
   "execution_count": null,
   "metadata": {},
   "outputs": [],
   "source": [
    "logs = np.asarray(logs)\n",
    "\n",
    "f, ax = plt.subplots(1, 2, figsize=(10, 4))\n",
    "ax[0].plot(logs[:, 0], label='Train', linewidth='3')\n",
    "ax[0].plot(logs[:, 2], label='Test', linewidth='3')\n",
    "ax[0].set_title('Loss', fontsize=18)\n",
    "ax[0].set_xlabel('#Passes', fontsize=18)\n",
    "\n",
    "ax[1].plot(logs[:, 1], label='Train', linewidth='3')\n",
    "ax[1].plot(logs[:, 3], label='Test', linewidth='3')\n",
    "ax[1].set_title('MSE', fontsize=18)\n",
    "ax[1].set_xlabel('#Passes', fontsize=18)\n",
    "\n",
    "for a in ax: a.set_ylim((0, 3))\n",
    "\n",
    "ax[0].legend(fontsize=18)"
   ]
  },
  {
   "cell_type": "code",
   "execution_count": null,
   "metadata": {},
   "outputs": [],
   "source": []
  }
 ],
 "metadata": {
  "kernelspec": {
   "display_name": "Python 3 (ipykernel)",
   "language": "python",
   "name": "python3"
  },
  "language_info": {
   "codemirror_mode": {
    "name": "ipython",
    "version": 3
   },
   "file_extension": ".py",
   "mimetype": "text/x-python",
   "name": "python",
   "nbconvert_exporter": "python",
   "pygments_lexer": "ipython3",
   "version": "3.8.12"
  }
 },
 "nbformat": 4,
 "nbformat_minor": 2
}
