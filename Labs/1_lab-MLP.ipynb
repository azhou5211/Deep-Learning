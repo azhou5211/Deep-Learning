{
 "cells": [
  {
   "cell_type": "markdown",
   "metadata": {},
   "source": [
    "<center><h1> Multilayer Perceptrons and Stochastic Gradient Descent </h1></center>\n",
    "<center> Krishna Pillutla, Zaid Harchaoui </center>\n",
    "    <center> Data 598 (Winter 2022), University of Washington </center>\n",
    "\n"
   ]
  },
  {
   "cell_type": "code",
   "execution_count": 1,
   "metadata": {},
   "outputs": [],
   "source": [
    "import numpy as np\n",
    "import torch\n",
    "from torchvision.datasets import FashionMNIST\n",
    "from torch.nn.functional import cross_entropy\n",
    "import time\n",
    "import copy\n",
    "\n",
    "import matplotlib.pyplot as plt \n",
    "%matplotlib inline \n",
    "\n",
    "torch.manual_seed(0)\n",
    "np.random.seed(1)"
   ]
  },
  {
   "cell_type": "markdown",
   "metadata": {},
   "source": [
    "## Part 0: PyTorch Preliminaries\n",
    "\n",
    "Use PyTorch's automatic differentiation routines to compute the following derivatives/gradients and verify them on sample inputs. The solution to the first one is provided as an example.\n",
    "\n",
    "1. $f : \\mathbb{R}^3 \\to \\mathbb{R}$ defined by $f(x) = \\|x\\| = \\sqrt{x_1^2 + x_2^2 + x_3^2}$. Find $\\nabla_x f(x)$ for some $x\\neq 0$ (note that $f$ is not differentiable at $0$).\n",
    "1. $g: \\mathbb{R}^3 \\to \\mathbb{R}$ defined by $g(y) = \\frac{\\exp(y_1)}{\\exp(y_1) + \\exp(y_2) + \\exp(y_3)}$. Find $\\nabla_y g(y)$.\n",
    "1. $h: \\mathbb{R}^2 \\times \\mathbb{R}^3 \\to \\mathbb{R}$ with $h(a, b) = a^\\top M b$ and $M\\in \\mathbb{R}^{2 \\times 3}$ is the matrix of all ones (i.e., $M_{ij}=1$ for each $i, j$). Find $\\nabla_a h(a, b)$ and $\\nabla_b h(a, b)$."
   ]
  },
  {
   "cell_type": "code",
   "execution_count": 2,
   "metadata": {},
   "outputs": [
    {
     "name": "stdout",
     "output_type": "stream",
     "text": [
      "tensor([ 1.5410, -0.2934, -2.1788], requires_grad=True) tensor([ 0.5740, -0.1093, -0.8115]) tensor([ 0.5740, -0.1093, -0.8115], grad_fn=<DivBackward0>)\n",
      "tensor([ 1.5410, -0.2934, -2.1788], requires_grad=True) tensor([ 0.5740, -0.1093, -0.8115]) tensor([ 0.5740, -0.1093, -0.8115], grad_fn=<DivBackward0>)\n"
     ]
    }
   ],
   "source": [
    "## Solution to Part 1 in two ways:\n",
    "x = torch.randn(3, requires_grad=True)\n",
    "true_gradient = x / torch.norm(x)  # computed analytically for verification\n",
    "\n",
    "# (a) Using the `.backward()` call\n",
    "output = torch.norm(x)\n",
    "output.backward()\n",
    "gradient = x.grad \n",
    "print(x, gradient, true_gradient)\n",
    "\n",
    "# (b) Using the `torch.autograd.grad` call\n",
    "output = torch.norm(x)\n",
    "# `torch.autograd.grad` returns a list. It has only one entry in this example\n",
    "gradient = torch.autograd.grad(outputs=output, inputs=[x])[0]\n",
    "print(x, gradient, true_gradient)\n",
    "\n",
    "## Solution to Part 2\n",
    "# <Your code here>\n",
    "\n",
    "## Solution to Part 3\n",
    "# <Your code here>"
   ]
  },
  {
   "cell_type": "markdown",
   "metadata": {},
   "source": [
    "Let us now generalize these examples to high dimensions.\n",
    "\n",
    "1. $f : \\mathbb{R}^n \\to \\mathbb{R}$ defined by $f(x) = \\|x\\| = \\sqrt{\\sum_{j=1}^n x_j^2}$. Find $\\nabla_x f(x)$ for some $x\\neq 0$ (note that $f$ is not differentiable at $0$).\n",
    "1. $g: \\mathbb{R}^3 \\to \\mathbb{R}$ defined by $g(y) = \\exp(y_1)/\\sum_{k=1}^n \\exp(y_k)$. Find $\\nabla_y g(y)$.\n",
    "1. $h: \\mathbb{R}^m \\times \\mathbb{R}^n \\to \\mathbb{R}$ with $h(a, b) = a^\\top M b$ and $M\\in \\mathbb{R}^{m \\times n}$ is the matrix of all ones (i.e., $M_{ij}=1$ for each $i\\in[m],j\\in[n]$). Find $\\nabla_a h(a, b)$ and $\\nabla_b h(a, b)$.\n",
    "\n",
    "For these examples, you may take $n = 100$ and $m = 50$."
   ]
  },
  {
   "cell_type": "code",
   "execution_count": null,
   "metadata": {},
   "outputs": [],
   "source": [
    "## Solution to Part 1 \n",
    "# <Your code here>\n",
    "\n",
    "## Solution to Part 2\n",
    "# <Your code here>\n",
    "\n",
    "## Solution to Part 3\n",
    "# <Your code here>"
   ]
  },
  {
   "cell_type": "markdown",
   "metadata": {},
   "source": [
    "PyTorch's automatic differentiation works by building a \n",
    "\"computation graph\" of all operations on tensors with `requires_grad=True`. \n",
    "It then computes the requested gradients by performing \n",
    "reverse-mode automatic differentiation, a.k.a. backpropagation. \n",
    "\n",
    "![Computational graph](https://upload.wikimedia.org/wikipedia/commons/a/a0/ReverseaccumulationAD.png)\n",
    "\n",
    "There are number of caveats to keep in mind:\n",
    "\n",
    "- Automatic differentiation only works for floating point types (float32, float64). It does not work for integer types. (Think about why this is the case).\n",
    "- \"Building a computation graph\" takes up space. The memory usage increases proportional to the number of intermediate quantities stored.\n",
    "\n",
    "There are number of operations one might want to perform without building a computational graph. Examples include:\n",
    "\n",
    "- SGD updates\n",
    "- Accuracy computation (in general, logging utilies)\n",
    "\n",
    "PyTorch allows you to \"hide\" computations from autograd using\n",
    "`torch.no_grad()` (for example, see the accuracy computation functions below)."
   ]
  },
  {
   "cell_type": "markdown",
   "metadata": {},
   "source": [
    "## Part 1: SGD for logistic regression versus the learning rate\n",
    "\n",
    "We will run SGD on the same fashion MNIST dataset as in the demo. Our goal here is to study the effect of the learning rate on the train/test loss/accuracy.\n",
    "\n",
    "Your task is to fill in the SGD update (look for `# <Your code here>`) and make the requested plots."
   ]
  },
  {
   "cell_type": "code",
   "execution_count": 3,
   "metadata": {},
   "outputs": [
    {
     "name": "stdout",
     "output_type": "stream",
     "text": [
      "X_train.shape = torch.Size([6000, 28, 28])\n",
      "n_train: 6000, n_test: 10000\n",
      "Image size: torch.Size([28, 28])\n"
     ]
    }
   ],
   "source": [
    "# download dataset (~117M in size)\n",
    "train_dataset = FashionMNIST('./data', train=True, download=True)\n",
    "X_train = train_dataset.data # torch tensor of type uint8\n",
    "y_train = train_dataset.targets # torch tensor of type Long\n",
    "test_dataset = FashionMNIST('../data', train=False, download=True)\n",
    "X_test = test_dataset.data\n",
    "y_test = test_dataset.targets\n",
    "\n",
    "# choose a subsample of 10% of the data:\n",
    "idxs_train = torch.from_numpy(\n",
    "    np.random.choice(X_train.shape[0], replace=False, size=X_train.shape[0]//10))\n",
    "X_train, y_train = X_train[idxs_train], y_train[idxs_train]\n",
    "\n",
    "\n",
    "print(f'X_train.shape = {X_train.shape}')\n",
    "print(f'n_train: {X_train.shape[0]}, n_test: {X_test.shape[0]}')\n",
    "print(f'Image size: {X_train.shape[1:]}')"
   ]
  },
  {
   "cell_type": "code",
   "execution_count": 4,
   "metadata": {},
   "outputs": [
    {
     "data": {
      "image/png": "[encoded data removed]",
      "text/plain": [
       "<Figure size 1440x288 with 5 Axes>"
      ]
     },
     "metadata": {
      "needs_background": "light"
     },
     "output_type": "display_data"
    }
   ],
   "source": [
    "f, ax = plt.subplots(1, 5, figsize=(20, 4))\n",
    "for i, idx in enumerate(np.random.choice(X_train.shape[0], 5)):\n",
    "    ax[i].imshow(X_train[idx], cmap='gray', vmin=0, vmax=255)\n",
    "    ax[i].set_title(f'Label = {y_train[idx]}', fontsize=20)"
   ]
  },
  {
   "cell_type": "code",
   "execution_count": 5,
   "metadata": {},
   "outputs": [],
   "source": [
    "# Normalize dataset: pixel values lie between 0 and 255\n",
    "# Normalize them so the pixelwise mean is zero and standard deviation is 1\n",
    "\n",
    "X_train = X_train.float()  # convert to float32\n",
    "X_train = X_train.view(-1, 784)  # flatten into a (n, d) shape\n",
    "mean, std = X_train.mean(axis=0), X_train.std(axis=0)\n",
    "X_train = (X_train - mean[None, :]) / (std[None, :] + 1e-6)  # avoid divide by zero\n",
    "\n",
    "X_test = X_test.float()\n",
    "X_test = X_test.view(-1, 784)\n",
    "X_test = (X_test - mean[None, :]) / (std[None, :] + 1e-6)\n",
    "\n",
    "n_class = np.unique(y_train).shape[0]"
   ]
  },
  {
   "cell_type": "code",
   "execution_count": 6,
   "metadata": {},
   "outputs": [],
   "source": [
    "# Some utility functions to compute the objective and the accuracy\n",
    "def compute_objective(w, X, y, reg_param):\n",
    "    \"\"\" Compute the multinomial logistic loss. \n",
    "        Require w of shape (d,K), X of shape (n, d) and y of shape (n,)\n",
    "    \"\"\"\n",
    "    score = torch.matmul(X, w)\n",
    "    # PyTorch's function cross_entropy computes the multinomial logistic loss\n",
    "    return (\n",
    "        cross_entropy(input=score, target=y, reduction='mean') \n",
    "        + 0.5 * reg_param * torch.norm(w)**2\n",
    "    )\n",
    "\n",
    "@torch.no_grad()\n",
    "def compute_accuracy(w, X, y):\n",
    "    \"\"\" Compute the classification accuracy\n",
    "        Require w of shape (d,K), X of shape (n, d) and y of shape (n,)\n",
    "    \"\"\"\n",
    "    score = torch.matmul(X, w)\n",
    "    predictions = torch.argmax(score, axis=1)  # class with highest score is predicted\n",
    "    # <Your code here>: compute the accuraacy from predictions and y\n",
    "    return (predictions == y).sum() * 1.0 / y.shape[0]\n",
    "\n",
    "@torch.no_grad()\n",
    "def compute_logs(w, reg_param, verbose=False):\n",
    "    train_loss = compute_objective(w, X_train, y_train, reg_param)\n",
    "    test_loss = compute_objective(w, X_test, y_test, reg_param)\n",
    "    train_accuracy = compute_accuracy(w, X_train, y_train)\n",
    "    test_accuracy = compute_accuracy(w, X_test, y_test)\n",
    "    if verbose:\n",
    "        print(('Train Loss = {:.3f}, Train Accuracy = {:.3f}, ' + \n",
    "               'Test Loss = {:.3f}, Test Accuracy = {:.3f}').format(\n",
    "                train_loss.item(), train_accuracy.item(), \n",
    "                test_loss.item(), test_accuracy.item())\n",
    "    )\n",
    "    return (train_loss, train_accuracy, test_loss, test_accuracy)"
   ]
  },
  {
   "cell_type": "code",
   "execution_count": 10,
   "metadata": {},
   "outputs": [],
   "source": [
    "def sgd_one_pass(w, X, y, reg_param, learning_rate, verbose=False):\n",
    "    num_examples = X.shape[0]\n",
    "    average_loss = 0.0\n",
    "    for i in range(num_examples):\n",
    "        idx = np.random.choice(X.shape[0])\n",
    "        # compute the objective. \n",
    "        # Note: This function requires X to be of shape (n,d). In this case, n=1    \n",
    "        objective = compute_objective(w, X[idx:idx+1], y[idx:idx+1], reg_param) \n",
    "        \n",
    "        average_loss = 0.99 * average_loss + 0.01 * objective.item()\n",
    "        if verbose and (i+1) % 100 == 0:\n",
    "            print(average_loss)\n",
    "        \n",
    "        # compute the gradient using automatic differentiation\n",
    "        gradient = torch.autograd.grad(outputs=objective, inputs=w)[0]\n",
    "        \n",
    "        # perform SGD update\n",
    "        with torch.no_grad():\n",
    "            # <Your code here>\n",
    "            w -= learning_rate * gradient\n",
    "            \n",
    "    return w"
   ]
  },
  {
   "cell_type": "markdown",
   "metadata": {},
   "source": [
    "Find the divergent learning rate. \n",
    "\n",
    "Recall the definition of the divergent learning rate. We say 𝜂⋆ is the divergent learning rate if SGD with a learning rate of 2𝜂⋆ diverges, but SGD with a learning rate of 𝜂⋆ does not. \n",
    "\n",
    "Edit the code below to change the learning rate. \n",
    "\n",
    "*Hint 1*: Try different orders of magnitude. For instance, start with 1e-2. If it diverges, try 1e-6, if not, try 10.0. Once we establish a lower and upper bound on it, finding the divergent learning rate comes down to a binary search (on a logarithmic scale). \n",
    "\n",
    "*Hint 2*: A common strategy is to search in powers of 10 (as in hint 1), and then narrow the search down in powers of 2. For instance, if we end up with 1e-3 as an estimate of the divergent learning from hint 1, try out 2e-3 and 4e-3 as well in order to refine the estimate of the divergent learning rate. "
   ]
  },
  {
   "cell_type": "code",
   "execution_count": 11,
   "metadata": {
    "scrolled": true
   },
   "outputs": [
    {
     "name": "stdout",
     "output_type": "stream",
     "text": [
      "Train Loss = 2.303, Train Accuracy = 0.098, Test Loss = 2.303, Test Accuracy = 0.100\n",
      "103.15893137593865\n",
      "194.79042709124374\n",
      "174.0596806019119\n",
      "141.78528749362326\n",
      "132.42654678203917\n",
      "106.42317721592987\n",
      "131.61351551665717\n",
      "128.1441627998331\n",
      "174.3994383050109\n",
      "150.2089771425357\n",
      "143.28154570446577\n",
      "116.40113943699606\n",
      "199.8764164583908\n",
      "162.68606289290014\n",
      "151.27317784172155\n",
      "173.9105923320763\n",
      "147.4676345129256\n",
      "104.297217347818\n",
      "130.45124485936688\n",
      "100.7929389549857\n",
      "98.82500379839146\n",
      "112.11288128118325\n",
      "104.64784034497298\n",
      "109.23281020146939\n",
      "84.35312201571814\n",
      "150.70716382882793\n",
      "168.08975698319122\n",
      "151.72776730102532\n",
      "119.67584303539502\n",
      "92.21133166979703\n",
      "168.43513152606653\n",
      "145.6497441073821\n",
      "134.78829310470508\n",
      "100.71316010690327\n",
      "159.18651719107805\n",
      "120.81475018933796\n",
      "99.1330247839371\n",
      "89.65528010914447\n",
      "128.70227926490367\n",
      "111.50617798468055\n",
      "129.6882111704976\n",
      "115.36885023431864\n",
      "90.17742399459306\n",
      "130.61416277401045\n",
      "136.57004163824158\n",
      "135.63897981414567\n",
      "100.20741731452547\n",
      "101.61594001401618\n",
      "123.71939997569494\n",
      "119.38155471045563\n",
      "141.1719363969387\n",
      "159.15885930523754\n",
      "118.54768848099576\n",
      "108.18022034999888\n",
      "100.8861016539583\n",
      "127.82286736145238\n"
     ]
    },
    {
     "ename": "KeyboardInterrupt",
     "evalue": "",
     "output_type": "error",
     "traceback": [
      "\u001b[0;31m---------------------------------------------------------------------------\u001b[0m",
      "\u001b[0;31mKeyboardInterrupt\u001b[0m                         Traceback (most recent call last)",
      "\u001b[0;32m<ipython-input-11-fbb68a36f0e6>\u001b[0m in \u001b[0;36m<module>\u001b[0;34m\u001b[0m\n\u001b[1;32m      6\u001b[0m \u001b[0;34m\u001b[0m\u001b[0m\n\u001b[1;32m      7\u001b[0m \u001b[0;34m\u001b[0m\u001b[0m\n\u001b[0;32m----> 8\u001b[0;31m \u001b[0mw\u001b[0m \u001b[0;34m=\u001b[0m \u001b[0msgd_one_pass\u001b[0m\u001b[0;34m(\u001b[0m\u001b[0mw\u001b[0m\u001b[0;34m,\u001b[0m \u001b[0mX_train\u001b[0m\u001b[0;34m,\u001b[0m \u001b[0my_train\u001b[0m\u001b[0;34m,\u001b[0m \u001b[0mreg_param\u001b[0m\u001b[0;34m,\u001b[0m \u001b[0mlearning_rate\u001b[0m\u001b[0;34m,\u001b[0m \u001b[0mverbose\u001b[0m\u001b[0;34m=\u001b[0m\u001b[0;32mTrue\u001b[0m\u001b[0;34m)\u001b[0m\u001b[0;34m\u001b[0m\u001b[0;34m\u001b[0m\u001b[0m\n\u001b[0m\u001b[1;32m      9\u001b[0m \u001b[0m_\u001b[0m \u001b[0;34m=\u001b[0m \u001b[0mcompute_logs\u001b[0m\u001b[0;34m(\u001b[0m\u001b[0mw\u001b[0m\u001b[0;34m,\u001b[0m \u001b[0mreg_param\u001b[0m\u001b[0;34m,\u001b[0m \u001b[0mverbose\u001b[0m\u001b[0;34m=\u001b[0m\u001b[0;32mTrue\u001b[0m\u001b[0;34m)\u001b[0m\u001b[0;34m\u001b[0m\u001b[0;34m\u001b[0m\u001b[0m\n",
      "\u001b[0;32m<ipython-input-10-7dc4635a0c30>\u001b[0m in \u001b[0;36msgd_one_pass\u001b[0;34m(w, X, y, reg_param, learning_rate, verbose)\u001b[0m\n\u001b[1;32m      6\u001b[0m         \u001b[0;31m# compute the objective.\u001b[0m\u001b[0;34m\u001b[0m\u001b[0;34m\u001b[0m\u001b[0;34m\u001b[0m\u001b[0m\n\u001b[1;32m      7\u001b[0m         \u001b[0;31m# Note: This function requires X to be of shape (n,d). In this case, n=1\u001b[0m\u001b[0;34m\u001b[0m\u001b[0;34m\u001b[0m\u001b[0;34m\u001b[0m\u001b[0m\n\u001b[0;32m----> 8\u001b[0;31m         \u001b[0mobjective\u001b[0m \u001b[0;34m=\u001b[0m \u001b[0mcompute_objective\u001b[0m\u001b[0;34m(\u001b[0m\u001b[0mw\u001b[0m\u001b[0;34m,\u001b[0m \u001b[0mX\u001b[0m\u001b[0;34m[\u001b[0m\u001b[0midx\u001b[0m\u001b[0;34m:\u001b[0m\u001b[0midx\u001b[0m\u001b[0;34m+\u001b[0m\u001b[0;36m1\u001b[0m\u001b[0;34m]\u001b[0m\u001b[0;34m,\u001b[0m \u001b[0my\u001b[0m\u001b[0;34m[\u001b[0m\u001b[0midx\u001b[0m\u001b[0;34m:\u001b[0m\u001b[0midx\u001b[0m\u001b[0;34m+\u001b[0m\u001b[0;36m1\u001b[0m\u001b[0;34m]\u001b[0m\u001b[0;34m,\u001b[0m \u001b[0mreg_param\u001b[0m\u001b[0;34m)\u001b[0m\u001b[0;34m\u001b[0m\u001b[0;34m\u001b[0m\u001b[0m\n\u001b[0m\u001b[1;32m      9\u001b[0m \u001b[0;34m\u001b[0m\u001b[0m\n\u001b[1;32m     10\u001b[0m         \u001b[0maverage_loss\u001b[0m \u001b[0;34m=\u001b[0m \u001b[0;36m0.99\u001b[0m \u001b[0;34m*\u001b[0m \u001b[0maverage_loss\u001b[0m \u001b[0;34m+\u001b[0m \u001b[0;36m0.01\u001b[0m \u001b[0;34m*\u001b[0m \u001b[0mobjective\u001b[0m\u001b[0;34m.\u001b[0m\u001b[0mitem\u001b[0m\u001b[0;34m(\u001b[0m\u001b[0;34m)\u001b[0m\u001b[0;34m\u001b[0m\u001b[0;34m\u001b[0m\u001b[0m\n",
      "\u001b[0;32m<ipython-input-6-357d25d675bc>\u001b[0m in \u001b[0;36mcompute_objective\u001b[0;34m(w, X, y, reg_param)\u001b[0m\n\u001b[1;32m      8\u001b[0m     return (\n\u001b[1;32m      9\u001b[0m         \u001b[0mcross_entropy\u001b[0m\u001b[0;34m(\u001b[0m\u001b[0minput\u001b[0m\u001b[0;34m=\u001b[0m\u001b[0mscore\u001b[0m\u001b[0;34m,\u001b[0m \u001b[0mtarget\u001b[0m\u001b[0;34m=\u001b[0m\u001b[0my\u001b[0m\u001b[0;34m,\u001b[0m \u001b[0mreduction\u001b[0m\u001b[0;34m=\u001b[0m\u001b[0;34m'mean'\u001b[0m\u001b[0;34m)\u001b[0m\u001b[0;34m\u001b[0m\u001b[0;34m\u001b[0m\u001b[0m\n\u001b[0;32m---> 10\u001b[0;31m         \u001b[0;34m+\u001b[0m \u001b[0;36m0.5\u001b[0m \u001b[0;34m*\u001b[0m \u001b[0mreg_param\u001b[0m \u001b[0;34m*\u001b[0m \u001b[0mtorch\u001b[0m\u001b[0;34m.\u001b[0m\u001b[0mnorm\u001b[0m\u001b[0;34m(\u001b[0m\u001b[0mw\u001b[0m\u001b[0;34m)\u001b[0m\u001b[0;34m**\u001b[0m\u001b[0;36m2\u001b[0m\u001b[0;34m\u001b[0m\u001b[0;34m\u001b[0m\u001b[0m\n\u001b[0m\u001b[1;32m     11\u001b[0m     )\n\u001b[1;32m     12\u001b[0m \u001b[0;34m\u001b[0m\u001b[0m\n",
      "\u001b[0;32m~/software/anaconda3/envs/data598/lib/python3.7/site-packages/torch/functional.py\u001b[0m in \u001b[0;36mnorm\u001b[0;34m(input, p, dim, keepdim, out, dtype)\u001b[0m\n\u001b[1;32m   1288\u001b[0m         \u001b[0;32mif\u001b[0m \u001b[0misinstance\u001b[0m\u001b[0;34m(\u001b[0m\u001b[0mp\u001b[0m\u001b[0;34m,\u001b[0m \u001b[0mstr\u001b[0m\u001b[0;34m)\u001b[0m\u001b[0;34m:\u001b[0m\u001b[0;34m\u001b[0m\u001b[0;34m\u001b[0m\u001b[0m\n\u001b[1;32m   1289\u001b[0m             \u001b[0;32mif\u001b[0m \u001b[0mp\u001b[0m \u001b[0;34m==\u001b[0m \u001b[0;34m\"fro\"\u001b[0m\u001b[0;34m:\u001b[0m\u001b[0;34m\u001b[0m\u001b[0;34m\u001b[0m\u001b[0m\n\u001b[0;32m-> 1290\u001b[0;31m                 \u001b[0;32mreturn\u001b[0m \u001b[0m_VF\u001b[0m\u001b[0;34m.\u001b[0m\u001b[0mfrobenius_norm\u001b[0m\u001b[0;34m(\u001b[0m\u001b[0minput\u001b[0m\u001b[0;34m,\u001b[0m \u001b[0mdim\u001b[0m\u001b[0;34m=\u001b[0m\u001b[0;34m(\u001b[0m\u001b[0;34m)\u001b[0m\u001b[0;34m,\u001b[0m \u001b[0mkeepdim\u001b[0m\u001b[0;34m=\u001b[0m\u001b[0mkeepdim\u001b[0m\u001b[0;34m)\u001b[0m  \u001b[0;31m# type: ignore\u001b[0m\u001b[0;34m\u001b[0m\u001b[0;34m\u001b[0m\u001b[0m\n\u001b[0m\u001b[1;32m   1291\u001b[0m         \u001b[0;32mif\u001b[0m \u001b[0;32mnot\u001b[0m \u001b[0misinstance\u001b[0m\u001b[0;34m(\u001b[0m\u001b[0mp\u001b[0m\u001b[0;34m,\u001b[0m \u001b[0mstr\u001b[0m\u001b[0;34m)\u001b[0m\u001b[0;34m:\u001b[0m\u001b[0;34m\u001b[0m\u001b[0;34m\u001b[0m\u001b[0m\n\u001b[1;32m   1292\u001b[0m             \u001b[0m_dim\u001b[0m \u001b[0;34m=\u001b[0m \u001b[0;34m[\u001b[0m\u001b[0mi\u001b[0m \u001b[0;32mfor\u001b[0m \u001b[0mi\u001b[0m \u001b[0;32min\u001b[0m \u001b[0mrange\u001b[0m\u001b[0;34m(\u001b[0m\u001b[0mndim\u001b[0m\u001b[0;34m)\u001b[0m\u001b[0;34m]\u001b[0m  \u001b[0;31m# noqa: C416 TODO: rewrite as list(range(m))\u001b[0m\u001b[0;34m\u001b[0m\u001b[0;34m\u001b[0m\u001b[0m\n",
      "\u001b[0;31mKeyboardInterrupt\u001b[0m: "
     ]
    }
   ],
   "source": [
    "learning_rate = 1.0\n",
    "reg_param = 0.0\n",
    "\n",
    "w = torch.zeros(784, n_class, requires_grad=True)\n",
    "_ = compute_logs(w, reg_param, verbose=True)\n",
    "\n",
    "\n",
    "w = sgd_one_pass(w, X_train, y_train, reg_param, learning_rate, verbose=True)\n",
    "_ = compute_logs(w, reg_param, verbose=True)\n"
   ]
  },
  {
   "cell_type": "markdown",
   "metadata": {},
   "source": [
    "Now complete the following function which runs SGD for some number of passes through the data and tracks the test accuracy at the end of each pass. "
   ]
  },
  {
   "cell_type": "code",
   "execution_count": null,
   "metadata": {},
   "outputs": [],
   "source": [
    "# Note: X_train, y_train, X_test, y_test are global variables\n",
    "def run_sgd(w, reg_param, learning_rate, num_passes=20, verbose=True):\n",
    "    logs = []\n",
    "\n",
    "    log_statistics = # <Your code here>; \n",
    "    #call `compute_logs` and track the train/test loss/accuracy\n",
    "    logs.append(log_statistics)\n",
    "    for j in range(num_passes):\n",
    "        # <Your code here>. Hint: call sgd_one_pass\n",
    "        log_statistics = # <Your code here>; \n",
    "        #call `compute_logs` and track the train/test loss/accuracy\n",
    "        logs.append(log_statistics)\n",
    "    return w, logs"
   ]
  },
  {
   "cell_type": "markdown",
   "metadata": {},
   "source": [
    "Run SGD for the learning rates from the list `[1e-2, 1e-3, 1e-4, 1e-5]` for 10 epochs. \n",
    "Plot 4 curves:\n",
    "\n",
    " - Train loss vs number of passes,\n",
    " - Train accuracy vs number of passes,\n",
    " - Test loss vs number of passes,\n",
    " - Test accuracy vs number of passes.\n",
    " \n",
    " Each curve must contain multiple lines, each corresponding to a different learning rate. \n",
    " You may use `reg_param=1e-3`."
   ]
  },
  {
   "cell_type": "code",
   "execution_count": null,
   "metadata": {
    "scrolled": true
   },
   "outputs": [],
   "source": [
    "# <Your code here>"
   ]
  },
  {
   "cell_type": "code",
   "execution_count": null,
   "metadata": {},
   "outputs": [],
   "source": []
  },
  {
   "cell_type": "markdown",
   "metadata": {},
   "source": [
    "## Part 2: The effect of initialization and learning rate on MLPs\n",
    "We will repeat the same experiment with MLPs.\n",
    "\n",
    "Start by filling in the blank in the `sgd_one_pass` function."
   ]
  },
  {
   "cell_type": "code",
   "execution_count": null,
   "metadata": {},
   "outputs": [],
   "source": [
    "# Some utility functions to compute the objective and the accuracy\n",
    "\n",
    "def mlp(X, ws, bs):\n",
    "    hidden = X # (n, d_0)\n",
    "    for w, b in zip(ws[:-1], bs[:-1]):\n",
    "        hidden = torch.matmul(hidden, w) + b[None, :]  # (n, d_{j-1}) * (d_{j-1}, d_j) = (n, d_j)\n",
    "        hidden = torch.nn.functional.relu(hidden)\n",
    "    return torch.matmul(hidden, ws[-1]) + bs[-1][None, :]\n",
    "\n",
    "def compute_objective_mlp(ws, bs, X, y, reg_param):\n",
    "    \"\"\" Compute the multinomial logistic loss. \n",
    "        ws is a list of tensors of consistent shapes,\n",
    "        X of shape (n, d) and y of shape (n,)\n",
    "    \"\"\"\n",
    "    score = mlp(X, ws, bs)\n",
    "    # PyTorch's function cross_entropy computes the multinomial logistic loss\n",
    "    return (\n",
    "        cross_entropy(input=score, target=y, reduction='mean') \n",
    "        + 0.5 * reg_param * sum([torch.norm(w)**2 for w in ws])\n",
    "    )\n",
    "\n",
    "@torch.no_grad()\n",
    "def compute_accuracy_mlp(ws, bs, X, y):\n",
    "    \"\"\" Compute the classification accuracy\n",
    "        ws is a list of tensors of consistent shapes \n",
    "        X of shape (n, d) and y of shape (n,)\n",
    "    \"\"\"\n",
    "    score = mlp(X, ws, bs)\n",
    "    predictions = torch.argmax(score, axis=1)  # class with highest score is predicted\n",
    "    return (predictions == y).sum() * 1.0 / y.shape[0]\n",
    "\n",
    "@torch.no_grad()\n",
    "def compute_logs_mlp(ws, bs, reg_param, verbose=False):\n",
    "    train_loss = compute_objective_mlp(ws, bs, X_train, y_train, reg_param)\n",
    "    test_loss = compute_objective_mlp(ws, bs, X_test, y_test, reg_param)\n",
    "    train_accuracy = compute_accuracy_mlp(ws, bs, X_train, y_train)\n",
    "    test_accuracy = compute_accuracy_mlp(ws, bs, X_test, y_test)\n",
    "    if verbose:\n",
    "        print(('Train Loss = {:.3f}, Train Accuracy = {:.3f}, ' + \n",
    "               'Test Loss = {:.3f}, Test Accuracy = {:.3f}').format(\n",
    "                train_loss.item(), train_accuracy.item(), \n",
    "                test_loss.item(), test_accuracy.item())\n",
    "    )\n",
    "    return (train_loss, train_accuracy, test_loss, test_accuracy)\n",
    "\n",
    "def sgd_one_pass_mlp(ws, bs, X, y, reg_param, learning_rate, verbose=False):\n",
    "    num_examples = X.shape[0]\n",
    "    average_loss = 0.0\n",
    "    for i in range(num_examples):\n",
    "        idx = np.random.choice(X.shape[0])\n",
    "        # compute the objective. \n",
    "        # Note: This function requires X to be of shape (n,d). In this case, n=1 \n",
    "        objective = compute_objective_mlp(ws, bs, X[idx:idx+1], y[idx:idx+1], reg_param) \n",
    "        average_loss = 0.99 * average_loss + 0.01 * objective.item()\n",
    "        if verbose and (i+1) % 100 == 0:\n",
    "            print(average_loss)\n",
    "        \n",
    "        # compute the gradient using automatic differentiation\n",
    "        all_parameters = [*ws, *bs]\n",
    "        gradients = torch.autograd.grad(outputs=objective, inputs=all_parameters)\n",
    "        \n",
    "        # perform SGD update. IMPORTANT: Make the update inplace!\n",
    "        with torch.no_grad():\n",
    "            # TODO: <Your code here>\n",
    "    return ws, bs"
   ]
  },
  {
   "cell_type": "markdown",
   "metadata": {},
   "source": [
    "Find the divergent learning rate. Edit the code below to change the learning rate and see what you observe. \n"
   ]
  },
  {
   "cell_type": "code",
   "execution_count": null,
   "metadata": {
    "scrolled": true
   },
   "outputs": [],
   "source": [
    "learning_rate = 1e-2\n",
    "\n",
    "hidden_size = 1024\n",
    "ws = [1e-6 * torch.randn(784, hidden_size, requires_grad=True),\n",
    "      1e-6 * torch.randn(hidden_size, n_class, requires_grad=True)]\n",
    "bs = [torch.zeros(hidden_size, requires_grad=True),\n",
    "      torch.zeros(n_class, requires_grad=True)]\n",
    "\n",
    "_ = compute_logs_mlp(ws, bs, reg_param, verbose=True)\n",
    "\n",
    "\n",
    "ws, bs = sgd_one_pass_mlp(ws, bs, X_train, y_train, reg_param, learning_rate, verbose=True)\n",
    "_ = compute_logs_mlp(ws, bs, reg_param, verbose=True)\n"
   ]
  },
  {
   "cell_type": "markdown",
   "metadata": {},
   "source": [
    "Next, we will play with the initialization.\n",
    "\n",
    "- Try initializing with every W_j, b_j be 0 everywhere. What happens?\n",
    "- Try W_j, b_j be 1 everywhere. What happens?\n",
    "\n",
    "For these two cases, compute the gradient $\\nabla f(w)$. What do you observe? Does this explain why these initializations are unsuitable for stochastic gradient optimization?\n",
    "\n",
    "- Try increasing the variance from 0 to 1e-20, 1e-10, 1e-6, 1e-3 and 1e-1. What do you observe?\n",
    "- Try out the so-called Glorot-Bengio initialization scheme, where $W_j \\in \\mathbb{R}^{d_{j-1}\\times d_j}$ is taken to be be normally distributed with variance $1/d_{j}$."
   ]
  },
  {
   "cell_type": "code",
   "execution_count": null,
   "metadata": {},
   "outputs": [],
   "source": [
    "learning_rate = 2.5e-3\n",
    "\n",
    "# TODO: change the initialization\n",
    "ws = [1e-6 * torch.randn(784, hidden_size, requires_grad=True),\n",
    "      1e-6 * torch.randn(hidden_size, n_class, requires_grad=True)]\n",
    "bs = [torch.zeros(hidden_size, requires_grad=True),\n",
    "      torch.zeros(n_class, requires_grad=True)]\n",
    "_ = compute_logs(ws, bs, reg_param, verbose=True)\n",
    "\n",
    "\n",
    "ws = sgd_one_pass(ws, bs, X_train, y_train, reg_param, learning_rate, verbose=True)\n",
    "_ = compute_logs(ws, bs, reg_param, verbose=True)\n"
   ]
  },
  {
   "cell_type": "markdown",
   "metadata": {},
   "source": [
    "Next, we a function which makes a certain number of passes of SGD."
   ]
  },
  {
   "cell_type": "code",
   "execution_count": null,
   "metadata": {},
   "outputs": [],
   "source": [
    "def run_sgd_mlp(ws, bs, reg_param, learning_rate, num_passes=10, verbose=True):\n",
    "    logs = [compute_logs_mlp(ws, bs, reg_param, verbose=verbose)]\n",
    "    for j in range(num_passes):\n",
    "        ws, bs = sgd_one_pass_mlp(ws, bs, X_train, y_train, \n",
    "                          reg_param, learning_rate, verbose=False)\n",
    "        logs.append(compute_logs_mlp(ws, bs, reg_param, verbose=verbose))\n",
    "    return ws, bs, np.asarray(logs)"
   ]
  },
  {
   "cell_type": "markdown",
   "metadata": {},
   "source": [
    "Run SGD for the learning rates from the list `[1e-2, 1e-3, 1e-4, 1e-5]` for 10 epochs. \n",
    "Plot 4 curves:\n",
    "\n",
    " - Train loss vs number of passes,\n",
    " - Train accuracy vs number of passes,\n",
    " - Test loss vs number of passes,\n",
    " - Test accuracy vs number of passes.\n",
    " \n",
    " Each curve must contain multiple lines, each corresponding to a different learning rate. \n",
    " You may use `reg_param=0`. \n",
    " \n",
    " Note: This takes several minutes to run. It took me 15 min for everything to run."
   ]
  },
  {
   "cell_type": "code",
   "execution_count": null,
   "metadata": {},
   "outputs": [],
   "source": [
    "# TODO: <Your code here>"
   ]
  }
 ],
 "metadata": {
  "kernelspec": {
   "display_name": "Python 3 (ipykernel)",
   "language": "python",
   "name": "python3"
  },
  "language_info": {
   "codemirror_mode": {
    "name": "ipython",
    "version": 3
   },
   "file_extension": ".py",
   "mimetype": "text/x-python",
   "name": "python",
   "nbconvert_exporter": "python",
   "pygments_lexer": "ipython3",
   "version": "3.8.12"
  }
 },
 "nbformat": 4,
 "nbformat_minor": 2
}
